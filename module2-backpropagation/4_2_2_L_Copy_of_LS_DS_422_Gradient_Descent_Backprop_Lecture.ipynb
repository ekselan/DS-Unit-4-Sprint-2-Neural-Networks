{
  "nbformat": 4,
  "nbformat_minor": 0,
  "metadata": {
    "kernelspec": {
      "display_name": "U4-S2-NNF (Python 3.7)",
      "language": "python",
      "name": "u4-s2-nnf"
    },
    "language_info": {
      "codemirror_mode": {
        "name": "ipython",
        "version": 3
      },
      "file_extension": ".py",
      "mimetype": "text/x-python",
      "name": "python",
      "nbconvert_exporter": "python",
      "pygments_lexer": "ipython3",
      "version": "3.7.3"
    },
    "colab": {
      "name": "4_2_2_L_Copy of LS_DS_422_Gradient_Descent_Backprop_Lecture.ipynb",
      "provenance": [],
      "collapsed_sections": [
        "zHYB7k9q3O8T"
      ]
    }
  },
  "cells": [
    {
      "cell_type": "markdown",
      "metadata": {
        "id": "gTdSl6kWy-ku",
        "colab_type": "text"
      },
      "source": [
        "Lambda School Data Science\n",
        "\n",
        "*Unit 4, Sprint 2, Module 2*\n",
        "\n",
        "---"
      ]
    },
    {
      "cell_type": "markdown",
      "metadata": {
        "toc-hr-collapsed": false,
        "id": "xpZvtQYwy-kw",
        "colab_type": "text"
      },
      "source": [
        "# Backpropagation & Gradient Descent (Prepare)"
      ]
    },
    {
      "cell_type": "markdown",
      "metadata": {
        "id": "2ruJ-dcKy-kw",
        "colab_type": "text"
      },
      "source": [
        "## Learning Objectives\n",
        "* <a href=\"#p1\">Part 1</a>: Explain the intutition behind backproprogation\n",
        "* <a href=\"#p2\">Part 2</a>: Implement gradient descent + backpropagation on a feedforward neural network. \n",
        "* <a href=\"#p3\">Part 3</a>: Introduce the Keras Sequential Model API"
      ]
    },
    {
      "cell_type": "markdown",
      "metadata": {
        "id": "yoPmBpQWy-kx",
        "colab_type": "text"
      },
      "source": [
        "## Summary of Yesterday\n",
        "\n",
        "Yesterday, we learned about some of the principal components of Neural Networks: Neurons, Weights, Activation Functions, and layers (input, output, & hidden). Today, we will reinforce our understanding of those components and introduce the mechanics of training a neural network. Feed-forward neural networks, such as multi-layer perceptrons (MLPs), are almost always trained using some variation of gradient descent where the gradient has been calculated by backpropagation.\n",
        "\n",
        "<center><img src=\"https://cdn-images-1.medium.com/max/1600/1*_M4bZyuwaGby6KMiYVYXvg.jpeg\" width=\"400\"></center>\n",
        "\n",
        "- There are three kinds of layers: input, hidden, and output layers.\n",
        "- Each layer is made up of **n** individual neurons (aka activation units) which have a corresponding weight and bias.\n",
        "- Signal is passed from layer to layer through a network by:\n",
        " - Taking in inputs from the training data (or previous layer)\n",
        " - Multiplying each input by its corresponding weight (think arrow/connecting line)\n",
        " - Adding a bias to this weighted some of inputs and weights\n",
        " - Activating this weighted sum + bias by squishifying it with sigmoid or some other activation function. With a single perceptron with three inputs, calculating the output from the node is done like so:\n",
        "\\begin{align}\n",
        " y = sigmoid(\\sum(weight_{1}input_{1} + weight_{2}input_{2} + weight_{3}input_{3}) + bias)\n",
        "\\end{align}\n",
        " - this final activated value is the signal that gets passed onto the next layer of the network.\n",
        " "
      ]
    },
    {
      "cell_type": "markdown",
      "metadata": {
        "id": "giiVBeMHy-ky",
        "colab_type": "text"
      },
      "source": [
        "## Training a Neural Network: *Formal Summary*\n",
        "\n",
        "0. Pick a network architecture\n",
        "   - No. of input units = No. of features\n",
        "   - No. of output units = Number of Classes (or expected targets)\n",
        "   - Select the number of hidden layers and number of neurons within each hidden layer\n",
        "1. Randomly initialize weights\n",
        "2. Implement forward propagation to get $h_{\\theta}(x^{(i)})$ for any $x^{(i)}$\n",
        "3. Implement code to compute a cost function $J(\\theta)$\n",
        "4. Implement backpropagation to compute partial derivatives $\\frac{\\delta}{\\delta\\theta_{jk}^{l}}{J(\\theta)}$\n",
        "5. Use gradient descent (or other advanced optimizer) with backpropagation to minimize $J(\\theta)$ as a function of parameters $\\theta\\$\n",
        "6. Repeat steps 2 - 5 until cost function is 'minimized' or some other stopping criteria is met. One pass over steps 2 - 5 is called an iteration or epoch."
      ]
    },
    {
      "cell_type": "markdown",
      "metadata": {
        "toc-hr-collapsed": false,
        "id": "iNoBv6NXy-ky",
        "colab_type": "text"
      },
      "source": [
        "## Calculating *\"cost\"*, *\"loss\"* or *\"error\"*\n",
        "\n",
        "We've talked about how in order to evaluate a network's performance, the data is \"fed forward\" until predictions are obtained and then the \"loss\" or \"error\" for a given observation is ascertained by looking at what the network predicted for that observation and comparing it to what it *should* have predicted. \n",
        "\n",
        "The error for a given observation is calculated by taking the square of the difference between the predicted value and the actual value. \n",
        "\n",
        "We can summarize the overall quality of a network's predictions by finding the average error across all observations. This gives us the \"Mean Squared Error.\" which hopefully is a fairly familiar model evaluation metric by now. Graphing the MSE over each epoch (training cycle) is a common practice with Neural Networks. This is what you're seeing in the top right corner of the Tensorflow Playground website as the number of \"epochs\" climbs higher and higher."
      ]
    },
    {
      "cell_type": "markdown",
      "metadata": {
        "id": "y2E5b9GWy-kz",
        "colab_type": "text"
      },
      "source": [
        "## What is an \"Epoch\"?\n",
        "\n",
        "An \"Epoch\" is one cycle of passing our data forward through the network, measuring error given our specified cost function, and then -via gradient descent- updating weights within our network to hopefully improve the quality of our predictions on the next iteration."
      ]
    },
    {
      "cell_type": "markdown",
      "metadata": {
        "id": "X3TmTbJly-k0",
        "colab_type": "text"
      },
      "source": [
        "### A note about Hyperparameters\n",
        "\n",
        "Neural Networks have many more hyperparameters than other machine learning algorithms which is part of what makes them a beast to train.\n",
        "\n",
        "1. You need more data to train them on. \n",
        "2. They're complex so they take longer to train. \n",
        "3. They have lots and lots of hyperparameters which we need to find the most optimal combination of, so we might end up training our model dozens or hundreds of times with different combinations of hyperparameters in order to try and squeeze out a few more tenths of a percent of accuracy. "
      ]
    },
    {
      "cell_type": "markdown",
      "metadata": {
        "colab_type": "text",
        "id": "aM4CK1IarId4",
        "toc-hr-collapsed": false
      },
      "source": [
        "# Backpropagation (Learn)\n",
        "<a id=\"p1\"></a>"
      ]
    },
    {
      "cell_type": "markdown",
      "metadata": {
        "colab_type": "text",
        "toc-hr-collapsed": true,
        "id": "PQTCGtzny-k1"
      },
      "source": [
        "## Overview\n",
        "\n",
        "Backpropagation is short for [\"Backwards Propagation of errors\"](https://en.wikipedia.org/wiki/Backpropagation) and refers to a specific (rather calculus intensive) algorithm for how weights in a neural network are updated in reverse order at the end of each training epoch. Our purpose today is to demonstrate the backpropagation algorithm on a simple Feedforward Neural Network and in so doing help you get a grasp on the main process. If you want to understand all of the underlying calculus of how the gradients are calculated then you'll need to dive into it yourself, [3Blue1Brown's video is a great starting place](https://www.youtube.com/watch?v=tIeHLnjs5U8). I also highly recommend this Welch Labs series [Neural Networks Demystified](https://www.youtube.com/watch?v=bxe2T-V8XRs) if you want a rapid yet orderly walk through of the main intuitions and math behind the backpropagation algorithm. "
      ]
    },
    {
      "cell_type": "code",
      "metadata": {
        "id": "ZdvbpuoU5wUo",
        "colab_type": "code",
        "colab": {}
      },
      "source": [
        "# Backprop calculates derivative using the weights and error"
      ],
      "execution_count": 0,
      "outputs": []
    },
    {
      "cell_type": "markdown",
      "metadata": {
        "id": "xgAmz2c4y-k1",
        "colab_type": "text"
      },
      "source": [
        "### What is a Gradient?\n",
        "\n",
        "> In vector calculus, the gradient is a multi-variable generalization of the derivative. \n",
        "\n",
        "The gradients that we will deal with today will be vector representations of the derivative of the activation function. "
      ]
    },
    {
      "cell_type": "markdown",
      "metadata": {
        "toc-hr-collapsed": true,
        "id": "tHSTPX6Zy-k2",
        "colab_type": "text"
      },
      "source": [
        "## Follow Along\n",
        "\n",
        "In this section, we will again implement a multi-layer perceptron using numpy. We'll focus on using a __Feed Forward Neural Network__ to predict test scores. "
      ]
    },
    {
      "cell_type": "markdown",
      "metadata": {
        "colab_type": "text",
        "id": "Dm2HPETcrgy6",
        "toc-hr-collapsed": true
      },
      "source": [
        "![231 Neural Network](https://cdn-images-1.medium.com/max/1600/1*IjY3wFF24sK9UhiOlf36Bw.png)"
      ]
    },
    {
      "cell_type": "markdown",
      "metadata": {
        "colab_type": "text",
        "id": "4d4tzpwO6B47"
      },
      "source": [
        "### Generate some Fake Data"
      ]
    },
    {
      "cell_type": "code",
      "metadata": {
        "colab_type": "code",
        "id": "ERyVgeO_IWyV",
        "colab": {}
      },
      "source": [
        "import numpy as np\n",
        "\n",
        "np.random.seed(812)\n",
        "\n",
        "# Imagine that our data is drawn from a linear function\n",
        "# y = 2*hours_studying + 4*hours_sleeping + 50\n",
        "\n",
        "# hours studying, hours sleep\n",
        "X = np.array(([2,9],\n",
        "              [1,5],\n",
        "              [3,6]), dtype=float)\n",
        "\n",
        "# Exam Scores\n",
        "y = np.array(([90],\n",
        "              [72],\n",
        "              [80]), dtype=float)"
      ],
      "execution_count": 0,
      "outputs": []
    },
    {
      "cell_type": "markdown",
      "metadata": {
        "id": "fm5skbOXy-k8",
        "colab_type": "text"
      },
      "source": [
        "### Feature Normalization"
      ]
    },
    {
      "cell_type": "code",
      "metadata": {
        "colab_type": "code",
        "id": "cDeUBW6k4Ri4",
        "outputId": "3a4eb6c4-5053-4dab-a66d-220718050fb5",
        "colab": {
          "base_uri": "https://localhost:8080/",
          "height": 153
        }
      },
      "source": [
        "# Normalizing Data on feature \n",
        "# Neural Network would probably do this on its own, but it will help us converge on a solution faster\n",
        "X = X / np.amax(X, axis=0)\n",
        "y = y / 100\n",
        "\n",
        "print(\"Studying, Sleeping \\n\", X)\n",
        "print(\"Test Score \\n\", y)"
      ],
      "execution_count": 2,
      "outputs": [
        {
          "output_type": "stream",
          "text": [
            "Studying, Sleeping \n",
            " [[0.66666667 1.        ]\n",
            " [0.33333333 0.55555556]\n",
            " [1.         0.66666667]]\n",
            "Test Score \n",
            " [[0.9 ]\n",
            " [0.72]\n",
            " [0.8 ]]\n"
          ],
          "name": "stdout"
        }
      ]
    },
    {
      "cell_type": "markdown",
      "metadata": {
        "colab_type": "text",
        "id": "bgTf6vTS69Sw"
      },
      "source": [
        "### Neural Network Architecture\n",
        "Lets create a Neural_Network class to contain this functionality"
      ]
    },
    {
      "cell_type": "code",
      "metadata": {
        "colab_type": "code",
        "id": "RUI8VSR5zyBv",
        "colab": {}
      },
      "source": [
        "class NeuralNetwork:\n",
        "    \n",
        "    def __init__(self):\n",
        "        # Set up Arch\n",
        "        self.inputs = 2\n",
        "        self.hiddenNodes = 3\n",
        "        self.outputNodes = 1\n",
        "        \n",
        "        # Initialize Weights\n",
        "        # 2x3\n",
        "        self.weights1 = np.random.randn(self.inputs,self.hiddenNodes)\n",
        "        \n",
        "        # 3x1\n",
        "        self.weights2 = np.random.randn(self.hiddenNodes, self.outputNodes)\n",
        "\n",
        "        # Currently a total of 9 weights"
      ],
      "execution_count": 0,
      "outputs": []
    },
    {
      "cell_type": "markdown",
      "metadata": {
        "colab_type": "text",
        "id": "gbyT_FJ88IlK"
      },
      "source": [
        "### Randomly Initialize Weights\n",
        "How many random weights do we need to initialize? \"Fully-connected Layers\""
      ]
    },
    {
      "cell_type": "code",
      "metadata": {
        "colab_type": "code",
        "id": "IreIDe6P8H0H",
        "colab": {}
      },
      "source": [
        "nn = NeuralNetwork()"
      ],
      "execution_count": 0,
      "outputs": []
    },
    {
      "cell_type": "code",
      "metadata": {
        "id": "KL-vq73-y-lG",
        "colab_type": "code",
        "outputId": "3e8bebc0-8eb8-448a-ea38-6870e13b23b9",
        "colab": {
          "base_uri": "https://localhost:8080/",
          "height": 136
        }
      },
      "source": [
        "print(\"Layer 1 weights: \\n\", nn.weights1)\n",
        "print(\"Layer 2 weights: \\n\", nn.weights2)"
      ],
      "execution_count": 5,
      "outputs": [
        {
          "output_type": "stream",
          "text": [
            "Layer 1 weights: \n",
            " [[ 2.48783189  0.11697987 -1.97118428]\n",
            " [-0.48325593 -1.50361209  0.57515126]]\n",
            "Layer 2 weights: \n",
            " [[-0.20672583]\n",
            " [ 0.41271104]\n",
            " [-0.57757999]]\n"
          ],
          "name": "stdout"
        }
      ]
    },
    {
      "cell_type": "markdown",
      "metadata": {
        "colab_type": "text",
        "id": "hbxDhyjQ-RwS"
      },
      "source": [
        "### Implement Feedforward Functionality\n",
        "\n",
        "After this step our neural network should be able to generate an output even though it has not been trained."
      ]
    },
    {
      "cell_type": "code",
      "metadata": {
        "colab_type": "code",
        "id": "0gGivpEk-VdP",
        "colab": {}
      },
      "source": [
        "class NeuralNetwork:\n",
        "    \n",
        "    def __init__(self):\n",
        "        # Set up Arch\n",
        "        self.inputs = 2\n",
        "        self.hiddenNodes = 3\n",
        "        self.outputNodes = 1\n",
        "        \n",
        "        # Initialize Weights\n",
        "        # 2x3\n",
        "        # Input to Hidden (1st set of weights)\n",
        "        self.weights1 = np.random.randn(self.inputs,self.hiddenNodes)\n",
        "        \n",
        "        # 3x1\n",
        "        # Hidden to Output (2nd set of weights)\n",
        "        self.weights2 = np.random.randn(self.hiddenNodes, self.outputNodes)\n",
        "        \n",
        "    def sigmoid(self, s):\n",
        "        return 1 / (1+np.exp(-s))\n",
        "    \n",
        "    def feed_forward(self, X):\n",
        "        \"\"\"\n",
        "        Calculate the NN inference using feed forward.\n",
        "        \"\"\"\n",
        "        \n",
        "        # Weighted Sum\n",
        "        self.hidden_sum = np.dot(X, self.weights1)\n",
        "        \n",
        "        # Activate\n",
        "        self.activated_hidden = self.sigmoid(self.hidden_sum)\n",
        "        \n",
        "        # Weighted sum of activated hidden (which output layer will use)\n",
        "        self.output_sum = np.dot(self.activated_hidden, self.weights2)\n",
        "        \n",
        "        # Final Activation of Output (My Predictions)\n",
        "        self.activated_output = self.sigmoid(self.output_sum)\n",
        "        \n",
        "        return self.activated_output"
      ],
      "execution_count": 0,
      "outputs": []
    },
    {
      "cell_type": "code",
      "metadata": {
        "id": "3tQdDlH_y-lM",
        "colab_type": "code",
        "outputId": "d818f362-9edf-4b40-f168-2a0c74b9af66",
        "colab": {
          "base_uri": "https://localhost:8080/",
          "height": 68
        }
      },
      "source": [
        "X"
      ],
      "execution_count": 7,
      "outputs": [
        {
          "output_type": "execute_result",
          "data": {
            "text/plain": [
              "array([[0.66666667, 1.        ],\n",
              "       [0.33333333, 0.55555556],\n",
              "       [1.        , 0.66666667]])"
            ]
          },
          "metadata": {
            "tags": []
          },
          "execution_count": 7
        }
      ]
    },
    {
      "cell_type": "markdown",
      "metadata": {
        "colab_type": "text",
        "id": "a1pxdfmDAaJg"
      },
      "source": [
        "### Make a Prediction"
      ]
    },
    {
      "cell_type": "code",
      "metadata": {
        "id": "5g9KSNHey-lQ",
        "colab_type": "code",
        "outputId": "d38b9a4b-5462-4695-adc1-2165d82de88b",
        "colab": {
          "base_uri": "https://localhost:8080/",
          "height": 51
        }
      },
      "source": [
        "# Try to make a prediction with our updated 'net\n",
        "nn = NeuralNetwork()\n",
        "print(X[0])\n",
        "output = nn.feed_forward(X[0])\n",
        "print(\"output\", output)"
      ],
      "execution_count": 8,
      "outputs": [
        {
          "output_type": "stream",
          "text": [
            "[0.66666667 1.        ]\n",
            "output [0.25814933]\n"
          ],
          "name": "stdout"
        }
      ]
    },
    {
      "cell_type": "markdown",
      "metadata": {
        "colab_type": "text",
        "id": "3V61yNmAB2T5"
      },
      "source": [
        "### Calculate Error"
      ]
    },
    {
      "cell_type": "code",
      "metadata": {
        "id": "dpTSwLVWy-lT",
        "colab_type": "code",
        "outputId": "f8a6510f-61b8-4017-a3a2-8068f37e8c7a",
        "colab": {
          "base_uri": "https://localhost:8080/",
          "height": 34
        }
      },
      "source": [
        "error = y[0] - output\n",
        "error"
      ],
      "execution_count": 9,
      "outputs": [
        {
          "output_type": "execute_result",
          "data": {
            "text/plain": [
              "array([0.64185067])"
            ]
          },
          "metadata": {
            "tags": []
          },
          "execution_count": 9
        }
      ]
    },
    {
      "cell_type": "code",
      "metadata": {
        "id": "qVl_JgNAy-lW",
        "colab_type": "code",
        "outputId": "57f6e5e9-6366-4b78-be03-92045e6ef5e5",
        "colab": {
          "base_uri": "https://localhost:8080/",
          "height": 119
        }
      },
      "source": [
        "output_all = nn.feed_forward(X)\n",
        "error_all = y - output_all\n",
        "print(output_all)\n",
        "print(error_all)"
      ],
      "execution_count": 10,
      "outputs": [
        {
          "output_type": "stream",
          "text": [
            "[[0.25814933]\n",
            " [0.33067192]\n",
            " [0.22642076]]\n",
            "[[0.64185067]\n",
            " [0.38932808]\n",
            " [0.57357924]]\n"
          ],
          "name": "stdout"
        }
      ]
    },
    {
      "cell_type": "markdown",
      "metadata": {
        "colab_type": "text",
        "id": "26wgCLU0TLvy"
      },
      "source": [
        "Why is my error so big?\n",
        "\n",
        "My error is so big because my prediction is low.\n",
        "\n",
        "Why are my prediction low?\n",
        "\n",
        "Because either:\n",
        "\n",
        "  1) Second layer **weights** are low\n",
        "  \n",
        "  (or)\n",
        "  \n",
        "  2) Activations coming from the first layer are low\n",
        "  \n",
        "How are activations from the first layer determined? \n",
        "\n",
        "  1) By inputs - fixed\n",
        "  \n",
        "  2) by **weights** - variable\n",
        "  \n",
        "The only thing that I have control over throughout this process in order to increase the value of my final predictions is to either increase weights in layer 2 or increase weights in layer 1. \n",
        "\n",
        "Imagine that you could only change your weights by a fixed amount. Say you have .3 and you have to split that up and disperse it over your weights so as to increase your predictions as much as possible. (This isn't actually what happens, but it will help us identify which weights we would benefit the most from moving.)\n",
        "\n",
        "I need to increase weights of my model somewhere, I'll get the biggest bang for my buck if I increase weights in places where I'm already seeing high activation values -because they end up getting multiplied together before being passed to the sigmoid function. \n",
        "\n",
        "> \"Neurons that fire together, wire together\""
      ]
    },
    {
      "cell_type": "markdown",
      "metadata": {
        "colab_type": "text",
        "id": "j_eyzItYIxgm"
      },
      "source": [
        "### Implement Backpropagation \n",
        "\n",
        "> *Assigning blame for bad predictions and delivering justice - repeatedly and a little bit at a time*\n",
        "\n",
        "What in our model could be causing our predictions to suck so bad? \n",
        "\n",
        "Well, we know that our inputs (X) and outputs (y) are correct, if they weren't then we would have bigger problems than understanding backpropagation.\n",
        "\n",
        "We also know that our activation function (sigmoid) is working correctly. It can't be blamed because it just does whatever we tell it to and transforms the data in a known way.\n",
        "\n",
        "So what are the potential culprits for these terrible predictions? The **weights** of our model. Here's the problem though. I have weights that exist in both layers of my model. How do I know if the weights in the first layer are to blame, or the second layer, or both? \n",
        "\n",
        "Lets investigate. And see if we can just eyeball what should be updated."
      ]
    },
    {
      "cell_type": "code",
      "metadata": {
        "id": "tVAPMGKM7luv",
        "colab_type": "code",
        "colab": {}
      },
      "source": [
        "# Backprop does the investigation,\n",
        "# Gradient descent delivers the justice (updating the weights)"
      ],
      "execution_count": 0,
      "outputs": []
    },
    {
      "cell_type": "code",
      "metadata": {
        "id": "V1HjlfSsy-lZ",
        "colab_type": "code",
        "outputId": "9062b699-48d6-47d9-97e6-510e5fe6a7da",
        "colab": {
          "base_uri": "https://localhost:8080/",
          "height": 442
        }
      },
      "source": [
        "attributes = ['weights1', 'hidden_sum', 'activated_hidden', 'weights2', 'activated_output']\n",
        "[print(i+'\\n', getattr(nn,i), '\\n'+'---'*3) for i in attributes if i[:2]!= '__'] "
      ],
      "execution_count": 11,
      "outputs": [
        {
          "output_type": "stream",
          "text": [
            "weights1\n",
            " [[-1.75351135  1.23279898  0.24464757]\n",
            " [-0.06568225  0.30190098  0.79723428]] \n",
            "---------\n",
            "hidden_sum\n",
            " [[-1.23468981  1.12376697  0.96033266]\n",
            " [-0.62099392  0.57865576  0.52445712]\n",
            " [-1.79729952  1.4340663   0.77613709]] \n",
            "---------\n",
            "activated_hidden\n",
            " [[0.22536165 0.75468678 0.7231884 ]\n",
            " [0.34955543 0.64075804 0.6281894 ]\n",
            " [0.14218011 0.8075341  0.68484697]] \n",
            "---------\n",
            "weights2\n",
            " [[ 1.23073545]\n",
            " [-1.52187331]\n",
            " [-0.25502715]] \n",
            "---------\n",
            "activated_output\n",
            " [[0.25814933]\n",
            " [0.33067192]\n",
            " [0.22642076]] \n",
            "---------\n"
          ],
          "name": "stdout"
        },
        {
          "output_type": "execute_result",
          "data": {
            "text/plain": [
              "[None, None, None, None, None]"
            ]
          },
          "metadata": {
            "tags": []
          },
          "execution_count": 11
        }
      ]
    },
    {
      "cell_type": "code",
      "metadata": {
        "id": "93IAvx1W7yjZ",
        "colab_type": "code",
        "colab": {}
      },
      "source": [
        ""
      ],
      "execution_count": 0,
      "outputs": []
    },
    {
      "cell_type": "markdown",
      "metadata": {
        "colab_type": "text",
        "id": "16Ujj6vNYQyX",
        "toc-hr-collapsed": true
      },
      "source": [
        "### Update Weights Based on Gradient\n",
        "\n",
        "Repeat steps 2-4 for every observation in a given batch, and then given the network's cost function, calculate its gradient using calculus and update weights associated with the (negative) gradient of the cost function. \n",
        "\n",
        "Remember that we have 9 weights in our network therefore the gradient that comes from our gradient descent calculation will be the vector that takes us in the most downward direction along some function in 9-dimensional hyperspace.\n",
        "\n",
        "\\begin{align}\n",
        "C(w1, w2, w3, w4, w5, w6, w7, w8, w9)\n",
        "\\end{align}\n",
        "\n",
        "You should also know that with neural networks it is common to have gradients that are not convex (like what we saw when we applied gradient descent to linear regression). Due to the high complexity of these models and their nonlinearity, it is common for gradient descent to get stuck in a local minimum, but there are ways to combat this:\n",
        "\n",
        "1) Stochastic Gradient Descent\n",
        "\n",
        "2) More advanced Gradient-Descent-based \"Optimizers\" - See Stretch Goals on assignment."
      ]
    },
    {
      "cell_type": "code",
      "metadata": {
        "id": "IVbxdpG1y-lc",
        "colab_type": "code",
        "colab": {}
      },
      "source": [
        "# I want activations that correspond to negative weights to be lower\n",
        "# and activations that correspond to positive weights to be higher\n",
        "\n",
        "class NeuralNetwork:\n",
        "    \n",
        "    def __init__(self):\n",
        "        # Set up Arch\n",
        "        self.inputs = 2\n",
        "        self.hiddenNodes = 3\n",
        "        self.outputNodes = 1\n",
        "        \n",
        "        # Initialize Weights\n",
        "        # 2x3\n",
        "        # Input to Hidden (1st set of weights)\n",
        "        self.weights1 = np.random.randn(self.inputs,self.hiddenNodes)\n",
        "        \n",
        "        # 3x1\n",
        "        # Hidden to Output (2nd set of weights)\n",
        "        self.weights2 = np.random.randn(self.hiddenNodes, self.outputNodes)\n",
        "        \n",
        "    def sigmoid(self, s):\n",
        "        return 1 / (1+np.exp(-s))\n",
        "    \n",
        "    def sigmoidPrime(self, s): #> sigmoid derivative\n",
        "        sx = self.sigmoid(s)\n",
        "        return sx * (1-sx)\n",
        "    \n",
        "    def feed_forward(self, X):\n",
        "        \"\"\"\n",
        "        Calculate the NN inference using feed forward.\n",
        "        \"\"\"\n",
        "        \n",
        "        # Weighted Sum\n",
        "        self.hidden_sum = np.dot(X, self.weights1)\n",
        "        \n",
        "        # Activate\n",
        "        self.activated_hidden = self.sigmoid(self.hidden_sum)\n",
        "        \n",
        "        # Weighted sum of activated hidden (which output layer will use)\n",
        "        self.output_sum = np.dot(self.activated_hidden, self.weights2)\n",
        "        \n",
        "        # Final Activation of Output (My Predictions)\n",
        "        self.activated_output = self.sigmoid(self.output_sum)\n",
        "        \n",
        "        return self.activated_output\n",
        "    \n",
        "    def backward(self, X, y, o):\n",
        "        \"\"\"\n",
        "        Back prop thru the network\n",
        "        \"\"\"\n",
        "        \n",
        "        self.o_error = y - o # Error in the output\n",
        "        \n",
        "        # Apply derivative of sigmoid to error\n",
        "        self.o_delta = self.o_error * self.sigmoidPrime(o) #> given derivative,\n",
        "        # how much more activation would have pushed us in the right direction?\n",
        "        # we do this by scaling error in direction of output we want\n",
        "        \n",
        "        # z2 error: how much were our output layer weights off\n",
        "        self.z2_error = self.o_delta.dot(self.weights2.T)\n",
        "        \n",
        "        # z2 delta: how much were the weights off?\n",
        "        self.z2_delta = self.z2_error*self.sigmoidPrime(self.output_sum)\n",
        "\n",
        "        self.weights1 += X.T.dot(self.z2_delta) #Adjust first set (input => hidden) weights\n",
        "        self.weights2 += self.activated_hidden.T.dot(self.o_delta) #adjust second set (hidden => output) weights\n",
        "        \n",
        "    def train(self, X,y):\n",
        "        o = self.feed_forward(X)\n",
        "        self.backward(X,y,o)"
      ],
      "execution_count": 0,
      "outputs": []
    },
    {
      "cell_type": "markdown",
      "metadata": {
        "toc-hr-collapsed": true,
        "id": "lAf-5Fnsy-lf",
        "colab_type": "text"
      },
      "source": [
        "#### Let's look at the shape of the Gradient Componets\n"
      ]
    },
    {
      "cell_type": "code",
      "metadata": {
        "id": "Uf76K25Fy-lf",
        "colab_type": "code",
        "colab": {}
      },
      "source": [
        "nn = NeuralNetwork()\n",
        "\n",
        "nn.train(X,y) #> one epoch at this point"
      ],
      "execution_count": 0,
      "outputs": []
    },
    {
      "cell_type": "markdown",
      "metadata": {
        "id": "k-mk18Nvy-li",
        "colab_type": "text"
      },
      "source": [
        "##### Our Error Associated with Each Observation \n",
        "aka how wrong were we?"
      ]
    },
    {
      "cell_type": "code",
      "metadata": {
        "id": "O2EvPUqTy-lj",
        "colab_type": "code",
        "outputId": "d0c10d0a-016e-47e2-e1b1-ff7dcd0754cb",
        "colab": {
          "base_uri": "https://localhost:8080/",
          "height": 68
        }
      },
      "source": [
        "nn.o_error"
      ],
      "execution_count": 14,
      "outputs": [
        {
          "output_type": "execute_result",
          "data": {
            "text/plain": [
              "array([[0.60746115],\n",
              "       [0.46613403],\n",
              "       [0.53667427]])"
            ]
          },
          "metadata": {
            "tags": []
          },
          "execution_count": 14
        }
      ]
    },
    {
      "cell_type": "markdown",
      "metadata": {
        "id": "wi1ugzjey-ll",
        "colab_type": "text"
      },
      "source": [
        "##### 1st Gradient \n",
        "Simple interpretation - how much more sigmoid activation would have pushed us towards the right answer?\n",
        "\n",
        "`self.o_delta = self.o_error * self.sigmoidPrime(self.output_sum)`"
      ]
    },
    {
      "cell_type": "code",
      "metadata": {
        "id": "PX1ZzCac82ex",
        "colab_type": "code",
        "colab": {}
      },
      "source": [
        "# "
      ],
      "execution_count": 0,
      "outputs": []
    },
    {
      "cell_type": "code",
      "metadata": {
        "id": "oClco9AUy-lm",
        "colab_type": "code",
        "outputId": "f6d54118-cd3d-4fba-9e0a-4d0a17016123",
        "colab": {
          "base_uri": "https://localhost:8080/",
          "height": 68
        }
      },
      "source": [
        "nn.o_delta"
      ],
      "execution_count": 15,
      "outputs": [
        {
          "output_type": "execute_result",
          "data": {
            "text/plain": [
              "array([[0.14866196],\n",
              "       [0.11467591],\n",
              "       [0.13186936]])"
            ]
          },
          "metadata": {
            "tags": []
          },
          "execution_count": 15
        }
      ]
    },
    {
      "cell_type": "markdown",
      "metadata": {
        "id": "I-AG6z4oy-lo",
        "colab_type": "text"
      },
      "source": [
        "Let's take a look at the derivate of the sigmoid function to understand what's happening. "
      ]
    },
    {
      "cell_type": "code",
      "metadata": {
        "id": "5x18YOZCy-lo",
        "colab_type": "code",
        "colab": {}
      },
      "source": [
        "import matplotlib.pyplot as plt\n",
        "\n",
        "line_x = np.arange(-5, 5, 0.01)\n",
        "\n",
        "def sigmoid(x):\n",
        "    return 1 / (1+ np.exp(-x))\n",
        "\n",
        "def sigmoid_derivative(x):\n",
        "    sx = sigmoid(x)\n",
        "    return sx * (1-sx)\n",
        "\n",
        "# sigmoid\n",
        "y1 = sigmoid(line_x)\n",
        "y_d = sigmoid_derivative(line_x)\n",
        "\n",
        "x1 = nn.output_sum\n",
        "s = sigmoid(x1)\n",
        "sx = sigmoid_derivative(x1)"
      ],
      "execution_count": 0,
      "outputs": []
    },
    {
      "cell_type": "code",
      "metadata": {
        "id": "iy7B8Xrvy-lr",
        "colab_type": "code",
        "outputId": "940d05cf-b53d-4be5-dd8c-67a092211ab1",
        "colab": {
          "base_uri": "https://localhost:8080/",
          "height": 365
        }
      },
      "source": [
        "# call regplot on each axes\n",
        "import seaborn as sns\n",
        "plt.style.use('seaborn-darkgrid')\n",
        "fig, (ax1, ax2) = plt.subplots(ncols=2, sharey=True, figsize=(15,5))\n",
        "sns.lineplot(x=line_x, y=y1, ax=ax1)\n",
        "ax1.plot(x1[0], s[0], 'ro')\n",
        "ax1.set_title(\"Sigmoid of Weighted Sum\")\n",
        "sns.lineplot(x=line_x, y=y_d, ax=ax2) \n",
        "ax2.plot(x1[0],sx[0],'ro');\n",
        "ax2.set_title(\"Sigmoid Derivative of Weighted Sum\");"
      ],
      "execution_count": 17,
      "outputs": [
        {
          "output_type": "stream",
          "text": [
            "/usr/local/lib/python3.6/dist-packages/statsmodels/tools/_testing.py:19: FutureWarning: pandas.util.testing is deprecated. Use the functions in the public API at pandas.testing instead.\n",
            "  import pandas.util.testing as tm\n"
          ],
          "name": "stderr"
        },
        {
          "output_type": "display_data",
          "data": {
            "image/png": "[encoded data removed]",
            "text/plain": [
              "<Figure size 1080x360 with 2 Axes>"
            ]
          },
          "metadata": {
            "tags": []
          }
        }
      ]
    },
    {
      "cell_type": "code",
      "metadata": {
        "id": "SnC4sbYS9YLt",
        "colab_type": "code",
        "colab": {}
      },
      "source": [
        "# Red dot is point on our first observation (output layer)\n"
      ],
      "execution_count": 0,
      "outputs": []
    },
    {
      "cell_type": "markdown",
      "metadata": {
        "id": "x4oFI642y-lt",
        "colab_type": "text"
      },
      "source": [
        "Look at the derivate graph. The derivative multiplied by the error tells us where to assign blame and update the weights most effective. "
      ]
    },
    {
      "cell_type": "markdown",
      "metadata": {
        "id": "CiJ4u5XRy-lu",
        "colab_type": "text"
      },
      "source": [
        "##### 2nd Error\n",
        "Justice hasn't been served yet - tho. We still have neurons to blame. Let's go back another layer. \n",
        "\n",
        "`self.z2_error = self.o_delta.dot(self.weights2.T)`\n",
        "\n",
        "__Discussion:__ Why is this shape different?"
      ]
    },
    {
      "cell_type": "code",
      "metadata": {
        "id": "cyLXqo6m9tEP",
        "colab_type": "code",
        "colab": {}
      },
      "source": [
        "# This step is how we take that error and \"look back\" "
      ],
      "execution_count": 0,
      "outputs": []
    },
    {
      "cell_type": "code",
      "metadata": {
        "id": "uE-oJxTyy-lu",
        "colab_type": "code",
        "outputId": "cfadf8c1-b591-4511-b23a-d9fd0b55918d",
        "colab": {
          "base_uri": "https://localhost:8080/",
          "height": 68
        }
      },
      "source": [
        "nn.o_delta.dot(nn.weights2.T)\n",
        "# error for each obs from each neuron"
      ],
      "execution_count": 18,
      "outputs": [
        {
          "output_type": "execute_result",
          "data": {
            "text/plain": [
              "array([[-0.23952061, -0.19347426,  0.1111231 ],\n",
              "       [-0.1847631 , -0.14924354,  0.08571892],\n",
              "       [-0.21246478, -0.17161974,  0.09857082]])"
            ]
          },
          "metadata": {
            "tags": []
          },
          "execution_count": 18
        }
      ]
    },
    {
      "cell_type": "markdown",
      "metadata": {
        "id": "fNIE-k0Py-lw",
        "colab_type": "text"
      },
      "source": [
        "##### 2nd Gradient\n",
        "For each observation, how much more sigmoid activation from this layer would have pushed us towards the right answer?\n",
        "\n",
        "`self.z2_delta = self.z2_error * self.sigmoidPrime(self.activated_hidden)`"
      ]
    },
    {
      "cell_type": "code",
      "metadata": {
        "id": "wNrjHpg-y-lx",
        "colab_type": "code",
        "outputId": "31c43c4a-e33b-4aec-e3cd-31b6073d80d7",
        "colab": {
          "base_uri": "https://localhost:8080/",
          "height": 68
        }
      },
      "source": [
        "nn.z2_delta\n",
        "# size of adjustment we want to make across those weights"
      ],
      "execution_count": 19,
      "outputs": [
        {
          "output_type": "execute_result",
          "data": {
            "text/plain": [
              "array([[-0.05483346, -0.04408088,  0.01744341],\n",
              "       [-0.03871267, -0.0311213 ,  0.01231513],\n",
              "       [-0.04559029, -0.03665025,  0.01450301]])"
            ]
          },
          "metadata": {
            "tags": []
          },
          "execution_count": 19
        }
      ]
    },
    {
      "cell_type": "code",
      "metadata": {
        "id": "3vXKArXYy-l0",
        "colab_type": "code",
        "outputId": "d1e7f0eb-ddbf-402d-baf0-e0fcd5198a90",
        "colab": {
          "base_uri": "https://localhost:8080/",
          "height": 34
        }
      },
      "source": [
        "X.T.shape == nn.weights1.shape"
      ],
      "execution_count": 20,
      "outputs": [
        {
          "output_type": "execute_result",
          "data": {
            "text/plain": [
              "True"
            ]
          },
          "metadata": {
            "tags": []
          },
          "execution_count": 20
        }
      ]
    },
    {
      "cell_type": "code",
      "metadata": {
        "id": "hj4zPSeqy-l3",
        "colab_type": "code",
        "outputId": "b629b26e-f54c-42d1-e986-b2068da0a531",
        "colab": {}
      },
      "source": [
        ""
      ],
      "execution_count": 0,
      "outputs": [
        {
          "output_type": "execute_result",
          "data": {
            "text/plain": [
              "array([[0.66666667, 1.        ],\n",
              "       [0.33333333, 0.55555556],\n",
              "       [1.        , 0.66666667]])"
            ]
          },
          "metadata": {
            "tags": []
          },
          "execution_count": 44
        }
      ]
    },
    {
      "cell_type": "markdown",
      "metadata": {
        "id": "KNb1c6m_y-l5",
        "colab_type": "text"
      },
      "source": [
        "##### Descent\n",
        "\n",
        "*Discussion:* Input to Hidden Weight Update\n",
        "- We multiply the gradient by the inputs. Why?\n",
        "- Why do we need to transpose the inputs? "
      ]
    },
    {
      "cell_type": "code",
      "metadata": {
        "id": "Id_nTIVTy-l5",
        "colab_type": "code",
        "outputId": "89789be5-1dcd-42a2-cd4e-5db44439797e",
        "colab": {
          "base_uri": "https://localhost:8080/",
          "height": 51
        }
      },
      "source": [
        "X.T"
      ],
      "execution_count": 21,
      "outputs": [
        {
          "output_type": "execute_result",
          "data": {
            "text/plain": [
              "array([[0.66666667, 0.33333333, 1.        ],\n",
              "       [1.        , 0.55555556, 0.66666667]])"
            ]
          },
          "metadata": {
            "tags": []
          },
          "execution_count": 21
        }
      ]
    },
    {
      "cell_type": "code",
      "metadata": {
        "id": "lmxl-Xzly-l7",
        "colab_type": "code",
        "outputId": "e4cc5783-c9e9-4a40-a1df-e05b0d9c8b63",
        "colab": {
          "base_uri": "https://localhost:8080/",
          "height": 51
        }
      },
      "source": [
        "X.T.dot(nn.z2_delta)\n",
        "# Scale update by size of the inputs"
      ],
      "execution_count": 22,
      "outputs": [
        {
          "output_type": "execute_result",
          "data": {
            "text/plain": [
              "array([[-0.09505015, -0.07641127,  0.03023699],\n",
              "       [-0.10673402, -0.08580399,  0.03395382]])"
            ]
          },
          "metadata": {
            "tags": []
          },
          "execution_count": 22
        }
      ]
    },
    {
      "cell_type": "markdown",
      "metadata": {
        "id": "JQzkS8thy-l9",
        "colab_type": "text"
      },
      "source": [
        "*Discussion:* Hidden to Output Weight Update\n",
        "- Why is output the shape 3x1? \n",
        "- We multiply the gradient by the inputs. Why?\n",
        "- Why do we need to transpose the inputs?"
      ]
    },
    {
      "cell_type": "code",
      "metadata": {
        "id": "hHfAcgBby-l9",
        "colab_type": "code",
        "outputId": "3aa97e76-1a07-4048-9c1a-342465f562e5",
        "colab": {
          "base_uri": "https://localhost:8080/",
          "height": 68
        }
      },
      "source": [
        "nn.activated_hidden.T.dot(nn.o_delta)"
      ],
      "execution_count": 23,
      "outputs": [
        {
          "output_type": "execute_result",
          "data": {
            "text/plain": [
              "array([[0.17103686],\n",
              "       [0.13129211],\n",
              "       [0.18053762]])"
            ]
          },
          "metadata": {
            "tags": []
          },
          "execution_count": 23
        }
      ]
    },
    {
      "cell_type": "markdown",
      "metadata": {
        "id": "3iefmoxky-mA",
        "colab_type": "text"
      },
      "source": [
        "### Train the Network (fo real this time)"
      ]
    },
    {
      "cell_type": "code",
      "metadata": {
        "id": "7PdAx-Vny-mB",
        "colab_type": "code",
        "outputId": "65c37e4b-84b8-4b66-abc3-bf3407d14bbe",
        "colab": {
          "base_uri": "https://localhost:8080/",
          "height": 1000
        }
      },
      "source": [
        "# Train my 'net\n",
        "nn = NeuralNetwork()\n",
        "\n",
        "# Number of Epochs / Iterations\n",
        "for i in range(5000):\n",
        "    if (i+1 in [1,2,3,4,5]) or ((i+1) % 500 ==0):\n",
        "        print('+' + '---' * 3 + f'EPOCH {i+1}' + '---'*3 + '+')\n",
        "        print('Input: \\n', X)\n",
        "        print('Actual Output: \\n', y)\n",
        "        print('Predicted Output: \\n', str(nn.feed_forward(X)))\n",
        "        print(\"Loss: \\n\", str(np.mean(np.square(y - nn.feed_forward(X)))))\n",
        "    nn.train(X,y)"
      ],
      "execution_count": 24,
      "outputs": [
        {
          "output_type": "stream",
          "text": [
            "+---------EPOCH 1---------+\n",
            "Input: \n",
            " [[0.66666667 1.        ]\n",
            " [0.33333333 0.55555556]\n",
            " [1.         0.66666667]]\n",
            "Actual Output: \n",
            " [[0.9 ]\n",
            " [0.72]\n",
            " [0.8 ]]\n",
            "Predicted Output: \n",
            " [[0.37771334]\n",
            " [0.41477855]\n",
            " [0.40348484]]\n",
            "Loss: \n",
            " 0.17438925217089843\n",
            "+---------EPOCH 2---------+\n",
            "Input: \n",
            " [[0.66666667 1.        ]\n",
            " [0.33333333 0.55555556]\n",
            " [1.         0.66666667]]\n",
            "Actual Output: \n",
            " [[0.9 ]\n",
            " [0.72]\n",
            " [0.8 ]]\n",
            "Predicted Output: \n",
            " [[0.46742502]\n",
            " [0.49525296]\n",
            " [0.48975536]]\n",
            "Loss: \n",
            " 0.11129469128696234\n",
            "+---------EPOCH 3---------+\n",
            "Input: \n",
            " [[0.66666667 1.        ]\n",
            " [0.33333333 0.55555556]\n",
            " [1.         0.66666667]]\n",
            "Actual Output: \n",
            " [[0.9 ]\n",
            " [0.72]\n",
            " [0.8 ]]\n",
            "Predicted Output: \n",
            " [[0.53899397]\n",
            " [0.55795772]\n",
            " [0.5574457 ]]\n",
            "Loss: \n",
            " 0.07180521436432423\n",
            "+---------EPOCH 4---------+\n",
            "Input: \n",
            " [[0.66666667 1.        ]\n",
            " [0.33333333 0.55555556]\n",
            " [1.         0.66666667]]\n",
            "Actual Output: \n",
            " [[0.9 ]\n",
            " [0.72]\n",
            " [0.8 ]]\n",
            "Predicted Output: \n",
            " [[0.59431963]\n",
            " [0.60590059]\n",
            " [0.60932425]]\n",
            "Loss: \n",
            " 0.04760546857050884\n",
            "+---------EPOCH 5---------+\n",
            "Input: \n",
            " [[0.66666667 1.        ]\n",
            " [0.33333333 0.55555556]\n",
            " [1.         0.66666667]]\n",
            "Actual Output: \n",
            " [[0.9 ]\n",
            " [0.72]\n",
            " [0.8 ]]\n",
            "Predicted Output: \n",
            " [[0.6368593 ]\n",
            " [0.64263057]\n",
            " [0.64905705]]\n",
            "Loss: \n",
            " 0.03267094359034923\n",
            "+---------EPOCH 500---------+\n",
            "Input: \n",
            " [[0.66666667 1.        ]\n",
            " [0.33333333 0.55555556]\n",
            " [1.         0.66666667]]\n",
            "Actual Output: \n",
            " [[0.9 ]\n",
            " [0.72]\n",
            " [0.8 ]]\n",
            "Predicted Output: \n",
            " [[0.82318383]\n",
            " [0.79213095]\n",
            " [0.8149854 ]]\n",
            "Loss: \n",
            " 0.003776052910949385\n",
            "+---------EPOCH 1000---------+\n",
            "Input: \n",
            " [[0.66666667 1.        ]\n",
            " [0.33333333 0.55555556]\n",
            " [1.         0.66666667]]\n",
            "Actual Output: \n",
            " [[0.9 ]\n",
            " [0.72]\n",
            " [0.8 ]]\n",
            "Predicted Output: \n",
            " [[0.82540587]\n",
            " [0.78982878]\n",
            " [0.81489664]]\n",
            "Loss: \n",
            " 0.003554084487322726\n",
            "+---------EPOCH 1500---------+\n",
            "Input: \n",
            " [[0.66666667 1.        ]\n",
            " [0.33333333 0.55555556]\n",
            " [1.         0.66666667]]\n",
            "Actual Output: \n",
            " [[0.9 ]\n",
            " [0.72]\n",
            " [0.8 ]]\n",
            "Predicted Output: \n",
            " [[0.82524288]\n",
            " [0.7889124 ]\n",
            " [0.81566422]]\n",
            "Loss: \n",
            " 0.003527637945533879\n",
            "+---------EPOCH 2000---------+\n",
            "Input: \n",
            " [[0.66666667 1.        ]\n",
            " [0.33333333 0.55555556]\n",
            " [1.         0.66666667]]\n",
            "Actual Output: \n",
            " [[0.9 ]\n",
            " [0.72]\n",
            " [0.8 ]]\n",
            "Predicted Output: \n",
            " [[0.82400722]\n",
            " [0.7883476 ]\n",
            " [0.81687146]]\n",
            "Loss: \n",
            " 0.003576981234327497\n",
            "+---------EPOCH 2500---------+\n",
            "Input: \n",
            " [[0.66666667 1.        ]\n",
            " [0.33333333 0.55555556]\n",
            " [1.         0.66666667]]\n",
            "Actual Output: \n",
            " [[0.9 ]\n",
            " [0.72]\n",
            " [0.8 ]]\n",
            "Predicted Output: \n",
            " [[0.82291395]\n",
            " [0.78710858]\n",
            " [0.81822416]]\n",
            "Loss: \n",
            " 0.003592646995996964\n",
            "+---------EPOCH 3000---------+\n",
            "Input: \n",
            " [[0.66666667 1.        ]\n",
            " [0.33333333 0.55555556]\n",
            " [1.         0.66666667]]\n",
            "Actual Output: \n",
            " [[0.9 ]\n",
            " [0.72]\n",
            " [0.8 ]]\n",
            "Predicted Output: \n",
            " [[0.82361082]\n",
            " [0.78363834]\n",
            " [0.81956126]]\n",
            "Loss: \n",
            " 0.003422595934712925\n",
            "+---------EPOCH 3500---------+\n",
            "Input: \n",
            " [[0.66666667 1.        ]\n",
            " [0.33333333 0.55555556]\n",
            " [1.         0.66666667]]\n",
            "Actual Output: \n",
            " [[0.9 ]\n",
            " [0.72]\n",
            " [0.8 ]]\n",
            "Predicted Output: \n",
            " [[0.82822324]\n",
            " [0.77622654]\n",
            " [0.82058992]]\n",
            "Loss: \n",
            " 0.002912423646875033\n",
            "+---------EPOCH 4000---------+\n",
            "Input: \n",
            " [[0.66666667 1.        ]\n",
            " [0.33333333 0.55555556]\n",
            " [1.         0.66666667]]\n",
            "Actual Output: \n",
            " [[0.9 ]\n",
            " [0.72]\n",
            " [0.8 ]]\n",
            "Predicted Output: \n",
            " [[0.83699937]\n",
            " [0.76621552]\n",
            " [0.82012093]]\n",
            "Loss: \n",
            " 0.002169935255981244\n",
            "+---------EPOCH 4500---------+\n",
            "Input: \n",
            " [[0.66666667 1.        ]\n",
            " [0.33333333 0.55555556]\n",
            " [1.         0.66666667]]\n",
            "Actual Output: \n",
            " [[0.9 ]\n",
            " [0.72]\n",
            " [0.8 ]]\n",
            "Predicted Output: \n",
            " [[0.84699704]\n",
            " [0.75825291]\n",
            " [0.81680615]]\n",
            "Loss: \n",
            " 0.0015183485571712803\n",
            "+---------EPOCH 5000---------+\n",
            "Input: \n",
            " [[0.66666667 1.        ]\n",
            " [0.33333333 0.55555556]\n",
            " [1.         0.66666667]]\n",
            "Actual Output: \n",
            " [[0.9 ]\n",
            " [0.72]\n",
            " [0.8 ]]\n",
            "Predicted Output: \n",
            " [[0.85631809]\n",
            " [0.75359987]\n",
            " [0.81134225]]\n",
            "Loss: \n",
            " 0.0010552358878113213\n"
          ],
          "name": "stdout"
        }
      ]
    },
    {
      "cell_type": "markdown",
      "metadata": {
        "id": "p4sv6kTHy-mD",
        "colab_type": "text"
      },
      "source": [
        "## Challenge\n",
        "\n",
        "In the module project, you will implement backpropagation inside a multi-layer perceptron (aka a feedforward neural network). "
      ]
    },
    {
      "cell_type": "markdown",
      "metadata": {
        "toc-hr-collapsed": true,
        "id": "HeH6Kdg7y-mE",
        "colab_type": "text"
      },
      "source": [
        "# Stochastic Gradient Descent (Learn)"
      ]
    },
    {
      "cell_type": "code",
      "metadata": {
        "id": "cIgP0hbjAep_",
        "colab_type": "code",
        "colab": {}
      },
      "source": [
        "# This process looks at small subsets, calculates gradient, and \n",
        "# update weights according to thos batches\n",
        "\n",
        "# This would be useful / necessary if training an nn on massive amounts of\n",
        "# data"
      ],
      "execution_count": 0,
      "outputs": []
    },
    {
      "cell_type": "markdown",
      "metadata": {
        "id": "PzBu-ixEy-mE",
        "colab_type": "text"
      },
      "source": [
        "## Overview\n",
        "\n",
        "The What - Stochastic Gradient Descent calculates an approximation of the gradient over the entire dataset by reviewing the predictions of a random sample. \n",
        "\n",
        "The Why - *Speed*. Calculating the gradient over the entire dataset is extremely expensive computationally. "
      ]
    },
    {
      "cell_type": "markdown",
      "metadata": {
        "colab_type": "text",
        "id": "ZF7UE-KluPsX"
      },
      "source": [
        "## Follow Along\n",
        "\n",
        "A true Stochastic GD-based implementation from [Welch Labs](https://www.youtube.com/watch?v=bxe2T-V8XRs)"
      ]
    },
    {
      "cell_type": "code",
      "metadata": {
        "id": "5kfz9sOay-mF",
        "colab_type": "code",
        "outputId": "f0588830-279b-4dcd-b67b-8026b87e27e0",
        "colab": {}
      },
      "source": [
        "model.evaluate(X,y)\n",
        "model.predict(X)"
      ],
      "execution_count": 0,
      "outputs": [
        {
          "output_type": "stream",
          "text": [
            "3/3 [==============================] - 0s 8ms/sample - loss: 0.0428 - mean_absolute_error: 0.1932\n"
          ],
          "name": "stdout"
        },
        {
          "output_type": "execute_result",
          "data": {
            "text/plain": [
              "array([[0.99991727],\n",
              "       [0.99989295],\n",
              "       [0.999887  ]], dtype=float32)"
            ]
          },
          "metadata": {
            "tags": []
          },
          "execution_count": 38
        }
      ]
    },
    {
      "cell_type": "code",
      "metadata": {
        "id": "JlQXsjkSy-mH",
        "colab_type": "code",
        "colab": {}
      },
      "source": [
        "class Neural_Network(object):\n",
        "    def __init__(self):        \n",
        "        #Define Hyperparameters\n",
        "        self.inputLayerSize = 2\n",
        "        self.outputLayerSize = 1\n",
        "        self.hiddenLayerSize = 3\n",
        "        \n",
        "        #Weights (parameters)\n",
        "        self.W1 = np.random.randn(self.inputLayerSize,self.hiddenLayerSize)\n",
        "        self.W2 = np.random.randn(self.hiddenLayerSize,self.outputLayerSize)\n",
        "        \n",
        "    def forward(self, X):\n",
        "        #Propogate inputs though network\n",
        "        self.z2 = np.dot(X, self.W1)\n",
        "        self.a2 = self.sigmoid(self.z2)\n",
        "        self.z3 = np.dot(self.a2, self.W2)\n",
        "        yHat = self.sigmoid(self.z3) \n",
        "        return yHat\n",
        "        \n",
        "    def sigmoid(self, z):\n",
        "        #Apply sigmoid activation function to scalar, vector, or matrix\n",
        "        return 1/(1+np.exp(-z))\n",
        "    \n",
        "    def sigmoidPrime(self,z):\n",
        "        #Gradient of sigmoid\n",
        "        return np.exp(-z)/((1+np.exp(-z))**2)\n",
        "    \n",
        "    def costFunction(self, X, y):\n",
        "        #Compute cost for given X,y, use weights already stored in class.\n",
        "        self.yHat = self.forward(X)\n",
        "        J = 0.5*sum((y-self.yHat)**2)\n",
        "        return J\n",
        "        \n",
        "    def costFunctionPrime(self, X, y):\n",
        "        #Compute derivative with respect to W and W2 for a given X and y:\n",
        "        self.yHat = self.forward(X)\n",
        "        \n",
        "        delta3 = np.multiply(-(y-self.yHat), self.sigmoidPrime(self.z3))\n",
        "        dJdW2 = np.dot(self.a2.T, delta3)\n",
        "        \n",
        "        delta2 = np.dot(delta3, self.W2.T)*self.sigmoidPrime(self.z2)\n",
        "        dJdW1 = np.dot(X.T, delta2)  \n",
        "        \n",
        "        return dJdW1, dJdW2\n",
        "    \n",
        "    #Helper Functions for interacting with other classes:\n",
        "    def getParams(self):\n",
        "        #Get W1 and W2 unrolled into vector:\n",
        "        params = np.concatenate((self.W1.ravel(), self.W2.ravel()))\n",
        "        return params\n",
        "    \n",
        "    def setParams(self, params):\n",
        "        #Set W1 and W2 using single paramater vector.\n",
        "        W1_start = 0\n",
        "        W1_end = self.hiddenLayerSize * self.inputLayerSize\n",
        "        self.W1 = np.reshape(params[W1_start:W1_end], (self.inputLayerSize , self.hiddenLayerSize))\n",
        "        W2_end = W1_end + self.hiddenLayerSize*self.outputLayerSize\n",
        "        self.W2 = np.reshape(params[W1_end:W2_end], (self.hiddenLayerSize, self.outputLayerSize))\n",
        "        \n",
        "    def computeGradients(self, X, y):\n",
        "        dJdW1, dJdW2 = self.costFunctionPrime(X, y)\n",
        "        return np.concatenate((dJdW1.ravel(), dJdW2.ravel()))"
      ],
      "execution_count": 0,
      "outputs": []
    },
    {
      "cell_type": "code",
      "metadata": {
        "colab_type": "code",
        "id": "uA9LaTgKr6rP",
        "colab": {}
      },
      "source": [
        "from scipy import optimize\n",
        "class trainer(object):\n",
        "    def __init__(self, N):\n",
        "        #Make Local reference to network:\n",
        "        self.N = N\n",
        "        \n",
        "    def callbackF(self, params):\n",
        "        self.N.setParams(params)\n",
        "        self.J.append(self.N.costFunction(self.X, self.y))   \n",
        "        \n",
        "    def costFunctionWrapper(self, params, X, y):\n",
        "        self.N.setParams(params)\n",
        "        cost = self.N.costFunction(X, y)\n",
        "        grad = self.N.computeGradients(X,y)\n",
        "        \n",
        "        return cost, grad\n",
        "        \n",
        "    def train(self, X, y):\n",
        "        #Make an internal variable for the callback function:\n",
        "        self.X = X\n",
        "        self.y = y\n",
        "\n",
        "        #Make empty list to store costs:\n",
        "        self.J = []\n",
        "        \n",
        "        params0 = self.N.getParams() #> these are the weights\n",
        "\n",
        "        options = {'maxiter': 200, 'disp' : True} #> options for optimization\n",
        "        _res = optimize.minimize(self.costFunctionWrapper, params0, jac=True, method='BFGS', \\\n",
        "                                 args=(X, y), options=options, callback=self.callbackF)\n",
        "\n",
        "        self.N.setParams(_res.x)\n",
        "        self.optimizationResults = _res"
      ],
      "execution_count": 0,
      "outputs": []
    },
    {
      "cell_type": "code",
      "metadata": {
        "colab_type": "code",
        "id": "g_kHb6Se1u9y",
        "colab": {}
      },
      "source": [
        "NN = Neural_Network()"
      ],
      "execution_count": 0,
      "outputs": []
    },
    {
      "cell_type": "code",
      "metadata": {
        "colab_type": "code",
        "id": "hYYVhFf4rn3q",
        "colab": {}
      },
      "source": [
        "T = trainer(NN)"
      ],
      "execution_count": 0,
      "outputs": []
    },
    {
      "cell_type": "code",
      "metadata": {
        "colab_type": "code",
        "id": "L-gYdVfgrysE",
        "outputId": "7aef6728-a52c-4241-96dd-0a2a2f7f9460",
        "colab": {
          "base_uri": "https://localhost:8080/",
          "height": 102
        }
      },
      "source": [
        "T.train(X,y)"
      ],
      "execution_count": 30,
      "outputs": [
        {
          "output_type": "stream",
          "text": [
            "Optimization terminated successfully.\n",
            "         Current function value: 0.000000\n",
            "         Iterations: 67\n",
            "         Function evaluations: 83\n",
            "         Gradient evaluations: 83\n"
          ],
          "name": "stdout"
        }
      ]
    },
    {
      "cell_type": "code",
      "metadata": {
        "colab_type": "code",
        "id": "Jyv_L8Z2sKOA",
        "outputId": "475d3373-a644-4414-c2f8-0146d3cd947f",
        "colab": {
          "base_uri": "https://localhost:8080/",
          "height": 119
        }
      },
      "source": [
        "print(\"Predicted Output: \\n\" + str(NN.forward(X))) \n",
        "print(\"Loss: \\n\" + str(np.mean(np.square(y - NN.forward(X))))) # mean sum squared loss"
      ],
      "execution_count": 31,
      "outputs": [
        {
          "output_type": "stream",
          "text": [
            "Predicted Output: \n",
            "[[0.89997748]\n",
            " [0.71999704]\n",
            " [0.80001258]]\n",
            "Loss: \n",
            "2.2470751910666767e-10\n"
          ],
          "name": "stdout"
        }
      ]
    },
    {
      "cell_type": "code",
      "metadata": {
        "colab_type": "code",
        "id": "Gtf9WI9FtGPk",
        "outputId": "2bd4742c-596a-4a45-caed-6c2881d580fc",
        "colab": {
          "base_uri": "https://localhost:8080/",
          "height": 276
        }
      },
      "source": [
        "import matplotlib.pyplot as plt\n",
        "plt.plot(T.J)\n",
        "plt.xlabel('Iterations')\n",
        "plt.ylabel('Cost')\n",
        "plt.show()     "
      ],
      "execution_count": 32,
      "outputs": [
        {
          "output_type": "display_data",
          "data": {
            "image/png": "[encoded data removed]",
            "text/plain": [
              "<Figure size 432x288 with 1 Axes>"
            ]
          },
          "metadata": {
            "tags": []
          }
        }
      ]
    },
    {
      "cell_type": "markdown",
      "metadata": {
        "id": "n4E2P5qry-mX",
        "colab_type": "text"
      },
      "source": [
        "## Challenge\n",
        "\n",
        "This is a reference implementation for you to explore. You will not be expected to apply it to today's module project. "
      ]
    },
    {
      "cell_type": "markdown",
      "metadata": {
        "id": "S9uSk-47y-mY",
        "colab_type": "text"
      },
      "source": [
        "# Keras Sequential API (Learn)"
      ]
    },
    {
      "cell_type": "markdown",
      "metadata": {
        "toc-hr-collapsed": true,
        "id": "cfWQ7ihZy-mY",
        "colab_type": "text"
      },
      "source": [
        "## Overview\n",
        "\n",
        "> \"Keras is a high-level neural networks API, written in Python and capable of running on top of TensorFlow, CNTK, or Theano. It was developed with a focus on enabling fast experimentation. Being able to go from idea to result with the least possible delay is key to doing good research. Use Keras if you need a deep learning library that:\n",
        "\n",
        "> Allows for easy and fast prototyping (through user friendliness, modularity, and extensibility).\n",
        "Supports both convolutional networks and recurrent networks, as well as combinations of the two.\n",
        "Runs seamlessly on CPU and GPU.\" "
      ]
    },
    {
      "cell_type": "markdown",
      "metadata": {
        "colab_type": "text",
        "id": "AIJoRBxHy27n"
      },
      "source": [
        "### Keras Perceptron Sample"
      ]
    },
    {
      "cell_type": "code",
      "metadata": {
        "id": "QcvTyZuRy-mZ",
        "colab_type": "code",
        "colab": {}
      },
      "source": [
        "import pandas as pd\n",
        "\n",
        "data = { 'x1': [0,1,0,1],\n",
        "         'x2': [0,0,1,1],\n",
        "         'y':  [1,1,1,0]\n",
        "       }\n",
        "\n",
        "df = pd.DataFrame.from_dict(data).astype('int')\n",
        "X = df[['x1', 'x2']].values\n",
        "y = df['y'].values"
      ],
      "execution_count": 0,
      "outputs": []
    },
    {
      "cell_type": "code",
      "metadata": {
        "colab_type": "code",
        "id": "TQxyONqKvFxB",
        "outputId": "12966e66-2297-4f82-85b3-c275a9c38563",
        "colab": {
          "base_uri": "https://localhost:8080/",
          "height": 5216
        }
      },
      "source": [
        "from tensorflow.keras.models import Sequential\n",
        "from tensorflow.keras.layers import Dense\n",
        "\n",
        "# This is our perceptron from Monday's by-hand: \n",
        "model = Sequential()\n",
        "model.add(Dense(1,input_dim=2, activation='sigmoid'))\n",
        "model.compile(loss='binary_crossentropy', optimizer='adam', metrics=['accuracy'])\n",
        "model.fit(X,y, epochs=5)"
      ],
      "execution_count": 0,
      "outputs": [
        {
          "output_type": "stream",
          "text": [
            "Train on 4 samples\n",
            "Epoch 1/10\n",
            "4/4 [==============================] - 0s 59ms/sample - loss: 0.7140 - accuracy: 0.2500\n",
            "Epoch 2/10\n",
            "4/4 [==============================] - 0s 463us/sample - loss: 0.7137 - accuracy: 0.5000\n",
            "Epoch 3/10\n",
            "4/4 [==============================] - 0s 460us/sample - loss: 0.7134 - accuracy: 0.5000\n",
            "Epoch 4/10\n",
            "4/4 [==============================] - 0s 455us/sample - loss: 0.7131 - accuracy: 0.5000\n",
            "Epoch 5/10\n",
            "4/4 [==============================] - 0s 461us/sample - loss: 0.7129 - accuracy: 0.5000\n",
            "Epoch 6/10\n",
            "4/4 [==============================] - 0s 356us/sample - loss: 0.7126 - accuracy: 0.5000\n",
            "Epoch 7/10\n",
            "4/4 [==============================] - 0s 353us/sample - loss: 0.7123 - accuracy: 0.5000\n",
            "Epoch 8/10\n",
            "4/4 [==============================] - 0s 344us/sample - loss: 0.7121 - accuracy: 0.5000\n",
            "Epoch 9/10\n",
            "4/4 [==============================] - 0s 362us/sample - loss: 0.7118 - accuracy: 0.5000\n",
            "Epoch 10/10\n",
            "4/4 [==============================] - 0s 336us/sample - loss: 0.7115 - accuracy: 0.5000\n"
          ],
          "name": "stdout"
        },
        {
          "output_type": "execute_result",
          "data": {
            "text/plain": [
              "<tensorflow.python.keras.callbacks.History at 0x7fe780318350>"
            ]
          },
          "metadata": {
            "tags": []
          },
          "execution_count": 2
        }
      ]
    },
    {
      "cell_type": "code",
      "metadata": {
        "colab_type": "code",
        "id": "Z1wfKUxszPKa",
        "outputId": "0cdacd1d-6e5a-4bbe-fabb-568cd94724be",
        "colab": {
          "base_uri": "https://localhost:8080/",
          "height": 69
        }
      },
      "source": [
        "# evaluate the model\n",
        "scores = model.evaluate(X, y)\n",
        "print(f\"{model.metrics_names[1]}: {scores[1]*100}\")"
      ],
      "execution_count": 0,
      "outputs": [
        {
          "output_type": "stream",
          "text": [
            "4/4 [==============================] - 0s 15ms/sample - loss: 0.7112 - accuracy: 0.5000\n",
            "accuracy: 50.0\n"
          ],
          "name": "stdout"
        }
      ]
    },
    {
      "cell_type": "markdown",
      "metadata": {
        "toc-hr-collapsed": true,
        "id": "-IWXzGSty-mg",
        "colab_type": "text"
      },
      "source": [
        "## Follow Along\n",
        "\n",
        "In the `Sequential` api model, you specify a model architecture by 'sequentially specifying layers. This type of specification works well for feed forward neural networks in which the data flows in one direction (forward propagation) and the error flows in the opposite direction (backwards propagation). The Keras `Sequential` API follows a standardarized worklow to estimate a 'net: \n",
        "\n",
        "1. Load Data\n",
        "2. Define Model\n",
        "3. Compile Model\n",
        "4. Fit Model\n",
        "5. Evaluate Model\n",
        "\n",
        "You saw these steps in our Keras Perceptron Sample, but let's walk thru each step in detail."
      ]
    },
    {
      "cell_type": "markdown",
      "metadata": {
        "colab_type": "text",
        "id": "Md5D67XwqVAf",
        "toc-hr-collapsed": false
      },
      "source": [
        "### Load Data"
      ]
    },
    {
      "cell_type": "code",
      "metadata": {
        "colab_type": "code",
        "id": "bn09phMBpY1J",
        "colab": {}
      },
      "source": [
        "from tensorflow import keras\n",
        "from tensorflow.keras.datasets import mnist\n",
        "from tensorflow.keras.models import Sequential\n",
        "from tensorflow.keras.layers import Dense, Dropout\n",
        "\n",
        "# Stretch - use dropout \n",
        "import numpy as np"
      ],
      "execution_count": 0,
      "outputs": []
    },
    {
      "cell_type": "code",
      "metadata": {
        "id": "Ci9GSsvdy-mk",
        "colab_type": "code",
        "colab": {
          "base_uri": "https://localhost:8080/",
          "height": 51
        },
        "outputId": "98789dd9-290c-4f8e-9e9c-9a3a4cc6212a"
      },
      "source": [
        "# Load the Data\n",
        "(X_train, y_train), (X_test, y_test) = mnist.load_data()"
      ],
      "execution_count": 34,
      "outputs": [
        {
          "output_type": "stream",
          "text": [
            "Downloading data from https://storage.googleapis.com/tensorflow/tf-keras-datasets/mnist.npz\n",
            "11493376/11490434 [==============================] - 0s 0us/step\n"
          ],
          "name": "stdout"
        }
      ]
    },
    {
      "cell_type": "code",
      "metadata": {
        "id": "o13LS5f8y-ml",
        "colab_type": "code",
        "outputId": "d8dc77de-e877-498e-b683-3b9e63a9312d",
        "colab": {
          "base_uri": "https://localhost:8080/",
          "height": 34
        }
      },
      "source": [
        "X_train[0].shape"
      ],
      "execution_count": 35,
      "outputs": [
        {
          "output_type": "execute_result",
          "data": {
            "text/plain": [
              "(28, 28)"
            ]
          },
          "metadata": {
            "tags": []
          },
          "execution_count": 35
        }
      ]
    },
    {
      "cell_type": "code",
      "metadata": {
        "id": "_7T4L1Uby-mn",
        "colab_type": "code",
        "outputId": "727528eb-f485-48cc-c651-ba65d2849e25",
        "colab": {
          "base_uri": "https://localhost:8080/",
          "height": 34
        }
      },
      "source": [
        "X_train.shape"
      ],
      "execution_count": 36,
      "outputs": [
        {
          "output_type": "execute_result",
          "data": {
            "text/plain": [
              "(60000, 28, 28)"
            ]
          },
          "metadata": {
            "tags": []
          },
          "execution_count": 36
        }
      ]
    },
    {
      "cell_type": "code",
      "metadata": {
        "id": "2a8yKRTey-mp",
        "colab_type": "code",
        "colab": {}
      },
      "source": [
        "# X Variable Types\n",
        "X_train = X_train.astype('float32') / 255. #> division to normalize (0 and 1)\n",
        "X_test = X_test.astype('float32') /255.\n",
        "\n",
        "# Correct Encoding on Y\n",
        "# What softmax expects = [0,0,0,0,0,1,0,0,0,0]\n",
        "num_classes = 10\n",
        "y_train = keras.utils.to_categorical(y_train, num_classes)\n",
        "y_test = keras.utils.to_categorical(y_test, num_classes)"
      ],
      "execution_count": 0,
      "outputs": []
    },
    {
      "cell_type": "markdown",
      "metadata": {
        "colab_type": "text",
        "id": "o0xMqOyTs5xt"
      },
      "source": [
        "### Define Model"
      ]
    },
    {
      "cell_type": "code",
      "metadata": {
        "colab_type": "code",
        "id": "Bp9USczrfu6M",
        "colab": {}
      },
      "source": [
        "from tensorflow.keras.models import Sequential\n",
        "from tensorflow.keras.layers import Dense, Flatten\n",
        "\n",
        "import numpy as np\n",
        "\n",
        "np.random.seed(812)"
      ],
      "execution_count": 0,
      "outputs": []
    },
    {
      "cell_type": "markdown",
      "metadata": {
        "colab_type": "text",
        "id": "wAzHLg27thoN"
      },
      "source": [
        "I'll instantiate my model as a \"sequential\" model. This just means that I'm going to tell Keras what my model's architecture should be one layer at a time."
      ]
    },
    {
      "cell_type": "code",
      "metadata": {
        "colab_type": "code",
        "id": "DSNsL49Xp6KI",
        "colab": {}
      },
      "source": [
        "# https://keras.io/getting-started/sequential-model-guide/\n",
        "model = Sequential()"
      ],
      "execution_count": 0,
      "outputs": []
    },
    {
      "cell_type": "markdown",
      "metadata": {
        "colab_type": "text",
        "id": "ZCYX6QzJtvpG"
      },
      "source": [
        "Adding a \"Dense\" layer to our model is how we add \"vanilla\" perceptron-based layers to our neural network. These are also called \"fully-connected\" or \"densely-connected\" layers. They're used as a layer type in lots of other Neural Net Architectures but they're not referred to as perceptrons or multi-layer perceptrons very often in those situations even though that's what they are.\n",
        "\n",
        " > [\"Just your regular densely-connected NN layer.\"](https://keras.io/layers/core/)\n",
        " \n",
        " The first argument is how many neurons we want to have in that layer. To create a perceptron-esque model we will just set it to 10. Our architecture is just an input and output layer. We will tell it that there will be 784 inputs coming into this layer from our dataset and set it to use the sigmoid activation function."
      ]
    },
    {
      "cell_type": "code",
      "metadata": {
        "colab_type": "code",
        "id": "GNzOLidxtvFa",
        "colab": {}
      },
      "source": [
        "from tensorflow.keras.layers import Flatten\n",
        "\n",
        "model = Sequential()\n",
        "model.add(Flatten(input_shape=(28,28))) # make flat vector to each observation\n",
        "model.add(Dense(50, activation='relu')) # Hidden layer\n",
        "model.add(Dense(50, activation='relu')) # Hidden layer\n",
        "model.add(Dense(10,activation=\"softmax\")) #softmax for multi-class classification \n",
        "\n",
        "\n",
        "# # Could also adds layers via for loop:\n",
        "# model = Sequential()\n",
        "# model.add(Flatten(input_shape=(28,28)))\n",
        "# for _ in range (5):\n",
        "#   model.add(Dense(15, activation='relu'))\n",
        "# model.add(Dense(10,activation=\"softmax\"))"
      ],
      "execution_count": 0,
      "outputs": []
    },
    {
      "cell_type": "code",
      "metadata": {
        "id": "0VDQjZg1HEup",
        "colab_type": "code",
        "colab": {
          "base_uri": "https://localhost:8080/",
          "height": 289
        },
        "outputId": "50e226a7-a8a0-4f95-9722-427e1d7b7237"
      },
      "source": [
        "model.summary()\n",
        "\n",
        "# 28 x 28 = 784\n",
        "\n",
        "# The extra 10 comes from the addt'l bias parameters"
      ],
      "execution_count": 54,
      "outputs": [
        {
          "output_type": "stream",
          "text": [
            "Model: \"sequential_2\"\n",
            "_________________________________________________________________\n",
            "Layer (type)                 Output Shape              Param #   \n",
            "=================================================================\n",
            "flatten_2 (Flatten)          (None, 784)               0         \n",
            "_________________________________________________________________\n",
            "dense_3 (Dense)              (None, 50)                39250     \n",
            "_________________________________________________________________\n",
            "dense_4 (Dense)              (None, 50)                2550      \n",
            "_________________________________________________________________\n",
            "dense_5 (Dense)              (None, 10)                510       \n",
            "=================================================================\n",
            "Total params: 42,310\n",
            "Trainable params: 42,310\n",
            "Non-trainable params: 0\n",
            "_________________________________________________________________\n"
          ],
          "name": "stdout"
        }
      ]
    },
    {
      "cell_type": "markdown",
      "metadata": {
        "colab_type": "text",
        "id": "EnI3jwKMtBL2",
        "toc-hr-collapsed": false
      },
      "source": [
        "### Compile Model\n",
        "Using binary_crossentropy as the loss function here is just telling keras that I'm doing binary classification so that it can use the appropriate loss function accordingly. If we were predicting non-binary categories we might assign something like `categorical_crossentropy`. We're also telling keras that we want it to report model accuracy as our main error metric for each epoch. We will also be able to see the overall accuracy once the model has finished training.\n",
        "\n",
        "#### Adam Optimizer\n",
        "Check out this links for more background on the Adam optimizer and Stohastic Gradient Descent\n",
        "* [Adam Optimization Algorithm](https://machinelearningmastery.com/adam-optimization-algorithm-for-deep-learning/)\n",
        "* [Adam Optimizer - original paper](https://arxiv.org/abs/1412.6980)"
      ]
    },
    {
      "cell_type": "code",
      "metadata": {
        "colab_type": "code",
        "id": "qp6xwYaqurRO",
        "colab": {}
      },
      "source": [
        "model.compile(loss='categorical_crossentropy', optimizer='adam', metrics=['accuracy'])\n",
        "\n",
        "# categoriacal_crossentropy is appropriate for multi-class classification\n",
        "# metrics parameter is optional - can often help with human interpretation"
      ],
      "execution_count": 0,
      "outputs": []
    },
    {
      "cell_type": "markdown",
      "metadata": {
        "colab_type": "text",
        "id": "5dW8SZ2Ls9SX",
        "toc-hr-collapsed": false
      },
      "source": [
        "### Fit Model\n",
        "\n",
        "Lets train it up! `model.fit()` has a `batch_size` parameter that we can use if we want to do mini-batch epochs, but since this tabular dataset is pretty small we're just going to delete that parameter. Keras' default `batch_size` is `32` so omiting it will tell Keras to do batch epochs."
      ]
    },
    {
      "cell_type": "code",
      "metadata": {
        "id": "JC5I9z2Wy-m0",
        "colab_type": "code",
        "outputId": "9b8233aa-0e99-49e0-8629-c187ec026e1b",
        "colab": {
          "base_uri": "https://localhost:8080/",
          "height": 1000
        }
      },
      "source": [
        "# from tensorflow.keras.callbacks import EarlyStopping\n",
        "# stop = EarlyStopping(monitor='val_accuracy', min_delta=.01, patience=3)\n",
        "# model.fit(X_train, y_train, epochs=10, callbacks=[stop])\n",
        "# This would be the approach to include early stopping (to prevent overfit)\n",
        "\n",
        "\n",
        "# model.fit(X_train, y_train, epochs=10) #> basic version\n",
        "\n",
        "\n",
        "hist = model.fit(X_train, y_train, epochs=100, validation_data=(X_test, y_test), verbose=2)\n",
        "# normal practice is to save to hist object and add validation metrics\n",
        "# Bumped up epochs and parameters, notice it starts overfitting at a certain point"
      ],
      "execution_count": 56,
      "outputs": [
        {
          "output_type": "stream",
          "text": [
            "Epoch 1/100\n",
            "1875/1875 - 3s - loss: 0.3003 - accuracy: 0.9135 - val_loss: 0.1634 - val_accuracy: 0.9516\n",
            "Epoch 2/100\n",
            "1875/1875 - 3s - loss: 0.1439 - accuracy: 0.9569 - val_loss: 0.1325 - val_accuracy: 0.9591\n",
            "Epoch 3/100\n",
            "1875/1875 - 3s - loss: 0.1050 - accuracy: 0.9682 - val_loss: 0.1114 - val_accuracy: 0.9669\n",
            "Epoch 4/100\n",
            "1875/1875 - 3s - loss: 0.0836 - accuracy: 0.9737 - val_loss: 0.1080 - val_accuracy: 0.9680\n",
            "Epoch 5/100\n",
            "1875/1875 - 3s - loss: 0.0682 - accuracy: 0.9786 - val_loss: 0.0896 - val_accuracy: 0.9750\n",
            "Epoch 6/100\n",
            "1875/1875 - 3s - loss: 0.0578 - accuracy: 0.9815 - val_loss: 0.0860 - val_accuracy: 0.9740\n",
            "Epoch 7/100\n",
            "1875/1875 - 3s - loss: 0.0501 - accuracy: 0.9842 - val_loss: 0.0945 - val_accuracy: 0.9734\n",
            "Epoch 8/100\n",
            "1875/1875 - 3s - loss: 0.0421 - accuracy: 0.9868 - val_loss: 0.0878 - val_accuracy: 0.9752\n",
            "Epoch 9/100\n",
            "1875/1875 - 3s - loss: 0.0386 - accuracy: 0.9872 - val_loss: 0.0950 - val_accuracy: 0.9740\n",
            "Epoch 10/100\n",
            "1875/1875 - 3s - loss: 0.0343 - accuracy: 0.9886 - val_loss: 0.1041 - val_accuracy: 0.9734\n",
            "Epoch 11/100\n",
            "1875/1875 - 3s - loss: 0.0290 - accuracy: 0.9906 - val_loss: 0.1067 - val_accuracy: 0.9730\n",
            "Epoch 12/100\n",
            "1875/1875 - 3s - loss: 0.0269 - accuracy: 0.9912 - val_loss: 0.1173 - val_accuracy: 0.9717\n",
            "Epoch 13/100\n",
            "1875/1875 - 4s - loss: 0.0254 - accuracy: 0.9917 - val_loss: 0.1083 - val_accuracy: 0.9745\n",
            "Epoch 14/100\n",
            "1875/1875 - 5s - loss: 0.0218 - accuracy: 0.9923 - val_loss: 0.1216 - val_accuracy: 0.9749\n",
            "Epoch 15/100\n",
            "1875/1875 - 4s - loss: 0.0208 - accuracy: 0.9928 - val_loss: 0.1167 - val_accuracy: 0.9741\n",
            "Epoch 16/100\n",
            "1875/1875 - 3s - loss: 0.0188 - accuracy: 0.9937 - val_loss: 0.1279 - val_accuracy: 0.9706\n",
            "Epoch 17/100\n",
            "1875/1875 - 3s - loss: 0.0164 - accuracy: 0.9940 - val_loss: 0.1158 - val_accuracy: 0.9765\n",
            "Epoch 18/100\n",
            "1875/1875 - 3s - loss: 0.0171 - accuracy: 0.9943 - val_loss: 0.1222 - val_accuracy: 0.9756\n",
            "Epoch 19/100\n",
            "1875/1875 - 3s - loss: 0.0162 - accuracy: 0.9942 - val_loss: 0.1203 - val_accuracy: 0.9765\n",
            "Epoch 20/100\n",
            "1875/1875 - 3s - loss: 0.0126 - accuracy: 0.9957 - val_loss: 0.1271 - val_accuracy: 0.9757\n",
            "Epoch 21/100\n",
            "1875/1875 - 3s - loss: 0.0136 - accuracy: 0.9955 - val_loss: 0.1394 - val_accuracy: 0.9740\n",
            "Epoch 22/100\n",
            "1875/1875 - 3s - loss: 0.0125 - accuracy: 0.9956 - val_loss: 0.1608 - val_accuracy: 0.9719\n",
            "Epoch 23/100\n",
            "1875/1875 - 3s - loss: 0.0140 - accuracy: 0.9955 - val_loss: 0.1430 - val_accuracy: 0.9738\n",
            "Epoch 24/100\n",
            "1875/1875 - 3s - loss: 0.0127 - accuracy: 0.9956 - val_loss: 0.1552 - val_accuracy: 0.9734\n",
            "Epoch 25/100\n",
            "1875/1875 - 3s - loss: 0.0116 - accuracy: 0.9960 - val_loss: 0.1496 - val_accuracy: 0.9758\n",
            "Epoch 26/100\n",
            "1875/1875 - 3s - loss: 0.0130 - accuracy: 0.9957 - val_loss: 0.1500 - val_accuracy: 0.9734\n",
            "Epoch 27/100\n",
            "1875/1875 - 3s - loss: 0.0100 - accuracy: 0.9966 - val_loss: 0.1599 - val_accuracy: 0.9734\n",
            "Epoch 28/100\n",
            "1875/1875 - 3s - loss: 0.0096 - accuracy: 0.9971 - val_loss: 0.1631 - val_accuracy: 0.9757\n",
            "Epoch 29/100\n",
            "1875/1875 - 3s - loss: 0.0104 - accuracy: 0.9966 - val_loss: 0.1490 - val_accuracy: 0.9762\n",
            "Epoch 30/100\n",
            "1875/1875 - 3s - loss: 0.0091 - accuracy: 0.9966 - val_loss: 0.1676 - val_accuracy: 0.9740\n",
            "Epoch 31/100\n",
            "1875/1875 - 3s - loss: 0.0120 - accuracy: 0.9963 - val_loss: 0.1559 - val_accuracy: 0.9767\n",
            "Epoch 32/100\n",
            "1875/1875 - 3s - loss: 0.0078 - accuracy: 0.9973 - val_loss: 0.1776 - val_accuracy: 0.9734\n",
            "Epoch 33/100\n",
            "1875/1875 - 3s - loss: 0.0097 - accuracy: 0.9966 - val_loss: 0.1826 - val_accuracy: 0.9735\n",
            "Epoch 34/100\n",
            "1875/1875 - 3s - loss: 0.0091 - accuracy: 0.9970 - val_loss: 0.1695 - val_accuracy: 0.9767\n",
            "Epoch 35/100\n",
            "1875/1875 - 3s - loss: 0.0092 - accuracy: 0.9969 - val_loss: 0.1851 - val_accuracy: 0.9747\n",
            "Epoch 36/100\n",
            "1875/1875 - 3s - loss: 0.0088 - accuracy: 0.9974 - val_loss: 0.1939 - val_accuracy: 0.9740\n",
            "Epoch 37/100\n",
            "1875/1875 - 3s - loss: 0.0090 - accuracy: 0.9973 - val_loss: 0.1765 - val_accuracy: 0.9733\n",
            "Epoch 38/100\n",
            "1875/1875 - 3s - loss: 0.0098 - accuracy: 0.9966 - val_loss: 0.1745 - val_accuracy: 0.9731\n",
            "Epoch 39/100\n",
            "1875/1875 - 3s - loss: 0.0083 - accuracy: 0.9975 - val_loss: 0.1967 - val_accuracy: 0.9740\n",
            "Epoch 40/100\n",
            "1875/1875 - 3s - loss: 0.0090 - accuracy: 0.9972 - val_loss: 0.1805 - val_accuracy: 0.9740\n",
            "Epoch 41/100\n",
            "1875/1875 - 4s - loss: 0.0081 - accuracy: 0.9974 - val_loss: 0.1746 - val_accuracy: 0.9748\n",
            "Epoch 42/100\n",
            "1875/1875 - 3s - loss: 0.0097 - accuracy: 0.9973 - val_loss: 0.1825 - val_accuracy: 0.9750\n",
            "Epoch 43/100\n",
            "1875/1875 - 3s - loss: 0.0094 - accuracy: 0.9969 - val_loss: 0.1899 - val_accuracy: 0.9742\n",
            "Epoch 44/100\n",
            "1875/1875 - 3s - loss: 0.0081 - accuracy: 0.9972 - val_loss: 0.2102 - val_accuracy: 0.9711\n",
            "Epoch 45/100\n",
            "1875/1875 - 3s - loss: 0.0058 - accuracy: 0.9981 - val_loss: 0.1962 - val_accuracy: 0.9764\n",
            "Epoch 46/100\n",
            "1875/1875 - 3s - loss: 0.0093 - accuracy: 0.9970 - val_loss: 0.1981 - val_accuracy: 0.9745\n",
            "Epoch 47/100\n",
            "1875/1875 - 3s - loss: 0.0058 - accuracy: 0.9981 - val_loss: 0.2072 - val_accuracy: 0.9739\n",
            "Epoch 48/100\n",
            "1875/1875 - 3s - loss: 0.0076 - accuracy: 0.9975 - val_loss: 0.2061 - val_accuracy: 0.9742\n",
            "Epoch 49/100\n",
            "1875/1875 - 3s - loss: 0.0076 - accuracy: 0.9974 - val_loss: 0.2164 - val_accuracy: 0.9760\n",
            "Epoch 50/100\n",
            "1875/1875 - 3s - loss: 0.0090 - accuracy: 0.9976 - val_loss: 0.2013 - val_accuracy: 0.9753\n",
            "Epoch 51/100\n",
            "1875/1875 - 3s - loss: 0.0077 - accuracy: 0.9976 - val_loss: 0.2061 - val_accuracy: 0.9749\n",
            "Epoch 52/100\n",
            "1875/1875 - 3s - loss: 0.0062 - accuracy: 0.9980 - val_loss: 0.2165 - val_accuracy: 0.9737\n",
            "Epoch 53/100\n",
            "1875/1875 - 3s - loss: 0.0064 - accuracy: 0.9980 - val_loss: 0.2239 - val_accuracy: 0.9711\n",
            "Epoch 54/100\n",
            "1875/1875 - 3s - loss: 0.0073 - accuracy: 0.9979 - val_loss: 0.2405 - val_accuracy: 0.9744\n",
            "Epoch 55/100\n",
            "1875/1875 - 3s - loss: 0.0062 - accuracy: 0.9979 - val_loss: 0.2142 - val_accuracy: 0.9757\n",
            "Epoch 56/100\n",
            "1875/1875 - 3s - loss: 0.0071 - accuracy: 0.9976 - val_loss: 0.2268 - val_accuracy: 0.9751\n",
            "Epoch 57/100\n",
            "1875/1875 - 3s - loss: 0.0079 - accuracy: 0.9978 - val_loss: 0.2680 - val_accuracy: 0.9722\n",
            "Epoch 58/100\n",
            "1875/1875 - 3s - loss: 0.0091 - accuracy: 0.9975 - val_loss: 0.2160 - val_accuracy: 0.9752\n",
            "Epoch 59/100\n",
            "1875/1875 - 3s - loss: 0.0070 - accuracy: 0.9978 - val_loss: 0.2227 - val_accuracy: 0.9748\n",
            "Epoch 60/100\n",
            "1875/1875 - 3s - loss: 0.0072 - accuracy: 0.9979 - val_loss: 0.2245 - val_accuracy: 0.9741\n",
            "Epoch 61/100\n",
            "1875/1875 - 3s - loss: 0.0069 - accuracy: 0.9980 - val_loss: 0.2522 - val_accuracy: 0.9719\n",
            "Epoch 62/100\n",
            "1875/1875 - 3s - loss: 0.0056 - accuracy: 0.9982 - val_loss: 0.2347 - val_accuracy: 0.9755\n",
            "Epoch 63/100\n",
            "1875/1875 - 3s - loss: 0.0073 - accuracy: 0.9977 - val_loss: 0.2518 - val_accuracy: 0.9721\n",
            "Epoch 64/100\n",
            "1875/1875 - 3s - loss: 0.0076 - accuracy: 0.9979 - val_loss: 0.2282 - val_accuracy: 0.9748\n",
            "Epoch 65/100\n",
            "1875/1875 - 3s - loss: 0.0045 - accuracy: 0.9985 - val_loss: 0.2491 - val_accuracy: 0.9743\n",
            "Epoch 66/100\n",
            "1875/1875 - 3s - loss: 0.0079 - accuracy: 0.9977 - val_loss: 0.2465 - val_accuracy: 0.9738\n",
            "Epoch 67/100\n",
            "1875/1875 - 3s - loss: 0.0075 - accuracy: 0.9978 - val_loss: 0.2622 - val_accuracy: 0.9737\n",
            "Epoch 68/100\n",
            "1875/1875 - 3s - loss: 0.0065 - accuracy: 0.9982 - val_loss: 0.2697 - val_accuracy: 0.9743\n",
            "Epoch 69/100\n",
            "1875/1875 - 3s - loss: 0.0043 - accuracy: 0.9987 - val_loss: 0.2396 - val_accuracy: 0.9764\n",
            "Epoch 70/100\n",
            "1875/1875 - 3s - loss: 0.0077 - accuracy: 0.9977 - val_loss: 0.2567 - val_accuracy: 0.9736\n",
            "Epoch 71/100\n",
            "1875/1875 - 3s - loss: 0.0055 - accuracy: 0.9983 - val_loss: 0.2574 - val_accuracy: 0.9746\n",
            "Epoch 72/100\n",
            "1875/1875 - 3s - loss: 0.0067 - accuracy: 0.9981 - val_loss: 0.2471 - val_accuracy: 0.9761\n",
            "Epoch 73/100\n",
            "1875/1875 - 3s - loss: 0.0064 - accuracy: 0.9983 - val_loss: 0.2605 - val_accuracy: 0.9748\n",
            "Epoch 74/100\n",
            "1875/1875 - 3s - loss: 0.0056 - accuracy: 0.9986 - val_loss: 0.2579 - val_accuracy: 0.9750\n",
            "Epoch 75/100\n",
            "1875/1875 - 3s - loss: 0.0074 - accuracy: 0.9979 - val_loss: 0.3021 - val_accuracy: 0.9719\n",
            "Epoch 76/100\n",
            "1875/1875 - 3s - loss: 0.0062 - accuracy: 0.9982 - val_loss: 0.2660 - val_accuracy: 0.9746\n",
            "Epoch 77/100\n",
            "1875/1875 - 3s - loss: 0.0051 - accuracy: 0.9986 - val_loss: 0.3002 - val_accuracy: 0.9743\n",
            "Epoch 78/100\n",
            "1875/1875 - 3s - loss: 0.0059 - accuracy: 0.9984 - val_loss: 0.2683 - val_accuracy: 0.9762\n",
            "Epoch 79/100\n",
            "1875/1875 - 3s - loss: 0.0078 - accuracy: 0.9980 - val_loss: 0.2695 - val_accuracy: 0.9744\n",
            "Epoch 80/100\n",
            "1875/1875 - 3s - loss: 0.0065 - accuracy: 0.9980 - val_loss: 0.3249 - val_accuracy: 0.9718\n",
            "Epoch 81/100\n",
            "1875/1875 - 3s - loss: 0.0063 - accuracy: 0.9981 - val_loss: 0.2734 - val_accuracy: 0.9751\n",
            "Epoch 82/100\n",
            "1875/1875 - 3s - loss: 0.0061 - accuracy: 0.9982 - val_loss: 0.2848 - val_accuracy: 0.9740\n",
            "Epoch 83/100\n",
            "1875/1875 - 3s - loss: 0.0037 - accuracy: 0.9990 - val_loss: 0.2974 - val_accuracy: 0.9742\n",
            "Epoch 84/100\n",
            "1875/1875 - 3s - loss: 0.0087 - accuracy: 0.9979 - val_loss: 0.3094 - val_accuracy: 0.9732\n",
            "Epoch 85/100\n",
            "1875/1875 - 3s - loss: 0.0055 - accuracy: 0.9983 - val_loss: 0.2924 - val_accuracy: 0.9753\n",
            "Epoch 86/100\n",
            "1875/1875 - 3s - loss: 0.0055 - accuracy: 0.9983 - val_loss: 0.2735 - val_accuracy: 0.9752\n",
            "Epoch 87/100\n",
            "1875/1875 - 4s - loss: 0.0073 - accuracy: 0.9982 - val_loss: 0.2792 - val_accuracy: 0.9758\n",
            "Epoch 88/100\n",
            "1875/1875 - 4s - loss: 0.0061 - accuracy: 0.9983 - val_loss: 0.2519 - val_accuracy: 0.9764\n",
            "Epoch 89/100\n",
            "1875/1875 - 4s - loss: 0.0071 - accuracy: 0.9981 - val_loss: 0.2869 - val_accuracy: 0.9750\n",
            "Epoch 90/100\n",
            "1875/1875 - 3s - loss: 0.0054 - accuracy: 0.9988 - val_loss: 0.2802 - val_accuracy: 0.9752\n",
            "Epoch 91/100\n",
            "1875/1875 - 3s - loss: 0.0038 - accuracy: 0.9988 - val_loss: 0.3077 - val_accuracy: 0.9748\n",
            "Epoch 92/100\n",
            "1875/1875 - 3s - loss: 0.0064 - accuracy: 0.9981 - val_loss: 0.3050 - val_accuracy: 0.9732\n",
            "Epoch 93/100\n",
            "1875/1875 - 3s - loss: 0.0062 - accuracy: 0.9984 - val_loss: 0.3014 - val_accuracy: 0.9745\n",
            "Epoch 94/100\n",
            "1875/1875 - 3s - loss: 0.0062 - accuracy: 0.9984 - val_loss: 0.3035 - val_accuracy: 0.9749\n",
            "Epoch 95/100\n",
            "1875/1875 - 3s - loss: 0.0043 - accuracy: 0.9988 - val_loss: 0.3289 - val_accuracy: 0.9729\n",
            "Epoch 96/100\n",
            "1875/1875 - 3s - loss: 0.0090 - accuracy: 0.9980 - val_loss: 0.3564 - val_accuracy: 0.9726\n",
            "Epoch 97/100\n",
            "1875/1875 - 3s - loss: 0.0053 - accuracy: 0.9985 - val_loss: 0.3314 - val_accuracy: 0.9723\n",
            "Epoch 98/100\n",
            "1875/1875 - 3s - loss: 0.0050 - accuracy: 0.9985 - val_loss: 0.3182 - val_accuracy: 0.9762\n",
            "Epoch 99/100\n",
            "1875/1875 - 3s - loss: 0.0056 - accuracy: 0.9985 - val_loss: 0.3262 - val_accuracy: 0.9736\n",
            "Epoch 100/100\n",
            "1875/1875 - 3s - loss: 0.0079 - accuracy: 0.9980 - val_loss: 0.3450 - val_accuracy: 0.9720\n"
          ],
          "name": "stdout"
        }
      ]
    },
    {
      "cell_type": "code",
      "metadata": {
        "id": "3VZH5bdOJlH6",
        "colab_type": "code",
        "colab": {
          "base_uri": "https://localhost:8080/",
          "height": 276
        },
        "outputId": "552a83a4-0843-44ee-83ab-065d6beb826b"
      },
      "source": [
        "training_loss = hist.history['loss']\n",
        "test_loss = hist.history['val_loss']\n",
        "\n",
        "epoch_count = range(1, len(training_loss) + 1)\n",
        "\n",
        "plt.plot(epoch_count, training_loss, 'r--')\n",
        "plt.plot(epoch_count, test_loss, 'b-')\n",
        "plt.legend(['Training Loss', 'Test Loss'])\n",
        "plt.xlabel('Epoch')\n",
        "plt.ylabel('Loss')\n",
        "plt.show();"
      ],
      "execution_count": 57,
      "outputs": [
        {
          "output_type": "display_data",
          "data": {
            "image/png": "[encoded data removed]",
            "text/plain": [
              "<Figure size 432x288 with 1 Axes>"
            ]
          },
          "metadata": {
            "tags": []
          }
        }
      ]
    },
    {
      "cell_type": "code",
      "metadata": {
        "id": "qjVXOCZnKF0E",
        "colab_type": "code",
        "colab": {
          "base_uri": "https://localhost:8080/",
          "height": 276
        },
        "outputId": "f6fc17e5-d97b-420b-a162-ce65fbeb92ec"
      },
      "source": [
        "training_loss = hist.history['accuracy']\n",
        "test_loss = hist.history['val_accuracy']\n",
        "\n",
        "epoch_count = range(1, len(training_loss) + 1)\n",
        "\n",
        "plt.plot(epoch_count, training_loss, 'r--')\n",
        "plt.plot(epoch_count, test_loss, 'b-')\n",
        "plt.legend(['Training Accuracy', 'Test Accuracy'])\n",
        "plt.xlabel('Epoch')\n",
        "plt.ylabel('Accuracy')\n",
        "plt.show();"
      ],
      "execution_count": 58,
      "outputs": [
        {
          "output_type": "display_data",
          "data": {
            "image/png": "[encoded data removed]",
            "text/plain": [
              "<Figure size 432x288 with 1 Axes>"
            ]
          },
          "metadata": {
            "tags": []
          }
        }
      ]
    },
    {
      "cell_type": "markdown",
      "metadata": {
        "id": "ORKrmjy4y-m5",
        "colab_type": "text"
      },
      "source": [
        "### Evaluate Model"
      ]
    },
    {
      "cell_type": "code",
      "metadata": {
        "id": "1aVlxr42y-m5",
        "colab_type": "code",
        "outputId": "87d8c93b-ddff-4ecb-de0a-0eb6e60e9678",
        "colab": {
          "base_uri": "https://localhost:8080/",
          "height": 119
        }
      },
      "source": [
        "scores = model.evaluate(X_test,y_test)\n",
        "print(\"\\n\")\n",
        "print(\"Validation Data Metrics:\")\n",
        "print(f\"{model.metrics_names[0]}: {scores[0]}\")\n",
        "print(f\"{model.metrics_names[1]}: {scores[1]*100}\")"
      ],
      "execution_count": 46,
      "outputs": [
        {
          "output_type": "stream",
          "text": [
            "313/313 [==============================] - 0s 1ms/step - loss: 0.2760 - accuracy: 0.9260\n",
            "\n",
            "\n",
            "Validation Data Metrics:\n",
            "loss: 0.27603965997695923\n",
            "accuracy: 92.59999990463257\n"
          ],
          "name": "stdout"
        }
      ]
    },
    {
      "cell_type": "markdown",
      "metadata": {
        "colab_type": "text",
        "id": "zHYB7k9q3O8T"
      },
      "source": [
        "### Unstable Results\n",
        "\n",
        "You'll notice that if we rerun the results might differ from the origin run. This can be explain by a bunch of factors. Check out some of them in this article: \n",
        "\n",
        "<https://machinelearningmastery.com/randomness-in-machine-learning/>"
      ]
    },
    {
      "cell_type": "markdown",
      "metadata": {
        "id": "F_iSVY5Sy-m7",
        "colab_type": "text"
      },
      "source": [
        "## Challenge\n",
        "\n",
        "You will be expected to leverage the Keras `Sequential` api to estimate a feed forward neural networks on a dataset.\n",
        "\n",
        "---"
      ]
    }
  ]
}