{
  "nbformat": 4,
  "nbformat_minor": 0,
  "metadata": {
    "colab": {
      "name": "4_2_2_A_Copy of LS_DS_432_Backprop_Assignment.ipynb",
      "provenance": [],
      "collapsed_sections": []
    },
    "kernelspec": {
      "display_name": "Python 3",
      "language": "python",
      "name": "python3"
    },
    "language_info": {
      "codemirror_mode": {
        "name": "ipython",
        "version": 3
      },
      "file_extension": ".py",
      "mimetype": "text/x-python",
      "name": "python",
      "nbconvert_exporter": "python",
      "pygments_lexer": "ipython3",
      "version": "3.7.3"
    },
    "nteract": {
      "version": "0.22.4"
    }
  },
  "cells": [
    {
      "cell_type": "markdown",
      "metadata": {
        "colab_type": "text",
        "id": "NGGrt9EYlCqY"
      },
      "source": [
        "<img align=\"left\" src=\"https://lever-client-logos.s3.amazonaws.com/864372b1-534c-480e-acd5-9711f850815c-1524247202159.png\" width=200>\n",
        "<br></br>\n",
        "\n",
        "# Backpropagation Practice\n",
        "\n",
        "## *Data Science Unit 4 Sprint 2 Assignment 2*\n",
        "\n",
        "Using TensorFlow Keras, Implement a 3 input, 4 node hidden-layer, 1 output node Multilayer Perceptron on the following dataset:\n",
        "\n",
        "| x1 | x2 | x3 | y |\n",
        "|----|----|----|---|\n",
        "| 0  | 0  | 1  | 0 |\n",
        "| 0  | 1  | 1  | 1 |\n",
        "| 1  | 0  | 1  | 1 |\n",
        "| 0  | 1  | 0  | 1 |\n",
        "| 1  | 0  | 0  | 1 |\n",
        "| 1  | 1  | 1  | 0 |\n",
        "| 0  | 0  | 0  | 0 |\n",
        "\n",
        "If you look at the data you'll notice that the first two columns behave like an XOR gate while the last column is mostly just noise. Remember that creating an XOR gate was what the perceptron was criticized for not being able to learn.\n",
        "\n",
        "This is your \"Hello World!\" of TensorFlow.\n",
        "\n",
        "### Example TensorFlow Starter Code\n",
        "\n",
        "```python \n",
        "from tensorflow.keras.models import Sequential\n",
        "from tensorflow.keras.layers import Dense\n",
        "\n",
        "model = Sequential([\n",
        "    Dense(3, activation='sigmoid', input_dim=2),\n",
        "    Dense(1, activation='sigmoid')\n",
        "])\n",
        "\n",
        "model.compile(optimizer='sgd', loss='binary_crossentropy', metrics=['acc'])\n",
        "\n",
        "results = model.fit(X,y, epochs=100)\n",
        "\n",
        "```\n",
        "\n",
        "### Additional Written Tasks:\n",
        "1. Investigate the various [loss functions](https://www.tensorflow.org/api_docs/python/tf/keras/losses). Which is best suited for the task at hand (predicting 1 / 0) and why? \n",
        "  - *Binary cross-entropy would be best suited for this task as its inteded use is for binary classifcation problems for data labeled as 0 or 1. The other loss functions that are used for classification (like hinge for example) are more suited for either binary classifications with sets of 1, -1 or for multi-class problems.*\n",
        "2. What is the difference between a loss function and a metric? Why might we need both in Keras? \n",
        "  - *A loss function is used for comparing a model's error with what the correct output would have been, whereas a metric might just be the error score itself. Keras would use both because the ultimate goal in the training process is to reduce error as much as possible, or until a certain stopping point is reached, so a loss function is critical. The metric though could be useful for investingating those results in a more human-readable way.*\n",
        "3. Investigate the various [optimizers](https://www.tensorflow.org/api_docs/python/tf/keras/optimizers). Stochastic Gradient Descent (`sgd`) is not the learning algorithm dejour anyone. Why is that? What do newer optimizers such as `adam` have to offer? \n",
        "  - *Computational efficiency and speed are among the main reasons other optimizers are gaining popularity over SGD. It does seem that SGD still has a lot of relevancy, but optimizers such as Adam require less memory, don't require much hyperparameter tuning, and can be more useful when working with larger datasets due to the computational efficiency.*"
      ]
    },
    {
      "cell_type": "markdown",
      "metadata": {
        "id": "HrRCsL4bfpvt",
        "colab_type": "text"
      },
      "source": [
        "### Using TensorFlow Keras, Implement a 3 input, 4 node hidden-layer, 1 output node Multilayer Perceptron on the following dataset:"
      ]
    },
    {
      "cell_type": "code",
      "metadata": {
        "colab_type": "code",
        "id": "nEREYT-3wI1f",
        "colab": {}
      },
      "source": [
        "##### Your Code Here #####\n",
        "import pandas as pd\n",
        "import numpy as np\n",
        "\n",
        "# Define dataset\n",
        "data = {\n",
        "    'x1': [0,0,1,0,1,1,0],\n",
        "    'x2': [0,1,0,1,0,1,0],\n",
        "    'x3': [1,1,1,0,0,1,0],\n",
        "    'y':  [0,1,1,1,1,0,0]\n",
        "}\n",
        "\n",
        "df = pd.DataFrame.from_dict(data).astype('int')\n",
        "X = df[['x1', 'x2', 'x3']].values\n",
        "y = df['y'].values"
      ],
      "execution_count": 0,
      "outputs": []
    },
    {
      "cell_type": "code",
      "metadata": {
        "id": "byQciHOoNmEN",
        "colab_type": "code",
        "colab": {
          "base_uri": "https://localhost:8080/",
          "height": 204
        },
        "outputId": "99e9b07b-94ee-42f9-cbef-5b089a9c59d2"
      },
      "source": [
        "from tensorflow.keras.models import Sequential\n",
        "from tensorflow.keras.layers import Dense\n",
        "\n",
        "# Create tensorflow keras model\n",
        "\n",
        "## example code\n",
        "# model = Sequential()\n",
        "\n",
        "## Defines input layer and first hidden layer (12 nodes in hidden layer)\n",
        "# model.add(Dense(12, input_dim=8, activation='relu'))\n",
        "\n",
        "## Defines 2nd hidden layer with 8 nodes\n",
        "# model.add(Dense(8, activation='relu'))\n",
        "\n",
        "## Defines output layer with 1 output\n",
        "# model.add(Dense(1, activation='sigmoid'))\n",
        "\n",
        "\n",
        "model = Sequential()\n",
        "model.add(Dense(4, input_dim=3, activation='relu'))\n",
        "model.add(Dense(1, activation='sigmoid'))\n",
        "model.compile(loss='binary_crossentropy', optimizer='adam', metrics=['accuracy'])\n",
        "model.fit(X,y, epochs=5)\n"
      ],
      "execution_count": 43,
      "outputs": [
        {
          "output_type": "stream",
          "text": [
            "Epoch 1/5\n",
            "1/1 [==============================] - 0s 1ms/step - loss: 0.6655 - accuracy: 0.7143\n",
            "Epoch 2/5\n",
            "1/1 [==============================] - 0s 2ms/step - loss: 0.6649 - accuracy: 0.5714\n",
            "Epoch 3/5\n",
            "1/1 [==============================] - 0s 2ms/step - loss: 0.6642 - accuracy: 0.5714\n",
            "Epoch 4/5\n",
            "1/1 [==============================] - 0s 2ms/step - loss: 0.6636 - accuracy: 0.5714\n",
            "Epoch 5/5\n",
            "1/1 [==============================] - 0s 2ms/step - loss: 0.6630 - accuracy: 0.5714\n"
          ],
          "name": "stdout"
        },
        {
          "output_type": "execute_result",
          "data": {
            "text/plain": [
              "<tensorflow.python.keras.callbacks.History at 0x7fdc501de1d0>"
            ]
          },
          "metadata": {
            "tags": []
          },
          "execution_count": 43
        }
      ]
    },
    {
      "cell_type": "markdown",
      "metadata": {
        "id": "y6i-9tpIzLof",
        "colab_type": "text"
      },
      "source": [
        "### Build a Tensor Keras Perceptron\n",
        "\n",
        "Try to match the architecture we used on Monday - inputs nodes and one output node. Apply this architecture to the XOR-ish dataset above. \n",
        "\n",
        "After fitting your model answer these questions: \n",
        "\n",
        "Are you able to achieve the same results as a bigger architecture from the first part of the assignment? Why is this disparity the case? What properties of the XOR dataset would cause this disparity? \n",
        "\n",
        "Now extrapolate this behavior on a much larger dataset in terms of features. What kind of architecture decisions could we make to avoid the problems the XOR dataset presents at scale? \n",
        "\n",
        "*Note:* The bias term is baked in by default in the Dense layer."
      ]
    },
    {
      "cell_type": "code",
      "metadata": {
        "id": "WwncmjbozLog",
        "colab_type": "code",
        "colab": {
          "base_uri": "https://localhost:8080/",
          "height": 204
        },
        "outputId": "2f2a7d4d-1502-4285-a6c0-283f4c616660"
      },
      "source": [
        "### Compare \n",
        "\n",
        "model = Sequential()\n",
        "model.add(Dense(1, input_dim=3, activation='sigmoid'))\n",
        "# model.add(Dense(1, activation='sigmoid'))\n",
        "model.compile(loss='binary_crossentropy', optimizer='adam', metrics=['accuracy'])\n",
        "model.fit(X,y, epochs=5)"
      ],
      "execution_count": 48,
      "outputs": [
        {
          "output_type": "stream",
          "text": [
            "Epoch 1/5\n",
            "1/1 [==============================] - 0s 2ms/step - loss: 0.7695 - accuracy: 0.7143\n",
            "Epoch 2/5\n",
            "1/1 [==============================] - 0s 4ms/step - loss: 0.7691 - accuracy: 0.5714\n",
            "Epoch 3/5\n",
            "1/1 [==============================] - 0s 2ms/step - loss: 0.7687 - accuracy: 0.5714\n",
            "Epoch 4/5\n",
            "1/1 [==============================] - 0s 2ms/step - loss: 0.7684 - accuracy: 0.5714\n",
            "Epoch 5/5\n",
            "1/1 [==============================] - 0s 2ms/step - loss: 0.7680 - accuracy: 0.5714\n"
          ],
          "name": "stdout"
        },
        {
          "output_type": "execute_result",
          "data": {
            "text/plain": [
              "<tensorflow.python.keras.callbacks.History at 0x7fdc4cd985c0>"
            ]
          },
          "metadata": {
            "tags": []
          },
          "execution_count": 48
        }
      ]
    },
    {
      "cell_type": "markdown",
      "metadata": {
        "id": "LK3oqvCZvJZ7",
        "colab_type": "text"
      },
      "source": [
        "### Are you able to achieve the same results as a bigger architecture from the first part of the assignment? \n",
        "  - *After running it a few times I actually did get the same result, so perhaps I misunderstood how to approach this question ...*\n",
        "\n",
        "### Why is this disparity the case? \n",
        "  - *n/a*\n",
        "\n",
        "### What properties of the XOR dataset would cause this disparity?\n",
        "  - *From what I understand, yesterday we used a NAND gate, and an XOR gate is made of 4 NAND gates, but I'm not gaining much intuition beyond that / clarity in my research*"
      ]
    },
    {
      "cell_type": "markdown",
      "metadata": {
        "colab_type": "text",
        "id": "8b-r70o8p2Dm"
      },
      "source": [
        "## Try building/training a more complex MLP on a bigger dataset.\n",
        "\n",
        "Use TensorFlow Keras & the [MNIST dataset](http://yann.lecun.com/exdb/mnist/) to build the canonical handwriting digit recognizer and see what kind of accuracy you can achieve. \n",
        "\n",
        "If you need inspiration, the Internet is chalk-full of tutorials, but I want you to see how far you can get on your own first. I've linked to the original MNIST dataset above but it will probably be easier to download data through a neural network library. If you reference outside resources make sure you understand every line of code that you're using from other sources, and share with your fellow students helpful resources that you find.\n",
        "\n",
        "\n",
        "### Parts\n",
        "1. Gathering & Transforming the Data\n",
        "2. Making MNIST a Binary Problem\n",
        "3. Estimating your Neural Network (the part you focus on)"
      ]
    },
    {
      "cell_type": "markdown",
      "metadata": {
        "id": "_0SvJlcHzLoj",
        "colab_type": "text"
      },
      "source": [
        "### Gathering the Data \n",
        "\n",
        "`keras` has a handy method to pull the mnist dataset for you. You'll notice that each observation is a 28x28 arrary which represents an image. Although most Neural Network frameworks can handle higher dimensional data, that is more overhead than necessary for us. We need to flatten the image to one long row which will be 784 values (28X28). Basically, you will be appending each row to one another to make on really long row. "
      ]
    },
    {
      "cell_type": "code",
      "metadata": {
        "id": "c0vrQIcazLoj",
        "colab_type": "code",
        "colab": {}
      },
      "source": [
        "import numpy as np\n",
        "from tensorflow.keras.datasets import mnist\n",
        "from tensorflow.keras.utils import to_categorical"
      ],
      "execution_count": 0,
      "outputs": []
    },
    {
      "cell_type": "code",
      "metadata": {
        "id": "7gX5fnBDzLom",
        "colab_type": "code",
        "colab": {}
      },
      "source": [
        "# input image dimensions\n",
        "img_rows, img_cols = 28, 28"
      ],
      "execution_count": 0,
      "outputs": []
    },
    {
      "cell_type": "code",
      "metadata": {
        "id": "D_Qt-LC3zLoo",
        "colab_type": "code",
        "colab": {
          "base_uri": "https://localhost:8080/",
          "height": 51
        },
        "outputId": "3aeb7fdd-171f-4274-e098-2abea0daf3a0"
      },
      "source": [
        "# the data, split between train and test sets\n",
        "(x_train, y_train), (x_test, y_test) = mnist.load_data()"
      ],
      "execution_count": 51,
      "outputs": [
        {
          "output_type": "stream",
          "text": [
            "Downloading data from https://storage.googleapis.com/tensorflow/tf-keras-datasets/mnist.npz\n",
            "11493376/11490434 [==============================] - 0s 0us/step\n"
          ],
          "name": "stdout"
        }
      ]
    },
    {
      "cell_type": "code",
      "metadata": {
        "id": "HDiHbBYozLor",
        "colab_type": "code",
        "colab": {}
      },
      "source": [
        "x_train = x_train.reshape(x_train.shape[0], img_rows * img_cols)\n",
        "x_test = x_test.reshape(x_test.shape[0], img_rows * img_cols)\n",
        "\n",
        "# Normalize Our Data\n",
        "x_train = x_train / 255\n",
        "x_test = x_test / 255"
      ],
      "execution_count": 0,
      "outputs": []
    },
    {
      "cell_type": "code",
      "metadata": {
        "id": "exfC5L62zLov",
        "colab_type": "code",
        "outputId": "3d691543-867a-4be9-bf42-0dfc04239b1d",
        "colab": {
          "base_uri": "https://localhost:8080/",
          "height": 34
        }
      },
      "source": [
        "# Now the data should be in a format you're more familiar with\n",
        "x_train.shape"
      ],
      "execution_count": 53,
      "outputs": [
        {
          "output_type": "execute_result",
          "data": {
            "text/plain": [
              "(60000, 784)"
            ]
          },
          "metadata": {
            "tags": []
          },
          "execution_count": 53
        }
      ]
    },
    {
      "cell_type": "markdown",
      "metadata": {
        "id": "iWjAVf56zLoy",
        "colab_type": "text"
      },
      "source": [
        "### Making MNIST a Binary Problem \n",
        "MNIST is multiclass classification problem; however we haven't covered all the necessary techniques to handle this yet. You would need to one-hot encode the target, use a different loss metric, and use softmax activations for the last layer. This is all stuff we'll cover later this week, but let us simplify the problem for now: Zero or all else."
      ]
    },
    {
      "cell_type": "code",
      "metadata": {
        "id": "Syk7FSCqzLoz",
        "colab_type": "code",
        "colab": {}
      },
      "source": [
        "import numpy as np\n",
        "\n",
        "y_temp = np.zeros(y_train.shape)\n",
        "y_temp[np.where(y_train == 0.0)[0]] = 1\n",
        "y_train = y_temp\n",
        "\n",
        "y_temp = np.zeros(y_test.shape)\n",
        "y_temp[np.where(y_test == 0.0)[0]] = 1\n",
        "y_test = y_temp"
      ],
      "execution_count": 0,
      "outputs": []
    },
    {
      "cell_type": "code",
      "metadata": {
        "id": "V0DaN7Z_zLo1",
        "colab_type": "code",
        "outputId": "6013502e-e077-4663-a9e8-2b4e2d7c4278",
        "colab": {
          "base_uri": "https://localhost:8080/",
          "height": 34
        }
      },
      "source": [
        "# A Nice Binary target for ya to work with\n",
        "y_train"
      ],
      "execution_count": 55,
      "outputs": [
        {
          "output_type": "execute_result",
          "data": {
            "text/plain": [
              "array([0., 1., 0., ..., 0., 0., 0.])"
            ]
          },
          "metadata": {
            "tags": []
          },
          "execution_count": 55
        }
      ]
    },
    {
      "cell_type": "markdown",
      "metadata": {
        "id": "9Tqz2FOyzLo3",
        "colab_type": "text"
      },
      "source": [
        "### Estimating Your `net"
      ]
    },
    {
      "cell_type": "code",
      "metadata": {
        "colab_type": "code",
        "id": "5MOPtYdk1HgA",
        "colab": {}
      },
      "source": [
        "##### Your Code Here #####\n",
        "\n",
        "np.random.seed(10)\n",
        "model = Sequential()"
      ],
      "execution_count": 0,
      "outputs": []
    },
    {
      "cell_type": "code",
      "metadata": {
        "id": "SXopzBaQz99-",
        "colab_type": "code",
        "colab": {
          "base_uri": "https://localhost:8080/",
          "height": 34
        },
        "outputId": "eb8a1763-8ec0-4495-ddf6-db73c253ea7a"
      },
      "source": [
        "x_train[0].shape"
      ],
      "execution_count": 67,
      "outputs": [
        {
          "output_type": "execute_result",
          "data": {
            "text/plain": [
              "(784,)"
            ]
          },
          "metadata": {
            "tags": []
          },
          "execution_count": 67
        }
      ]
    },
    {
      "cell_type": "code",
      "metadata": {
        "id": "CPac8VhI03rR",
        "colab_type": "code",
        "colab": {
          "base_uri": "https://localhost:8080/",
          "height": 357
        },
        "outputId": "9358c530-11f0-4ace-ea6b-87488735d67d"
      },
      "source": [
        "model = Sequential()\n",
        "for _ in range (5):\n",
        "  model.add(Dense(15, activation='relu'))\n",
        "model.add(Dense(1, activation='sigmoid'))\n",
        "# Compile model\n",
        "model.compile(loss='binary_crossentropy', optimizer='adam', metrics=['accuracy'])\n",
        "# Fit model\n",
        "hist = model.fit(x_train, y_train, epochs=10, validation_data=(x_test, y_test),\n",
        "                 verbose=2)"
      ],
      "execution_count": 77,
      "outputs": [
        {
          "output_type": "stream",
          "text": [
            "Epoch 1/10\n",
            "1875/1875 - 3s - loss: 0.0401 - accuracy: 0.9874 - val_loss: 0.0164 - val_accuracy: 0.9950\n",
            "Epoch 2/10\n",
            "1875/1875 - 3s - loss: 0.0172 - accuracy: 0.9948 - val_loss: 0.0122 - val_accuracy: 0.9964\n",
            "Epoch 3/10\n",
            "1875/1875 - 3s - loss: 0.0129 - accuracy: 0.9961 - val_loss: 0.0156 - val_accuracy: 0.9954\n",
            "Epoch 4/10\n",
            "1875/1875 - 3s - loss: 0.0112 - accuracy: 0.9965 - val_loss: 0.0146 - val_accuracy: 0.9958\n",
            "Epoch 5/10\n",
            "1875/1875 - 3s - loss: 0.0100 - accuracy: 0.9968 - val_loss: 0.0118 - val_accuracy: 0.9968\n",
            "Epoch 6/10\n",
            "1875/1875 - 3s - loss: 0.0078 - accuracy: 0.9973 - val_loss: 0.0152 - val_accuracy: 0.9964\n",
            "Epoch 7/10\n",
            "1875/1875 - 3s - loss: 0.0077 - accuracy: 0.9974 - val_loss: 0.0128 - val_accuracy: 0.9970\n",
            "Epoch 8/10\n",
            "1875/1875 - 3s - loss: 0.0065 - accuracy: 0.9977 - val_loss: 0.0154 - val_accuracy: 0.9964\n",
            "Epoch 9/10\n",
            "1875/1875 - 3s - loss: 0.0056 - accuracy: 0.9981 - val_loss: 0.0131 - val_accuracy: 0.9969\n",
            "Epoch 10/10\n",
            "1875/1875 - 3s - loss: 0.0060 - accuracy: 0.9979 - val_loss: 0.0118 - val_accuracy: 0.9973\n"
          ],
          "name": "stdout"
        }
      ]
    },
    {
      "cell_type": "code",
      "metadata": {
        "id": "F4eUShRZ1ipa",
        "colab_type": "code",
        "colab": {
          "base_uri": "https://localhost:8080/",
          "height": 357
        },
        "outputId": "ad237e8c-cb96-44f4-a82d-acf2d75be36d"
      },
      "source": [
        "model.summary()"
      ],
      "execution_count": 78,
      "outputs": [
        {
          "output_type": "stream",
          "text": [
            "Model: \"sequential_37\"\n",
            "_________________________________________________________________\n",
            "Layer (type)                 Output Shape              Param #   \n",
            "=================================================================\n",
            "dense_78 (Dense)             multiple                  11775     \n",
            "_________________________________________________________________\n",
            "dense_79 (Dense)             multiple                  240       \n",
            "_________________________________________________________________\n",
            "dense_80 (Dense)             multiple                  240       \n",
            "_________________________________________________________________\n",
            "dense_81 (Dense)             multiple                  240       \n",
            "_________________________________________________________________\n",
            "dense_82 (Dense)             multiple                  240       \n",
            "_________________________________________________________________\n",
            "dense_83 (Dense)             multiple                  16        \n",
            "=================================================================\n",
            "Total params: 12,751\n",
            "Trainable params: 12,751\n",
            "Non-trainable params: 0\n",
            "_________________________________________________________________\n"
          ],
          "name": "stdout"
        }
      ]
    },
    {
      "cell_type": "code",
      "metadata": {
        "id": "c8QydgHv25NS",
        "colab_type": "code",
        "colab": {
          "base_uri": "https://localhost:8080/",
          "height": 279
        },
        "outputId": "752598c8-faed-4d14-9b55-7fa2501f1b8d"
      },
      "source": [
        "### Evaluate\n",
        "\n",
        "train_loss = hist.history['loss']\n",
        "test_loss = hist.history['val_loss']\n",
        "\n",
        "epoch_count = range(1, len(train_loss) + 1)\n",
        "\n",
        "plt.plot(epoch_count, train_loss, 'g--')\n",
        "plt.plot(epoch_count, test_loss, 'r-')\n",
        "plt.legend(['Train Loss', 'Test Loss'])\n",
        "plt.xlabel('Epoch')\n",
        "plt.ylabel('Loss')\n",
        "\n",
        "plt.show();"
      ],
      "execution_count": 96,
      "outputs": [
        {
          "output_type": "display_data",
          "data": {
            "image/png": "[encoded data removed]",
            "text/plain": [
              "<Figure size 432x288 with 1 Axes>"
            ]
          },
          "metadata": {
            "tags": [],
            "needs_background": "light"
          }
        }
      ]
    },
    {
      "cell_type": "code",
      "metadata": {
        "id": "aYmEpK-Z4coj",
        "colab_type": "code",
        "colab": {
          "base_uri": "https://localhost:8080/",
          "height": 279
        },
        "outputId": "1c5d05aa-9fc5-451e-f071-3698ff1a12c7"
      },
      "source": [
        "train_loss = hist.history['accuracy']\n",
        "test_loss = hist.history['val_accuracy']\n",
        "\n",
        "epoch_count = range(1, len(train_loss) + 1)\n",
        "\n",
        "plt.plot(epoch_count, train_loss, 'g--')\n",
        "plt.plot(epoch_count, test_loss, 'r-')\n",
        "plt.legend(['Train Accuracy', 'Test Accuracy'])\n",
        "plt.xlabel('Epoch')\n",
        "plt.ylabel('Accuracy')\n",
        "\n",
        "plt.show();"
      ],
      "execution_count": 97,
      "outputs": [
        {
          "output_type": "display_data",
          "data": {
            "image/png": "[encoded data removed]",
            "text/plain": [
              "<Figure size 432x288 with 1 Axes>"
            ]
          },
          "metadata": {
            "tags": [],
            "needs_background": "light"
          }
        }
      ]
    },
    {
      "cell_type": "code",
      "metadata": {
        "id": "dFnhoaB44qNd",
        "colab_type": "code",
        "colab": {
          "base_uri": "https://localhost:8080/",
          "height": 119
        },
        "outputId": "f097f2b8-c12b-4389-c0e6-b3058eed4f3f"
      },
      "source": [
        "scores = model.evaluate(x_test, y_test)\n",
        "print(\"-----\"*10)\n",
        "print(\"-----\"*10)\n",
        "print(\"-----\"*3 +\"Validation Data Metrics:\"+ \"-----\"*3)\n",
        "print(f\"{model.metrics_names[0]}: {scores[0]:.5f}\")\n",
        "print(f\"{model.metrics_names[1]}: {scores[1]*100:.2f}\")"
      ],
      "execution_count": 109,
      "outputs": [
        {
          "output_type": "stream",
          "text": [
            "313/313 [==============================] - 0s 1ms/step - loss: 0.0118 - accuracy: 0.9973\n",
            "--------------------------------------------------\n",
            "--------------------------------------------------\n",
            "---------------Validation Data Metrics:---------------\n",
            "loss: 0.01176\n",
            "accuracy: 99.73\n"
          ],
          "name": "stdout"
        }
      ]
    },
    {
      "cell_type": "code",
      "metadata": {
        "id": "kHXRtTd35QOG",
        "colab_type": "code",
        "colab": {
          "base_uri": "https://localhost:8080/",
          "height": 34
        },
        "outputId": "a09173d7-4d8e-4857-9eec-b579ef81cfd7"
      },
      "source": [
        "model.metrics_names"
      ],
      "execution_count": 102,
      "outputs": [
        {
          "output_type": "execute_result",
          "data": {
            "text/plain": [
              "['loss', 'accuracy']"
            ]
          },
          "metadata": {
            "tags": []
          },
          "execution_count": 102
        }
      ]
    },
    {
      "cell_type": "code",
      "metadata": {
        "id": "-n-PSw_Y56sg",
        "colab_type": "code",
        "colab": {
          "base_uri": "https://localhost:8080/",
          "height": 34
        },
        "outputId": "1070ce55-eaba-4cf8-9a23-33308754367c"
      },
      "source": [
        "scores"
      ],
      "execution_count": 110,
      "outputs": [
        {
          "output_type": "execute_result",
          "data": {
            "text/plain": [
              "[0.011757975444197655, 0.9973000288009644]"
            ]
          },
          "metadata": {
            "tags": []
          },
          "execution_count": 110
        }
      ]
    },
    {
      "cell_type": "markdown",
      "metadata": {
        "colab_type": "text",
        "id": "FwlRJSfBlCvy"
      },
      "source": [
        "## Stretch Goals: \n",
        "\n",
        "- Make MNIST a multiclass problem using cross entropy & soft-max\n",
        "- Implement Cross Validation model evaluation on your MNIST implementation \n",
        "- Research different [Gradient Descent Based Optimizers](https://keras.io/optimizers/)\n",
        " - [Siraj Raval the evolution of gradient descent](https://www.youtube.com/watch?v=nhqo0u1a6fw)\n",
        "- Build a housing price estimation model using a neural network. How does its accuracy compare with the regression models that we fit earlier on in class?"
      ]
    }
  ]
}