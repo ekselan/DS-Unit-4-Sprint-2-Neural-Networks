{
  "nbformat": 4,
  "nbformat_minor": 0,
  "metadata": {
    "kernelspec": {
      "name": "python3",
      "display_name": "Python 3"
    },
    "colab": {
      "name": "4_2_4_L_Copy of LS_DS_424_Hyperparameter_Tuning_Lecture.ipynb",
      "provenance": [],
      "collapsed_sections": []
    },
    "accelerator": "GPU"
  },
  "cells": [
    {
      "cell_type": "markdown",
      "metadata": {
        "colab_type": "text",
        "id": "41TS0Sa0rDNx"
      },
      "source": [
        "Lambda School Data Science\n",
        "\n",
        "*Unit 4, Sprint 2, Module 4*\n",
        "\n",
        "---"
      ]
    },
    {
      "cell_type": "markdown",
      "metadata": {
        "colab_type": "text",
        "id": "LY5DuNQIIS_D"
      },
      "source": [
        "# Neural Networks & GPUs (Prepare)\n",
        "*aka Hyperparameter Tuning*\n",
        "\n",
        "*aka Big Servers for Big Problems*"
      ]
    },
    {
      "cell_type": "markdown",
      "metadata": {
        "colab_type": "text",
        "id": "PfUjxtgMIS_E"
      },
      "source": [
        "## Learning Objectives\n",
        "* <a href=\"#p1\">Part 1</a>: Describe the major hyperparemeters to tune\n",
        "* <a href=\"#p2\">Part 2</a>: Implement an experiment tracking framework\n",
        "* <a href=\"#p3\">Part 3</a>: Search the hyperparameter space using RandomSearch (Optional)"
      ]
    },
    {
      "cell_type": "code",
      "metadata": {
        "id": "MbppzdRXIS_F",
        "colab_type": "code",
        "colab": {}
      },
      "source": [
        "wandb_group = \"ds8\"\n",
        "wandb_project = \"ds14_inclass\""
      ],
      "execution_count": 0,
      "outputs": []
    },
    {
      "cell_type": "markdown",
      "metadata": {
        "id": "EXIqxELAIS_J",
        "colab_type": "text"
      },
      "source": [
        "# Hyperparameter Options (Learn)\n",
        "<a id=\"p1\"></a>"
      ]
    },
    {
      "cell_type": "markdown",
      "metadata": {
        "id": "TnLmKbJOIS_K",
        "colab_type": "text"
      },
      "source": [
        "## Overview\n",
        "\n",
        "Hyperparameter tuning is much more important with neural networks than it has been with any other models that we have considered up to this point. Other supervised learning models might have a couple of parameters, but neural networks can have dozens. These can substantially affect the accuracy of our models and although it can be a time consuming process is a necessary step when working with neural networks.\n",
        "​\n",
        "Hyperparameter tuning comes with a challenge. How can we compare models specified with different hyperparameters if our model's final error metric can vary somewhat erratically? How do we avoid just getting unlucky and selecting the wrong hyperparameter? This is a problem that to a certain degree we just have to live with as we test and test again. However, we can minimize it somewhat by pairing our experiments with Cross Validation to reduce the variance of our final accuracy values."
      ]
    },
    {
      "cell_type": "markdown",
      "metadata": {
        "colab_type": "text",
        "id": "0s0o2pqBs88q"
      },
      "source": [
        "### Load Boston Housing Data"
      ]
    },
    {
      "cell_type": "code",
      "metadata": {
        "id": "9jwZ-WQhIS_L",
        "colab_type": "code",
        "colab": {
          "base_uri": "https://localhost:8080/",
          "height": 71
        },
        "outputId": "8f3fffb6-cee3-4f14-9053-69510c6c1300"
      },
      "source": [
        "from tensorflow.keras.datasets import boston_housing\n",
        "\n",
        "(x_train, y_train), (x_test, y_test) = boston_housing.load_data()"
      ],
      "execution_count": 2,
      "outputs": [
        {
          "output_type": "stream",
          "text": [
            "Downloading data from https://storage.googleapis.com/tensorflow/tf-keras-datasets/boston_housing.npz\n",
            "57344/57026 [==============================] - 0s 0us/step\n"
          ],
          "name": "stdout"
        }
      ]
    },
    {
      "cell_type": "markdown",
      "metadata": {
        "colab_type": "text",
        "id": "Pm7zow5IvaTt"
      },
      "source": [
        "### Normalizing Input Data\n",
        "\n",
        "It's not 100% necessary to normalize/scale your input data before feeding it to a neural network, the network can learn the appropriate weights to deal with data of as long as it is numerically represented,  but it is recommended as it can help **make training faster** and **reduces the chances that gradient descent might get stuck in a local optimum**.\n",
        "\n",
        "<https://stackoverflow.com/questions/4674623/why-do-we-have-to-normalize-the-input-for-an-artificial-neural-network>"
      ]
    },
    {
      "cell_type": "code",
      "metadata": {
        "id": "H39SY6ROIS_P",
        "colab_type": "code",
        "colab": {
          "base_uri": "https://localhost:8080/",
          "height": 527
        },
        "outputId": "2425ca6b-cd0a-469d-c933-d1c9a179a400"
      },
      "source": [
        "from sklearn.preprocessing import StandardScaler\n",
        "\n",
        "scaler = StandardScaler()\n",
        "\n",
        "x_train = scaler.fit_transform(x_train)\n",
        "x_test = scaler.transform(x_test)\n",
        "print(x_train[:10])"
      ],
      "execution_count": 3,
      "outputs": [
        {
          "output_type": "stream",
          "text": [
            "[[-0.27224633 -0.48361547 -0.43576161 -0.25683275 -0.1652266  -0.1764426\n",
            "   0.81306188  0.1166983  -0.62624905 -0.59517003  1.14850044  0.44807713\n",
            "   0.8252202 ]\n",
            " [-0.40342651  2.99178419 -1.33391162 -0.25683275 -1.21518188  1.89434613\n",
            "  -1.91036058  1.24758524 -0.85646254 -0.34843254 -1.71818909  0.43190599\n",
            "  -1.32920239]\n",
            " [ 0.1249402  -0.48361547  1.0283258  -0.25683275  0.62864202 -1.82968811\n",
            "   1.11048828 -1.18743907  1.67588577  1.5652875   0.78447637  0.22061726\n",
            "  -1.30850006]\n",
            " [-0.40149354 -0.48361547 -0.86940196 -0.25683275 -0.3615597  -0.3245576\n",
            "  -1.23667187  1.10717989 -0.51114231 -1.094663    0.78447637  0.44807713\n",
            "  -0.65292624]\n",
            " [-0.0056343  -0.48361547  1.0283258  -0.25683275  1.32861221  0.15364225\n",
            "   0.69480801 -0.57857203  1.67588577  1.5652875   0.78447637  0.3898823\n",
            "   0.26349695]\n",
            " [-0.37502238 -0.48361547 -0.54747912 -0.25683275 -0.54935658 -0.78865126\n",
            "   0.18954148  0.48371503 -0.51114231 -0.71552978  0.51145832  0.38669063\n",
            "  -0.13812828]\n",
            " [ 0.58963463 -0.48361547  1.0283258  -0.25683275  1.21764133 -1.03127774\n",
            "   1.11048828 -1.06518235  1.67588577  1.5652875   0.78447637  0.44807713\n",
            "   1.49873604]\n",
            " [ 0.0381708  -0.48361547  1.24588095 -0.25683275  2.67733525 -1.12719983\n",
            "   1.11048828 -1.14833073 -0.51114231 -0.01744323 -1.71818909  0.44807713\n",
            "   1.88793986]\n",
            " [-0.17228416 -0.48361547  1.24588095 -0.25683275  2.67733525 -0.90150078\n",
            "   1.11048828 -1.09664657 -0.51114231 -0.01744323 -1.71818909 -1.97365769\n",
            "   0.53952803]\n",
            " [-0.22932104 -0.48361547  1.58544339 -0.25683275  0.56888847 -1.76056777\n",
            "   1.11048828 -1.13471925 -0.62624905  0.18716835  1.23950646  0.44807713\n",
            "   2.99068404]]\n"
          ],
          "name": "stdout"
        }
      ]
    },
    {
      "cell_type": "markdown",
      "metadata": {
        "colab_type": "text",
        "id": "l6hgCWbir90R"
      },
      "source": [
        "### Model Validation using an automatic verification Dataset\n",
        "\n",
        "Instead of doing seperate train test split class, Keras has a really nice feature that you can set the validation.data argument when fitting your model and Keras will take that portion of your test data and use it as a validation dataset. "
      ]
    },
    {
      "cell_type": "code",
      "metadata": {
        "colab_type": "code",
        "id": "GMXVfmzXp1Oo",
        "colab": {
          "base_uri": "https://localhost:8080/",
          "height": 1000
        },
        "outputId": "b03bf3f0-38b1-4f9b-f70f-104874520a0c"
      },
      "source": [
        "from tensorflow import keras\n",
        "from tensorflow.keras.models import Sequential\n",
        "from tensorflow.keras.layers import Dense\n",
        "\n",
        "# Important Hyperparameters\n",
        "inputs = x_train.shape[1]\n",
        "epochs = 75\n",
        "batch_size = 10\n",
        "\n",
        "\n",
        "# Create Model\n",
        "model = Sequential()\n",
        "model.add(Dense(64, activation='relu', input_shape=(inputs,)))\n",
        "model.add(Dense(64, activation='relu'))\n",
        "model.add(Dense(1))\n",
        "\n",
        "# Compile Model\n",
        "model.compile(optimizer='adam', loss='mse', metrics=['mae'])\n",
        "\n",
        "# Fit Model\n",
        "model.fit(x_train, y_train, \n",
        "          validation_data=(x_test,y_test), \n",
        "          epochs=epochs, \n",
        "          batch_size=batch_size\n",
        "         )"
      ],
      "execution_count": 4,
      "outputs": [
        {
          "output_type": "stream",
          "text": [
            "Epoch 1/75\n",
            "41/41 [==============================] - 0s 10ms/step - loss: 455.7712 - mae: 19.2501 - val_loss: 332.8810 - val_mae: 16.0463\n",
            "Epoch 2/75\n",
            "41/41 [==============================] - 0s 5ms/step - loss: 165.7059 - mae: 10.2694 - val_loss: 82.0589 - val_mae: 7.1089\n",
            "Epoch 3/75\n",
            "41/41 [==============================] - 0s 5ms/step - loss: 58.1531 - mae: 5.6436 - val_loss: 44.9486 - val_mae: 5.2887\n",
            "Epoch 4/75\n",
            "41/41 [==============================] - 0s 5ms/step - loss: 33.0362 - mae: 4.1572 - val_loss: 32.0479 - val_mae: 4.4693\n",
            "Epoch 5/75\n",
            "41/41 [==============================] - 0s 5ms/step - loss: 24.8613 - mae: 3.5768 - val_loss: 27.5904 - val_mae: 4.0995\n",
            "Epoch 6/75\n",
            "41/41 [==============================] - 0s 5ms/step - loss: 21.6011 - mae: 3.3242 - val_loss: 25.3764 - val_mae: 3.8750\n",
            "Epoch 7/75\n",
            "41/41 [==============================] - 0s 5ms/step - loss: 19.4013 - mae: 3.1181 - val_loss: 24.1919 - val_mae: 3.7045\n",
            "Epoch 8/75\n",
            "41/41 [==============================] - 0s 5ms/step - loss: 17.4862 - mae: 2.9441 - val_loss: 24.1640 - val_mae: 3.6726\n",
            "Epoch 9/75\n",
            "41/41 [==============================] - 0s 5ms/step - loss: 16.3106 - mae: 2.8712 - val_loss: 23.8205 - val_mae: 3.6052\n",
            "Epoch 10/75\n",
            "41/41 [==============================] - 0s 5ms/step - loss: 14.9790 - mae: 2.7535 - val_loss: 22.8567 - val_mae: 3.4909\n",
            "Epoch 11/75\n",
            "41/41 [==============================] - 0s 5ms/step - loss: 13.8914 - mae: 2.6336 - val_loss: 22.6979 - val_mae: 3.4248\n",
            "Epoch 12/75\n",
            "41/41 [==============================] - 0s 5ms/step - loss: 12.9910 - mae: 2.5786 - val_loss: 22.4216 - val_mae: 3.3732\n",
            "Epoch 13/75\n",
            "41/41 [==============================] - 0s 5ms/step - loss: 12.3943 - mae: 2.4871 - val_loss: 22.5441 - val_mae: 3.3423\n",
            "Epoch 14/75\n",
            "41/41 [==============================] - 0s 5ms/step - loss: 12.0924 - mae: 2.4606 - val_loss: 22.7746 - val_mae: 3.3038\n",
            "Epoch 15/75\n",
            "41/41 [==============================] - 0s 5ms/step - loss: 11.4146 - mae: 2.4291 - val_loss: 22.8114 - val_mae: 3.3163\n",
            "Epoch 16/75\n",
            "41/41 [==============================] - 0s 5ms/step - loss: 11.3178 - mae: 2.4135 - val_loss: 23.2122 - val_mae: 3.3331\n",
            "Epoch 17/75\n",
            "41/41 [==============================] - 0s 5ms/step - loss: 10.7613 - mae: 2.3349 - val_loss: 23.2730 - val_mae: 3.2492\n",
            "Epoch 18/75\n",
            "41/41 [==============================] - 0s 5ms/step - loss: 10.5131 - mae: 2.3319 - val_loss: 21.8825 - val_mae: 3.1322\n",
            "Epoch 19/75\n",
            "41/41 [==============================] - 0s 5ms/step - loss: 10.5255 - mae: 2.3300 - val_loss: 22.3658 - val_mae: 3.1615\n",
            "Epoch 20/75\n",
            "41/41 [==============================] - 0s 5ms/step - loss: 10.1081 - mae: 2.2510 - val_loss: 22.9552 - val_mae: 3.1922\n",
            "Epoch 21/75\n",
            "41/41 [==============================] - 0s 5ms/step - loss: 9.9060 - mae: 2.2418 - val_loss: 21.9270 - val_mae: 3.1431\n",
            "Epoch 22/75\n",
            "41/41 [==============================] - 0s 5ms/step - loss: 9.7762 - mae: 2.2233 - val_loss: 23.3571 - val_mae: 3.2457\n",
            "Epoch 23/75\n",
            "41/41 [==============================] - 0s 5ms/step - loss: 9.8469 - mae: 2.2354 - val_loss: 23.0385 - val_mae: 3.2282\n",
            "Epoch 24/75\n",
            "41/41 [==============================] - 0s 5ms/step - loss: 9.3554 - mae: 2.2107 - val_loss: 20.6922 - val_mae: 2.9826\n",
            "Epoch 25/75\n",
            "41/41 [==============================] - 0s 5ms/step - loss: 9.5575 - mae: 2.1831 - val_loss: 20.8737 - val_mae: 3.0117\n",
            "Epoch 26/75\n",
            "41/41 [==============================] - 0s 5ms/step - loss: 9.0874 - mae: 2.1500 - val_loss: 21.6200 - val_mae: 3.1549\n",
            "Epoch 27/75\n",
            "41/41 [==============================] - 0s 5ms/step - loss: 9.1800 - mae: 2.1749 - val_loss: 22.3632 - val_mae: 3.1631\n",
            "Epoch 28/75\n",
            "41/41 [==============================] - 0s 5ms/step - loss: 8.8836 - mae: 2.1395 - val_loss: 21.3402 - val_mae: 3.0835\n",
            "Epoch 29/75\n",
            "41/41 [==============================] - 0s 5ms/step - loss: 8.6810 - mae: 2.1230 - val_loss: 22.2960 - val_mae: 3.1426\n",
            "Epoch 30/75\n",
            "41/41 [==============================] - 0s 5ms/step - loss: 8.8858 - mae: 2.1519 - val_loss: 20.1449 - val_mae: 2.9650\n",
            "Epoch 31/75\n",
            "41/41 [==============================] - 0s 5ms/step - loss: 8.5717 - mae: 2.0864 - val_loss: 21.8314 - val_mae: 3.1305\n",
            "Epoch 32/75\n",
            "41/41 [==============================] - 0s 5ms/step - loss: 8.4222 - mae: 2.0726 - val_loss: 20.8015 - val_mae: 2.9584\n",
            "Epoch 33/75\n",
            "41/41 [==============================] - 0s 5ms/step - loss: 8.2166 - mae: 2.0410 - val_loss: 18.5219 - val_mae: 2.8140\n",
            "Epoch 34/75\n",
            "41/41 [==============================] - 0s 5ms/step - loss: 8.2143 - mae: 2.0060 - val_loss: 19.9723 - val_mae: 2.9833\n",
            "Epoch 35/75\n",
            "41/41 [==============================] - 0s 5ms/step - loss: 8.2324 - mae: 2.0214 - val_loss: 21.0125 - val_mae: 2.9632\n",
            "Epoch 36/75\n",
            "41/41 [==============================] - 0s 5ms/step - loss: 8.0088 - mae: 2.0168 - val_loss: 19.3414 - val_mae: 2.8245\n",
            "Epoch 37/75\n",
            "41/41 [==============================] - 0s 5ms/step - loss: 7.8650 - mae: 2.0198 - val_loss: 18.8811 - val_mae: 2.8255\n",
            "Epoch 38/75\n",
            "41/41 [==============================] - 0s 5ms/step - loss: 7.7979 - mae: 1.9807 - val_loss: 19.3737 - val_mae: 2.9171\n",
            "Epoch 39/75\n",
            "41/41 [==============================] - 0s 5ms/step - loss: 7.6768 - mae: 1.9711 - val_loss: 18.7088 - val_mae: 2.8290\n",
            "Epoch 40/75\n",
            "41/41 [==============================] - 0s 5ms/step - loss: 7.7344 - mae: 1.9921 - val_loss: 17.8641 - val_mae: 2.8408\n",
            "Epoch 41/75\n",
            "41/41 [==============================] - 0s 5ms/step - loss: 7.8037 - mae: 1.9773 - val_loss: 17.9013 - val_mae: 2.7612\n",
            "Epoch 42/75\n",
            "41/41 [==============================] - 0s 5ms/step - loss: 7.7282 - mae: 1.9885 - val_loss: 17.6462 - val_mae: 2.7267\n",
            "Epoch 43/75\n",
            "41/41 [==============================] - 0s 5ms/step - loss: 7.3530 - mae: 1.9452 - val_loss: 17.8108 - val_mae: 2.8538\n",
            "Epoch 44/75\n",
            "41/41 [==============================] - 0s 5ms/step - loss: 7.7700 - mae: 1.9684 - val_loss: 18.3699 - val_mae: 2.7777\n",
            "Epoch 45/75\n",
            "41/41 [==============================] - 0s 5ms/step - loss: 7.2688 - mae: 1.9210 - val_loss: 17.3022 - val_mae: 2.7507\n",
            "Epoch 46/75\n",
            "41/41 [==============================] - 0s 5ms/step - loss: 7.1624 - mae: 1.8967 - val_loss: 18.7680 - val_mae: 2.9043\n",
            "Epoch 47/75\n",
            "41/41 [==============================] - 0s 5ms/step - loss: 6.8958 - mae: 1.8964 - val_loss: 17.0589 - val_mae: 2.7601\n",
            "Epoch 48/75\n",
            "41/41 [==============================] - 0s 5ms/step - loss: 6.9386 - mae: 1.8871 - val_loss: 16.5368 - val_mae: 2.6469\n",
            "Epoch 49/75\n",
            "41/41 [==============================] - 0s 6ms/step - loss: 6.7367 - mae: 1.8380 - val_loss: 17.1779 - val_mae: 2.7245\n",
            "Epoch 50/75\n",
            "41/41 [==============================] - 0s 5ms/step - loss: 6.8307 - mae: 1.8750 - val_loss: 17.5043 - val_mae: 2.8017\n",
            "Epoch 51/75\n",
            "41/41 [==============================] - 0s 5ms/step - loss: 6.7014 - mae: 1.8137 - val_loss: 16.6772 - val_mae: 2.6912\n",
            "Epoch 52/75\n",
            "41/41 [==============================] - 0s 5ms/step - loss: 6.6247 - mae: 1.8222 - val_loss: 15.5850 - val_mae: 2.6220\n",
            "Epoch 53/75\n",
            "41/41 [==============================] - 0s 5ms/step - loss: 6.7318 - mae: 1.8733 - val_loss: 15.5129 - val_mae: 2.6333\n",
            "Epoch 54/75\n",
            "41/41 [==============================] - 0s 5ms/step - loss: 6.7485 - mae: 1.8427 - val_loss: 15.9075 - val_mae: 2.6977\n",
            "Epoch 55/75\n",
            "41/41 [==============================] - 0s 5ms/step - loss: 6.5338 - mae: 1.8029 - val_loss: 15.3653 - val_mae: 2.6140\n",
            "Epoch 56/75\n",
            "41/41 [==============================] - 0s 5ms/step - loss: 6.5221 - mae: 1.8309 - val_loss: 16.1219 - val_mae: 2.7450\n",
            "Epoch 57/75\n",
            "41/41 [==============================] - 0s 4ms/step - loss: 6.2965 - mae: 1.7882 - val_loss: 17.1373 - val_mae: 2.8089\n",
            "Epoch 58/75\n",
            "41/41 [==============================] - 0s 5ms/step - loss: 6.3019 - mae: 1.7860 - val_loss: 16.7317 - val_mae: 2.6863\n",
            "Epoch 59/75\n",
            "41/41 [==============================] - 0s 5ms/step - loss: 5.9036 - mae: 1.7393 - val_loss: 14.3284 - val_mae: 2.5538\n",
            "Epoch 60/75\n",
            "41/41 [==============================] - 0s 5ms/step - loss: 6.0967 - mae: 1.7453 - val_loss: 14.6631 - val_mae: 2.5760\n",
            "Epoch 61/75\n",
            "41/41 [==============================] - 0s 5ms/step - loss: 6.3141 - mae: 1.7937 - val_loss: 14.0225 - val_mae: 2.5204\n",
            "Epoch 62/75\n",
            "41/41 [==============================] - 0s 5ms/step - loss: 6.1648 - mae: 1.7723 - val_loss: 14.6056 - val_mae: 2.5663\n",
            "Epoch 63/75\n",
            "41/41 [==============================] - 0s 5ms/step - loss: 6.2573 - mae: 1.8009 - val_loss: 17.3165 - val_mae: 2.7808\n",
            "Epoch 64/75\n",
            "41/41 [==============================] - 0s 5ms/step - loss: 5.7215 - mae: 1.7169 - val_loss: 13.6162 - val_mae: 2.4776\n",
            "Epoch 65/75\n",
            "41/41 [==============================] - 0s 5ms/step - loss: 5.7214 - mae: 1.7190 - val_loss: 13.5588 - val_mae: 2.4852\n",
            "Epoch 66/75\n",
            "41/41 [==============================] - 0s 5ms/step - loss: 5.5859 - mae: 1.7056 - val_loss: 14.9529 - val_mae: 2.5549\n",
            "Epoch 67/75\n",
            "41/41 [==============================] - 0s 5ms/step - loss: 5.5435 - mae: 1.6853 - val_loss: 14.0652 - val_mae: 2.5484\n",
            "Epoch 68/75\n",
            "41/41 [==============================] - 0s 5ms/step - loss: 5.6360 - mae: 1.7211 - val_loss: 14.4020 - val_mae: 2.5698\n",
            "Epoch 69/75\n",
            "41/41 [==============================] - 0s 5ms/step - loss: 5.5324 - mae: 1.6771 - val_loss: 14.6361 - val_mae: 2.5691\n",
            "Epoch 70/75\n",
            "41/41 [==============================] - 0s 5ms/step - loss: 5.6387 - mae: 1.6914 - val_loss: 13.7807 - val_mae: 2.5129\n",
            "Epoch 71/75\n",
            "41/41 [==============================] - 0s 5ms/step - loss: 5.3801 - mae: 1.6739 - val_loss: 13.4837 - val_mae: 2.4921\n",
            "Epoch 72/75\n",
            "41/41 [==============================] - 0s 5ms/step - loss: 5.5917 - mae: 1.6984 - val_loss: 15.2697 - val_mae: 2.6653\n",
            "Epoch 73/75\n",
            "41/41 [==============================] - 0s 5ms/step - loss: 5.3586 - mae: 1.6764 - val_loss: 14.3440 - val_mae: 2.6249\n",
            "Epoch 74/75\n",
            "41/41 [==============================] - 0s 5ms/step - loss: 5.1793 - mae: 1.6163 - val_loss: 16.3818 - val_mae: 2.8085\n",
            "Epoch 75/75\n",
            "41/41 [==============================] - 0s 5ms/step - loss: 5.5630 - mae: 1.6910 - val_loss: 14.0312 - val_mae: 2.5400\n"
          ],
          "name": "stdout"
        },
        {
          "output_type": "execute_result",
          "data": {
            "text/plain": [
              "<tensorflow.python.keras.callbacks.History at 0x7f3ef07a5780>"
            ]
          },
          "metadata": {
            "tags": []
          },
          "execution_count": 4
        }
      ]
    },
    {
      "cell_type": "markdown",
      "metadata": {
        "colab_type": "text",
        "id": "sYJ8t_ezHP4W"
      },
      "source": [
        "### Hyperparameter Tuning Approaches:\n",
        "\n",
        "#### 1) Babysitting AKA \"Grad Student Descent\".\n",
        "\n",
        "If you fiddled with any hyperparameters yesterday, this is basically what you did. This approach is 100% manual and is pretty common among researchers where finding that 1 exact specification that jumps your model to a level of accuracy never seen before is the difference between publishing and not publishing a paper. Of course the professors don't do this themselves, that's grunt work. This is also known as the fiddle with hyperparameters until you run out of time method.\n",
        "\n",
        "#### 2) Grid Search\n",
        "\n",
        "Grid Search is the Grad Student galaxy brain realization of: why don't I just specify all the experiments I want to run and let the computer try every possible combination of them while I go and grab lunch. This has a specific downside in that if I specify 5 hyperparameters with 5 options each then I've just created 5^5 combinations of hyperparameters to check. Which means that I have to train 3125 different versions of my model Then if I use 5-fold Cross Validation on that then my model has to run 15,525 times. This is the brute-force method of hyperparameter tuning, but it can be very profitable if done wisely. \n",
        "\n",
        "When using Grid Search here's what I suggest: don't use it to test combinations of different hyperparameters, only use it to test different specifications of **a single** hyperparameter. It's rare that combinations between different hyperparameters lead to big performance gains. You'll get 90-95% of the way there if you just Grid Search one parameter and take the best result, then retain that best result while you test another, and then retain the best specification from that while you train another. This at least makes the situation much more manageable and leads to pretty good results. \n",
        "\n",
        "#### 3) Random Search\n",
        "\n",
        "Do Grid Search for a couple of hours and you'll say to yourself - \"There's got to be a better way.\" Enter Random Search. For Random search you specify a hyperparameter space and it picks specifications from that randomly, tries them out, gives you the best results and says - That's going to have to be good enough, go home and spend time with your family. \n",
        "\n",
        "Grid Search treats every parameter as if it was equally important, but this just isn't the case, some are known to move the needle a lot more than others (we'll talk about that in a minute). Random Search allows searching to be specified along the most important parameter and experiments less along the dimensions of less important hyperparameters. The downside of Random search is that it won't find the absolute best hyperparameters, but it is much less costly to perform than Grid Search. \n",
        "\n",
        "#### 4) Bayesian Methods\n",
        "\n",
        "One thing that can make more manual methods like babysitting and gridsearch effective is that as the experimenter sees results he can then make updates to his future searches taking into account the results of past specifications. If only we could hyperparameter tune our hyperparameter tuning. Well, we kind of can. Enter Bayesian Optimization. Neural Networks are like an optimization problem within an optimization problem, and Bayesian Optimization is a search strategy that tries to take into account the results of past searches in order to improve future ones. Check out the new library `keras-tuner` for easy implementations of Bayesian methods. \n"
      ]
    },
    {
      "cell_type": "markdown",
      "metadata": {
        "colab_type": "text",
        "id": "HfQ7D043OMMn"
      },
      "source": [
        "## What Hyperparameters are there to test?\n",
        "\n",
        "- batch_size\n",
        "- training epochs\n",
        "- optimization algorithms\n",
        "- learning rate\n",
        "- momentum\n",
        "- activation functions\n",
        "- dropout regularization\n",
        "- number of neurons in the hidden layer\n",
        "\n",
        "There are more, but these are the most important."
      ]
    },
    {
      "cell_type": "code",
      "metadata": {
        "id": "BAOmxdETP_Lv",
        "colab_type": "code",
        "colab": {}
      },
      "source": [
        "# Optimization and learning rate are probably the two most important for \n",
        "# beginning NN practicioners "
      ],
      "execution_count": 0,
      "outputs": []
    },
    {
      "cell_type": "markdown",
      "metadata": {
        "id": "RJPzN4OCIS_X",
        "colab_type": "text"
      },
      "source": [
        "## Follow Along"
      ]
    },
    {
      "cell_type": "markdown",
      "metadata": {
        "colab_type": "text",
        "id": "Mri5-kXzVKAa"
      },
      "source": [
        "## Batch Size\n",
        "\n",
        "Batch size determines how many observations the model is shown before it calculates loss/error and updates the model weights via gradient descent. You're looking for a sweet spot here where you're showing it enough observations that you have enough information to updates the weights, but not such a large batch size that you don't get a lot of weight update iterations performed in a given epoch. Feed-forward Neural Networks aren't as sensitive to bach_size as other networks, but it is still an important hyperparameter to tune. Smaller batch sizes will also take longer to train. \n",
        "\n",
        "Traditionally, batch size is set in powers of 2 starting at 32 up to 512. Keras defaults to a batch size of 32 if you do not specify it. Yann LeCun famously Twitted: \n",
        "\n",
        "> Training with large minibatches is bad for your health.\n",
        "More importantly, it's bad for your test error.\n",
        "Friends dont let friends use minibatches larger than 32.\n",
        "\n",
        "Check out this paper for more reference on his tweet. https://arxiv.org/abs/1804.07612. \n",
        "\n",
        "Check out this SO question on why batch size is typically set in powers of two: https://datascience.stackexchange.com/questions/20179/what-is-the-advantage-of-keeping-batch-size-a-power-of-2\n",
        "\n"
      ]
    },
    {
      "cell_type": "code",
      "metadata": {
        "colab_type": "code",
        "id": "2smXfriNAGn7",
        "colab": {
          "base_uri": "https://localhost:8080/",
          "height": 156
        },
        "outputId": "50f6c9be-8726-4076-a566-7ab1a6a79ecd"
      },
      "source": [
        "import numpy\n",
        "import pandas as pd\n",
        "from sklearn.model_selection import GridSearchCV\n",
        "from tensorflow.keras.models import Sequential\n",
        "from tensorflow.keras.layers import Dense\n",
        "from tensorflow.keras.wrappers.scikit_learn import KerasClassifier\n",
        "# the wrapper packages things nicely so that model will know how to interface\n",
        "# with scikit learn (fit, predict, etc)\n",
        "\n",
        "# fix random seed for reproducibility\n",
        "seed = 7\n",
        "numpy.random.seed(seed)\n",
        "\n",
        "# load dataset\n",
        "url =\"https://raw.githubusercontent.com/jbrownlee/Datasets/master/pima-indians-diabetes.data.csv\"\n",
        "\n",
        "dataset = pd.read_csv(url, header=None).values\n",
        "\n",
        "# split into input (X) and output (Y) variables\n",
        "X = dataset[:,0:8]\n",
        "Y = dataset[:,8]\n",
        "\n",
        "# Function to create model, required for KerasClassifier\n",
        "def create_model():\n",
        "    # create model\n",
        "    model = Sequential()\n",
        "    model.add(Dense(12, input_dim=8, activation='relu'))\n",
        "    model.add(Dense(1, activation='sigmoid'))\n",
        "    # Compile model\n",
        "    model.compile(loss='binary_crossentropy', optimizer='adam', metrics=['accuracy'])\n",
        "    return model\n",
        "\n",
        "# create model\n",
        "model = KerasClassifier(build_fn=create_model, verbose=0)\n",
        "\n",
        "# define the grid search parameters\n",
        "# batch_size = [10, 20, 40, 60, 80, 100]\n",
        "# param_grid = dict(batch_size=batch_size, epochs=epochs)\n",
        "\n",
        "# define the grid search parameters\n",
        "param_grid = {'batch_size': [10, 20, 40, 60, 80, 100],\n",
        "              'epochs': [20]}\n",
        "\n",
        "# Create Grid Search\n",
        "grid = GridSearchCV(estimator=model, param_grid=param_grid, n_jobs=-1)\n",
        "grid_result = grid.fit(X, Y)\n",
        "\n",
        "# Report Results\n",
        "print(f\"Best: {grid_result.best_score_} using {grid_result.best_params_}\")\n",
        "means = grid_result.cv_results_['mean_test_score']\n",
        "stds = grid_result.cv_results_['std_test_score']\n",
        "params = grid_result.cv_results_['params']\n",
        "for mean, stdev, param in zip(means, stds, params):\n",
        "    print(f\"Means: {mean}, Stdev: {stdev} with: {param}\") "
      ],
      "execution_count": 5,
      "outputs": [
        {
          "output_type": "stream",
          "text": [
            "Best: 0.6757575869560242 using {'batch_size': 10, 'epochs': 20}\n",
            "Means: 0.6757575869560242, Stdev: 0.03380088187900491 with: {'batch_size': 10, 'epochs': 20}\n",
            "Means: 0.6459129095077515, Stdev: 0.02947845413896291 with: {'batch_size': 20, 'epochs': 20}\n",
            "Means: 0.5938714981079102, Stdev: 0.046003240722394305 with: {'batch_size': 40, 'epochs': 20}\n",
            "Means: 0.6355063199996949, Stdev: 0.03219050634138544 with: {'batch_size': 60, 'epochs': 20}\n",
            "Means: 0.6211187601089477, Stdev: 0.03598605734289437 with: {'batch_size': 80, 'epochs': 20}\n",
            "Means: 0.5742721438407898, Stdev: 0.05163232143086487 with: {'batch_size': 100, 'epochs': 20}\n"
          ],
          "name": "stdout"
        }
      ]
    },
    {
      "cell_type": "markdown",
      "metadata": {
        "colab_type": "text",
        "id": "EKcuY6OiaLfz"
      },
      "source": [
        "## Optimizer\n",
        "\n",
        "Remember that there's a different optimizers [optimizers](https://keras.io/optimizers/). At some point, take some time to read up on them a little bit. \"adam\" usually gives the best results. The thing to know about choosing an optimizer is that different optimizers have different hyperparameters like learning rate, momentum, etc. So based on the optimizer you choose you might also have to tune the learning rate and momentum of those optimizers after that. "
      ]
    },
    {
      "cell_type": "markdown",
      "metadata": {
        "colab_type": "text",
        "id": "DG3wq5iOaLig"
      },
      "source": [
        "## Learning Rate\n",
        "\n",
        "Remember that the Learning Rate is a hyperparameter that is specific to your gradient-descent based optimizer selection. A learning rate that is too high will cause divergent behavior, but a Learning Rate that is too low will fail to converge, again, you're looking for the sweet spot. I would start out tuning learning rates by orders of magnitude: [.001, .01, .1, .2, .3, .5] etc. I wouldn't go above .5, but you can try it and see what the behavior is like. \n",
        "\n",
        "Once you have narrowed it down, make the window even smaller and try it again. If after running the above specification your model reports that .1 is the best optimizer, then you should probably try things like [.05, .08, .1, .12, .15] to try and narrow it down. \n",
        "\n",
        "It can also be good to tune the number of epochs in combination with the learning rate since the number of iterations that you allow the learning rate to reach the minimum can determine if you have let it run long enough to converge to the minimum. - **Update:** *Number of epochs should be a constant when tuning for learning rate*"
      ]
    },
    {
      "cell_type": "code",
      "metadata": {
        "id": "-nj1VIkSIS_d",
        "colab_type": "code",
        "colab": {
          "base_uri": "https://localhost:8080/",
          "height": 173
        },
        "outputId": "c3e48505-ae8d-4a09-d757-67501ec99543"
      },
      "source": [
        "from tensorflow.keras.optimizers import Adadelta\n",
        "\n",
        "# Function to create model, required for KerasClassifier\n",
        "def create_model(lr=.01):\n",
        "    opt = Adadelta(learning_rate=lr)\n",
        "    # create model\n",
        "    model = Sequential()\n",
        "    model.add(Dense(12, input_dim=8, activation='relu'))\n",
        "    model.add(Dense(1, activation='sigmoid'))\n",
        "    # Compile model\n",
        "    model.compile(loss='binary_crossentropy', optimizer=opt, metrics=['accuracy'])\n",
        "    return model\n",
        "\n",
        "# create model\n",
        "model = KerasClassifier(build_fn=create_model, verbose=0)\n",
        "\n",
        "# define the grid search parameters\n",
        "# batch_size = [10, 20, 40, 60, 80, 100]\n",
        "# param_grid = dict(batch_size=batch_size, epochs=epochs)\n",
        "\n",
        "# define the grid search parameters\n",
        "param_grid = {'batch_size': [10],\n",
        "              'lr': [.0001, .001, .01, .1, .2, .3, .4],\n",
        "              'epochs': [20]}\n",
        "\n",
        "# Create Grid Search\n",
        "grid = GridSearchCV(estimator=model, param_grid=param_grid, n_jobs=-1)\n",
        "grid_result = grid.fit(X, Y)\n",
        "\n",
        "# Report Results\n",
        "print(f\"Best: {grid_result.best_score_} using {grid_result.best_params_}\")\n",
        "means = grid_result.cv_results_['mean_test_score']\n",
        "stds = grid_result.cv_results_['std_test_score']\n",
        "params = grid_result.cv_results_['params']\n",
        "for mean, stdev, param in zip(means, stds, params):\n",
        "    print(f\"Means: {mean}, Stdev: {stdev} with: {param}\") "
      ],
      "execution_count": 9,
      "outputs": [
        {
          "output_type": "stream",
          "text": [
            "Best: 0.6432985305786133 using {'batch_size': 10, 'epochs': 20, 'lr': 0.4}\n",
            "Means: 0.5753755986690521, Stdev: 0.059579181475141955 with: {'batch_size': 10, 'epochs': 20, 'lr': 0.0001}\n",
            "Means: 0.4398862600326538, Stdev: 0.10070979643905319 with: {'batch_size': 10, 'epochs': 20, 'lr': 0.001}\n",
            "Means: 0.5455733954906463, Stdev: 0.07598603782882529 with: {'batch_size': 10, 'epochs': 20, 'lr': 0.01}\n",
            "Means: 0.5076988339424133, Stdev: 0.046599757284651974 with: {'batch_size': 10, 'epochs': 20, 'lr': 0.1}\n",
            "Means: 0.5807231962680817, Stdev: 0.054458822736516733 with: {'batch_size': 10, 'epochs': 20, 'lr': 0.2}\n",
            "Means: 0.6067566514015198, Stdev: 0.022578820803373333 with: {'batch_size': 10, 'epochs': 20, 'lr': 0.3}\n",
            "Means: 0.6432985305786133, Stdev: 0.02805205823780785 with: {'batch_size': 10, 'epochs': 20, 'lr': 0.4}\n"
          ],
          "name": "stdout"
        }
      ]
    },
    {
      "cell_type": "markdown",
      "metadata": {
        "colab_type": "text",
        "id": "gNTBUWd1aLlA"
      },
      "source": [
        "## Momentum\n",
        "\n",
        "Momentum is a hyperparameter that is more commonly associated with Stochastic Gradient Descent. SGD is a common optimizer because it's what people understand and know, but I doubt it will get you the best results, you can try hyperparameter tuning its attributes and see if you can beat the performance from adam. Momentum is a property that decides the willingness of an optimizer to overshoot the minimum. Imagine a ball rolling down one side of a bowl and then up the opposite side a little bit before settling back to the bottom. The purpose of momentum is to try and escale local minima."
      ]
    },
    {
      "cell_type": "markdown",
      "metadata": {
        "colab_type": "text",
        "id": "xnEG-bCJaLnZ"
      },
      "source": [
        "## Activation Functions\n",
        "\n",
        "We've talked about this a little bit, typically you'l want to use ReLU for hidden layers and either Sigmoid, or Softmax for output layers of binary and multi-class classification implementations respectively, but try other activation functions and see if you can get any better results with sigmoid or tanh or something. There are a lot of activation functions that we haven't really talked about. Maybe you'll get good results with them. Maybe you won't. :) <https://keras.io/activations/>"
      ]
    },
    {
      "cell_type": "markdown",
      "metadata": {
        "colab_type": "text",
        "id": "oul9sPq-dU-h"
      },
      "source": [
        "## Network Weight Initialization\n",
        "\n",
        "You saw how big of an effect the way that we initialize our network's weights can have on our results. There are **a lot** of what are called initialization modes. I don't understand all of them, but they can have a big affect on your model's initial accuracy. Your model will get further with less epochs if you initialize it with weights that are well suited to the problem you're trying to solve.\n",
        "\n",
        "`init_mode = ['uniform', 'lecun_uniform', 'normal', 'zero', 'glorot_normal', 'glorot_uniform', 'he_normal', 'he_uniform']`"
      ]
    },
    {
      "cell_type": "markdown",
      "metadata": {
        "colab_type": "text",
        "id": "bqtEuxeQaLqE"
      },
      "source": [
        "## Dropout Regularization and the Weight Constraint\n",
        "\n",
        "the Dropout Regularization value is a percentage of neurons that you want to be randomly deactivated during training. The weight constraint is a second regularization parameter that works in tandem with dropout regularization. You should tune these two values at the same time. \n",
        "\n",
        "Using dropout on visible vs hidden layers might have a different effect. Using dropout on hidden layers might not have any effect while using dropout on hidden layers might have a substantial effect. You don't necessarily need to turn use dropout unless you see that your model has overfitting and generalizability problems."
      ]
    },
    {
      "cell_type": "markdown",
      "metadata": {
        "colab_type": "text",
        "id": "P2c5Cv6oaLtO"
      },
      "source": [
        "## Neurons in Hidden Layer \n",
        "\n",
        "Remember that when we only had a single perceptron our model was only able to fit to linearly separable data, but as we have added layers and nodes to those layers our network has become a powerhouse of fitting nonlinearity in data. The larger the network and the more nodes generally the stronger the network's capacity to fit nonlinear patterns in data. The more nodes and layers the longer it will take to train a network, and higher the probability of overfitting. The larger your network gets the more you'll need dropout regularization or other regularization techniques to keep it in check. \n",
        "\n",
        "Typically depth (more layers) is more important than width (more nodes) for neural networks. This is part of why Deep Learning is so highly touted. Certain deep learning architectures have truly been huge breakthroughs for certain machine learning tasks. \n",
        "\n",
        "You might borrow ideas from other network architectures. For example if I was doing image recognition and I wasn't taking cues from state of the art architectures like resnet, alexnet, googlenet, etc. Then I'm probably going to have to do a lot more experimentation on my own before I find something that works.\n",
        "\n",
        "There are some heuristics, but I am highly skeptical of them. I think you're better off experimenting on your own and forming your own intuition for these kinds of problems. \n",
        "\n",
        "- https://machinelearningmastery.com/how-to-configure-the-number-of-layers-and-nodes-in-a-neural-network/"
      ]
    },
    {
      "cell_type": "markdown",
      "metadata": {
        "id": "BVLhrIuDIS_h",
        "colab_type": "text"
      },
      "source": [
        "## Challenge\n",
        "You will be expected to tune several hyperparameters in today's module project. "
      ]
    },
    {
      "cell_type": "markdown",
      "metadata": {
        "id": "xXn47M0JIS_i",
        "colab_type": "text"
      },
      "source": [
        "# Experiment Tracking Framework (Learn)\n",
        "<a id=\"p2\"></a>"
      ]
    },
    {
      "cell_type": "markdown",
      "metadata": {
        "id": "RGnD48T_IS_j",
        "colab_type": "text"
      },
      "source": [
        "## Overview\n",
        "\n",
        "You will notice quickly that managing the results of all the experiments you are running becomes challenging. Which set of parameters did the best? Are my results today different than my results yesterday? Although we use Ipython Notebooks to work, the format is not well suited to logging experimental results. Enter experiment tracking frameworks like [Comet.ml](https://comet.ml) and [Weights and Biases](https://wandb.ai/).\n",
        "\n",
        "Those tools will help you track your experiments, store the results, and the code associated with those experiments. Experimental results can also be readily visualized to see changes in performance across any metric you care about. Data is sent to the tool as each epoch is completed, so you can also see if your model is converging. Let's check out Weights & Biases today. "
      ]
    },
    {
      "cell_type": "markdown",
      "metadata": {
        "id": "OdyAX-vRIS_j",
        "colab_type": "text"
      },
      "source": [
        "## Follow Along\n",
        "\n",
        "Make sure you login into `wandb` in the terminal before running the next cell. "
      ]
    },
    {
      "cell_type": "code",
      "metadata": {
        "id": "PqEvWjzDbU8_",
        "colab_type": "code",
        "colab": {
          "base_uri": "https://localhost:8080/",
          "height": 1000
        },
        "outputId": "d150e543-12d6-4cfd-97dd-89c358cafd99"
      },
      "source": [
        "!pip install wandb"
      ],
      "execution_count": 10,
      "outputs": [
        {
          "output_type": "stream",
          "text": [
            "Collecting wandb\n",
            "\u001b[?25l  Downloading https://files.pythonhosted.org/packages/4b/85/ee3bec131a1078f0450140abc6c3f17177e832109c44912dca2a82e9f7d9/wandb-0.9.1-py2.py3-none-any.whl (1.4MB)\n",
            "\u001b[K     |████████████████████████████████| 1.4MB 3.4MB/s \n",
            "\u001b[?25hRequirement already satisfied: Click>=7.0 in /usr/local/lib/python3.6/dist-packages (from wandb) (7.1.2)\n",
            "Collecting docker-pycreds>=0.4.0\n",
            "  Downloading https://files.pythonhosted.org/packages/f5/e8/f6bd1eee09314e7e6dee49cbe2c5e22314ccdb38db16c9fc72d2fa80d054/docker_pycreds-0.4.0-py2.py3-none-any.whl\n",
            "Requirement already satisfied: nvidia-ml-py3>=7.352.0 in /usr/local/lib/python3.6/dist-packages (from wandb) (7.352.0)\n",
            "Requirement already satisfied: python-dateutil>=2.6.1 in /usr/local/lib/python3.6/dist-packages (from wandb) (2.8.1)\n",
            "Collecting GitPython>=1.0.0\n",
            "\u001b[?25l  Downloading https://files.pythonhosted.org/packages/8c/f9/c315aa88e51fabdc08e91b333cfefb255aff04a2ee96d632c32cb19180c9/GitPython-3.1.3-py3-none-any.whl (451kB)\n",
            "\u001b[K     |████████████████████████████████| 460kB 20.3MB/s \n",
            "\u001b[?25hCollecting gql==0.2.0\n",
            "  Downloading https://files.pythonhosted.org/packages/c4/6f/cf9a3056045518f06184e804bae89390eb706168349daa9dff8ac609962a/gql-0.2.0.tar.gz\n",
            "Requirement already satisfied: psutil>=5.0.0 in /usr/local/lib/python3.6/dist-packages (from wandb) (5.4.8)\n",
            "Collecting sentry-sdk>=0.4.0\n",
            "\u001b[?25l  Downloading https://files.pythonhosted.org/packages/1b/95/9a20eebcedab2c1c63fad59fe19a0469edfc2a25b8576497e8084629c2ff/sentry_sdk-0.14.4-py2.py3-none-any.whl (104kB)\n",
            "\u001b[K     |████████████████████████████████| 112kB 26.3MB/s \n",
            "\u001b[?25hCollecting configparser>=3.8.1\n",
            "  Downloading https://files.pythonhosted.org/packages/4b/6b/01baa293090240cf0562cc5eccb69c6f5006282127f2b846fad011305c79/configparser-5.0.0-py3-none-any.whl\n",
            "Collecting shortuuid>=0.5.0\n",
            "  Downloading https://files.pythonhosted.org/packages/25/a6/2ecc1daa6a304e7f1b216f0896b26156b78e7c38e1211e9b798b4716c53d/shortuuid-1.0.1-py3-none-any.whl\n",
            "Collecting watchdog>=0.8.3\n",
            "\u001b[?25l  Downloading https://files.pythonhosted.org/packages/73/c3/ed6d992006837e011baca89476a4bbffb0a91602432f73bd4473816c76e2/watchdog-0.10.2.tar.gz (95kB)\n",
            "\u001b[K     |████████████████████████████████| 102kB 6.2MB/s \n",
            "\u001b[?25hRequirement already satisfied: PyYAML>=3.10 in /usr/local/lib/python3.6/dist-packages (from wandb) (3.13)\n",
            "Requirement already satisfied: requests>=2.0.0 in /usr/local/lib/python3.6/dist-packages (from wandb) (2.23.0)\n",
            "Requirement already satisfied: six>=1.10.0 in /usr/local/lib/python3.6/dist-packages (from wandb) (1.12.0)\n",
            "Collecting subprocess32>=3.5.3\n",
            "\u001b[?25l  Downloading https://files.pythonhosted.org/packages/32/c8/564be4d12629b912ea431f1a50eb8b3b9d00f1a0b1ceff17f266be190007/subprocess32-3.5.4.tar.gz (97kB)\n",
            "\u001b[K     |████████████████████████████████| 102kB 8.8MB/s \n",
            "\u001b[?25hCollecting gitdb<5,>=4.0.1\n",
            "\u001b[?25l  Downloading https://files.pythonhosted.org/packages/48/11/d1800bca0a3bae820b84b7d813ad1eff15a48a64caea9c823fc8c1b119e8/gitdb-4.0.5-py3-none-any.whl (63kB)\n",
            "\u001b[K     |████████████████████████████████| 71kB 8.0MB/s \n",
            "\u001b[?25hCollecting graphql-core<2,>=0.5.0\n",
            "\u001b[?25l  Downloading https://files.pythonhosted.org/packages/b0/89/00ad5e07524d8c523b14d70c685e0299a8b0de6d0727e368c41b89b7ed0b/graphql-core-1.1.tar.gz (70kB)\n",
            "\u001b[K     |████████████████████████████████| 71kB 7.0MB/s \n",
            "\u001b[?25hRequirement already satisfied: promise<3,>=2.0 in /usr/local/lib/python3.6/dist-packages (from gql==0.2.0->wandb) (2.3)\n",
            "Requirement already satisfied: certifi in /usr/local/lib/python3.6/dist-packages (from sentry-sdk>=0.4.0->wandb) (2020.4.5.1)\n",
            "Requirement already satisfied: urllib3>=1.10.0 in /usr/local/lib/python3.6/dist-packages (from sentry-sdk>=0.4.0->wandb) (1.24.3)\n",
            "Collecting pathtools>=0.1.1\n",
            "  Downloading https://files.pythonhosted.org/packages/e7/7f/470d6fcdf23f9f3518f6b0b76be9df16dcc8630ad409947f8be2eb0ed13a/pathtools-0.1.2.tar.gz\n",
            "Requirement already satisfied: chardet<4,>=3.0.2 in /usr/local/lib/python3.6/dist-packages (from requests>=2.0.0->wandb) (3.0.4)\n",
            "Requirement already satisfied: idna<3,>=2.5 in /usr/local/lib/python3.6/dist-packages (from requests>=2.0.0->wandb) (2.9)\n",
            "Collecting smmap<4,>=3.0.1\n",
            "  Downloading https://files.pythonhosted.org/packages/b0/9a/4d409a6234eb940e6a78dfdfc66156e7522262f5f2fecca07dc55915952d/smmap-3.0.4-py2.py3-none-any.whl\n",
            "Building wheels for collected packages: gql, watchdog, subprocess32, graphql-core, pathtools\n",
            "  Building wheel for gql (setup.py) ... \u001b[?25l\u001b[?25hdone\n",
            "  Created wheel for gql: filename=gql-0.2.0-cp36-none-any.whl size=7630 sha256=a9b416299af57840b8fa212557f37579890022ba0374ca5d7aaffddf79669a7e\n",
            "  Stored in directory: /root/.cache/pip/wheels/ce/0e/7b/58a8a5268655b3ad74feef5aa97946f0addafb3cbb6bd2da23\n",
            "  Building wheel for watchdog (setup.py) ... \u001b[?25l\u001b[?25hdone\n",
            "  Created wheel for watchdog: filename=watchdog-0.10.2-cp36-none-any.whl size=73605 sha256=22910a3894cbeee305cb96b5848a1f6a641c923680c7511e58ea0eb46e766f9c\n",
            "  Stored in directory: /root/.cache/pip/wheels/bc/ed/6c/028dea90d31b359cd2a7c8b0da4db80e41d24a59614154072e\n",
            "  Building wheel for subprocess32 (setup.py) ... \u001b[?25l\u001b[?25hdone\n",
            "  Created wheel for subprocess32: filename=subprocess32-3.5.4-cp36-none-any.whl size=6489 sha256=92547a4f33d6a1aea46489da58205aba604c35b48860fbe7a605d4f845f997b9\n",
            "  Stored in directory: /root/.cache/pip/wheels/68/39/1a/5e402bdfdf004af1786c8b853fd92f8c4a04f22aad179654d1\n",
            "  Building wheel for graphql-core (setup.py) ... \u001b[?25l\u001b[?25hdone\n",
            "  Created wheel for graphql-core: filename=graphql_core-1.1-cp36-none-any.whl size=104650 sha256=d402a0b63721b75d6a02ed9ec93c9b3fe064fc6f608ef36428cc708dec11bf6b\n",
            "  Stored in directory: /root/.cache/pip/wheels/45/99/d7/c424029bb0fe910c63b68dbf2aa20d3283d023042521bcd7d5\n",
            "  Building wheel for pathtools (setup.py) ... \u001b[?25l\u001b[?25hdone\n",
            "  Created wheel for pathtools: filename=pathtools-0.1.2-cp36-none-any.whl size=8784 sha256=ceebbbf1484e612bc9c976cbfa8213ae7a3e26a144f9a4f1c6fe67a54fa7045b\n",
            "  Stored in directory: /root/.cache/pip/wheels/0b/04/79/c3b0c3a0266a3cb4376da31e5bfe8bba0c489246968a68e843\n",
            "Successfully built gql watchdog subprocess32 graphql-core pathtools\n",
            "Installing collected packages: docker-pycreds, smmap, gitdb, GitPython, graphql-core, gql, sentry-sdk, configparser, shortuuid, pathtools, watchdog, subprocess32, wandb\n",
            "Successfully installed GitPython-3.1.3 configparser-5.0.0 docker-pycreds-0.4.0 gitdb-4.0.5 gql-0.2.0 graphql-core-1.1 pathtools-0.1.2 sentry-sdk-0.14.4 shortuuid-1.0.1 smmap-3.0.4 subprocess32-3.5.4 wandb-0.9.1 watchdog-0.10.2\n"
          ],
          "name": "stdout"
        }
      ]
    },
    {
      "cell_type": "code",
      "metadata": {
        "id": "T1LWKf29bfUD",
        "colab_type": "code",
        "colab": {
          "base_uri": "https://localhost:8080/",
          "height": 51
        },
        "outputId": "26a04643-848a-43c7-f270-917c9772f64e"
      },
      "source": [
        "!wandb login 5b710e9a4b9e6b65e7aecd099ba2e908688ff3fe"
      ],
      "execution_count": 13,
      "outputs": [
        {
          "output_type": "stream",
          "text": [
            "\u001b[34m\u001b[1mwandb\u001b[0m: Appending key for api.wandb.ai to your netrc file: /root/.netrc\n",
            "\u001b[32mSuccessfully logged in to Weights & Biases!\u001b[0m\n"
          ],
          "name": "stdout"
        }
      ]
    },
    {
      "cell_type": "code",
      "metadata": {
        "id": "sJlW7sTwIS_k",
        "colab_type": "code",
        "colab": {}
      },
      "source": [
        "import wandb\n",
        "from wandb.keras import WandbCallback"
      ],
      "execution_count": 0,
      "outputs": []
    },
    {
      "cell_type": "code",
      "metadata": {
        "colab_type": "code",
        "id": "D8SLvWfdIS_n",
        "colab": {
          "base_uri": "https://localhost:8080/",
          "height": 1000
        },
        "outputId": "0ce7eae5-ad1e-4a84-bd51-e3b2a2c69776"
      },
      "source": [
        "wandb.init(project=wandb_project, entity=wandb_group) #Initializes and Experiment\n",
        "\n",
        "# Important Hyperparameters\n",
        "X =  x_train\n",
        "y =  y_train\n",
        "\n",
        "inputs = X.shape[1]\n",
        "wandb.config.epochs = 50\n",
        "wandb.config.batch_size = 10\n",
        "wandb.config.optimizer = 'adam'\n",
        "\n",
        "# Create Model\n",
        "model = Sequential()\n",
        "model.add(Dense(64, activation='relu', input_shape=(inputs,)))\n",
        "model.add(Dense(64, activation='relu'))\n",
        "model.add(Dense(64, activation='relu'))\n",
        "model.add(Dense(1))\n",
        "# Compile Model\n",
        "model.compile(optimizer=wandb.config.optimizer, loss='mse', metrics=['mse', 'mae'])\n",
        "\n",
        "# Fit Model\n",
        "model.fit(X, y, \n",
        "          validation_split=0.33, \n",
        "          epochs=wandb.config.epochs, \n",
        "          batch_size=wandb.config.batch_size, \n",
        "          callbacks=[WandbCallback()] #> make sure to use wand callback in fit\n",
        "         )"
      ],
      "execution_count": 17,
      "outputs": [
        {
          "output_type": "display_data",
          "data": {
            "text/html": [
              "\n",
              "                Logging results to <a href=\"https://wandb.com\" target=\"_blank\">Weights & Biases</a> <a href=\"https://docs.wandb.com/integrations/jupyter.html\" target=\"_blank\">(Documentation)</a>.<br/>\n",
              "                Project page: <a href=\"https://app.wandb.ai/ds8/ds14_inclass\" target=\"_blank\">https://app.wandb.ai/ds8/ds14_inclass</a><br/>\n",
              "                Run page: <a href=\"https://app.wandb.ai/ds8/ds14_inclass/runs/1hrv6sa1\" target=\"_blank\">https://app.wandb.ai/ds8/ds14_inclass/runs/1hrv6sa1</a><br/>\n",
              "            "
            ],
            "text/plain": [
              "<IPython.core.display.HTML object>"
            ]
          },
          "metadata": {
            "tags": []
          }
        },
        {
          "output_type": "stream",
          "text": [
            "Epoch 1/50\n",
            "27/27 [==============================] - 0s 15ms/step - loss: 498.6471 - mse: 498.6471 - mae: 20.5183 - val_loss: 489.2273 - val_mse: 489.2273 - val_mae: 19.8627\n",
            "Epoch 2/50\n",
            "27/27 [==============================] - 0s 8ms/step - loss: 244.0590 - mse: 244.0590 - mae: 13.3075 - val_loss: 119.3543 - val_mse: 119.3543 - val_mae: 8.3731\n",
            "Epoch 3/50\n",
            "27/27 [==============================] - 0s 8ms/step - loss: 60.3279 - mse: 60.3279 - mae: 5.8781 - val_loss: 70.2274 - val_mse: 70.2274 - val_mae: 6.1074\n",
            "Epoch 4/50\n",
            "27/27 [==============================] - 0s 9ms/step - loss: 30.4233 - mse: 30.4233 - mae: 4.0377 - val_loss: 43.6793 - val_mse: 43.6793 - val_mae: 4.4924\n",
            "Epoch 5/50\n",
            "27/27 [==============================] - 0s 9ms/step - loss: 21.7578 - mse: 21.7578 - mae: 3.3446 - val_loss: 34.3719 - val_mse: 34.3719 - val_mae: 3.8355\n",
            "Epoch 6/50\n",
            "27/27 [==============================] - 0s 9ms/step - loss: 18.0800 - mse: 18.0800 - mae: 3.0442 - val_loss: 29.8641 - val_mse: 29.8641 - val_mae: 3.4565\n",
            "Epoch 7/50\n",
            "27/27 [==============================] - 0s 8ms/step - loss: 15.1638 - mse: 15.1638 - mae: 2.8224 - val_loss: 27.3149 - val_mse: 27.3149 - val_mae: 3.3827\n",
            "Epoch 8/50\n",
            "27/27 [==============================] - 0s 7ms/step - loss: 13.5408 - mse: 13.5408 - mae: 2.6907 - val_loss: 23.5609 - val_mse: 23.5609 - val_mae: 3.1596\n",
            "Epoch 9/50\n",
            "27/27 [==============================] - 0s 7ms/step - loss: 12.1567 - mse: 12.1567 - mae: 2.5533 - val_loss: 22.6581 - val_mse: 22.6581 - val_mae: 3.0926\n",
            "Epoch 10/50\n",
            "27/27 [==============================] - 0s 8ms/step - loss: 11.2006 - mse: 11.2006 - mae: 2.4464 - val_loss: 21.2360 - val_mse: 21.2360 - val_mae: 2.9062\n",
            "Epoch 11/50\n",
            "27/27 [==============================] - 0s 8ms/step - loss: 11.1213 - mse: 11.1213 - mae: 2.4822 - val_loss: 20.7587 - val_mse: 20.7587 - val_mae: 2.9235\n",
            "Epoch 12/50\n",
            "27/27 [==============================] - 0s 7ms/step - loss: 9.9627 - mse: 9.9627 - mae: 2.3120 - val_loss: 18.8443 - val_mse: 18.8443 - val_mae: 2.8201\n",
            "Epoch 13/50\n",
            "27/27 [==============================] - 0s 6ms/step - loss: 9.3614 - mse: 9.3614 - mae: 2.2679 - val_loss: 19.2276 - val_mse: 19.2276 - val_mae: 2.8707\n",
            "Epoch 14/50\n",
            "27/27 [==============================] - 0s 7ms/step - loss: 8.8376 - mse: 8.8376 - mae: 2.2037 - val_loss: 18.2866 - val_mse: 18.2866 - val_mae: 2.8118\n",
            "Epoch 15/50\n",
            "27/27 [==============================] - 0s 8ms/step - loss: 8.7654 - mse: 8.7654 - mae: 2.1695 - val_loss: 17.6579 - val_mse: 17.6579 - val_mae: 2.7565\n",
            "Epoch 16/50\n",
            "27/27 [==============================] - 0s 7ms/step - loss: 8.5915 - mse: 8.5915 - mae: 2.1894 - val_loss: 18.2437 - val_mse: 18.2437 - val_mae: 2.8477\n",
            "Epoch 17/50\n",
            "27/27 [==============================] - 0s 7ms/step - loss: 8.5520 - mse: 8.5520 - mae: 2.1523 - val_loss: 17.2996 - val_mse: 17.2996 - val_mae: 2.7488\n",
            "Epoch 18/50\n",
            "27/27 [==============================] - 0s 6ms/step - loss: 8.0176 - mse: 8.0176 - mae: 2.0589 - val_loss: 18.4677 - val_mse: 18.4677 - val_mae: 2.8650\n",
            "Epoch 19/50\n",
            "27/27 [==============================] - 0s 7ms/step - loss: 7.7983 - mse: 7.7983 - mae: 2.0793 - val_loss: 17.2123 - val_mse: 17.2123 - val_mae: 2.7717\n",
            "Epoch 20/50\n",
            "27/27 [==============================] - 0s 8ms/step - loss: 7.6419 - mse: 7.6419 - mae: 2.0600 - val_loss: 17.0104 - val_mse: 17.0104 - val_mae: 2.7340\n",
            "Epoch 21/50\n",
            "27/27 [==============================] - 0s 8ms/step - loss: 7.3016 - mse: 7.3016 - mae: 1.9942 - val_loss: 16.8692 - val_mse: 16.8692 - val_mae: 2.7672\n",
            "Epoch 22/50\n",
            "27/27 [==============================] - 0s 6ms/step - loss: 7.2184 - mse: 7.2184 - mae: 1.9676 - val_loss: 17.3213 - val_mse: 17.3213 - val_mae: 2.8314\n",
            "Epoch 23/50\n",
            "27/27 [==============================] - 0s 7ms/step - loss: 6.9146 - mse: 6.9146 - mae: 1.9793 - val_loss: 16.3862 - val_mse: 16.3862 - val_mae: 2.6800\n",
            "Epoch 24/50\n",
            "27/27 [==============================] - 0s 8ms/step - loss: 6.9201 - mse: 6.9201 - mae: 1.9466 - val_loss: 16.3525 - val_mse: 16.3525 - val_mae: 2.7053\n",
            "Epoch 25/50\n",
            "27/27 [==============================] - 0s 7ms/step - loss: 6.7656 - mse: 6.7656 - mae: 1.9827 - val_loss: 16.6770 - val_mse: 16.6770 - val_mae: 2.7322\n",
            "Epoch 26/50\n",
            "27/27 [==============================] - 0s 7ms/step - loss: 6.7474 - mse: 6.7474 - mae: 1.8996 - val_loss: 16.6020 - val_mse: 16.6020 - val_mae: 2.7403\n",
            "Epoch 27/50\n",
            "27/27 [==============================] - 0s 6ms/step - loss: 6.4861 - mse: 6.4861 - mae: 1.8559 - val_loss: 16.6794 - val_mse: 16.6794 - val_mae: 2.8119\n",
            "Epoch 28/50\n",
            "27/27 [==============================] - 0s 8ms/step - loss: 6.4193 - mse: 6.4193 - mae: 1.8876 - val_loss: 16.2489 - val_mse: 16.2489 - val_mae: 2.6828\n",
            "Epoch 29/50\n",
            "27/27 [==============================] - 0s 8ms/step - loss: 6.2181 - mse: 6.2181 - mae: 1.8320 - val_loss: 16.1413 - val_mse: 16.1413 - val_mae: 2.7071\n",
            "Epoch 30/50\n",
            "27/27 [==============================] - 0s 6ms/step - loss: 6.2849 - mse: 6.2849 - mae: 1.8835 - val_loss: 17.3521 - val_mse: 17.3521 - val_mae: 2.8890\n",
            "Epoch 31/50\n",
            "27/27 [==============================] - 0s 8ms/step - loss: 6.1867 - mse: 6.1867 - mae: 1.9111 - val_loss: 15.8991 - val_mse: 15.8991 - val_mae: 2.6254\n",
            "Epoch 32/50\n",
            "27/27 [==============================] - 0s 6ms/step - loss: 5.6741 - mse: 5.6741 - mae: 1.7424 - val_loss: 15.9782 - val_mse: 15.9782 - val_mae: 2.6543\n",
            "Epoch 33/50\n",
            "27/27 [==============================] - 0s 6ms/step - loss: 5.6599 - mse: 5.6599 - mae: 1.7951 - val_loss: 16.9844 - val_mse: 16.9844 - val_mae: 2.7659\n",
            "Epoch 34/50\n",
            "27/27 [==============================] - 0s 7ms/step - loss: 5.5528 - mse: 5.5528 - mae: 1.7262 - val_loss: 15.7525 - val_mse: 15.7525 - val_mae: 2.6290\n",
            "Epoch 35/50\n",
            "27/27 [==============================] - 0s 8ms/step - loss: 5.2765 - mse: 5.2765 - mae: 1.6756 - val_loss: 15.6921 - val_mse: 15.6921 - val_mae: 2.6251\n",
            "Epoch 36/50\n",
            "27/27 [==============================] - 0s 6ms/step - loss: 5.4521 - mse: 5.4521 - mae: 1.7082 - val_loss: 16.2543 - val_mse: 16.2543 - val_mae: 2.6739\n",
            "Epoch 37/50\n",
            "27/27 [==============================] - 0s 8ms/step - loss: 5.4559 - mse: 5.4559 - mae: 1.6967 - val_loss: 15.5100 - val_mse: 15.5100 - val_mae: 2.6153\n",
            "Epoch 38/50\n",
            "27/27 [==============================] - 0s 6ms/step - loss: 5.0606 - mse: 5.0606 - mae: 1.6987 - val_loss: 15.7401 - val_mse: 15.7401 - val_mae: 2.6485\n",
            "Epoch 39/50\n",
            "27/27 [==============================] - 0s 7ms/step - loss: 4.7630 - mse: 4.7630 - mae: 1.6231 - val_loss: 15.3601 - val_mse: 15.3601 - val_mae: 2.5915\n",
            "Epoch 40/50\n",
            "27/27 [==============================] - 0s 6ms/step - loss: 4.9734 - mse: 4.9734 - mae: 1.6448 - val_loss: 15.3837 - val_mse: 15.3837 - val_mae: 2.5806\n",
            "Epoch 41/50\n",
            "27/27 [==============================] - 0s 6ms/step - loss: 4.9956 - mse: 4.9956 - mae: 1.6469 - val_loss: 15.4162 - val_mse: 15.4162 - val_mae: 2.5564\n",
            "Epoch 42/50\n",
            "27/27 [==============================] - 0s 6ms/step - loss: 4.7042 - mse: 4.7042 - mae: 1.6169 - val_loss: 15.6854 - val_mse: 15.6854 - val_mae: 2.6073\n",
            "Epoch 43/50\n",
            "27/27 [==============================] - 0s 8ms/step - loss: 4.5924 - mse: 4.5924 - mae: 1.5983 - val_loss: 15.3425 - val_mse: 15.3425 - val_mae: 2.5728\n",
            "Epoch 44/50\n",
            "27/27 [==============================] - 0s 7ms/step - loss: 4.2416 - mse: 4.2416 - mae: 1.4930 - val_loss: 15.2353 - val_mse: 15.2353 - val_mae: 2.5729\n",
            "Epoch 45/50\n",
            "27/27 [==============================] - 0s 8ms/step - loss: 4.4177 - mse: 4.4177 - mae: 1.5581 - val_loss: 15.2040 - val_mse: 15.2040 - val_mae: 2.5469\n",
            "Epoch 46/50\n",
            "27/27 [==============================] - 0s 7ms/step - loss: 3.8951 - mse: 3.8951 - mae: 1.4681 - val_loss: 15.6522 - val_mse: 15.6522 - val_mae: 2.5962\n",
            "Epoch 47/50\n",
            "27/27 [==============================] - 0s 6ms/step - loss: 4.0579 - mse: 4.0579 - mae: 1.4849 - val_loss: 15.2513 - val_mse: 15.2513 - val_mae: 2.5406\n",
            "Epoch 48/50\n",
            "27/27 [==============================] - 0s 7ms/step - loss: 3.9638 - mse: 3.9638 - mae: 1.4825 - val_loss: 15.3081 - val_mse: 15.3081 - val_mae: 2.5322\n",
            "Epoch 49/50\n",
            "27/27 [==============================] - 0s 7ms/step - loss: 3.9409 - mse: 3.9409 - mae: 1.4902 - val_loss: 14.8725 - val_mse: 14.8725 - val_mae: 2.5141\n",
            "Epoch 50/50\n",
            "27/27 [==============================] - 0s 6ms/step - loss: 3.9717 - mse: 3.9717 - mae: 1.5032 - val_loss: 15.0909 - val_mse: 15.0909 - val_mae: 2.5067\n"
          ],
          "name": "stdout"
        },
        {
          "output_type": "execute_result",
          "data": {
            "text/plain": [
              "<tensorflow.python.keras.callbacks.History at 0x7f3e9ba78198>"
            ]
          },
          "metadata": {
            "tags": []
          },
          "execution_count": 17
        }
      ]
    },
    {
      "cell_type": "markdown",
      "metadata": {
        "id": "fkw3uH92IS_q",
        "colab_type": "text"
      },
      "source": [
        "### Your Turn\n",
        "\n",
        "Pick a few hyparameters that we *have not* tuned. Using the same code above, try changing a few parameters you're interested in and submitting the results to weights & biases. :) "
      ]
    },
    {
      "cell_type": "code",
      "metadata": {
        "id": "QJE4ub24IS_q",
        "colab_type": "code",
        "colab": {
          "base_uri": "https://localhost:8080/",
          "height": 1000
        },
        "outputId": "9e847d0b-0a9d-4b3c-e07a-5db99bbed87a"
      },
      "source": [
        "wandb.init(project=wandb_project, entity=wandb_group) #Initializes and Experiment\n",
        "\n",
        "wandb.config.epochs = 50\n",
        "wandb.config.batch_size = 10\n",
        "wandb.config.activation = 'swish'\n",
        "wandb.config.optimizer = 'nadam'\n",
        "\n",
        "# Create Model\n",
        "model = Sequential()\n",
        "model.add(Dense(64, activation=wandb.config.activation, input_shape=(inputs,)))\n",
        "model.add(Dense(64, activation=wandb.config.activation))\n",
        "model.add(Dense(64, activation=wandb.config.activation))\n",
        "model.add(Dense(1))\n",
        "# Compile Model\n",
        "model.compile(optimizer=wandb.config.optimizer, loss='mse', metrics=['mse', 'mae'])\n",
        "\n",
        "# Fit Model\n",
        "model.fit(X, y, \n",
        "          validation_split=0.33, \n",
        "          epochs=wandb.config.epochs, \n",
        "          batch_size=wandb.config.batch_size, \n",
        "          callbacks=[WandbCallback()] #> make sure to use wand callback in fit\n",
        "         )\n",
        "\n",
        "# # # Fit Model\n",
        "# # model.fit(\n",
        "# #           callbacks=[WandbCallback()]\n",
        "# #          )\n",
        "\n",
        "# # Compile Model\n",
        "# model.compile(optimizer=wandb.config.optimizer, loss='mse', metrics=['mse', 'mae'])\n",
        "\n",
        "# # Fit Model\n",
        "# model.fit(X, y, \n",
        "#           validation_split=0.33, \n",
        "#           epochs=wandb.config.epochs, \n",
        "#           batch_size=wandb.config.batch_size, \n",
        "#           callbacks=[WandbCallback()] #> make sure to use wand callback in fit\n",
        "#          )"
      ],
      "execution_count": 18,
      "outputs": [
        {
          "output_type": "display_data",
          "data": {
            "text/html": [
              "\n",
              "                Logging results to <a href=\"https://wandb.com\" target=\"_blank\">Weights & Biases</a> <a href=\"https://docs.wandb.com/integrations/jupyter.html\" target=\"_blank\">(Documentation)</a>.<br/>\n",
              "                Project page: <a href=\"https://app.wandb.ai/ds8/ds14_inclass\" target=\"_blank\">https://app.wandb.ai/ds8/ds14_inclass</a><br/>\n",
              "                Run page: <a href=\"https://app.wandb.ai/ds8/ds14_inclass/runs/o2f7pk7g\" target=\"_blank\">https://app.wandb.ai/ds8/ds14_inclass/runs/o2f7pk7g</a><br/>\n",
              "            "
            ],
            "text/plain": [
              "<IPython.core.display.HTML object>"
            ]
          },
          "metadata": {
            "tags": []
          }
        },
        {
          "output_type": "stream",
          "text": [
            "Epoch 1/50\n",
            "27/27 [==============================] - 0s 13ms/step - loss: 535.9682 - mse: 535.9682 - mae: 21.5085 - val_loss: 578.0824 - val_mse: 578.0824 - val_mae: 22.1681\n",
            "Epoch 2/50\n",
            "27/27 [==============================] - 0s 10ms/step - loss: 369.2376 - mse: 369.2376 - mae: 17.7415 - val_loss: 263.4400 - val_mse: 263.4400 - val_mae: 13.7779\n",
            "Epoch 3/50\n",
            "27/27 [==============================] - 0s 10ms/step - loss: 123.3885 - mse: 123.3885 - mae: 9.1245 - val_loss: 89.9889 - val_mse: 89.9889 - val_mae: 6.9153\n",
            "Epoch 4/50\n",
            "27/27 [==============================] - 0s 9ms/step - loss: 40.1169 - mse: 40.1169 - mae: 4.5369 - val_loss: 49.3511 - val_mse: 49.3511 - val_mae: 4.6273\n",
            "Epoch 5/50\n",
            "27/27 [==============================] - 0s 9ms/step - loss: 27.1597 - mse: 27.1597 - mae: 3.6608 - val_loss: 41.6718 - val_mse: 41.6718 - val_mae: 4.1420\n",
            "Epoch 6/50\n",
            "27/27 [==============================] - 0s 9ms/step - loss: 22.8933 - mse: 22.8933 - mae: 3.3923 - val_loss: 36.8532 - val_mse: 36.8532 - val_mae: 3.7900\n",
            "Epoch 7/50\n",
            "27/27 [==============================] - 0s 9ms/step - loss: 20.0475 - mse: 20.0475 - mae: 3.1282 - val_loss: 32.8209 - val_mse: 32.8209 - val_mae: 3.5931\n",
            "Epoch 8/50\n",
            "27/27 [==============================] - 0s 9ms/step - loss: 18.2621 - mse: 18.2621 - mae: 3.0269 - val_loss: 29.9566 - val_mse: 29.9566 - val_mae: 3.3515\n",
            "Epoch 9/50\n",
            "27/27 [==============================] - 0s 9ms/step - loss: 16.3458 - mse: 16.3458 - mae: 2.8945 - val_loss: 26.8565 - val_mse: 26.8565 - val_mae: 3.1882\n",
            "Epoch 10/50\n",
            "27/27 [==============================] - 0s 9ms/step - loss: 14.8449 - mse: 14.8449 - mae: 2.7445 - val_loss: 24.6330 - val_mse: 24.6330 - val_mae: 3.0786\n",
            "Epoch 11/50\n",
            "27/27 [==============================] - 0s 9ms/step - loss: 13.3161 - mse: 13.3161 - mae: 2.6345 - val_loss: 24.4794 - val_mse: 24.4794 - val_mae: 3.0039\n",
            "Epoch 12/50\n",
            "27/27 [==============================] - 0s 9ms/step - loss: 12.5530 - mse: 12.5530 - mae: 2.5749 - val_loss: 22.8996 - val_mse: 22.8996 - val_mae: 2.8965\n",
            "Epoch 13/50\n",
            "27/27 [==============================] - 0s 9ms/step - loss: 11.6862 - mse: 11.6862 - mae: 2.4582 - val_loss: 21.1101 - val_mse: 21.1101 - val_mae: 2.7918\n",
            "Epoch 14/50\n",
            "27/27 [==============================] - 0s 9ms/step - loss: 11.0083 - mse: 11.0083 - mae: 2.4247 - val_loss: 19.9250 - val_mse: 19.9250 - val_mae: 2.7574\n",
            "Epoch 15/50\n",
            "27/27 [==============================] - 0s 9ms/step - loss: 10.3145 - mse: 10.3145 - mae: 2.3566 - val_loss: 19.2825 - val_mse: 19.2825 - val_mae: 2.7094\n",
            "Epoch 16/50\n",
            "27/27 [==============================] - 0s 9ms/step - loss: 9.8178 - mse: 9.8178 - mae: 2.2761 - val_loss: 17.8352 - val_mse: 17.8352 - val_mae: 2.6072\n",
            "Epoch 17/50\n",
            "27/27 [==============================] - 0s 10ms/step - loss: 9.2935 - mse: 9.2935 - mae: 2.2469 - val_loss: 17.4925 - val_mse: 17.4925 - val_mae: 2.6524\n",
            "Epoch 18/50\n",
            "27/27 [==============================] - 0s 10ms/step - loss: 9.0637 - mse: 9.0637 - mae: 2.2295 - val_loss: 16.4961 - val_mse: 16.4961 - val_mae: 2.5342\n",
            "Epoch 19/50\n",
            "27/27 [==============================] - 0s 9ms/step - loss: 8.6074 - mse: 8.6074 - mae: 2.1795 - val_loss: 16.4948 - val_mse: 16.4948 - val_mae: 2.5381\n",
            "Epoch 20/50\n",
            "27/27 [==============================] - 0s 9ms/step - loss: 8.3618 - mse: 8.3618 - mae: 2.1077 - val_loss: 16.0734 - val_mse: 16.0734 - val_mae: 2.5891\n",
            "Epoch 21/50\n",
            "27/27 [==============================] - 0s 7ms/step - loss: 8.2934 - mse: 8.2934 - mae: 2.1428 - val_loss: 16.0952 - val_mse: 16.0952 - val_mae: 2.5279\n",
            "Epoch 22/50\n",
            "27/27 [==============================] - 0s 9ms/step - loss: 7.9489 - mse: 7.9489 - mae: 2.0553 - val_loss: 15.4596 - val_mse: 15.4596 - val_mae: 2.4983\n",
            "Epoch 23/50\n",
            "27/27 [==============================] - 0s 7ms/step - loss: 7.7391 - mse: 7.7391 - mae: 2.0894 - val_loss: 16.2363 - val_mse: 16.2363 - val_mae: 2.6184\n",
            "Epoch 24/50\n",
            "27/27 [==============================] - 0s 8ms/step - loss: 7.6670 - mse: 7.6670 - mae: 2.0713 - val_loss: 16.0235 - val_mse: 16.0235 - val_mae: 2.5649\n",
            "Epoch 25/50\n",
            "27/27 [==============================] - 0s 10ms/step - loss: 7.4418 - mse: 7.4418 - mae: 1.9952 - val_loss: 15.1447 - val_mse: 15.1447 - val_mae: 2.4634\n",
            "Epoch 26/50\n",
            "27/27 [==============================] - 0s 9ms/step - loss: 7.4701 - mse: 7.4701 - mae: 2.0447 - val_loss: 15.2961 - val_mse: 15.2961 - val_mae: 2.4997\n",
            "Epoch 27/50\n",
            "27/27 [==============================] - 0s 9ms/step - loss: 7.2837 - mse: 7.2837 - mae: 1.9823 - val_loss: 15.0065 - val_mse: 15.0065 - val_mae: 2.4627\n",
            "Epoch 28/50\n",
            "27/27 [==============================] - 0s 8ms/step - loss: 7.2379 - mse: 7.2379 - mae: 1.9857 - val_loss: 15.4906 - val_mse: 15.4906 - val_mae: 2.5294\n",
            "Epoch 29/50\n",
            "27/27 [==============================] - 0s 7ms/step - loss: 7.1958 - mse: 7.1958 - mae: 2.0313 - val_loss: 15.0859 - val_mse: 15.0859 - val_mae: 2.4604\n",
            "Epoch 30/50\n",
            "27/27 [==============================] - 0s 8ms/step - loss: 7.0972 - mse: 7.0972 - mae: 1.9470 - val_loss: 15.1339 - val_mse: 15.1339 - val_mae: 2.4796\n",
            "Epoch 31/50\n",
            "27/27 [==============================] - 0s 9ms/step - loss: 6.8083 - mse: 6.8083 - mae: 1.9103 - val_loss: 14.9728 - val_mse: 14.9728 - val_mae: 2.5513\n",
            "Epoch 32/50\n",
            "27/27 [==============================] - 0s 8ms/step - loss: 6.8689 - mse: 6.8689 - mae: 1.9655 - val_loss: 16.2740 - val_mse: 16.2740 - val_mae: 2.6113\n",
            "Epoch 33/50\n",
            "27/27 [==============================] - 0s 9ms/step - loss: 6.9273 - mse: 6.9273 - mae: 1.9227 - val_loss: 14.1526 - val_mse: 14.1526 - val_mae: 2.3858\n",
            "Epoch 34/50\n",
            "27/27 [==============================] - 0s 8ms/step - loss: 6.7207 - mse: 6.7207 - mae: 1.9140 - val_loss: 15.5072 - val_mse: 15.5072 - val_mae: 2.5590\n",
            "Epoch 35/50\n",
            "27/27 [==============================] - 0s 9ms/step - loss: 6.7152 - mse: 6.7152 - mae: 1.8881 - val_loss: 14.8488 - val_mse: 14.8488 - val_mae: 2.4285\n",
            "Epoch 36/50\n",
            "27/27 [==============================] - 0s 8ms/step - loss: 6.4624 - mse: 6.4624 - mae: 1.8577 - val_loss: 14.2237 - val_mse: 14.2237 - val_mae: 2.3498\n",
            "Epoch 37/50\n",
            "27/27 [==============================] - 0s 8ms/step - loss: 6.6212 - mse: 6.6212 - mae: 1.8915 - val_loss: 14.1679 - val_mse: 14.1679 - val_mae: 2.3607\n",
            "Epoch 38/50\n",
            "27/27 [==============================] - 0s 7ms/step - loss: 6.4542 - mse: 6.4542 - mae: 1.8933 - val_loss: 15.1944 - val_mse: 15.1944 - val_mae: 2.4887\n",
            "Epoch 39/50\n",
            "27/27 [==============================] - 0s 9ms/step - loss: 6.4821 - mse: 6.4821 - mae: 1.8480 - val_loss: 14.5184 - val_mse: 14.5184 - val_mae: 2.4234\n",
            "Epoch 40/50\n",
            "27/27 [==============================] - 0s 8ms/step - loss: 6.2227 - mse: 6.2227 - mae: 1.7973 - val_loss: 15.0979 - val_mse: 15.0979 - val_mae: 2.5300\n",
            "Epoch 41/50\n",
            "27/27 [==============================] - 0s 8ms/step - loss: 6.3543 - mse: 6.3543 - mae: 1.8352 - val_loss: 14.2630 - val_mse: 14.2630 - val_mae: 2.3742\n",
            "Epoch 42/50\n",
            "27/27 [==============================] - 0s 9ms/step - loss: 6.1913 - mse: 6.1913 - mae: 1.8056 - val_loss: 13.9557 - val_mse: 13.9557 - val_mae: 2.3496\n",
            "Epoch 43/50\n",
            "27/27 [==============================] - 0s 10ms/step - loss: 6.3406 - mse: 6.3406 - mae: 1.8449 - val_loss: 13.7650 - val_mse: 13.7650 - val_mae: 2.3321\n",
            "Epoch 44/50\n",
            "27/27 [==============================] - 0s 9ms/step - loss: 6.0475 - mse: 6.0475 - mae: 1.8141 - val_loss: 13.6133 - val_mse: 13.6133 - val_mae: 2.3230\n",
            "Epoch 45/50\n",
            "27/27 [==============================] - 0s 8ms/step - loss: 5.9644 - mse: 5.9644 - mae: 1.7928 - val_loss: 14.6098 - val_mse: 14.6098 - val_mae: 2.4478\n",
            "Epoch 46/50\n",
            "27/27 [==============================] - 0s 8ms/step - loss: 5.7880 - mse: 5.7880 - mae: 1.7827 - val_loss: 15.1657 - val_mse: 15.1657 - val_mae: 2.5119\n",
            "Epoch 47/50\n",
            "27/27 [==============================] - 0s 9ms/step - loss: 5.8413 - mse: 5.8413 - mae: 1.7504 - val_loss: 14.1662 - val_mse: 14.1662 - val_mae: 2.4490\n",
            "Epoch 48/50\n",
            "27/27 [==============================] - 0s 7ms/step - loss: 5.8174 - mse: 5.8174 - mae: 1.7590 - val_loss: 14.9233 - val_mse: 14.9233 - val_mae: 2.5209\n",
            "Epoch 49/50\n",
            "27/27 [==============================] - 0s 8ms/step - loss: 5.5978 - mse: 5.5978 - mae: 1.7465 - val_loss: 14.4738 - val_mse: 14.4738 - val_mae: 2.4939\n",
            "Epoch 50/50\n",
            "27/27 [==============================] - 0s 8ms/step - loss: 5.5993 - mse: 5.5993 - mae: 1.7519 - val_loss: 14.2863 - val_mse: 14.2863 - val_mae: 2.3482\n"
          ],
          "name": "stdout"
        },
        {
          "output_type": "execute_result",
          "data": {
            "text/plain": [
              "<tensorflow.python.keras.callbacks.History at 0x7f3e9dac9668>"
            ]
          },
          "metadata": {
            "tags": []
          },
          "execution_count": 18
        }
      ]
    },
    {
      "cell_type": "markdown",
      "metadata": {
        "id": "EDMN-cNCIS_u",
        "colab_type": "text"
      },
      "source": [
        "## Challenge\n",
        "\n",
        "You will be expected to use Weights & Biases to try to tune your model during your module assignment today. "
      ]
    },
    {
      "cell_type": "markdown",
      "metadata": {
        "id": "0Z_xC5odIS_u",
        "colab_type": "text"
      },
      "source": [
        "# Hyperparameters with RandomSearchCV (Learn)"
      ]
    },
    {
      "cell_type": "markdown",
      "metadata": {
        "id": "v1hPU9bpIS_v",
        "colab_type": "text"
      },
      "source": [
        "## Overview\n",
        "\n",
        "Basically `GridSearchCV` takes forever. You'll want to adopt a slightly more sophiscated strategy.\n",
        "\n",
        "Let's also take a look at an alternative with Keras-Tuner."
      ]
    },
    {
      "cell_type": "code",
      "metadata": {
        "id": "ogBfL9MAIS_v",
        "colab_type": "code",
        "colab": {
          "base_uri": "https://localhost:8080/",
          "height": 530
        },
        "outputId": "b0413d29-9ddf-4d99-8757-41ef40d9bbea"
      },
      "source": [
        "!pip install keras-tuner"
      ],
      "execution_count": 19,
      "outputs": [
        {
          "output_type": "stream",
          "text": [
            "Collecting keras-tuner\n",
            "\u001b[?25l  Downloading https://files.pythonhosted.org/packages/a7/f7/4b41b6832abf4c9bef71a664dc563adb25afc5812831667c6db572b1a261/keras-tuner-1.0.1.tar.gz (54kB)\n",
            "\r\u001b[K     |██████                          | 10kB 17.5MB/s eta 0:00:01\r\u001b[K     |████████████                    | 20kB 2.2MB/s eta 0:00:01\r\u001b[K     |██████████████████              | 30kB 2.8MB/s eta 0:00:01\r\u001b[K     |████████████████████████        | 40kB 3.1MB/s eta 0:00:01\r\u001b[K     |██████████████████████████████  | 51kB 2.6MB/s eta 0:00:01\r\u001b[K     |████████████████████████████████| 61kB 2.3MB/s \n",
            "\u001b[?25hRequirement already satisfied: future in /usr/local/lib/python3.6/dist-packages (from keras-tuner) (0.16.0)\n",
            "Requirement already satisfied: numpy in /usr/local/lib/python3.6/dist-packages (from keras-tuner) (1.18.5)\n",
            "Requirement already satisfied: tabulate in /usr/local/lib/python3.6/dist-packages (from keras-tuner) (0.8.7)\n",
            "Collecting terminaltables\n",
            "  Downloading https://files.pythonhosted.org/packages/9b/c4/4a21174f32f8a7e1104798c445dacdc1d4df86f2f26722767034e4de4bff/terminaltables-3.1.0.tar.gz\n",
            "Collecting colorama\n",
            "  Downloading https://files.pythonhosted.org/packages/c9/dc/45cdef1b4d119eb96316b3117e6d5708a08029992b2fee2c143c7a0a5cc5/colorama-0.4.3-py2.py3-none-any.whl\n",
            "Requirement already satisfied: tqdm in /usr/local/lib/python3.6/dist-packages (from keras-tuner) (4.41.1)\n",
            "Requirement already satisfied: requests in /usr/local/lib/python3.6/dist-packages (from keras-tuner) (2.23.0)\n",
            "Requirement already satisfied: scipy in /usr/local/lib/python3.6/dist-packages (from keras-tuner) (1.4.1)\n",
            "Requirement already satisfied: scikit-learn in /usr/local/lib/python3.6/dist-packages (from keras-tuner) (0.22.2.post1)\n",
            "Requirement already satisfied: urllib3!=1.25.0,!=1.25.1,<1.26,>=1.21.1 in /usr/local/lib/python3.6/dist-packages (from requests->keras-tuner) (1.24.3)\n",
            "Requirement already satisfied: chardet<4,>=3.0.2 in /usr/local/lib/python3.6/dist-packages (from requests->keras-tuner) (3.0.4)\n",
            "Requirement already satisfied: certifi>=2017.4.17 in /usr/local/lib/python3.6/dist-packages (from requests->keras-tuner) (2020.4.5.1)\n",
            "Requirement already satisfied: idna<3,>=2.5 in /usr/local/lib/python3.6/dist-packages (from requests->keras-tuner) (2.9)\n",
            "Requirement already satisfied: joblib>=0.11 in /usr/local/lib/python3.6/dist-packages (from scikit-learn->keras-tuner) (0.15.1)\n",
            "Building wheels for collected packages: keras-tuner, terminaltables\n",
            "  Building wheel for keras-tuner (setup.py) ... \u001b[?25l\u001b[?25hdone\n",
            "  Created wheel for keras-tuner: filename=keras_tuner-1.0.1-cp36-none-any.whl size=73200 sha256=03e1fb3f8dd7afab1f9391b1fd3424c4373c915a0ee66ba34c65f0fb55355e94\n",
            "  Stored in directory: /root/.cache/pip/wheels/b9/cc/62/52716b70dd90f3db12519233c3a93a5360bc672da1a10ded43\n",
            "  Building wheel for terminaltables (setup.py) ... \u001b[?25l\u001b[?25hdone\n",
            "  Created wheel for terminaltables: filename=terminaltables-3.1.0-cp36-none-any.whl size=15356 sha256=63af1d9e11c3a5e03018f4baf9fa7449c658bb8d4aa91c935a1648ed0a8fca58\n",
            "  Stored in directory: /root/.cache/pip/wheels/30/6b/50/6c75775b681fb36cdfac7f19799888ef9d8813aff9e379663e\n",
            "Successfully built keras-tuner terminaltables\n",
            "Installing collected packages: terminaltables, colorama, keras-tuner\n",
            "Successfully installed colorama-0.4.3 keras-tuner-1.0.1 terminaltables-3.1.0\n"
          ],
          "name": "stdout"
        }
      ]
    },
    {
      "cell_type": "markdown",
      "metadata": {
        "id": "zzVHf6rJIS_x",
        "colab_type": "text"
      },
      "source": [
        "## Follow Along"
      ]
    },
    {
      "cell_type": "code",
      "metadata": {
        "id": "j0EAPS90IS_y",
        "colab_type": "code",
        "colab": {}
      },
      "source": [
        "from tensorflow import keras\n",
        "from tensorflow.keras import layers\n",
        "from kerastuner.tuners import RandomSearch\n",
        "\n",
        "\"\"\"\n",
        "This model Tunes:\n",
        "- Number of Neurons in the Hidden Layer\n",
        "- Learning Rate in Adam\n",
        "\n",
        "\"\"\"\n",
        "\n",
        "def build_model(hp):\n",
        "    model = keras.Sequential()\n",
        "    model.add(layers.Dense(units=hp.Int('units',\n",
        "                                        min_value=32,\n",
        "                                        max_value=512,\n",
        "                                        step=32),\n",
        "                           activation='relu'))\n",
        "    model.add(layers.Dense(1))\n",
        "    model.compile(\n",
        "        optimizer=keras.optimizers.Adam(\n",
        "            hp.Choice('learning_rate',\n",
        "                      values=[1e-2, 1e-3, 1e-4])),\n",
        "        loss='mse',\n",
        "        metrics=['mae'])\n",
        "    \n",
        "    return model"
      ],
      "execution_count": 0,
      "outputs": []
    },
    {
      "cell_type": "code",
      "metadata": {
        "id": "yLXbc9pJIS_1",
        "colab_type": "code",
        "colab": {}
      },
      "source": [
        "tuner = RandomSearch(\n",
        "    build_model,\n",
        "    objective='val_loss',\n",
        "    max_trials=5,\n",
        "    executions_per_trial=3,\n",
        "    directory='./keras-tuner-trial',\n",
        "    project_name='helloworld')"
      ],
      "execution_count": 0,
      "outputs": []
    },
    {
      "cell_type": "code",
      "metadata": {
        "id": "eJimFsvDIS_4",
        "colab_type": "code",
        "colab": {
          "base_uri": "https://localhost:8080/",
          "height": 281
        },
        "outputId": "55e19740-61e0-4a8a-9602-721c858b7617"
      },
      "source": [
        "tuner.search_space_summary()"
      ],
      "execution_count": 24,
      "outputs": [
        {
          "output_type": "display_data",
          "data": {
            "text/html": [
              "<span style=\"color:#4527A0\"><h1 style=\"font-size:18px\">Search space summary</h1></span>"
            ],
            "text/plain": [
              "<IPython.core.display.HTML object>"
            ]
          },
          "metadata": {
            "tags": []
          }
        },
        {
          "output_type": "display_data",
          "data": {
            "text/html": [
              "<span style=\"color:cyan\"> |-Default search space size: 2</span>"
            ],
            "text/plain": [
              "<IPython.core.display.HTML object>"
            ]
          },
          "metadata": {
            "tags": []
          }
        },
        {
          "output_type": "display_data",
          "data": {
            "text/html": [
              "<span style=\"color:#7E57C2\"><h2 style=\"font-size:16px\">units (Int)</h2></span>"
            ],
            "text/plain": [
              "<IPython.core.display.HTML object>"
            ]
          },
          "metadata": {
            "tags": []
          }
        },
        {
          "output_type": "display_data",
          "data": {
            "text/html": [
              "<span style=\"color:cyan\"> |-default: None</span>"
            ],
            "text/plain": [
              "<IPython.core.display.HTML object>"
            ]
          },
          "metadata": {
            "tags": []
          }
        },
        {
          "output_type": "display_data",
          "data": {
            "text/html": [
              "<span style=\"color:blue\"> |-max_value: 512</span>"
            ],
            "text/plain": [
              "<IPython.core.display.HTML object>"
            ]
          },
          "metadata": {
            "tags": []
          }
        },
        {
          "output_type": "display_data",
          "data": {
            "text/html": [
              "<span style=\"color:cyan\"> |-min_value: 32</span>"
            ],
            "text/plain": [
              "<IPython.core.display.HTML object>"
            ]
          },
          "metadata": {
            "tags": []
          }
        },
        {
          "output_type": "display_data",
          "data": {
            "text/html": [
              "<span style=\"color:blue\"> |-sampling: None</span>"
            ],
            "text/plain": [
              "<IPython.core.display.HTML object>"
            ]
          },
          "metadata": {
            "tags": []
          }
        },
        {
          "output_type": "display_data",
          "data": {
            "text/html": [
              "<span style=\"color:cyan\"> |-step: 32</span>"
            ],
            "text/plain": [
              "<IPython.core.display.HTML object>"
            ]
          },
          "metadata": {
            "tags": []
          }
        },
        {
          "output_type": "display_data",
          "data": {
            "text/html": [
              "<span style=\"color:#7E57C2\"><h2 style=\"font-size:16px\">learning_rate (Choice)</h2></span>"
            ],
            "text/plain": [
              "<IPython.core.display.HTML object>"
            ]
          },
          "metadata": {
            "tags": []
          }
        },
        {
          "output_type": "display_data",
          "data": {
            "text/html": [
              "<span style=\"color:cyan\"> |-default: 0.01</span>"
            ],
            "text/plain": [
              "<IPython.core.display.HTML object>"
            ]
          },
          "metadata": {
            "tags": []
          }
        },
        {
          "output_type": "display_data",
          "data": {
            "text/html": [
              "<span style=\"color:blue\"> |-ordered: True</span>"
            ],
            "text/plain": [
              "<IPython.core.display.HTML object>"
            ]
          },
          "metadata": {
            "tags": []
          }
        },
        {
          "output_type": "display_data",
          "data": {
            "text/html": [
              "<span style=\"color:cyan\"> |-values: [0.01, 0.001, 0.0001]</span>"
            ],
            "text/plain": [
              "<IPython.core.display.HTML object>"
            ]
          },
          "metadata": {
            "tags": []
          }
        }
      ]
    },
    {
      "cell_type": "code",
      "metadata": {
        "id": "c3du07O4IS_6",
        "colab_type": "code",
        "colab": {
          "base_uri": "https://localhost:8080/",
          "height": 1000
        },
        "outputId": "45139353-e4db-4cf5-f046-624071c67f1a"
      },
      "source": [
        "tuner.search(X, Y,\n",
        "             epochs=5,\n",
        "             validation_split=(.1))"
      ],
      "execution_count": 26,
      "outputs": [
        {
          "output_type": "stream",
          "text": [
            "Epoch 1/5\n",
            "WARNING:tensorflow:Layer dense is casting an input tensor from dtype float64 to the layer's dtype of float32, which is new behavior in TensorFlow 2.  The layer has dtype float32 because it's dtype defaults to floatx.\n",
            "\n",
            "If you intended to run this layer in float32, you can safely ignore this warning. If in doubt, this warning is likely only an issue if you are porting a TensorFlow 1.X model to TensorFlow 2.\n",
            "\n",
            "To change all layers to have dtype float64 by default, call `tf.keras.backend.set_floatx('float64')`. To change just this layer, pass dtype='float64' to the layer constructor. If you are the author of this layer, you can disable autocasting by passing autocast=False to the base Layer constructor.\n",
            "\n",
            "12/12 [==============================] - 0s 17ms/step - loss: 0.4211 - mae: 0.5462 - val_loss: 0.2895 - val_mae: 0.5025\n",
            "Epoch 2/5\n",
            "12/12 [==============================] - 0s 8ms/step - loss: 0.2815 - mae: 0.4642 - val_loss: 0.2771 - val_mae: 0.4549\n",
            "Epoch 3/5\n",
            "12/12 [==============================] - 0s 8ms/step - loss: 0.2648 - mae: 0.4509 - val_loss: 0.2426 - val_mae: 0.4758\n",
            "Epoch 4/5\n",
            "12/12 [==============================] - 0s 7ms/step - loss: 0.2537 - mae: 0.4546 - val_loss: 0.2515 - val_mae: 0.4781\n",
            "Epoch 5/5\n",
            "12/12 [==============================] - 0s 10ms/step - loss: 0.2250 - mae: 0.4384 - val_loss: 0.2259 - val_mae: 0.4296\n",
            "Epoch 1/5\n",
            "WARNING:tensorflow:Layer dense is casting an input tensor from dtype float64 to the layer's dtype of float32, which is new behavior in TensorFlow 2.  The layer has dtype float32 because it's dtype defaults to floatx.\n",
            "\n",
            "If you intended to run this layer in float32, you can safely ignore this warning. If in doubt, this warning is likely only an issue if you are porting a TensorFlow 1.X model to TensorFlow 2.\n",
            "\n",
            "To change all layers to have dtype float64 by default, call `tf.keras.backend.set_floatx('float64')`. To change just this layer, pass dtype='float64' to the layer constructor. If you are the author of this layer, you can disable autocasting by passing autocast=False to the base Layer constructor.\n",
            "\n",
            "12/12 [==============================] - 0s 13ms/step - loss: 0.4159 - mae: 0.5355 - val_loss: 0.3248 - val_mae: 0.4893\n",
            "Epoch 2/5\n",
            "12/12 [==============================] - 0s 7ms/step - loss: 0.2692 - mae: 0.4585 - val_loss: 0.2486 - val_mae: 0.4667\n",
            "Epoch 3/5\n",
            "12/12 [==============================] - 0s 7ms/step - loss: 0.2451 - mae: 0.4431 - val_loss: 0.2768 - val_mae: 0.5077\n",
            "Epoch 4/5\n",
            "12/12 [==============================] - 0s 7ms/step - loss: 0.2280 - mae: 0.4302 - val_loss: 0.2304 - val_mae: 0.4598\n",
            "Epoch 5/5\n",
            "12/12 [==============================] - 0s 7ms/step - loss: 0.2322 - mae: 0.4414 - val_loss: 0.2747 - val_mae: 0.4881\n",
            "Epoch 1/5\n",
            "WARNING:tensorflow:Layer dense is casting an input tensor from dtype float64 to the layer's dtype of float32, which is new behavior in TensorFlow 2.  The layer has dtype float32 because it's dtype defaults to floatx.\n",
            "\n",
            "If you intended to run this layer in float32, you can safely ignore this warning. If in doubt, this warning is likely only an issue if you are porting a TensorFlow 1.X model to TensorFlow 2.\n",
            "\n",
            "To change all layers to have dtype float64 by default, call `tf.keras.backend.set_floatx('float64')`. To change just this layer, pass dtype='float64' to the layer constructor. If you are the author of this layer, you can disable autocasting by passing autocast=False to the base Layer constructor.\n",
            "\n",
            "12/12 [==============================] - 0s 16ms/step - loss: 0.3640 - mae: 0.5138 - val_loss: 0.3241 - val_mae: 0.4972\n",
            "Epoch 2/5\n",
            "12/12 [==============================] - 0s 7ms/step - loss: 0.3004 - mae: 0.4814 - val_loss: 0.2459 - val_mae: 0.4377\n",
            "Epoch 3/5\n",
            "12/12 [==============================] - 0s 7ms/step - loss: 0.2692 - mae: 0.4523 - val_loss: 0.3035 - val_mae: 0.5116\n",
            "Epoch 4/5\n",
            "12/12 [==============================] - 0s 9ms/step - loss: 0.2572 - mae: 0.4499 - val_loss: 0.2409 - val_mae: 0.4747\n",
            "Epoch 5/5\n",
            "12/12 [==============================] - 0s 7ms/step - loss: 0.2328 - mae: 0.4291 - val_loss: 0.2354 - val_mae: 0.4664\n"
          ],
          "name": "stdout"
        },
        {
          "output_type": "display_data",
          "data": {
            "text/html": [
              "<span style=\"color:#4527A0\"><h1 style=\"font-size:18px\">Trial complete</h1></span>"
            ],
            "text/plain": [
              "<IPython.core.display.HTML object>"
            ]
          },
          "metadata": {
            "tags": []
          }
        },
        {
          "output_type": "display_data",
          "data": {
            "text/html": [
              "<span style=\"color:#4527A0\"><h1 style=\"font-size:18px\">Trial summary</h1></span>"
            ],
            "text/plain": [
              "<IPython.core.display.HTML object>"
            ]
          },
          "metadata": {
            "tags": []
          }
        },
        {
          "output_type": "display_data",
          "data": {
            "text/html": [
              "<span style=\"color:cyan\"> |-Trial ID: 4dee73ef5176f32ae17924ce32a3d4a5</span>"
            ],
            "text/plain": [
              "<IPython.core.display.HTML object>"
            ]
          },
          "metadata": {
            "tags": []
          }
        },
        {
          "output_type": "display_data",
          "data": {
            "text/html": [
              "<span style=\"color:cyan\"> |-Score: 0.23058222234249115</span>"
            ],
            "text/plain": [
              "<IPython.core.display.HTML object>"
            ]
          },
          "metadata": {
            "tags": []
          }
        },
        {
          "output_type": "display_data",
          "data": {
            "text/html": [
              "<span style=\"color:cyan\"> |-Best step: 0</span>"
            ],
            "text/plain": [
              "<IPython.core.display.HTML object>"
            ]
          },
          "metadata": {
            "tags": []
          }
        },
        {
          "output_type": "display_data",
          "data": {
            "text/html": [
              "<span style=\"color:#7E57C2\"><h2 style=\"font-size:16px\">Hyperparameters:</h2></span>"
            ],
            "text/plain": [
              "<IPython.core.display.HTML object>"
            ]
          },
          "metadata": {
            "tags": []
          }
        },
        {
          "output_type": "display_data",
          "data": {
            "text/html": [
              "<span style=\"color:cyan\"> |-learning_rate: 0.01</span>"
            ],
            "text/plain": [
              "<IPython.core.display.HTML object>"
            ]
          },
          "metadata": {
            "tags": []
          }
        },
        {
          "output_type": "display_data",
          "data": {
            "text/html": [
              "<span style=\"color:blue\"> |-units: 256</span>"
            ],
            "text/plain": [
              "<IPython.core.display.HTML object>"
            ]
          },
          "metadata": {
            "tags": []
          }
        },
        {
          "output_type": "stream",
          "text": [
            "Epoch 1/5\n",
            "WARNING:tensorflow:Layer dense is casting an input tensor from dtype float64 to the layer's dtype of float32, which is new behavior in TensorFlow 2.  The layer has dtype float32 because it's dtype defaults to floatx.\n",
            "\n",
            "If you intended to run this layer in float32, you can safely ignore this warning. If in doubt, this warning is likely only an issue if you are porting a TensorFlow 1.X model to TensorFlow 2.\n",
            "\n",
            "To change all layers to have dtype float64 by default, call `tf.keras.backend.set_floatx('float64')`. To change just this layer, pass dtype='float64' to the layer constructor. If you are the author of this layer, you can disable autocasting by passing autocast=False to the base Layer constructor.\n",
            "\n",
            "12/12 [==============================] - 0s 16ms/step - loss: 0.4403 - mae: 0.5142 - val_loss: 0.4715 - val_mae: 0.5188\n",
            "Epoch 2/5\n",
            "12/12 [==============================] - 0s 8ms/step - loss: 0.3743 - mae: 0.4681 - val_loss: 0.4077 - val_mae: 0.4851\n",
            "Epoch 3/5\n",
            "12/12 [==============================] - 0s 8ms/step - loss: 0.3296 - mae: 0.4404 - val_loss: 0.3596 - val_mae: 0.4751\n",
            "Epoch 4/5\n",
            "12/12 [==============================] - 0s 8ms/step - loss: 0.3005 - mae: 0.4384 - val_loss: 0.3307 - val_mae: 0.4778\n",
            "Epoch 5/5\n",
            "12/12 [==============================] - 0s 8ms/step - loss: 0.2818 - mae: 0.4435 - val_loss: 0.3110 - val_mae: 0.4799\n",
            "Epoch 1/5\n",
            "WARNING:tensorflow:Layer dense is casting an input tensor from dtype float64 to the layer's dtype of float32, which is new behavior in TensorFlow 2.  The layer has dtype float32 because it's dtype defaults to floatx.\n",
            "\n",
            "If you intended to run this layer in float32, you can safely ignore this warning. If in doubt, this warning is likely only an issue if you are porting a TensorFlow 1.X model to TensorFlow 2.\n",
            "\n",
            "To change all layers to have dtype float64 by default, call `tf.keras.backend.set_floatx('float64')`. To change just this layer, pass dtype='float64' to the layer constructor. If you are the author of this layer, you can disable autocasting by passing autocast=False to the base Layer constructor.\n",
            "\n",
            "12/12 [==============================] - 0s 13ms/step - loss: 0.5661 - mae: 0.5662 - val_loss: 0.4674 - val_mae: 0.4960\n",
            "Epoch 2/5\n",
            "12/12 [==============================] - 0s 7ms/step - loss: 0.4819 - mae: 0.5125 - val_loss: 0.4016 - val_mae: 0.4523\n",
            "Epoch 3/5\n",
            "12/12 [==============================] - 0s 7ms/step - loss: 0.4172 - mae: 0.4695 - val_loss: 0.3544 - val_mae: 0.4259\n",
            "Epoch 4/5\n",
            "12/12 [==============================] - 0s 8ms/step - loss: 0.3697 - mae: 0.4478 - val_loss: 0.3199 - val_mae: 0.4275\n",
            "Epoch 5/5\n",
            "12/12 [==============================] - 0s 8ms/step - loss: 0.3389 - mae: 0.4441 - val_loss: 0.2956 - val_mae: 0.4376\n",
            "Epoch 1/5\n",
            "WARNING:tensorflow:Layer dense is casting an input tensor from dtype float64 to the layer's dtype of float32, which is new behavior in TensorFlow 2.  The layer has dtype float32 because it's dtype defaults to floatx.\n",
            "\n",
            "If you intended to run this layer in float32, you can safely ignore this warning. If in doubt, this warning is likely only an issue if you are porting a TensorFlow 1.X model to TensorFlow 2.\n",
            "\n",
            "To change all layers to have dtype float64 by default, call `tf.keras.backend.set_floatx('float64')`. To change just this layer, pass dtype='float64' to the layer constructor. If you are the author of this layer, you can disable autocasting by passing autocast=False to the base Layer constructor.\n",
            "\n",
            "12/12 [==============================] - 0s 13ms/step - loss: 0.4233 - mae: 0.4602 - val_loss: 0.3326 - val_mae: 0.3999\n",
            "Epoch 2/5\n",
            "12/12 [==============================] - 0s 8ms/step - loss: 0.3630 - mae: 0.4263 - val_loss: 0.2896 - val_mae: 0.3845\n",
            "Epoch 3/5\n",
            "12/12 [==============================] - 0s 9ms/step - loss: 0.3214 - mae: 0.4216 - val_loss: 0.2617 - val_mae: 0.3940\n",
            "Epoch 4/5\n",
            "12/12 [==============================] - 0s 9ms/step - loss: 0.2962 - mae: 0.4311 - val_loss: 0.2437 - val_mae: 0.4055\n",
            "Epoch 5/5\n",
            "12/12 [==============================] - 0s 8ms/step - loss: 0.2774 - mae: 0.4397 - val_loss: 0.2318 - val_mae: 0.4161\n"
          ],
          "name": "stdout"
        },
        {
          "output_type": "display_data",
          "data": {
            "text/html": [
              "<span style=\"color:#4527A0\"><h1 style=\"font-size:18px\">Trial complete</h1></span>"
            ],
            "text/plain": [
              "<IPython.core.display.HTML object>"
            ]
          },
          "metadata": {
            "tags": []
          }
        },
        {
          "output_type": "display_data",
          "data": {
            "text/html": [
              "<span style=\"color:#4527A0\"><h1 style=\"font-size:18px\">Trial summary</h1></span>"
            ],
            "text/plain": [
              "<IPython.core.display.HTML object>"
            ]
          },
          "metadata": {
            "tags": []
          }
        },
        {
          "output_type": "display_data",
          "data": {
            "text/html": [
              "<span style=\"color:cyan\"> |-Trial ID: 1c54f83cfa9bd47683b8d7ff78db95f5</span>"
            ],
            "text/plain": [
              "<IPython.core.display.HTML object>"
            ]
          },
          "metadata": {
            "tags": []
          }
        },
        {
          "output_type": "display_data",
          "data": {
            "text/html": [
              "<span style=\"color:cyan\"> |-Score: 0.27944958706696826</span>"
            ],
            "text/plain": [
              "<IPython.core.display.HTML object>"
            ]
          },
          "metadata": {
            "tags": []
          }
        },
        {
          "output_type": "display_data",
          "data": {
            "text/html": [
              "<span style=\"color:cyan\"> |-Best step: 0</span>"
            ],
            "text/plain": [
              "<IPython.core.display.HTML object>"
            ]
          },
          "metadata": {
            "tags": []
          }
        },
        {
          "output_type": "display_data",
          "data": {
            "text/html": [
              "<span style=\"color:#7E57C2\"><h2 style=\"font-size:16px\">Hyperparameters:</h2></span>"
            ],
            "text/plain": [
              "<IPython.core.display.HTML object>"
            ]
          },
          "metadata": {
            "tags": []
          }
        },
        {
          "output_type": "display_data",
          "data": {
            "text/html": [
              "<span style=\"color:cyan\"> |-learning_rate: 0.0001</span>"
            ],
            "text/plain": [
              "<IPython.core.display.HTML object>"
            ]
          },
          "metadata": {
            "tags": []
          }
        },
        {
          "output_type": "display_data",
          "data": {
            "text/html": [
              "<span style=\"color:blue\"> |-units: 288</span>"
            ],
            "text/plain": [
              "<IPython.core.display.HTML object>"
            ]
          },
          "metadata": {
            "tags": []
          }
        },
        {
          "output_type": "stream",
          "text": [
            "Epoch 1/5\n",
            "WARNING:tensorflow:Layer dense is casting an input tensor from dtype float64 to the layer's dtype of float32, which is new behavior in TensorFlow 2.  The layer has dtype float32 because it's dtype defaults to floatx.\n",
            "\n",
            "If you intended to run this layer in float32, you can safely ignore this warning. If in doubt, this warning is likely only an issue if you are porting a TensorFlow 1.X model to TensorFlow 2.\n",
            "\n",
            "To change all layers to have dtype float64 by default, call `tf.keras.backend.set_floatx('float64')`. To change just this layer, pass dtype='float64' to the layer constructor. If you are the author of this layer, you can disable autocasting by passing autocast=False to the base Layer constructor.\n",
            "\n",
            "12/12 [==============================] - 0s 17ms/step - loss: 0.2904 - mae: 0.4764 - val_loss: 0.2518 - val_mae: 0.4806\n",
            "Epoch 2/5\n",
            "12/12 [==============================] - 0s 8ms/step - loss: 0.2533 - mae: 0.4749 - val_loss: 0.2238 - val_mae: 0.4462\n",
            "Epoch 3/5\n",
            "12/12 [==============================] - 0s 7ms/step - loss: 0.2371 - mae: 0.4490 - val_loss: 0.2320 - val_mae: 0.4560\n",
            "Epoch 4/5\n",
            "12/12 [==============================] - 0s 7ms/step - loss: 0.2303 - mae: 0.4448 - val_loss: 0.2302 - val_mae: 0.4597\n",
            "Epoch 5/5\n",
            "12/12 [==============================] - 0s 11ms/step - loss: 0.2258 - mae: 0.4461 - val_loss: 0.2366 - val_mae: 0.4667\n",
            "Epoch 1/5\n",
            "WARNING:tensorflow:Layer dense is casting an input tensor from dtype float64 to the layer's dtype of float32, which is new behavior in TensorFlow 2.  The layer has dtype float32 because it's dtype defaults to floatx.\n",
            "\n",
            "If you intended to run this layer in float32, you can safely ignore this warning. If in doubt, this warning is likely only an issue if you are porting a TensorFlow 1.X model to TensorFlow 2.\n",
            "\n",
            "To change all layers to have dtype float64 by default, call `tf.keras.backend.set_floatx('float64')`. To change just this layer, pass dtype='float64' to the layer constructor. If you are the author of this layer, you can disable autocasting by passing autocast=False to the base Layer constructor.\n",
            "\n",
            "12/12 [==============================] - 0s 13ms/step - loss: 0.4502 - mae: 0.5094 - val_loss: 0.2602 - val_mae: 0.4436\n",
            "Epoch 2/5\n",
            "12/12 [==============================] - 0s 8ms/step - loss: 0.2709 - mae: 0.4812 - val_loss: 0.2647 - val_mae: 0.4848\n",
            "Epoch 3/5\n",
            "12/12 [==============================] - 0s 8ms/step - loss: 0.2536 - mae: 0.4807 - val_loss: 0.2256 - val_mae: 0.4444\n",
            "Epoch 4/5\n",
            "12/12 [==============================] - 0s 7ms/step - loss: 0.2347 - mae: 0.4459 - val_loss: 0.2275 - val_mae: 0.4379\n",
            "Epoch 5/5\n",
            "12/12 [==============================] - 0s 7ms/step - loss: 0.2296 - mae: 0.4389 - val_loss: 0.2262 - val_mae: 0.4514\n",
            "Epoch 1/5\n",
            "WARNING:tensorflow:Layer dense is casting an input tensor from dtype float64 to the layer's dtype of float32, which is new behavior in TensorFlow 2.  The layer has dtype float32 because it's dtype defaults to floatx.\n",
            "\n",
            "If you intended to run this layer in float32, you can safely ignore this warning. If in doubt, this warning is likely only an issue if you are porting a TensorFlow 1.X model to TensorFlow 2.\n",
            "\n",
            "To change all layers to have dtype float64 by default, call `tf.keras.backend.set_floatx('float64')`. To change just this layer, pass dtype='float64' to the layer constructor. If you are the author of this layer, you can disable autocasting by passing autocast=False to the base Layer constructor.\n",
            "\n",
            "12/12 [==============================] - 0s 13ms/step - loss: 0.3412 - mae: 0.4804 - val_loss: 0.2752 - val_mae: 0.4816\n",
            "Epoch 2/5\n",
            "12/12 [==============================] - 0s 10ms/step - loss: 0.2683 - mae: 0.4923 - val_loss: 0.2387 - val_mae: 0.4700\n",
            "Epoch 3/5\n",
            "12/12 [==============================] - 0s 7ms/step - loss: 0.2518 - mae: 0.4596 - val_loss: 0.2379 - val_mae: 0.4623\n",
            "Epoch 4/5\n",
            "12/12 [==============================] - 0s 7ms/step - loss: 0.2359 - mae: 0.4582 - val_loss: 0.2334 - val_mae: 0.4697\n",
            "Epoch 5/5\n",
            "12/12 [==============================] - 0s 7ms/step - loss: 0.2318 - mae: 0.4580 - val_loss: 0.2427 - val_mae: 0.4737\n"
          ],
          "name": "stdout"
        },
        {
          "output_type": "display_data",
          "data": {
            "text/html": [
              "<span style=\"color:#4527A0\"><h1 style=\"font-size:18px\">Trial complete</h1></span>"
            ],
            "text/plain": [
              "<IPython.core.display.HTML object>"
            ]
          },
          "metadata": {
            "tags": []
          }
        },
        {
          "output_type": "display_data",
          "data": {
            "text/html": [
              "<span style=\"color:#4527A0\"><h1 style=\"font-size:18px\">Trial summary</h1></span>"
            ],
            "text/plain": [
              "<IPython.core.display.HTML object>"
            ]
          },
          "metadata": {
            "tags": []
          }
        },
        {
          "output_type": "display_data",
          "data": {
            "text/html": [
              "<span style=\"color:cyan\"> |-Trial ID: 0bff9c9945402d1473dff5663ed568b5</span>"
            ],
            "text/plain": [
              "<IPython.core.display.HTML object>"
            ]
          },
          "metadata": {
            "tags": []
          }
        },
        {
          "output_type": "display_data",
          "data": {
            "text/html": [
              "<span style=\"color:cyan\"> |-Score: 0.22757278382778168</span>"
            ],
            "text/plain": [
              "<IPython.core.display.HTML object>"
            ]
          },
          "metadata": {
            "tags": []
          }
        },
        {
          "output_type": "display_data",
          "data": {
            "text/html": [
              "<span style=\"color:cyan\"> |-Best step: 0</span>"
            ],
            "text/plain": [
              "<IPython.core.display.HTML object>"
            ]
          },
          "metadata": {
            "tags": []
          }
        },
        {
          "output_type": "display_data",
          "data": {
            "text/html": [
              "<span style=\"color:#7E57C2\"><h2 style=\"font-size:16px\">Hyperparameters:</h2></span>"
            ],
            "text/plain": [
              "<IPython.core.display.HTML object>"
            ]
          },
          "metadata": {
            "tags": []
          }
        },
        {
          "output_type": "display_data",
          "data": {
            "text/html": [
              "<span style=\"color:cyan\"> |-learning_rate: 0.001</span>"
            ],
            "text/plain": [
              "<IPython.core.display.HTML object>"
            ]
          },
          "metadata": {
            "tags": []
          }
        },
        {
          "output_type": "display_data",
          "data": {
            "text/html": [
              "<span style=\"color:blue\"> |-units: 160</span>"
            ],
            "text/plain": [
              "<IPython.core.display.HTML object>"
            ]
          },
          "metadata": {
            "tags": []
          }
        },
        {
          "output_type": "stream",
          "text": [
            "Epoch 1/5\n",
            "WARNING:tensorflow:Layer dense is casting an input tensor from dtype float64 to the layer's dtype of float32, which is new behavior in TensorFlow 2.  The layer has dtype float32 because it's dtype defaults to floatx.\n",
            "\n",
            "If you intended to run this layer in float32, you can safely ignore this warning. If in doubt, this warning is likely only an issue if you are porting a TensorFlow 1.X model to TensorFlow 2.\n",
            "\n",
            "To change all layers to have dtype float64 by default, call `tf.keras.backend.set_floatx('float64')`. To change just this layer, pass dtype='float64' to the layer constructor. If you are the author of this layer, you can disable autocasting by passing autocast=False to the base Layer constructor.\n",
            "\n",
            "12/12 [==============================] - 0s 18ms/step - loss: 0.3475 - mae: 0.4907 - val_loss: 0.2326 - val_mae: 0.4567\n",
            "Epoch 2/5\n",
            "12/12 [==============================] - 0s 8ms/step - loss: 0.2442 - mae: 0.4651 - val_loss: 0.2364 - val_mae: 0.4409\n",
            "Epoch 3/5\n",
            "12/12 [==============================] - 0s 8ms/step - loss: 0.2364 - mae: 0.4357 - val_loss: 0.2125 - val_mae: 0.4263\n",
            "Epoch 4/5\n",
            "12/12 [==============================] - 0s 8ms/step - loss: 0.2240 - mae: 0.4495 - val_loss: 0.2225 - val_mae: 0.4509\n",
            "Epoch 5/5\n",
            "12/12 [==============================] - 0s 7ms/step - loss: 0.2200 - mae: 0.4360 - val_loss: 0.2328 - val_mae: 0.4622\n",
            "Epoch 1/5\n",
            "WARNING:tensorflow:Layer dense is casting an input tensor from dtype float64 to the layer's dtype of float32, which is new behavior in TensorFlow 2.  The layer has dtype float32 because it's dtype defaults to floatx.\n",
            "\n",
            "If you intended to run this layer in float32, you can safely ignore this warning. If in doubt, this warning is likely only an issue if you are porting a TensorFlow 1.X model to TensorFlow 2.\n",
            "\n",
            "To change all layers to have dtype float64 by default, call `tf.keras.backend.set_floatx('float64')`. To change just this layer, pass dtype='float64' to the layer constructor. If you are the author of this layer, you can disable autocasting by passing autocast=False to the base Layer constructor.\n",
            "\n",
            "12/12 [==============================] - 0s 14ms/step - loss: 0.3106 - mae: 0.4782 - val_loss: 0.2161 - val_mae: 0.4490\n",
            "Epoch 2/5\n",
            "12/12 [==============================] - 0s 7ms/step - loss: 0.2442 - mae: 0.4589 - val_loss: 0.2215 - val_mae: 0.4320\n",
            "Epoch 3/5\n",
            "12/12 [==============================] - 0s 9ms/step - loss: 0.2314 - mae: 0.4410 - val_loss: 0.2272 - val_mae: 0.4514\n",
            "Epoch 4/5\n",
            "12/12 [==============================] - 0s 9ms/step - loss: 0.2232 - mae: 0.4525 - val_loss: 0.2527 - val_mae: 0.4751\n",
            "Epoch 5/5\n",
            "12/12 [==============================] - 0s 7ms/step - loss: 0.2177 - mae: 0.4371 - val_loss: 0.2265 - val_mae: 0.4537\n",
            "Epoch 1/5\n",
            "WARNING:tensorflow:Layer dense is casting an input tensor from dtype float64 to the layer's dtype of float32, which is new behavior in TensorFlow 2.  The layer has dtype float32 because it's dtype defaults to floatx.\n",
            "\n",
            "If you intended to run this layer in float32, you can safely ignore this warning. If in doubt, this warning is likely only an issue if you are porting a TensorFlow 1.X model to TensorFlow 2.\n",
            "\n",
            "To change all layers to have dtype float64 by default, call `tf.keras.backend.set_floatx('float64')`. To change just this layer, pass dtype='float64' to the layer constructor. If you are the author of this layer, you can disable autocasting by passing autocast=False to the base Layer constructor.\n",
            "\n",
            "12/12 [==============================] - 0s 16ms/step - loss: 0.2923 - mae: 0.4621 - val_loss: 0.2708 - val_mae: 0.5082\n",
            "Epoch 2/5\n",
            "12/12 [==============================] - 0s 7ms/step - loss: 0.2427 - mae: 0.4733 - val_loss: 0.2337 - val_mae: 0.4466\n",
            "Epoch 3/5\n",
            "12/12 [==============================] - 0s 7ms/step - loss: 0.2342 - mae: 0.4477 - val_loss: 0.2320 - val_mae: 0.4665\n",
            "Epoch 4/5\n",
            "12/12 [==============================] - 0s 7ms/step - loss: 0.2218 - mae: 0.4424 - val_loss: 0.2345 - val_mae: 0.4569\n",
            "Epoch 5/5\n",
            "12/12 [==============================] - 0s 10ms/step - loss: 0.2162 - mae: 0.4382 - val_loss: 0.2345 - val_mae: 0.4688\n"
          ],
          "name": "stdout"
        },
        {
          "output_type": "display_data",
          "data": {
            "text/html": [
              "<span style=\"color:#4527A0\"><h1 style=\"font-size:18px\">Trial complete</h1></span>"
            ],
            "text/plain": [
              "<IPython.core.display.HTML object>"
            ]
          },
          "metadata": {
            "tags": []
          }
        },
        {
          "output_type": "display_data",
          "data": {
            "text/html": [
              "<span style=\"color:#4527A0\"><h1 style=\"font-size:18px\">Trial summary</h1></span>"
            ],
            "text/plain": [
              "<IPython.core.display.HTML object>"
            ]
          },
          "metadata": {
            "tags": []
          }
        },
        {
          "output_type": "display_data",
          "data": {
            "text/html": [
              "<span style=\"color:cyan\"> |-Trial ID: 9406eea573c6157cd1ec75b8a97ab22b</span>"
            ],
            "text/plain": [
              "<IPython.core.display.HTML object>"
            ]
          },
          "metadata": {
            "tags": []
          }
        },
        {
          "output_type": "display_data",
          "data": {
            "text/html": [
              "<span style=\"color:cyan\"> |-Score: 0.220182533065478</span>"
            ],
            "text/plain": [
              "<IPython.core.display.HTML object>"
            ]
          },
          "metadata": {
            "tags": []
          }
        },
        {
          "output_type": "display_data",
          "data": {
            "text/html": [
              "<span style=\"color:cyan\"> |-Best step: 0</span>"
            ],
            "text/plain": [
              "<IPython.core.display.HTML object>"
            ]
          },
          "metadata": {
            "tags": []
          }
        },
        {
          "output_type": "display_data",
          "data": {
            "text/html": [
              "<span style=\"color:#7E57C2\"><h2 style=\"font-size:16px\">Hyperparameters:</h2></span>"
            ],
            "text/plain": [
              "<IPython.core.display.HTML object>"
            ]
          },
          "metadata": {
            "tags": []
          }
        },
        {
          "output_type": "display_data",
          "data": {
            "text/html": [
              "<span style=\"color:cyan\"> |-learning_rate: 0.001</span>"
            ],
            "text/plain": [
              "<IPython.core.display.HTML object>"
            ]
          },
          "metadata": {
            "tags": []
          }
        },
        {
          "output_type": "display_data",
          "data": {
            "text/html": [
              "<span style=\"color:blue\"> |-units: 416</span>"
            ],
            "text/plain": [
              "<IPython.core.display.HTML object>"
            ]
          },
          "metadata": {
            "tags": []
          }
        },
        {
          "output_type": "stream",
          "text": [
            "Epoch 1/5\n",
            "WARNING:tensorflow:Layer dense is casting an input tensor from dtype float64 to the layer's dtype of float32, which is new behavior in TensorFlow 2.  The layer has dtype float32 because it's dtype defaults to floatx.\n",
            "\n",
            "If you intended to run this layer in float32, you can safely ignore this warning. If in doubt, this warning is likely only an issue if you are porting a TensorFlow 1.X model to TensorFlow 2.\n",
            "\n",
            "To change all layers to have dtype float64 by default, call `tf.keras.backend.set_floatx('float64')`. To change just this layer, pass dtype='float64' to the layer constructor. If you are the author of this layer, you can disable autocasting by passing autocast=False to the base Layer constructor.\n",
            "\n",
            "12/12 [==============================] - 0s 15ms/step - loss: 2.8405 - mae: 1.4393 - val_loss: 2.3608 - val_mae: 1.2915\n",
            "Epoch 2/5\n",
            "12/12 [==============================] - 0s 8ms/step - loss: 2.7471 - mae: 1.4130 - val_loss: 2.2837 - val_mae: 1.2665\n",
            "Epoch 3/5\n",
            "12/12 [==============================] - 0s 10ms/step - loss: 2.6577 - mae: 1.3879 - val_loss: 2.2099 - val_mae: 1.2421\n",
            "Epoch 4/5\n",
            "12/12 [==============================] - 0s 9ms/step - loss: 2.5731 - mae: 1.3632 - val_loss: 2.1381 - val_mae: 1.2190\n",
            "Epoch 5/5\n",
            "12/12 [==============================] - 0s 9ms/step - loss: 2.4920 - mae: 1.3390 - val_loss: 2.0691 - val_mae: 1.1971\n",
            "Epoch 1/5\n",
            "WARNING:tensorflow:Layer dense is casting an input tensor from dtype float64 to the layer's dtype of float32, which is new behavior in TensorFlow 2.  The layer has dtype float32 because it's dtype defaults to floatx.\n",
            "\n",
            "If you intended to run this layer in float32, you can safely ignore this warning. If in doubt, this warning is likely only an issue if you are porting a TensorFlow 1.X model to TensorFlow 2.\n",
            "\n",
            "To change all layers to have dtype float64 by default, call `tf.keras.backend.set_floatx('float64')`. To change just this layer, pass dtype='float64' to the layer constructor. If you are the author of this layer, you can disable autocasting by passing autocast=False to the base Layer constructor.\n",
            "\n",
            "12/12 [==============================] - 0s 19ms/step - loss: 0.6474 - mae: 0.6207 - val_loss: 0.4856 - val_mae: 0.5279\n",
            "Epoch 2/5\n",
            "12/12 [==============================] - 0s 8ms/step - loss: 0.6165 - mae: 0.6018 - val_loss: 0.4592 - val_mae: 0.5177\n",
            "Epoch 3/5\n",
            "12/12 [==============================] - 0s 8ms/step - loss: 0.5886 - mae: 0.5849 - val_loss: 0.4354 - val_mae: 0.5095\n",
            "Epoch 4/5\n",
            "12/12 [==============================] - 0s 10ms/step - loss: 0.5631 - mae: 0.5691 - val_loss: 0.4139 - val_mae: 0.5024\n",
            "Epoch 5/5\n",
            "12/12 [==============================] - 0s 8ms/step - loss: 0.5400 - mae: 0.5545 - val_loss: 0.3950 - val_mae: 0.4957\n",
            "Epoch 1/5\n",
            "WARNING:tensorflow:Layer dense is casting an input tensor from dtype float64 to the layer's dtype of float32, which is new behavior in TensorFlow 2.  The layer has dtype float32 because it's dtype defaults to floatx.\n",
            "\n",
            "If you intended to run this layer in float32, you can safely ignore this warning. If in doubt, this warning is likely only an issue if you are porting a TensorFlow 1.X model to TensorFlow 2.\n",
            "\n",
            "To change all layers to have dtype float64 by default, call `tf.keras.backend.set_floatx('float64')`. To change just this layer, pass dtype='float64' to the layer constructor. If you are the author of this layer, you can disable autocasting by passing autocast=False to the base Layer constructor.\n",
            "\n",
            "12/12 [==============================] - 0s 14ms/step - loss: 0.7699 - mae: 0.7079 - val_loss: 1.1943 - val_mae: 0.8528\n",
            "Epoch 2/5\n",
            "12/12 [==============================] - 0s 8ms/step - loss: 0.7267 - mae: 0.6907 - val_loss: 1.1304 - val_mae: 0.8364\n",
            "Epoch 3/5\n",
            "12/12 [==============================] - 0s 7ms/step - loss: 0.6864 - mae: 0.6756 - val_loss: 1.0721 - val_mae: 0.8207\n",
            "Epoch 4/5\n",
            "12/12 [==============================] - 0s 7ms/step - loss: 0.6495 - mae: 0.6605 - val_loss: 1.0196 - val_mae: 0.8058\n",
            "Epoch 5/5\n",
            "12/12 [==============================] - 0s 7ms/step - loss: 0.6160 - mae: 0.6467 - val_loss: 0.9701 - val_mae: 0.7910\n"
          ],
          "name": "stdout"
        },
        {
          "output_type": "display_data",
          "data": {
            "text/html": [
              "<span style=\"color:#4527A0\"><h1 style=\"font-size:18px\">Trial complete</h1></span>"
            ],
            "text/plain": [
              "<IPython.core.display.HTML object>"
            ]
          },
          "metadata": {
            "tags": []
          }
        },
        {
          "output_type": "display_data",
          "data": {
            "text/html": [
              "<span style=\"color:#4527A0\"><h1 style=\"font-size:18px\">Trial summary</h1></span>"
            ],
            "text/plain": [
              "<IPython.core.display.HTML object>"
            ]
          },
          "metadata": {
            "tags": []
          }
        },
        {
          "output_type": "display_data",
          "data": {
            "text/html": [
              "<span style=\"color:cyan\"> |-Trial ID: 4f73beea976c24ed15b12b2e372d3199</span>"
            ],
            "text/plain": [
              "<IPython.core.display.HTML object>"
            ]
          },
          "metadata": {
            "tags": []
          }
        },
        {
          "output_type": "display_data",
          "data": {
            "text/html": [
              "<span style=\"color:cyan\"> |-Score: 1.1447542111078899</span>"
            ],
            "text/plain": [
              "<IPython.core.display.HTML object>"
            ]
          },
          "metadata": {
            "tags": []
          }
        },
        {
          "output_type": "display_data",
          "data": {
            "text/html": [
              "<span style=\"color:cyan\"> |-Best step: 0</span>"
            ],
            "text/plain": [
              "<IPython.core.display.HTML object>"
            ]
          },
          "metadata": {
            "tags": []
          }
        },
        {
          "output_type": "display_data",
          "data": {
            "text/html": [
              "<span style=\"color:#7E57C2\"><h2 style=\"font-size:16px\">Hyperparameters:</h2></span>"
            ],
            "text/plain": [
              "<IPython.core.display.HTML object>"
            ]
          },
          "metadata": {
            "tags": []
          }
        },
        {
          "output_type": "display_data",
          "data": {
            "text/html": [
              "<span style=\"color:cyan\"> |-learning_rate: 0.0001</span>"
            ],
            "text/plain": [
              "<IPython.core.display.HTML object>"
            ]
          },
          "metadata": {
            "tags": []
          }
        },
        {
          "output_type": "display_data",
          "data": {
            "text/html": [
              "<span style=\"color:blue\"> |-units: 32</span>"
            ],
            "text/plain": [
              "<IPython.core.display.HTML object>"
            ]
          },
          "metadata": {
            "tags": []
          }
        },
        {
          "output_type": "stream",
          "text": [
            "INFO:tensorflow:Oracle triggered exit\n"
          ],
          "name": "stdout"
        }
      ]
    },
    {
      "cell_type": "code",
      "metadata": {
        "id": "ael3LH7xIS_9",
        "colab_type": "code",
        "colab": {
          "base_uri": "https://localhost:8080/",
          "height": 903
        },
        "outputId": "4d11275b-3e97-485f-bb38-b913e651a69d"
      },
      "source": [
        "tuner.results_summary()"
      ],
      "execution_count": 27,
      "outputs": [
        {
          "output_type": "display_data",
          "data": {
            "text/html": [
              "<span style=\"color:#4527A0\"><h1 style=\"font-size:18px\">Results summary</h1></span>"
            ],
            "text/plain": [
              "<IPython.core.display.HTML object>"
            ]
          },
          "metadata": {
            "tags": []
          }
        },
        {
          "output_type": "display_data",
          "data": {
            "text/html": [
              "<span style=\"color:cyan\"> |-Results in ./keras-tuner-trial/helloworld</span>"
            ],
            "text/plain": [
              "<IPython.core.display.HTML object>"
            ]
          },
          "metadata": {
            "tags": []
          }
        },
        {
          "output_type": "display_data",
          "data": {
            "text/html": [
              "<span style=\"color:cyan\"> |-Showing 10 best trials</span>"
            ],
            "text/plain": [
              "<IPython.core.display.HTML object>"
            ]
          },
          "metadata": {
            "tags": []
          }
        },
        {
          "output_type": "display_data",
          "data": {
            "text/html": [
              "<span style=\"color:cyan\"> |-Objective(name='val_loss', direction='min')</span>"
            ],
            "text/plain": [
              "<IPython.core.display.HTML object>"
            ]
          },
          "metadata": {
            "tags": []
          }
        },
        {
          "output_type": "display_data",
          "data": {
            "text/html": [
              "<span style=\"color:#4527A0\"><h1 style=\"font-size:18px\">Trial summary</h1></span>"
            ],
            "text/plain": [
              "<IPython.core.display.HTML object>"
            ]
          },
          "metadata": {
            "tags": []
          }
        },
        {
          "output_type": "display_data",
          "data": {
            "text/html": [
              "<span style=\"color:cyan\"> |-Trial ID: 9406eea573c6157cd1ec75b8a97ab22b</span>"
            ],
            "text/plain": [
              "<IPython.core.display.HTML object>"
            ]
          },
          "metadata": {
            "tags": []
          }
        },
        {
          "output_type": "display_data",
          "data": {
            "text/html": [
              "<span style=\"color:cyan\"> |-Score: 0.220182533065478</span>"
            ],
            "text/plain": [
              "<IPython.core.display.HTML object>"
            ]
          },
          "metadata": {
            "tags": []
          }
        },
        {
          "output_type": "display_data",
          "data": {
            "text/html": [
              "<span style=\"color:cyan\"> |-Best step: 0</span>"
            ],
            "text/plain": [
              "<IPython.core.display.HTML object>"
            ]
          },
          "metadata": {
            "tags": []
          }
        },
        {
          "output_type": "display_data",
          "data": {
            "text/html": [
              "<span style=\"color:#7E57C2\"><h2 style=\"font-size:16px\">Hyperparameters:</h2></span>"
            ],
            "text/plain": [
              "<IPython.core.display.HTML object>"
            ]
          },
          "metadata": {
            "tags": []
          }
        },
        {
          "output_type": "display_data",
          "data": {
            "text/html": [
              "<span style=\"color:cyan\"> |-learning_rate: 0.001</span>"
            ],
            "text/plain": [
              "<IPython.core.display.HTML object>"
            ]
          },
          "metadata": {
            "tags": []
          }
        },
        {
          "output_type": "display_data",
          "data": {
            "text/html": [
              "<span style=\"color:blue\"> |-units: 416</span>"
            ],
            "text/plain": [
              "<IPython.core.display.HTML object>"
            ]
          },
          "metadata": {
            "tags": []
          }
        },
        {
          "output_type": "display_data",
          "data": {
            "text/html": [
              "<span style=\"color:#4527A0\"><h1 style=\"font-size:18px\">Trial summary</h1></span>"
            ],
            "text/plain": [
              "<IPython.core.display.HTML object>"
            ]
          },
          "metadata": {
            "tags": []
          }
        },
        {
          "output_type": "display_data",
          "data": {
            "text/html": [
              "<span style=\"color:cyan\"> |-Trial ID: 0bff9c9945402d1473dff5663ed568b5</span>"
            ],
            "text/plain": [
              "<IPython.core.display.HTML object>"
            ]
          },
          "metadata": {
            "tags": []
          }
        },
        {
          "output_type": "display_data",
          "data": {
            "text/html": [
              "<span style=\"color:cyan\"> |-Score: 0.22757278382778168</span>"
            ],
            "text/plain": [
              "<IPython.core.display.HTML object>"
            ]
          },
          "metadata": {
            "tags": []
          }
        },
        {
          "output_type": "display_data",
          "data": {
            "text/html": [
              "<span style=\"color:cyan\"> |-Best step: 0</span>"
            ],
            "text/plain": [
              "<IPython.core.display.HTML object>"
            ]
          },
          "metadata": {
            "tags": []
          }
        },
        {
          "output_type": "display_data",
          "data": {
            "text/html": [
              "<span style=\"color:#7E57C2\"><h2 style=\"font-size:16px\">Hyperparameters:</h2></span>"
            ],
            "text/plain": [
              "<IPython.core.display.HTML object>"
            ]
          },
          "metadata": {
            "tags": []
          }
        },
        {
          "output_type": "display_data",
          "data": {
            "text/html": [
              "<span style=\"color:cyan\"> |-learning_rate: 0.001</span>"
            ],
            "text/plain": [
              "<IPython.core.display.HTML object>"
            ]
          },
          "metadata": {
            "tags": []
          }
        },
        {
          "output_type": "display_data",
          "data": {
            "text/html": [
              "<span style=\"color:blue\"> |-units: 160</span>"
            ],
            "text/plain": [
              "<IPython.core.display.HTML object>"
            ]
          },
          "metadata": {
            "tags": []
          }
        },
        {
          "output_type": "display_data",
          "data": {
            "text/html": [
              "<span style=\"color:#4527A0\"><h1 style=\"font-size:18px\">Trial summary</h1></span>"
            ],
            "text/plain": [
              "<IPython.core.display.HTML object>"
            ]
          },
          "metadata": {
            "tags": []
          }
        },
        {
          "output_type": "display_data",
          "data": {
            "text/html": [
              "<span style=\"color:cyan\"> |-Trial ID: 4dee73ef5176f32ae17924ce32a3d4a5</span>"
            ],
            "text/plain": [
              "<IPython.core.display.HTML object>"
            ]
          },
          "metadata": {
            "tags": []
          }
        },
        {
          "output_type": "display_data",
          "data": {
            "text/html": [
              "<span style=\"color:cyan\"> |-Score: 0.23058222234249115</span>"
            ],
            "text/plain": [
              "<IPython.core.display.HTML object>"
            ]
          },
          "metadata": {
            "tags": []
          }
        },
        {
          "output_type": "display_data",
          "data": {
            "text/html": [
              "<span style=\"color:cyan\"> |-Best step: 0</span>"
            ],
            "text/plain": [
              "<IPython.core.display.HTML object>"
            ]
          },
          "metadata": {
            "tags": []
          }
        },
        {
          "output_type": "display_data",
          "data": {
            "text/html": [
              "<span style=\"color:#7E57C2\"><h2 style=\"font-size:16px\">Hyperparameters:</h2></span>"
            ],
            "text/plain": [
              "<IPython.core.display.HTML object>"
            ]
          },
          "metadata": {
            "tags": []
          }
        },
        {
          "output_type": "display_data",
          "data": {
            "text/html": [
              "<span style=\"color:cyan\"> |-learning_rate: 0.01</span>"
            ],
            "text/plain": [
              "<IPython.core.display.HTML object>"
            ]
          },
          "metadata": {
            "tags": []
          }
        },
        {
          "output_type": "display_data",
          "data": {
            "text/html": [
              "<span style=\"color:blue\"> |-units: 256</span>"
            ],
            "text/plain": [
              "<IPython.core.display.HTML object>"
            ]
          },
          "metadata": {
            "tags": []
          }
        },
        {
          "output_type": "display_data",
          "data": {
            "text/html": [
              "<span style=\"color:#4527A0\"><h1 style=\"font-size:18px\">Trial summary</h1></span>"
            ],
            "text/plain": [
              "<IPython.core.display.HTML object>"
            ]
          },
          "metadata": {
            "tags": []
          }
        },
        {
          "output_type": "display_data",
          "data": {
            "text/html": [
              "<span style=\"color:cyan\"> |-Trial ID: 1c54f83cfa9bd47683b8d7ff78db95f5</span>"
            ],
            "text/plain": [
              "<IPython.core.display.HTML object>"
            ]
          },
          "metadata": {
            "tags": []
          }
        },
        {
          "output_type": "display_data",
          "data": {
            "text/html": [
              "<span style=\"color:cyan\"> |-Score: 0.27944958706696826</span>"
            ],
            "text/plain": [
              "<IPython.core.display.HTML object>"
            ]
          },
          "metadata": {
            "tags": []
          }
        },
        {
          "output_type": "display_data",
          "data": {
            "text/html": [
              "<span style=\"color:cyan\"> |-Best step: 0</span>"
            ],
            "text/plain": [
              "<IPython.core.display.HTML object>"
            ]
          },
          "metadata": {
            "tags": []
          }
        },
        {
          "output_type": "display_data",
          "data": {
            "text/html": [
              "<span style=\"color:#7E57C2\"><h2 style=\"font-size:16px\">Hyperparameters:</h2></span>"
            ],
            "text/plain": [
              "<IPython.core.display.HTML object>"
            ]
          },
          "metadata": {
            "tags": []
          }
        },
        {
          "output_type": "display_data",
          "data": {
            "text/html": [
              "<span style=\"color:cyan\"> |-learning_rate: 0.0001</span>"
            ],
            "text/plain": [
              "<IPython.core.display.HTML object>"
            ]
          },
          "metadata": {
            "tags": []
          }
        },
        {
          "output_type": "display_data",
          "data": {
            "text/html": [
              "<span style=\"color:blue\"> |-units: 288</span>"
            ],
            "text/plain": [
              "<IPython.core.display.HTML object>"
            ]
          },
          "metadata": {
            "tags": []
          }
        },
        {
          "output_type": "display_data",
          "data": {
            "text/html": [
              "<span style=\"color:#4527A0\"><h1 style=\"font-size:18px\">Trial summary</h1></span>"
            ],
            "text/plain": [
              "<IPython.core.display.HTML object>"
            ]
          },
          "metadata": {
            "tags": []
          }
        },
        {
          "output_type": "display_data",
          "data": {
            "text/html": [
              "<span style=\"color:cyan\"> |-Trial ID: 4f73beea976c24ed15b12b2e372d3199</span>"
            ],
            "text/plain": [
              "<IPython.core.display.HTML object>"
            ]
          },
          "metadata": {
            "tags": []
          }
        },
        {
          "output_type": "display_data",
          "data": {
            "text/html": [
              "<span style=\"color:cyan\"> |-Score: 1.1447542111078899</span>"
            ],
            "text/plain": [
              "<IPython.core.display.HTML object>"
            ]
          },
          "metadata": {
            "tags": []
          }
        },
        {
          "output_type": "display_data",
          "data": {
            "text/html": [
              "<span style=\"color:cyan\"> |-Best step: 0</span>"
            ],
            "text/plain": [
              "<IPython.core.display.HTML object>"
            ]
          },
          "metadata": {
            "tags": []
          }
        },
        {
          "output_type": "display_data",
          "data": {
            "text/html": [
              "<span style=\"color:#7E57C2\"><h2 style=\"font-size:16px\">Hyperparameters:</h2></span>"
            ],
            "text/plain": [
              "<IPython.core.display.HTML object>"
            ]
          },
          "metadata": {
            "tags": []
          }
        },
        {
          "output_type": "display_data",
          "data": {
            "text/html": [
              "<span style=\"color:cyan\"> |-learning_rate: 0.0001</span>"
            ],
            "text/plain": [
              "<IPython.core.display.HTML object>"
            ]
          },
          "metadata": {
            "tags": []
          }
        },
        {
          "output_type": "display_data",
          "data": {
            "text/html": [
              "<span style=\"color:blue\"> |-units: 32</span>"
            ],
            "text/plain": [
              "<IPython.core.display.HTML object>"
            ]
          },
          "metadata": {
            "tags": []
          }
        }
      ]
    },
    {
      "cell_type": "code",
      "metadata": {
        "id": "K-ejDcbQiOJz",
        "colab_type": "code",
        "colab": {}
      },
      "source": [
        ""
      ],
      "execution_count": 0,
      "outputs": []
    },
    {
      "cell_type": "markdown",
      "metadata": {
        "id": "FwLH0BNyIS__",
        "colab_type": "text"
      },
      "source": [
        "## Challenge\n",
        "\n",
        "Try to apply RandomSearchCV to your module project today. "
      ]
    },
    {
      "cell_type": "markdown",
      "metadata": {
        "id": "03Endxx2ITAA",
        "colab_type": "text"
      },
      "source": [
        "# Review\n",
        "* <a href=\"#p1\">Part 1</a>: Describe the major hyperparemeters to tune\n",
        "    - Activation Functions\n",
        "    - Optimizer\n",
        "    - Number of Layers\n",
        "    - Number of Neurons\n",
        "    - Batch Size\n",
        "    - Dropout Regulaization\n",
        "    - Learning Rate\n",
        "    - Number of Epochs\n",
        "    - and many more\n",
        "* <a href=\"#p2\">Part 2</a>: Implement an experiment tracking framework\n",
        "    - Weights & Biases\n",
        "    - Comet.ml\n",
        "    - By Hand / GridSearch\n",
        "* <a href=\"#p3\">Part 3</a>: Search the hyperparameter space using RandomSearch\n",
        "    - Sklearn still useful (haha)\n",
        "    - Integration with Wieghts & Biases\n",
        "* <a href=\"#p4\">Part 4</a>: Discuss emerging hyperparameter tuning strategies\n",
        "    - Bayesian Optimization\n",
        "    - Hyperopt\n",
        "    - Genetic Evolution"
      ]
    },
    {
      "cell_type": "markdown",
      "metadata": {
        "id": "_hpZeYz2ITAA",
        "colab_type": "text"
      },
      "source": [
        "# Sources"
      ]
    },
    {
      "cell_type": "markdown",
      "metadata": {
        "id": "RIW_p_YXITAB",
        "colab_type": "text"
      },
      "source": [
        "## Additional Reading\n",
        "- https://machinelearningmastery.com/grid-search-hyperparameters-deep-learning-models-python-keras/\n",
        "- https://blog.floydhub.com/guide-to-hyperparameters-search-for-deep-learning-models/\n",
        "- https://machinelearningmastery.com/dropout-regularization-deep-learning-models-keras/\n",
        "- https://machinelearningmastery.com/introduction-to-weight-constraints-to-reduce-generalization-error-in-deep-learning/\n",
        "- https://machinelearningmastery.com/how-to-configure-the-number-of-layers-and-nodes-in-a-neural-network/"
      ]
    }
  ]
}