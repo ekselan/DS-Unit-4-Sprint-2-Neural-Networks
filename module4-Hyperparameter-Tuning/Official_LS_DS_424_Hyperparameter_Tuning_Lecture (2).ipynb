{
  "nbformat": 4,
  "nbformat_minor": 0,
  "metadata": {
    "kernelspec": {
      "display_name": "U4-S2-NNF-DS12",
      "language": "python",
      "name": "u4-s2-nnf-ds12"
    },
    "language_info": {
      "codemirror_mode": {
        "name": "ipython",
        "version": 3
      },
      "file_extension": ".py",
      "mimetype": "text/x-python",
      "name": "python",
      "nbconvert_exporter": "python",
      "pygments_lexer": "ipython3",
      "version": "3.7.7"
    },
    "colab": {
      "name": "LS_DS_424_Hyperparameter_Tuning_Lecture.ipynb",
      "provenance": []
    },
    "accelerator": "GPU"
  },
  "cells": [
    {
      "cell_type": "markdown",
      "metadata": {
        "colab_type": "text",
        "id": "41TS0Sa0rDNx"
      },
      "source": [
        "Lambda School Data Science\n",
        "\n",
        "*Unit 4, Sprint 2, Module 4*\n",
        "\n",
        "---"
      ]
    },
    {
      "cell_type": "markdown",
      "metadata": {
        "colab_type": "text",
        "id": "7EUekTIS-ehL"
      },
      "source": [
        "# Neural Networks & GPUs (Prepare)\n",
        "*aka Hyperparameter Tuning*\n",
        "\n",
        "*aka Big Servers for Big Problems*"
      ]
    },
    {
      "cell_type": "markdown",
      "metadata": {
        "colab_type": "text",
        "id": "njfSnVjm-ehM"
      },
      "source": [
        "## Learning Objectives\n",
        "* <a href=\"#p1\">Part 1</a>: Describe the major hyperparemeters to tune\n",
        "* <a href=\"#p2\">Part 2</a>: Implement an experiment tracking framework\n",
        "* <a href=\"#p3\">Part 3</a>: Search the hyperparameter space using RandomSearch (Optional)"
      ]
    },
    {
      "cell_type": "code",
      "metadata": {
        "id": "5IvW7DRY-ehM",
        "colab_type": "code",
        "colab": {}
      },
      "source": [
        "wandb_group = \"ds8\"\n",
        "wandb_project = \"ds14_inclass\""
      ],
      "execution_count": 0,
      "outputs": []
    },
    {
      "cell_type": "markdown",
      "metadata": {
        "id": "IGlw9XL_-ehQ",
        "colab_type": "text"
      },
      "source": [
        "# Hyperparameter Options (Learn)\n",
        "<a id=\"p1\"></a>"
      ]
    },
    {
      "cell_type": "markdown",
      "metadata": {
        "id": "-E7rleG0-ehQ",
        "colab_type": "text"
      },
      "source": [
        "## Overview\n",
        "\n",
        "Hyperparameter tuning is much more important with neural networks than it has been with any other models that we have considered up to this point. Other supervised learning models might have a couple of parameters, but neural networks can have dozens. These can substantially affect the accuracy of our models and although it can be a time consuming process is a necessary step when working with neural networks.\n",
        "​\n",
        "Hyperparameter tuning comes with a challenge. How can we compare models specified with different hyperparameters if our model's final error metric can vary somewhat erratically? How do we avoid just getting unlucky and selecting the wrong hyperparameter? This is a problem that to a certain degree we just have to live with as we test and test again. However, we can minimize it somewhat by pairing our experiments with Cross Validation to reduce the variance of our final accuracy values."
      ]
    },
    {
      "cell_type": "markdown",
      "metadata": {
        "colab_type": "text",
        "id": "0s0o2pqBs88q"
      },
      "source": [
        "### Load Boston Housing Data"
      ]
    },
    {
      "cell_type": "code",
      "metadata": {
        "id": "Jk65OsbI-ehR",
        "colab_type": "code",
        "colab": {
          "base_uri": "https://localhost:8080/",
          "height": 51
        },
        "outputId": "99ccb7d4-1a31-4769-825d-7e9b3be45619"
      },
      "source": [
        "from tensorflow.keras.datasets import boston_housing\n",
        "\n",
        "(x_train, y_train), (x_test, y_test) = boston_housing.load_data()"
      ],
      "execution_count": 2,
      "outputs": [
        {
          "output_type": "stream",
          "text": [
            "Downloading data from https://storage.googleapis.com/tensorflow/tf-keras-datasets/boston_housing.npz\n",
            "57344/57026 [==============================] - 0s 0us/step\n"
          ],
          "name": "stdout"
        }
      ]
    },
    {
      "cell_type": "markdown",
      "metadata": {
        "colab_type": "text",
        "id": "Pm7zow5IvaTt"
      },
      "source": [
        "### Normalizing Input Data\n",
        "\n",
        "It's not 100% necessary to normalize/scale your input data before feeding it to a neural network, the network can learn the appropriate weights to deal with data of as long as it is numerically represented,  but it is recommended as it can help **make training faster** and **reduces the chances that gradient descent might get stuck in a local optimum**.\n",
        "\n",
        "<https://stackoverflow.com/questions/4674623/why-do-we-have-to-normalize-the-input-for-an-artificial-neural-network>"
      ]
    },
    {
      "cell_type": "code",
      "metadata": {
        "id": "fh3rK5Ux-ehV",
        "colab_type": "code",
        "colab": {
          "base_uri": "https://localhost:8080/",
          "height": 527
        },
        "outputId": "f970e2c6-3125-43f5-e1b2-a0f590dad19f"
      },
      "source": [
        "from sklearn.preprocessing import StandardScaler\n",
        "\n",
        "scaler = StandardScaler()\n",
        "\n",
        "x_train = scaler.fit_transform(x_train)\n",
        "x_test = scaler.transform(x_test)\n",
        "print(x_train[:10])"
      ],
      "execution_count": 3,
      "outputs": [
        {
          "output_type": "stream",
          "text": [
            "[[-0.27224633 -0.48361547 -0.43576161 -0.25683275 -0.1652266  -0.1764426\n",
            "   0.81306188  0.1166983  -0.62624905 -0.59517003  1.14850044  0.44807713\n",
            "   0.8252202 ]\n",
            " [-0.40342651  2.99178419 -1.33391162 -0.25683275 -1.21518188  1.89434613\n",
            "  -1.91036058  1.24758524 -0.85646254 -0.34843254 -1.71818909  0.43190599\n",
            "  -1.32920239]\n",
            " [ 0.1249402  -0.48361547  1.0283258  -0.25683275  0.62864202 -1.82968811\n",
            "   1.11048828 -1.18743907  1.67588577  1.5652875   0.78447637  0.22061726\n",
            "  -1.30850006]\n",
            " [-0.40149354 -0.48361547 -0.86940196 -0.25683275 -0.3615597  -0.3245576\n",
            "  -1.23667187  1.10717989 -0.51114231 -1.094663    0.78447637  0.44807713\n",
            "  -0.65292624]\n",
            " [-0.0056343  -0.48361547  1.0283258  -0.25683275  1.32861221  0.15364225\n",
            "   0.69480801 -0.57857203  1.67588577  1.5652875   0.78447637  0.3898823\n",
            "   0.26349695]\n",
            " [-0.37502238 -0.48361547 -0.54747912 -0.25683275 -0.54935658 -0.78865126\n",
            "   0.18954148  0.48371503 -0.51114231 -0.71552978  0.51145832  0.38669063\n",
            "  -0.13812828]\n",
            " [ 0.58963463 -0.48361547  1.0283258  -0.25683275  1.21764133 -1.03127774\n",
            "   1.11048828 -1.06518235  1.67588577  1.5652875   0.78447637  0.44807713\n",
            "   1.49873604]\n",
            " [ 0.0381708  -0.48361547  1.24588095 -0.25683275  2.67733525 -1.12719983\n",
            "   1.11048828 -1.14833073 -0.51114231 -0.01744323 -1.71818909  0.44807713\n",
            "   1.88793986]\n",
            " [-0.17228416 -0.48361547  1.24588095 -0.25683275  2.67733525 -0.90150078\n",
            "   1.11048828 -1.09664657 -0.51114231 -0.01744323 -1.71818909 -1.97365769\n",
            "   0.53952803]\n",
            " [-0.22932104 -0.48361547  1.58544339 -0.25683275  0.56888847 -1.76056777\n",
            "   1.11048828 -1.13471925 -0.62624905  0.18716835  1.23950646  0.44807713\n",
            "   2.99068404]]\n"
          ],
          "name": "stdout"
        }
      ]
    },
    {
      "cell_type": "markdown",
      "metadata": {
        "colab_type": "text",
        "id": "l6hgCWbir90R"
      },
      "source": [
        "### Model Validation using an automatic verification Dataset\n",
        "\n",
        "Instead of doing seperate train test split class, Keras has a really nice feature that you can set the validation.data argument when fitting your model and Keras will take that portion of your test data and use it as a validation dataset. "
      ]
    },
    {
      "cell_type": "code",
      "metadata": {
        "colab_type": "code",
        "id": "GMXVfmzXp1Oo",
        "outputId": "60540f49-384f-4f91-a253-cb562a6f2116",
        "colab": {
          "base_uri": "https://localhost:8080/",
          "height": 1000
        }
      },
      "source": [
        "from tensorflow import keras\n",
        "from tensorflow.keras.models import Sequential\n",
        "from tensorflow.keras.layers import Dense\n",
        "\n",
        "# Important Hyperparameters\n",
        "inputs = x_train.shape[1]\n",
        "epochs = 75\n",
        "batch_size = 10\n",
        "\n",
        "\n",
        "# Create Model\n",
        "model = Sequential()\n",
        "model.add(Dense(64, activation='relu', input_shape=(inputs,)))\n",
        "model.add(Dense(64, activation='relu'))\n",
        "model.add(Dense(1))\n",
        "\n",
        "# Compile Model\n",
        "model.compile(optimizer='adam', loss='mse', metrics=['mae'])\n",
        "\n",
        "# Fit Model\n",
        "model.fit(x_train, y_train, \n",
        "          validation_data=(x_test,y_test), \n",
        "          epochs=epochs, \n",
        "          batch_size=batch_size\n",
        "         )"
      ],
      "execution_count": 4,
      "outputs": [
        {
          "output_type": "stream",
          "text": [
            "Epoch 1/75\n",
            "41/41 [==============================] - 0s 8ms/step - loss: 488.4022 - mae: 20.0976 - val_loss: 394.8375 - val_mae: 17.7839\n",
            "Epoch 2/75\n",
            "41/41 [==============================] - 0s 4ms/step - loss: 219.5051 - mae: 12.4151 - val_loss: 89.1392 - val_mae: 7.7934\n",
            "Epoch 3/75\n",
            "41/41 [==============================] - 0s 4ms/step - loss: 47.1071 - mae: 5.1204 - val_loss: 36.9309 - val_mae: 4.7131\n",
            "Epoch 4/75\n",
            "41/41 [==============================] - 0s 4ms/step - loss: 25.4941 - mae: 3.6261 - val_loss: 26.8995 - val_mae: 3.9582\n",
            "Epoch 5/75\n",
            "41/41 [==============================] - 0s 4ms/step - loss: 19.9254 - mae: 3.2881 - val_loss: 25.5228 - val_mae: 3.7813\n",
            "Epoch 6/75\n",
            "41/41 [==============================] - 0s 4ms/step - loss: 17.6331 - mae: 2.9860 - val_loss: 24.6902 - val_mae: 3.6888\n",
            "Epoch 7/75\n",
            "41/41 [==============================] - 0s 4ms/step - loss: 15.8877 - mae: 2.8717 - val_loss: 23.3647 - val_mae: 3.5155\n",
            "Epoch 8/75\n",
            "41/41 [==============================] - 0s 4ms/step - loss: 14.7443 - mae: 2.7274 - val_loss: 24.6200 - val_mae: 3.5533\n",
            "Epoch 9/75\n",
            "41/41 [==============================] - 0s 4ms/step - loss: 13.9878 - mae: 2.6918 - val_loss: 25.1465 - val_mae: 3.5475\n",
            "Epoch 10/75\n",
            "41/41 [==============================] - 0s 4ms/step - loss: 13.4168 - mae: 2.5981 - val_loss: 25.0291 - val_mae: 3.4988\n",
            "Epoch 11/75\n",
            "41/41 [==============================] - 0s 4ms/step - loss: 12.5255 - mae: 2.5250 - val_loss: 24.0723 - val_mae: 3.3738\n",
            "Epoch 12/75\n",
            "41/41 [==============================] - 0s 4ms/step - loss: 11.9066 - mae: 2.5018 - val_loss: 23.6390 - val_mae: 3.2916\n",
            "Epoch 13/75\n",
            "41/41 [==============================] - 0s 4ms/step - loss: 11.4409 - mae: 2.4139 - val_loss: 25.2955 - val_mae: 3.3916\n",
            "Epoch 14/75\n",
            "41/41 [==============================] - 0s 4ms/step - loss: 11.2965 - mae: 2.4051 - val_loss: 24.3628 - val_mae: 3.3130\n",
            "Epoch 15/75\n",
            "41/41 [==============================] - 0s 4ms/step - loss: 10.7940 - mae: 2.3263 - val_loss: 24.4352 - val_mae: 3.2966\n",
            "Epoch 16/75\n",
            "41/41 [==============================] - 0s 4ms/step - loss: 10.7730 - mae: 2.3539 - val_loss: 22.3537 - val_mae: 3.1309\n",
            "Epoch 17/75\n",
            "41/41 [==============================] - 0s 5ms/step - loss: 10.4139 - mae: 2.3229 - val_loss: 25.5947 - val_mae: 3.3070\n",
            "Epoch 18/75\n",
            "41/41 [==============================] - 0s 4ms/step - loss: 10.0946 - mae: 2.2615 - val_loss: 25.3254 - val_mae: 3.3217\n",
            "Epoch 19/75\n",
            "41/41 [==============================] - 0s 4ms/step - loss: 10.0420 - mae: 2.2875 - val_loss: 23.5596 - val_mae: 3.1622\n",
            "Epoch 20/75\n",
            "41/41 [==============================] - 0s 4ms/step - loss: 10.1752 - mae: 2.2749 - val_loss: 23.0202 - val_mae: 3.0866\n",
            "Epoch 21/75\n",
            "41/41 [==============================] - 0s 4ms/step - loss: 9.5041 - mae: 2.1997 - val_loss: 24.0578 - val_mae: 3.1327\n",
            "Epoch 22/75\n",
            "41/41 [==============================] - 0s 4ms/step - loss: 9.4645 - mae: 2.2255 - val_loss: 23.8384 - val_mae: 3.1843\n",
            "Epoch 23/75\n",
            "41/41 [==============================] - 0s 4ms/step - loss: 9.4214 - mae: 2.2052 - val_loss: 24.3931 - val_mae: 3.1849\n",
            "Epoch 24/75\n",
            "41/41 [==============================] - 0s 4ms/step - loss: 9.2007 - mae: 2.1682 - val_loss: 24.0081 - val_mae: 3.1420\n",
            "Epoch 25/75\n",
            "41/41 [==============================] - 0s 4ms/step - loss: 9.1372 - mae: 2.1318 - val_loss: 23.1301 - val_mae: 3.0460\n",
            "Epoch 26/75\n",
            "41/41 [==============================] - 0s 4ms/step - loss: 8.9195 - mae: 2.1311 - val_loss: 23.4830 - val_mae: 3.0424\n",
            "Epoch 27/75\n",
            "41/41 [==============================] - 0s 4ms/step - loss: 8.8789 - mae: 2.1214 - val_loss: 22.8602 - val_mae: 2.9981\n",
            "Epoch 28/75\n",
            "41/41 [==============================] - 0s 4ms/step - loss: 8.8474 - mae: 2.1255 - val_loss: 24.1257 - val_mae: 3.1201\n",
            "Epoch 29/75\n",
            "41/41 [==============================] - 0s 4ms/step - loss: 8.7395 - mae: 2.1149 - val_loss: 22.5285 - val_mae: 3.0165\n",
            "Epoch 30/75\n",
            "41/41 [==============================] - 0s 4ms/step - loss: 8.2353 - mae: 2.0540 - val_loss: 22.6404 - val_mae: 3.0764\n",
            "Epoch 31/75\n",
            "41/41 [==============================] - 0s 4ms/step - loss: 8.4495 - mae: 2.0565 - val_loss: 22.6788 - val_mae: 3.0928\n",
            "Epoch 32/75\n",
            "41/41 [==============================] - 0s 4ms/step - loss: 8.3175 - mae: 2.1060 - val_loss: 20.9365 - val_mae: 2.9753\n",
            "Epoch 33/75\n",
            "41/41 [==============================] - 0s 4ms/step - loss: 8.3656 - mae: 2.0534 - val_loss: 21.6603 - val_mae: 3.0302\n",
            "Epoch 34/75\n",
            "41/41 [==============================] - 0s 4ms/step - loss: 8.0385 - mae: 2.0189 - val_loss: 22.4540 - val_mae: 3.0467\n",
            "Epoch 35/75\n",
            "41/41 [==============================] - 0s 4ms/step - loss: 7.9130 - mae: 1.9980 - val_loss: 21.3142 - val_mae: 2.8674\n",
            "Epoch 36/75\n",
            "41/41 [==============================] - 0s 4ms/step - loss: 7.7869 - mae: 1.9738 - val_loss: 20.9099 - val_mae: 2.8551\n",
            "Epoch 37/75\n",
            "41/41 [==============================] - 0s 4ms/step - loss: 7.7866 - mae: 1.9943 - val_loss: 21.7070 - val_mae: 2.8487\n",
            "Epoch 38/75\n",
            "41/41 [==============================] - 0s 4ms/step - loss: 7.6089 - mae: 1.9759 - val_loss: 20.0531 - val_mae: 2.8213\n",
            "Epoch 39/75\n",
            "41/41 [==============================] - 0s 4ms/step - loss: 7.6014 - mae: 1.9501 - val_loss: 20.7231 - val_mae: 2.8202\n",
            "Epoch 40/75\n",
            "41/41 [==============================] - 0s 4ms/step - loss: 7.2708 - mae: 1.9195 - val_loss: 20.3220 - val_mae: 2.8368\n",
            "Epoch 41/75\n",
            "41/41 [==============================] - 0s 4ms/step - loss: 7.2143 - mae: 1.9074 - val_loss: 21.8927 - val_mae: 2.9298\n",
            "Epoch 42/75\n",
            "41/41 [==============================] - 0s 4ms/step - loss: 7.3890 - mae: 1.9724 - val_loss: 21.0469 - val_mae: 2.8438\n",
            "Epoch 43/75\n",
            "41/41 [==============================] - 0s 4ms/step - loss: 7.1590 - mae: 1.9026 - val_loss: 21.5582 - val_mae: 2.9434\n",
            "Epoch 44/75\n",
            "41/41 [==============================] - 0s 4ms/step - loss: 6.8026 - mae: 1.8652 - val_loss: 21.0954 - val_mae: 2.8734\n",
            "Epoch 45/75\n",
            "41/41 [==============================] - 0s 4ms/step - loss: 6.8149 - mae: 1.8679 - val_loss: 18.9454 - val_mae: 2.7789\n",
            "Epoch 46/75\n",
            "41/41 [==============================] - 0s 4ms/step - loss: 6.6557 - mae: 1.8591 - val_loss: 20.1140 - val_mae: 2.7871\n",
            "Epoch 47/75\n",
            "41/41 [==============================] - 0s 4ms/step - loss: 6.6402 - mae: 1.8331 - val_loss: 22.0589 - val_mae: 2.9943\n",
            "Epoch 48/75\n",
            "41/41 [==============================] - 0s 4ms/step - loss: 6.6274 - mae: 1.8316 - val_loss: 19.5251 - val_mae: 2.7764\n",
            "Epoch 49/75\n",
            "41/41 [==============================] - 0s 4ms/step - loss: 6.5599 - mae: 1.8222 - val_loss: 19.4993 - val_mae: 2.7536\n",
            "Epoch 50/75\n",
            "41/41 [==============================] - 0s 4ms/step - loss: 6.6250 - mae: 1.8002 - val_loss: 18.2585 - val_mae: 2.7464\n",
            "Epoch 51/75\n",
            "41/41 [==============================] - 0s 5ms/step - loss: 6.3328 - mae: 1.7833 - val_loss: 18.6134 - val_mae: 2.7337\n",
            "Epoch 52/75\n",
            "41/41 [==============================] - 0s 4ms/step - loss: 6.3911 - mae: 1.7747 - val_loss: 19.0317 - val_mae: 2.7235\n",
            "Epoch 53/75\n",
            "41/41 [==============================] - 0s 4ms/step - loss: 6.0353 - mae: 1.7531 - val_loss: 19.5431 - val_mae: 2.7871\n",
            "Epoch 54/75\n",
            "41/41 [==============================] - 0s 5ms/step - loss: 5.8795 - mae: 1.7037 - val_loss: 18.8761 - val_mae: 2.7034\n",
            "Epoch 55/75\n",
            "41/41 [==============================] - 0s 4ms/step - loss: 6.0384 - mae: 1.7659 - val_loss: 19.3695 - val_mae: 2.8134\n",
            "Epoch 56/75\n",
            "41/41 [==============================] - 0s 4ms/step - loss: 5.8578 - mae: 1.7284 - val_loss: 19.3932 - val_mae: 2.8362\n",
            "Epoch 57/75\n",
            "41/41 [==============================] - 0s 4ms/step - loss: 5.7568 - mae: 1.7237 - val_loss: 17.7770 - val_mae: 2.7052\n",
            "Epoch 58/75\n",
            "41/41 [==============================] - 0s 4ms/step - loss: 5.6809 - mae: 1.7380 - val_loss: 17.7046 - val_mae: 2.6825\n",
            "Epoch 59/75\n",
            "41/41 [==============================] - 0s 4ms/step - loss: 5.5328 - mae: 1.6981 - val_loss: 17.5447 - val_mae: 2.6571\n",
            "Epoch 60/75\n",
            "41/41 [==============================] - 0s 4ms/step - loss: 5.5133 - mae: 1.6586 - val_loss: 18.8095 - val_mae: 2.7884\n",
            "Epoch 61/75\n",
            "41/41 [==============================] - 0s 4ms/step - loss: 5.5598 - mae: 1.6838 - val_loss: 17.8665 - val_mae: 2.6608\n",
            "Epoch 62/75\n",
            "41/41 [==============================] - 0s 4ms/step - loss: 5.3836 - mae: 1.6823 - val_loss: 17.8921 - val_mae: 2.7682\n",
            "Epoch 63/75\n",
            "41/41 [==============================] - 0s 4ms/step - loss: 5.3114 - mae: 1.6759 - val_loss: 17.3036 - val_mae: 2.6516\n",
            "Epoch 64/75\n",
            "41/41 [==============================] - 0s 4ms/step - loss: 5.3650 - mae: 1.6629 - val_loss: 19.4012 - val_mae: 2.8940\n",
            "Epoch 65/75\n",
            "41/41 [==============================] - 0s 4ms/step - loss: 5.5939 - mae: 1.6709 - val_loss: 18.2119 - val_mae: 2.7989\n",
            "Epoch 66/75\n",
            "41/41 [==============================] - 0s 4ms/step - loss: 5.1187 - mae: 1.6260 - val_loss: 18.0571 - val_mae: 2.6935\n",
            "Epoch 67/75\n",
            "41/41 [==============================] - 0s 5ms/step - loss: 5.1047 - mae: 1.5984 - val_loss: 19.3488 - val_mae: 2.8186\n",
            "Epoch 68/75\n",
            "41/41 [==============================] - 0s 4ms/step - loss: 4.9155 - mae: 1.6241 - val_loss: 16.2478 - val_mae: 2.5786\n",
            "Epoch 69/75\n",
            "41/41 [==============================] - 0s 4ms/step - loss: 4.9222 - mae: 1.5916 - val_loss: 16.0733 - val_mae: 2.5679\n",
            "Epoch 70/75\n",
            "41/41 [==============================] - 0s 5ms/step - loss: 4.8095 - mae: 1.6071 - val_loss: 18.4084 - val_mae: 2.8751\n",
            "Epoch 71/75\n",
            "41/41 [==============================] - 0s 4ms/step - loss: 4.8279 - mae: 1.5958 - val_loss: 16.2912 - val_mae: 2.5880\n",
            "Epoch 72/75\n",
            "41/41 [==============================] - 0s 4ms/step - loss: 4.8380 - mae: 1.5815 - val_loss: 16.9762 - val_mae: 2.6994\n",
            "Epoch 73/75\n",
            "41/41 [==============================] - 0s 5ms/step - loss: 4.8212 - mae: 1.5989 - val_loss: 16.3052 - val_mae: 2.5986\n",
            "Epoch 74/75\n",
            "41/41 [==============================] - 0s 4ms/step - loss: 4.8359 - mae: 1.6227 - val_loss: 16.1193 - val_mae: 2.6980\n",
            "Epoch 75/75\n",
            "41/41 [==============================] - 0s 4ms/step - loss: 4.6854 - mae: 1.5493 - val_loss: 16.0088 - val_mae: 2.5942\n"
          ],
          "name": "stdout"
        },
        {
          "output_type": "execute_result",
          "data": {
            "text/plain": [
              "<tensorflow.python.keras.callbacks.History at 0x7f3b5010ad68>"
            ]
          },
          "metadata": {
            "tags": []
          },
          "execution_count": 4
        }
      ]
    },
    {
      "cell_type": "markdown",
      "metadata": {
        "colab_type": "text",
        "id": "sYJ8t_ezHP4W"
      },
      "source": [
        "### Hyperparameter Tuning Approaches:\n",
        "\n",
        "#### 1) Babysitting AKA \"Grad Student Descent\".\n",
        "\n",
        "If you fiddled with any hyperparameters yesterday, this is basically what you did. This approach is 100% manual and is pretty common among researchers where finding that 1 exact specification that jumps your model to a level of accuracy never seen before is the difference between publishing and not publishing a paper. Of course the professors don't do this themselves, that's grunt work. This is also known as the fiddle with hyperparameters until you run out of time method.\n",
        "\n",
        "#### 2) Grid Search\n",
        "\n",
        "Grid Search is the Grad Student galaxy brain realization of: why don't I just specify all the experiments I want to run and let the computer try every possible combination of them while I go and grab lunch. This has a specific downside in that if I specify 5 hyperparameters with 5 options each then I've just created 5^5 combinations of hyperparameters to check. Which means that I have to train 3125 different versions of my model Then if I use 5-fold Cross Validation on that then my model has to run 15,525 times. This is the brute-force method of hyperparameter tuning, but it can be very profitable if done wisely. \n",
        "\n",
        "When using Grid Search here's what I suggest: don't use it to test combinations of different hyperparameters, only use it to test different specifications of **a single** hyperparameter. It's rare that combinations between different hyperparameters lead to big performance gains. You'll get 90-95% of the way there if you just Grid Search one parameter and take the best result, then retain that best result while you test another, and then retain the best specification from that while you train another. This at least makes the situation much more manageable and leads to pretty good results. \n",
        "\n",
        "#### 3) Random Search\n",
        "\n",
        "Do Grid Search for a couple of hours and you'll say to yourself - \"There's got to be a better way.\" Enter Random Search. For Random search you specify a hyperparameter space and it picks specifications from that randomly, tries them out, gives you the best results and says - That's going to have to be good enough, go home and spend time with your family. \n",
        "\n",
        "Grid Search treats every parameter as if it was equally important, but this just isn't the case, some are known to move the needle a lot more than others (we'll talk about that in a minute). Random Search allows searching to be specified along the most important parameter and experiments less along the dimensions of less important hyperparameters. The downside of Random search is that it won't find the absolute best hyperparameters, but it is much less costly to perform than Grid Search. \n",
        "\n",
        "#### 4) Bayesian Methods\n",
        "\n",
        "One thing that can make more manual methods like babysitting and gridsearch effective is that as the experimenter sees results he can then make updates to his future searches taking into account the results of past specifications. If only we could hyperparameter tune our hyperparameter tuning. Well, we kind of can. Enter Bayesian Optimization. Neural Networks are like an optimization problem within an optimization problem, and Bayesian Optimization is a search strategy that tries to take into account the results of past searches in order to improve future ones. Check out the new library `keras-tuner` for easy implementations of Bayesian methods. \n"
      ]
    },
    {
      "cell_type": "markdown",
      "metadata": {
        "colab_type": "text",
        "id": "HfQ7D043OMMn"
      },
      "source": [
        "## What Hyperparameters are there to test?\n",
        "\n",
        "- batch_size\n",
        "- training epochs\n",
        "- optimization algorithms\n",
        "- learning rate\n",
        "- momentum\n",
        "- activation functions\n",
        "- dropout regularization\n",
        "- number of neurons in the hidden layer\n",
        "\n",
        "There are more, but these are the most important."
      ]
    },
    {
      "cell_type": "markdown",
      "metadata": {
        "id": "b8YlwPTT-ehb",
        "colab_type": "text"
      },
      "source": [
        "## Follow Along"
      ]
    },
    {
      "cell_type": "markdown",
      "metadata": {
        "colab_type": "text",
        "id": "Mri5-kXzVKAa"
      },
      "source": [
        "## Batch Size\n",
        "\n",
        "Batch size determines how many observations the model is shown before it calculates loss/error and updates the model weights via gradient descent. You're looking for a sweet spot here where you're showing it enough observations that you have enough information to updates the weights, but not such a large batch size that you don't get a lot of weight update iterations performed in a given epoch. Feed-forward Neural Networks aren't as sensitive to bach_size as other networks, but it is still an important hyperparameter to tune. Smaller batch sizes will also take longer to train. \n",
        "\n",
        "Traditionally, batch size is set in powers of 2 starting at 32 up to 512. Keras defaults to a batch size of 32 if you do not specify it. Yann LeCun famously Twitted: \n",
        "\n",
        "> Training with large minibatches is bad for your health.\n",
        "More importantly, it's bad for your test error.\n",
        "Friends dont let friends use minibatches larger than 32.\n",
        "\n",
        "Check out this paper for more reference on his tweet. https://arxiv.org/abs/1804.07612. \n",
        "\n",
        "Check out this SO question on why batch size is typically set in powers of two: https://datascience.stackexchange.com/questions/20179/what-is-the-advantage-of-keeping-batch-size-a-power-of-2\n",
        "\n"
      ]
    },
    {
      "cell_type": "code",
      "metadata": {
        "colab_type": "code",
        "id": "2smXfriNAGn7",
        "outputId": "f966bbe5-c703-4bd1-e2cf-b959b4359f3a",
        "colab": {
          "base_uri": "https://localhost:8080/",
          "height": 136
        }
      },
      "source": [
        "import numpy\n",
        "import pandas as pd\n",
        "from sklearn.model_selection import GridSearchCV\n",
        "from tensorflow.keras.models import Sequential\n",
        "from tensorflow.keras.layers import Dense\n",
        "from tensorflow.keras.wrappers.scikit_learn import KerasClassifier\n",
        "\n",
        "# fix random seed for reproducibility\n",
        "seed = 7\n",
        "numpy.random.seed(seed)\n",
        "\n",
        "# load dataset\n",
        "url =\"https://raw.githubusercontent.com/jbrownlee/Datasets/master/pima-indians-diabetes.data.csv\"\n",
        "\n",
        "dataset = pd.read_csv(url, header=None).values\n",
        "\n",
        "# split into input (X) and output (Y) variables\n",
        "X = dataset[:,0:8]\n",
        "Y = dataset[:,8]\n",
        "\n",
        "# Function to create model, required for KerasClassifier\n",
        "def create_model():\n",
        "    # create model\n",
        "    model = Sequential()\n",
        "    model.add(Dense(12, input_dim=8, activation='relu'))\n",
        "    model.add(Dense(1, activation='sigmoid'))\n",
        "    # Compile model\n",
        "    model.compile(loss='binary_crossentropy', optimizer='adam', metrics=['accuracy'])\n",
        "    return model\n",
        "\n",
        "# create model\n",
        "model = KerasClassifier(build_fn=create_model, verbose=0)\n",
        "\n",
        "# define the grid search parameters\n",
        "# batch_size = [10, 20, 40, 60, 80, 100]\n",
        "# param_grid = dict(batch_size=batch_size, epochs=epochs)\n",
        "\n",
        "# define the grid search parameters\n",
        "param_grid = {'batch_size': [10, 20, 40, 60, 80, 100],\n",
        "              'epochs': [20]}\n",
        "\n",
        "# Create Grid Search\n",
        "grid = GridSearchCV(estimator=model, param_grid=param_grid, n_jobs=-1)\n",
        "grid_result = grid.fit(X, Y)\n",
        "\n",
        "# Report Results\n",
        "print(f\"Best: {grid_result.best_score_} using {grid_result.best_params_}\")\n",
        "means = grid_result.cv_results_['mean_test_score']\n",
        "stds = grid_result.cv_results_['std_test_score']\n",
        "params = grid_result.cv_results_['params']\n",
        "for mean, stdev, param in zip(means, stds, params):\n",
        "    print(f\"Means: {mean}, Stdev: {stdev} with: {param}\") "
      ],
      "execution_count": 5,
      "outputs": [
        {
          "output_type": "stream",
          "text": [
            "Best: 0.7005941867828369 using {'batch_size': 10, 'epochs': 20}\n",
            "Means: 0.7005941867828369, Stdev: 0.036074235843562244 with: {'batch_size': 10, 'epochs': 20}\n",
            "Means: 0.6511501669883728, Stdev: 0.05715085368341674 with: {'batch_size': 20, 'epochs': 20}\n",
            "Means: 0.5978355050086975, Stdev: 0.07436800795861404 with: {'batch_size': 40, 'epochs': 20}\n",
            "Means: 0.5846957087516784, Stdev: 0.06289322592458887 with: {'batch_size': 60, 'epochs': 20}\n",
            "Means: 0.5846362829208374, Stdev: 0.06656400795020768 with: {'batch_size': 80, 'epochs': 20}\n",
            "Means: 0.5871403217315674, Stdev: 0.045505155892414405 with: {'batch_size': 100, 'epochs': 20}\n"
          ],
          "name": "stdout"
        }
      ]
    },
    {
      "cell_type": "markdown",
      "metadata": {
        "colab_type": "text",
        "id": "EKcuY6OiaLfz"
      },
      "source": [
        "## Optimizer\n",
        "\n",
        "Remember that there's a different optimizers [optimizers](https://keras.io/optimizers/). At some point, take some time to read up on them a little bit. \"adam\" usually gives the best results. The thing to know about choosing an optimizer is that different optimizers have different hyperparameters like learning rate, momentum, etc. So based on the optimizer you choose you might also have to tune the learning rate and momentum of those optimizers after that. "
      ]
    },
    {
      "cell_type": "markdown",
      "metadata": {
        "colab_type": "text",
        "id": "DG3wq5iOaLig"
      },
      "source": [
        "## Learning Rate\n",
        "\n",
        "Remember that the Learning Rate is a hyperparameter that is specific to your gradient-descent based optimizer selection. A learning rate that is too high will cause divergent behavior, but a Learning Rate that is too low will fail to converge, again, you're looking for the sweet spot. I would start out tuning learning rates by orders of magnitude: [.001, .01, .1, .2, .3, .5] etc. I wouldn't go above .5, but you can try it and see what the behavior is like. \n",
        "\n",
        "Once you have narrowed it down, make the window even smaller and try it again. If after running the above specification your model reports that .1 is the best optimizer, then you should probably try things like [.05, .08, .1, .12, .15] to try and narrow it down. \n",
        "\n",
        "It can also be good to tune the number of epochs in combination with the learning rate since the number of iterations that you allow the learning rate to reach the minimum can determine if you have let it run long enough to converge to the minimum. "
      ]
    },
    {
      "cell_type": "code",
      "metadata": {
        "id": "gba0UWtQ-ehg",
        "colab_type": "code",
        "colab": {
          "base_uri": "https://localhost:8080/",
          "height": 153
        },
        "outputId": "4cd0a4cd-2248-4523-a5d5-d7cee2dada85"
      },
      "source": [
        "from tensorflow.keras.optimizers import Adadelta\n",
        "\n",
        "def create_model(lr=.01):\n",
        "    opt = Adadelta(learning_rate=lr)\n",
        "    # create model\n",
        "    model = Sequential()\n",
        "    model.add(Dense(12, input_dim=8, activation='relu'))\n",
        "    model.add(Dense(1, activation='sigmoid'))\n",
        "    # Compile model\n",
        "    model.compile(loss='binary_crossentropy', optimizer=opt, metrics=['accuracy'])\n",
        "    return model\n",
        "\n",
        "# create model\n",
        "model = KerasClassifier(build_fn=create_model, verbose=0)\n",
        "\n",
        "# define the grid search parameters\n",
        "# batch_size = [10, 20, 40, 60, 80, 100]\n",
        "# param_grid = dict(batch_size=batch_size, epochs=epochs)\n",
        "\n",
        "# define the grid search parameters\n",
        "param_grid = {'batch_size': [10],\n",
        "              'lr': [.0001, .001, .01, .1, .2, .3, .4],\n",
        "              'epochs': [100]}\n",
        "\n",
        "# Create Grid Search\n",
        "grid = GridSearchCV(estimator=model, param_grid=param_grid, n_jobs=-1)\n",
        "grid_result = grid.fit(X, Y)\n",
        "\n",
        "# Report Results\n",
        "print(f\"Best: {grid_result.best_score_} using {grid_result.best_params_}\")\n",
        "means = grid_result.cv_results_['mean_test_score']\n",
        "stds = grid_result.cv_results_['std_test_score']\n",
        "params = grid_result.cv_results_['params']\n",
        "for mean, stdev, param in zip(means, stds, params):\n",
        "    print(f\"Means: {mean}, Stdev: {stdev} with: {param}\")"
      ],
      "execution_count": 8,
      "outputs": [
        {
          "output_type": "stream",
          "text": [
            "Best: 0.6145488500595093 using {'batch_size': 10, 'epochs': 20, 'lr': 0.3}\n",
            "Means: 0.4675749182701111, Stdev: 0.0915605280957973 with: {'batch_size': 10, 'epochs': 20, 'lr': 0.0001}\n",
            "Means: 0.46462100744247437, Stdev: 0.13098618258459555 with: {'batch_size': 10, 'epochs': 20, 'lr': 0.001}\n",
            "Means: 0.4436465561389923, Stdev: 0.14053621440437578 with: {'batch_size': 10, 'epochs': 20, 'lr': 0.01}\n",
            "Means: 0.5703675508499145, Stdev: 0.05975247250290968 with: {'batch_size': 10, 'epochs': 20, 'lr': 0.1}\n",
            "Means: 0.5613190829753876, Stdev: 0.0685987712120162 with: {'batch_size': 10, 'epochs': 20, 'lr': 0.2}\n",
            "Means: 0.6145488500595093, Stdev: 0.03155836252407427 with: {'batch_size': 10, 'epochs': 20, 'lr': 0.3}\n",
            "Means: 0.5897292256355285, Stdev: 0.039200758898063154 with: {'batch_size': 10, 'epochs': 20, 'lr': 0.4}\n"
          ],
          "name": "stdout"
        }
      ]
    },
    {
      "cell_type": "markdown",
      "metadata": {
        "colab_type": "text",
        "id": "gNTBUWd1aLlA"
      },
      "source": [
        "## Momentum\n",
        "\n",
        "Momentum is a hyperparameter that is more commonly associated with Stochastic Gradient Descent. SGD is a common optimizer because it's what people understand and know, but I doubt it will get you the best results, you can try hyperparameter tuning its attributes and see if you can beat the performance from adam. Momentum is a property that decides the willingness of an optimizer to overshoot the minimum. Imagine a ball rolling down one side of a bowl and then up the opposite side a little bit before settling back to the bottom. The purpose of momentum is to try and escale local minima."
      ]
    },
    {
      "cell_type": "markdown",
      "metadata": {
        "colab_type": "text",
        "id": "xnEG-bCJaLnZ"
      },
      "source": [
        "## Activation Functions\n",
        "\n",
        "We've talked about this a little bit, typically you'l want to use ReLU for hidden layers and either Sigmoid, or Softmax for output layers of binary and multi-class classification implementations respectively, but try other activation functions and see if you can get any better results with sigmoid or tanh or something. There are a lot of activation functions that we haven't really talked about. Maybe you'll get good results with them. Maybe you won't. :) <https://keras.io/activations/>"
      ]
    },
    {
      "cell_type": "markdown",
      "metadata": {
        "colab_type": "text",
        "id": "oul9sPq-dU-h"
      },
      "source": [
        "## Network Weight Initialization\n",
        "\n",
        "You saw how big of an effect the way that we initialize our network's weights can have on our results. There are **a lot** of what are called initialization modes. I don't understand all of them, but they can have a big affect on your model's initial accuracy. Your model will get further with less epochs if you initialize it with weights that are well suited to the problem you're trying to solve.\n",
        "\n",
        "`init_mode = ['uniform', 'lecun_uniform', 'normal', 'zero', 'glorot_normal', 'glorot_uniform', 'he_normal', 'he_uniform']`"
      ]
    },
    {
      "cell_type": "markdown",
      "metadata": {
        "colab_type": "text",
        "id": "bqtEuxeQaLqE"
      },
      "source": [
        "## Dropout Regularization and the Weight Constraint\n",
        "\n",
        "the Dropout Regularization value is a percentage of neurons that you want to be randomly deactivated during training. The weight constraint is a second regularization parameter that works in tandem with dropout regularization. You should tune these two values at the same time. \n",
        "\n",
        "Using dropout on visible vs hidden layers might have a different effect. Using dropout on hidden layers might not have any effect while using dropout on hidden layers might have a substantial effect. You don't necessarily need to turn use dropout unless you see that your model has overfitting and generalizability problems."
      ]
    },
    {
      "cell_type": "markdown",
      "metadata": {
        "colab_type": "text",
        "id": "P2c5Cv6oaLtO"
      },
      "source": [
        "## Neurons in Hidden Layer \n",
        "\n",
        "Remember that when we only had a single perceptron our model was only able to fit to linearly separable data, but as we have added layers and nodes to those layers our network has become a powerhouse of fitting nonlinearity in data. The larger the network and the more nodes generally the stronger the network's capacity to fit nonlinear patterns in data. The more nodes and layers the longer it will take to train a network, and higher the probability of overfitting. The larger your network gets the more you'll need dropout regularization or other regularization techniques to keep it in check. \n",
        "\n",
        "Typically depth (more layers) is more important than width (more nodes) for neural networks. This is part of why Deep Learning is so highly touted. Certain deep learning architectures have truly been huge breakthroughs for certain machine learning tasks. \n",
        "\n",
        "You might borrow ideas from other network architectures. For example if I was doing image recognition and I wasn't taking cues from state of the art architectures like resnet, alexnet, googlenet, etc. Then I'm probably going to have to do a lot more experimentation on my own before I find something that works.\n",
        "\n",
        "There are some heuristics, but I am highly skeptical of them. I think you're better off experimenting on your own and forming your own intuition for these kinds of problems. \n",
        "\n",
        "- https://machinelearningmastery.com/how-to-configure-the-number-of-layers-and-nodes-in-a-neural-network/"
      ]
    },
    {
      "cell_type": "markdown",
      "metadata": {
        "id": "7cuL6LCg-ehk",
        "colab_type": "text"
      },
      "source": [
        "## Challenge\n",
        "You will be expected to tune several hyperparameters in today's module project. "
      ]
    },
    {
      "cell_type": "markdown",
      "metadata": {
        "id": "aryg-2W2-ehk",
        "colab_type": "text"
      },
      "source": [
        "# Experiment Tracking Framework (Learn)\n",
        "<a id=\"p2\"></a>"
      ]
    },
    {
      "cell_type": "markdown",
      "metadata": {
        "id": "_6r93b45-ehl",
        "colab_type": "text"
      },
      "source": [
        "## Overview\n",
        "\n",
        "You will notice quickly that managing the results of all the experiments you are running becomes challenging. Which set of parameters did the best? Are my results today different than my results yesterday? Although we use Ipython Notebooks to work, the format is not well suited to logging experimental results. Enter experiment tracking frameworks like [Comet.ml](https://comet.ml) and [Weights and Biases](https://wandb.ai/).\n",
        "\n",
        "Those tools will help you track your experiments, store the results, and the code associated with those experiments. Experimental results can also be readily visualized to see changes in performance across any metric you care about. Data is sent to the tool as each epoch is completed, so you can also see if your model is converging. Let's check out Weights & Biases today. "
      ]
    },
    {
      "cell_type": "markdown",
      "metadata": {
        "id": "K5H56Ftu-ehl",
        "colab_type": "text"
      },
      "source": [
        "## Follow Along\n",
        "\n",
        "Make sure you login into `wandb` in the terminal before running the next cell. "
      ]
    },
    {
      "cell_type": "code",
      "metadata": {
        "id": "VjtDTkaEbUHS",
        "colab_type": "code",
        "colab": {
          "base_uri": "https://localhost:8080/",
          "height": 1000
        },
        "outputId": "2af15428-8509-4ed4-a276-f086fc2b063a"
      },
      "source": [
        "!pip install wandb"
      ],
      "execution_count": 9,
      "outputs": [
        {
          "output_type": "stream",
          "text": [
            "Collecting wandb\n",
            "\u001b[?25l  Downloading https://files.pythonhosted.org/packages/4b/85/ee3bec131a1078f0450140abc6c3f17177e832109c44912dca2a82e9f7d9/wandb-0.9.1-py2.py3-none-any.whl (1.4MB)\n",
            "\u001b[K     |████████████████████████████████| 1.4MB 2.8MB/s \n",
            "\u001b[?25hRequirement already satisfied: six>=1.10.0 in /usr/local/lib/python3.6/dist-packages (from wandb) (1.12.0)\n",
            "Requirement already satisfied: psutil>=5.0.0 in /usr/local/lib/python3.6/dist-packages (from wandb) (5.4.8)\n",
            "Collecting docker-pycreds>=0.4.0\n",
            "  Downloading https://files.pythonhosted.org/packages/f5/e8/f6bd1eee09314e7e6dee49cbe2c5e22314ccdb38db16c9fc72d2fa80d054/docker_pycreds-0.4.0-py2.py3-none-any.whl\n",
            "Collecting configparser>=3.8.1\n",
            "  Downloading https://files.pythonhosted.org/packages/4b/6b/01baa293090240cf0562cc5eccb69c6f5006282127f2b846fad011305c79/configparser-5.0.0-py3-none-any.whl\n",
            "Collecting subprocess32>=3.5.3\n",
            "\u001b[?25l  Downloading https://files.pythonhosted.org/packages/32/c8/564be4d12629b912ea431f1a50eb8b3b9d00f1a0b1ceff17f266be190007/subprocess32-3.5.4.tar.gz (97kB)\n",
            "\u001b[K     |████████████████████████████████| 102kB 10.3MB/s \n",
            "\u001b[?25hCollecting sentry-sdk>=0.4.0\n",
            "\u001b[?25l  Downloading https://files.pythonhosted.org/packages/1b/95/9a20eebcedab2c1c63fad59fe19a0469edfc2a25b8576497e8084629c2ff/sentry_sdk-0.14.4-py2.py3-none-any.whl (104kB)\n",
            "\u001b[K     |████████████████████████████████| 112kB 16.8MB/s \n",
            "\u001b[?25hRequirement already satisfied: PyYAML>=3.10 in /usr/local/lib/python3.6/dist-packages (from wandb) (3.13)\n",
            "Requirement already satisfied: nvidia-ml-py3>=7.352.0 in /usr/local/lib/python3.6/dist-packages (from wandb) (7.352.0)\n",
            "Collecting gql==0.2.0\n",
            "  Downloading https://files.pythonhosted.org/packages/c4/6f/cf9a3056045518f06184e804bae89390eb706168349daa9dff8ac609962a/gql-0.2.0.tar.gz\n",
            "Collecting watchdog>=0.8.3\n",
            "\u001b[?25l  Downloading https://files.pythonhosted.org/packages/73/c3/ed6d992006837e011baca89476a4bbffb0a91602432f73bd4473816c76e2/watchdog-0.10.2.tar.gz (95kB)\n",
            "\u001b[K     |████████████████████████████████| 102kB 8.6MB/s \n",
            "\u001b[?25hRequirement already satisfied: python-dateutil>=2.6.1 in /usr/local/lib/python3.6/dist-packages (from wandb) (2.8.1)\n",
            "Requirement already satisfied: Click>=7.0 in /usr/local/lib/python3.6/dist-packages (from wandb) (7.1.2)\n",
            "Collecting shortuuid>=0.5.0\n",
            "  Downloading https://files.pythonhosted.org/packages/25/a6/2ecc1daa6a304e7f1b216f0896b26156b78e7c38e1211e9b798b4716c53d/shortuuid-1.0.1-py3-none-any.whl\n",
            "Collecting GitPython>=1.0.0\n",
            "\u001b[?25l  Downloading https://files.pythonhosted.org/packages/8c/f9/c315aa88e51fabdc08e91b333cfefb255aff04a2ee96d632c32cb19180c9/GitPython-3.1.3-py3-none-any.whl (451kB)\n",
            "\u001b[K     |████████████████████████████████| 460kB 21.6MB/s \n",
            "\u001b[?25hRequirement already satisfied: requests>=2.0.0 in /usr/local/lib/python3.6/dist-packages (from wandb) (2.23.0)\n",
            "Requirement already satisfied: certifi in /usr/local/lib/python3.6/dist-packages (from sentry-sdk>=0.4.0->wandb) (2020.4.5.1)\n",
            "Requirement already satisfied: urllib3>=1.10.0 in /usr/local/lib/python3.6/dist-packages (from sentry-sdk>=0.4.0->wandb) (1.24.3)\n",
            "Collecting graphql-core<2,>=0.5.0\n",
            "\u001b[?25l  Downloading https://files.pythonhosted.org/packages/b0/89/00ad5e07524d8c523b14d70c685e0299a8b0de6d0727e368c41b89b7ed0b/graphql-core-1.1.tar.gz (70kB)\n",
            "\u001b[K     |████████████████████████████████| 71kB 7.5MB/s \n",
            "\u001b[?25hRequirement already satisfied: promise<3,>=2.0 in /usr/local/lib/python3.6/dist-packages (from gql==0.2.0->wandb) (2.3)\n",
            "Collecting pathtools>=0.1.1\n",
            "  Downloading https://files.pythonhosted.org/packages/e7/7f/470d6fcdf23f9f3518f6b0b76be9df16dcc8630ad409947f8be2eb0ed13a/pathtools-0.1.2.tar.gz\n",
            "Collecting gitdb<5,>=4.0.1\n",
            "\u001b[?25l  Downloading https://files.pythonhosted.org/packages/48/11/d1800bca0a3bae820b84b7d813ad1eff15a48a64caea9c823fc8c1b119e8/gitdb-4.0.5-py3-none-any.whl (63kB)\n",
            "\u001b[K     |████████████████████████████████| 71kB 8.3MB/s \n",
            "\u001b[?25hRequirement already satisfied: idna<3,>=2.5 in /usr/local/lib/python3.6/dist-packages (from requests>=2.0.0->wandb) (2.9)\n",
            "Requirement already satisfied: chardet<4,>=3.0.2 in /usr/local/lib/python3.6/dist-packages (from requests>=2.0.0->wandb) (3.0.4)\n",
            "Collecting smmap<4,>=3.0.1\n",
            "  Downloading https://files.pythonhosted.org/packages/b0/9a/4d409a6234eb940e6a78dfdfc66156e7522262f5f2fecca07dc55915952d/smmap-3.0.4-py2.py3-none-any.whl\n",
            "Building wheels for collected packages: subprocess32, gql, watchdog, graphql-core, pathtools\n",
            "  Building wheel for subprocess32 (setup.py) ... \u001b[?25l\u001b[?25hdone\n",
            "  Created wheel for subprocess32: filename=subprocess32-3.5.4-cp36-none-any.whl size=6489 sha256=92547a4f33d6a1aea46489da58205aba604c35b48860fbe7a605d4f845f997b9\n",
            "  Stored in directory: /root/.cache/pip/wheels/68/39/1a/5e402bdfdf004af1786c8b853fd92f8c4a04f22aad179654d1\n",
            "  Building wheel for gql (setup.py) ... \u001b[?25l\u001b[?25hdone\n",
            "  Created wheel for gql: filename=gql-0.2.0-cp36-none-any.whl size=7630 sha256=2e80a9558f6d663d6c85c11bea5b05738951d4cc2c30ff270663f4dff3826830\n",
            "  Stored in directory: /root/.cache/pip/wheels/ce/0e/7b/58a8a5268655b3ad74feef5aa97946f0addafb3cbb6bd2da23\n",
            "  Building wheel for watchdog (setup.py) ... \u001b[?25l\u001b[?25hdone\n",
            "  Created wheel for watchdog: filename=watchdog-0.10.2-cp36-none-any.whl size=73605 sha256=22910a3894cbeee305cb96b5848a1f6a641c923680c7511e58ea0eb46e766f9c\n",
            "  Stored in directory: /root/.cache/pip/wheels/bc/ed/6c/028dea90d31b359cd2a7c8b0da4db80e41d24a59614154072e\n",
            "  Building wheel for graphql-core (setup.py) ... \u001b[?25l\u001b[?25hdone\n",
            "  Created wheel for graphql-core: filename=graphql_core-1.1-cp36-none-any.whl size=104650 sha256=3c2bdccc76d6aea96a2a0e4caf7b449ed6971bec2aa48273e965e571ef24e345\n",
            "  Stored in directory: /root/.cache/pip/wheels/45/99/d7/c424029bb0fe910c63b68dbf2aa20d3283d023042521bcd7d5\n",
            "  Building wheel for pathtools (setup.py) ... \u001b[?25l\u001b[?25hdone\n",
            "  Created wheel for pathtools: filename=pathtools-0.1.2-cp36-none-any.whl size=8784 sha256=ceebbbf1484e612bc9c976cbfa8213ae7a3e26a144f9a4f1c6fe67a54fa7045b\n",
            "  Stored in directory: /root/.cache/pip/wheels/0b/04/79/c3b0c3a0266a3cb4376da31e5bfe8bba0c489246968a68e843\n",
            "Successfully built subprocess32 gql watchdog graphql-core pathtools\n",
            "Installing collected packages: docker-pycreds, configparser, subprocess32, sentry-sdk, graphql-core, gql, pathtools, watchdog, shortuuid, smmap, gitdb, GitPython, wandb\n",
            "Successfully installed GitPython-3.1.3 configparser-5.0.0 docker-pycreds-0.4.0 gitdb-4.0.5 gql-0.2.0 graphql-core-1.1 pathtools-0.1.2 sentry-sdk-0.14.4 shortuuid-1.0.1 smmap-3.0.4 subprocess32-3.5.4 wandb-0.9.1 watchdog-0.10.2\n"
          ],
          "name": "stdout"
        }
      ]
    },
    {
      "cell_type": "code",
      "metadata": {
        "id": "oPYWW1ZRbewa",
        "colab_type": "code",
        "colab": {
          "base_uri": "https://localhost:8080/",
          "height": 51
        },
        "outputId": "4540e151-1e9f-4520-a73b-fff44f227701"
      },
      "source": [
        "!wandb login 247987b3dbbed0f189e1a59f756740f6abdbaae9"
      ],
      "execution_count": 13,
      "outputs": [
        {
          "output_type": "stream",
          "text": [
            "\u001b[34m\u001b[1mwandb\u001b[0m: Appending key for api.wandb.ai to your netrc file: /root/.netrc\n",
            "\u001b[32mSuccessfully logged in to Weights & Biases!\u001b[0m\n"
          ],
          "name": "stdout"
        }
      ]
    },
    {
      "cell_type": "code",
      "metadata": {
        "id": "3UlBpQy9-ehl",
        "colab_type": "code",
        "colab": {}
      },
      "source": [
        "import wandb\n",
        "from wandb.keras import WandbCallback"
      ],
      "execution_count": 0,
      "outputs": []
    },
    {
      "cell_type": "code",
      "metadata": {
        "colab_type": "code",
        "outputId": "6eabccf9-39c8-4d07-b7c0-d4dfda12e613",
        "id": "4CihkiTx-eho",
        "colab": {
          "base_uri": "https://localhost:8080/",
          "height": 1000
        }
      },
      "source": [
        "wandb.init(project=wandb_project, entity=wandb_group) #Initializes and Experiment\n",
        "\n",
        "# Important Hyperparameters\n",
        "X =  x_train\n",
        "y =  y_train\n",
        "\n",
        "inputs = X.shape[1]\n",
        "wandb.config.epochs = 50\n",
        "wandb.config.batch_size = 10\n",
        "wandb.config.optimizer = 'adam'\n",
        "\n",
        "# Create Model\n",
        "model = Sequential()\n",
        "model.add(Dense(64, activation='relu', input_shape=(inputs,)))\n",
        "model.add(Dense(64, activation='relu'))\n",
        "model.add(Dense(64, activation='relu'))\n",
        "model.add(Dense(1))\n",
        "# Compile Model\n",
        "model.compile(optimizer=wandb.config.optimizer, loss='mse', metrics=['mse', 'mae'])\n",
        "\n",
        "# Fit Model\n",
        "model.fit(X, y, \n",
        "          validation_split=0.33, \n",
        "          epochs=wandb.config.epochs, \n",
        "          batch_size=wandb.config.batch_size, \n",
        "          callbacks=[WandbCallback()]\n",
        "         )"
      ],
      "execution_count": 18,
      "outputs": [
        {
          "output_type": "display_data",
          "data": {
            "text/html": [
              "\n",
              "                Logging results to <a href=\"https://wandb.com\" target=\"_blank\">Weights & Biases</a> <a href=\"https://docs.wandb.com/integrations/jupyter.html\" target=\"_blank\">(Documentation)</a>.<br/>\n",
              "                Project page: <a href=\"https://app.wandb.ai/ds8/ds14_inclass\" target=\"_blank\">https://app.wandb.ai/ds8/ds14_inclass</a><br/>\n",
              "                Run page: <a href=\"https://app.wandb.ai/ds8/ds14_inclass/runs/7rarvnta\" target=\"_blank\">https://app.wandb.ai/ds8/ds14_inclass/runs/7rarvnta</a><br/>\n",
              "            "
            ],
            "text/plain": [
              "<IPython.core.display.HTML object>"
            ]
          },
          "metadata": {
            "tags": []
          }
        },
        {
          "output_type": "stream",
          "text": [
            "Epoch 1/50\n",
            "27/27 [==============================] - 0s 12ms/step - loss: 464.9830 - mse: 464.9830 - mae: 19.5708 - val_loss: 403.5735 - val_mse: 403.5735 - val_mae: 17.6296\n",
            "Epoch 2/50\n",
            "27/27 [==============================] - 0s 7ms/step - loss: 174.8489 - mse: 174.8489 - mae: 11.0191 - val_loss: 92.4651 - val_mse: 92.4651 - val_mae: 7.6220\n",
            "Epoch 3/50\n",
            "27/27 [==============================] - 0s 7ms/step - loss: 50.8316 - mse: 50.8316 - mae: 5.3881 - val_loss: 54.2555 - val_mse: 54.2555 - val_mae: 5.3581\n",
            "Epoch 4/50\n",
            "27/27 [==============================] - 0s 8ms/step - loss: 28.2055 - mse: 28.2055 - mae: 3.8503 - val_loss: 35.0186 - val_mse: 35.0186 - val_mae: 4.1485\n",
            "Epoch 5/50\n",
            "27/27 [==============================] - 0s 7ms/step - loss: 20.4080 - mse: 20.4080 - mae: 3.2928 - val_loss: 30.9614 - val_mse: 30.9614 - val_mae: 3.7421\n",
            "Epoch 6/50\n",
            "27/27 [==============================] - 0s 7ms/step - loss: 17.6324 - mse: 17.6324 - mae: 3.1013 - val_loss: 26.7566 - val_mse: 26.7566 - val_mae: 3.4956\n",
            "Epoch 7/50\n",
            "27/27 [==============================] - 0s 6ms/step - loss: 14.9963 - mse: 14.9963 - mae: 2.8671 - val_loss: 25.8296 - val_mse: 25.8296 - val_mae: 3.4891\n",
            "Epoch 8/50\n",
            "27/27 [==============================] - 0s 6ms/step - loss: 13.6383 - mse: 13.6383 - mae: 2.7728 - val_loss: 22.0894 - val_mse: 22.0894 - val_mae: 3.0907\n",
            "Epoch 9/50\n",
            "27/27 [==============================] - 0s 7ms/step - loss: 11.8999 - mse: 11.8999 - mae: 2.5549 - val_loss: 21.3778 - val_mse: 21.3778 - val_mae: 3.0284\n",
            "Epoch 10/50\n",
            "27/27 [==============================] - 0s 7ms/step - loss: 11.1076 - mse: 11.1076 - mae: 2.5103 - val_loss: 20.6960 - val_mse: 20.6960 - val_mae: 3.0240\n",
            "Epoch 11/50\n",
            "27/27 [==============================] - 0s 6ms/step - loss: 10.3240 - mse: 10.3240 - mae: 2.3857 - val_loss: 19.1872 - val_mse: 19.1872 - val_mae: 2.8309\n",
            "Epoch 12/50\n",
            "27/27 [==============================] - 0s 7ms/step - loss: 9.8152 - mse: 9.8152 - mae: 2.4270 - val_loss: 19.0935 - val_mse: 19.0935 - val_mae: 2.8666\n",
            "Epoch 13/50\n",
            "27/27 [==============================] - 0s 7ms/step - loss: 9.2850 - mse: 9.2850 - mae: 2.2780 - val_loss: 18.6885 - val_mse: 18.6885 - val_mae: 2.9228\n",
            "Epoch 14/50\n",
            "27/27 [==============================] - 0s 7ms/step - loss: 8.6078 - mse: 8.6078 - mae: 2.2375 - val_loss: 18.0174 - val_mse: 18.0174 - val_mae: 2.8265\n",
            "Epoch 15/50\n",
            "27/27 [==============================] - 0s 6ms/step - loss: 8.2984 - mse: 8.2984 - mae: 2.1452 - val_loss: 18.1865 - val_mse: 18.1865 - val_mae: 2.7983\n",
            "Epoch 16/50\n",
            "27/27 [==============================] - 0s 7ms/step - loss: 8.0631 - mse: 8.0631 - mae: 2.1611 - val_loss: 17.6363 - val_mse: 17.6363 - val_mae: 2.8063\n",
            "Epoch 17/50\n",
            "27/27 [==============================] - 0s 7ms/step - loss: 8.0974 - mse: 8.0974 - mae: 2.1738 - val_loss: 17.2045 - val_mse: 17.2045 - val_mae: 2.7512\n",
            "Epoch 18/50\n",
            "27/27 [==============================] - 0s 7ms/step - loss: 7.5449 - mse: 7.5449 - mae: 2.0871 - val_loss: 16.5443 - val_mse: 16.5443 - val_mae: 2.7226\n",
            "Epoch 19/50\n",
            "27/27 [==============================] - 0s 6ms/step - loss: 7.2565 - mse: 7.2565 - mae: 2.0487 - val_loss: 17.4367 - val_mse: 17.4367 - val_mae: 2.8520\n",
            "Epoch 20/50\n",
            "27/27 [==============================] - 0s 6ms/step - loss: 7.3947 - mse: 7.3947 - mae: 2.0536 - val_loss: 16.8065 - val_mse: 16.8065 - val_mae: 2.7718\n",
            "Epoch 21/50\n",
            "27/27 [==============================] - 0s 6ms/step - loss: 6.9120 - mse: 6.9120 - mae: 1.9818 - val_loss: 16.5809 - val_mse: 16.5809 - val_mae: 2.7738\n",
            "Epoch 22/50\n",
            "27/27 [==============================] - 0s 7ms/step - loss: 7.0308 - mse: 7.0308 - mae: 2.0271 - val_loss: 16.1133 - val_mse: 16.1133 - val_mae: 2.7031\n",
            "Epoch 23/50\n",
            "27/27 [==============================] - 0s 6ms/step - loss: 6.6993 - mse: 6.6993 - mae: 1.9607 - val_loss: 16.3261 - val_mse: 16.3261 - val_mae: 2.7251\n",
            "Epoch 24/50\n",
            "27/27 [==============================] - 0s 7ms/step - loss: 6.8523 - mse: 6.8523 - mae: 1.9918 - val_loss: 15.8337 - val_mse: 15.8337 - val_mae: 2.6829\n",
            "Epoch 25/50\n",
            "27/27 [==============================] - 0s 5ms/step - loss: 6.4255 - mse: 6.4255 - mae: 1.9285 - val_loss: 16.4610 - val_mse: 16.4610 - val_mae: 2.7537\n",
            "Epoch 26/50\n",
            "27/27 [==============================] - 0s 6ms/step - loss: 5.9847 - mse: 5.9847 - mae: 1.8247 - val_loss: 15.8697 - val_mse: 15.8697 - val_mae: 2.6747\n",
            "Epoch 27/50\n",
            "27/27 [==============================] - 0s 7ms/step - loss: 6.4836 - mse: 6.4836 - mae: 1.9336 - val_loss: 15.7013 - val_mse: 15.7013 - val_mae: 2.6538\n",
            "Epoch 28/50\n",
            "27/27 [==============================] - 0s 6ms/step - loss: 5.9236 - mse: 5.9236 - mae: 1.8528 - val_loss: 16.1030 - val_mse: 16.1030 - val_mae: 2.6896\n",
            "Epoch 29/50\n",
            "27/27 [==============================] - 0s 5ms/step - loss: 5.8812 - mse: 5.8812 - mae: 1.8131 - val_loss: 16.3664 - val_mse: 16.3664 - val_mae: 2.7465\n",
            "Epoch 30/50\n",
            "27/27 [==============================] - 0s 5ms/step - loss: 5.6300 - mse: 5.6300 - mae: 1.7777 - val_loss: 16.1543 - val_mse: 16.1543 - val_mae: 2.7404\n",
            "Epoch 31/50\n",
            "27/27 [==============================] - 0s 6ms/step - loss: 5.3690 - mse: 5.3690 - mae: 1.7273 - val_loss: 15.7088 - val_mse: 15.7088 - val_mae: 2.6710\n",
            "Epoch 32/50\n",
            "27/27 [==============================] - 0s 6ms/step - loss: 5.3596 - mse: 5.3596 - mae: 1.7080 - val_loss: 16.3707 - val_mse: 16.3707 - val_mae: 2.7715\n",
            "Epoch 33/50\n",
            "27/27 [==============================] - 0s 6ms/step - loss: 5.7748 - mse: 5.7748 - mae: 1.8014 - val_loss: 16.0355 - val_mse: 16.0355 - val_mae: 2.7500\n",
            "Epoch 34/50\n",
            "27/27 [==============================] - 0s 5ms/step - loss: 5.2798 - mse: 5.2798 - mae: 1.6879 - val_loss: 15.7766 - val_mse: 15.7766 - val_mae: 2.7164\n",
            "Epoch 35/50\n",
            "27/27 [==============================] - 0s 7ms/step - loss: 5.3830 - mse: 5.3830 - mae: 1.7488 - val_loss: 15.4733 - val_mse: 15.4733 - val_mae: 2.6214\n",
            "Epoch 36/50\n",
            "27/27 [==============================] - 0s 7ms/step - loss: 5.0476 - mse: 5.0476 - mae: 1.6560 - val_loss: 15.3515 - val_mse: 15.3515 - val_mae: 2.6004\n",
            "Epoch 37/50\n",
            "27/27 [==============================] - 0s 6ms/step - loss: 5.0363 - mse: 5.0363 - mae: 1.6721 - val_loss: 15.4637 - val_mse: 15.4637 - val_mae: 2.6451\n",
            "Epoch 38/50\n",
            "27/27 [==============================] - 0s 6ms/step - loss: 5.0345 - mse: 5.0345 - mae: 1.6344 - val_loss: 15.4668 - val_mse: 15.4668 - val_mae: 2.6410\n",
            "Epoch 39/50\n",
            "27/27 [==============================] - 0s 6ms/step - loss: 5.3519 - mse: 5.3519 - mae: 1.7184 - val_loss: 16.1303 - val_mse: 16.1303 - val_mae: 2.7331\n",
            "Epoch 40/50\n",
            "27/27 [==============================] - 0s 6ms/step - loss: 5.2133 - mse: 5.2133 - mae: 1.6769 - val_loss: 15.7634 - val_mse: 15.7634 - val_mae: 2.7364\n",
            "Epoch 41/50\n",
            "27/27 [==============================] - 0s 7ms/step - loss: 4.9647 - mse: 4.9647 - mae: 1.6669 - val_loss: 15.0993 - val_mse: 15.0993 - val_mae: 2.6234\n",
            "Epoch 42/50\n",
            "27/27 [==============================] - 0s 6ms/step - loss: 4.4315 - mse: 4.4315 - mae: 1.5787 - val_loss: 15.6102 - val_mse: 15.6102 - val_mae: 2.6614\n",
            "Epoch 43/50\n",
            "27/27 [==============================] - 0s 6ms/step - loss: 4.6604 - mse: 4.6604 - mae: 1.6044 - val_loss: 15.4880 - val_mse: 15.4880 - val_mae: 2.6443\n",
            "Epoch 44/50\n",
            "27/27 [==============================] - 0s 7ms/step - loss: 4.2571 - mse: 4.2571 - mae: 1.4939 - val_loss: 15.0057 - val_mse: 15.0057 - val_mae: 2.6168\n",
            "Epoch 45/50\n",
            "27/27 [==============================] - 0s 6ms/step - loss: 4.6170 - mse: 4.6170 - mae: 1.5537 - val_loss: 15.1011 - val_mse: 15.1011 - val_mae: 2.6371\n",
            "Epoch 46/50\n",
            "27/27 [==============================] - 0s 6ms/step - loss: 4.8397 - mse: 4.8397 - mae: 1.6538 - val_loss: 15.7762 - val_mse: 15.7762 - val_mae: 2.7260\n",
            "Epoch 47/50\n",
            "27/27 [==============================] - 0s 5ms/step - loss: 4.6027 - mse: 4.6027 - mae: 1.5938 - val_loss: 15.8241 - val_mse: 15.8241 - val_mae: 2.6592\n",
            "Epoch 48/50\n",
            "27/27 [==============================] - 0s 6ms/step - loss: 4.1750 - mse: 4.1750 - mae: 1.5004 - val_loss: 15.2642 - val_mse: 15.2642 - val_mae: 2.6316\n",
            "Epoch 49/50\n",
            "27/27 [==============================] - 0s 5ms/step - loss: 4.0292 - mse: 4.0292 - mae: 1.4856 - val_loss: 15.4898 - val_mse: 15.4898 - val_mae: 2.7198\n",
            "Epoch 50/50\n",
            "27/27 [==============================] - 0s 8ms/step - loss: 4.1633 - mse: 4.1633 - mae: 1.5545 - val_loss: 14.9467 - val_mse: 14.9467 - val_mae: 2.6209\n"
          ],
          "name": "stdout"
        },
        {
          "output_type": "execute_result",
          "data": {
            "text/plain": [
              "<tensorflow.python.keras.callbacks.History at 0x7f3afbbda6d8>"
            ]
          },
          "metadata": {
            "tags": []
          },
          "execution_count": 18
        }
      ]
    },
    {
      "cell_type": "markdown",
      "metadata": {
        "id": "UsfDjLQh-ehr",
        "colab_type": "text"
      },
      "source": [
        "### Your Turn\n",
        "\n",
        "Pick a few hyparameters that we *have not* tuned. Using the same code above, try changing a few parameters you're interested in and submitting the results to weights & biases. :) "
      ]
    },
    {
      "cell_type": "code",
      "metadata": {
        "id": "WV07OC4w-ehr",
        "colab_type": "code",
        "colab": {
          "base_uri": "https://localhost:8080/",
          "height": 283
        },
        "outputId": "b2c97ad5-bcf2-4742-8f77-4447c5f904e0"
      },
      "source": [
        "wandb.init(project=wandb_project, entity=wandb_group) #Initializes and Experiment\n",
        "\n",
        "from tensorflow.keras.optimizers import Nadam\n",
        "from tensorflow.keras.activations import relu\n",
        "\n",
        "wandb.config.epochs = 50\n",
        "wandb.config.batch_size = 10\n",
        "wandb.config.optimizer = Nadam()\n",
        "wandb.config.ReluSlope = 0.01\n",
        "\n",
        "\n",
        "\n",
        "# Create Model\n",
        "model = Sequential()\n",
        "model.add(Dense(64, activation= relu(alpha=wandb.config.ReluSlope), input_shape=(inputs,)))\n",
        "model.add(Dense(64, activation= relu(alpha=wandb.config.ReluSlope)))\n",
        "model.add(Dense(64, activation= relu(alpha=wandb.config.ReluSlope)))\n",
        "model.add(Dense(1))\n",
        "# Compile Model\n",
        "model.compile(optimizer=wandb.config.optimizer, loss='mse', metrics=['mse', 'mae'])\n",
        "\n",
        "# Fit Model\n",
        "model.fit(X, y, \n",
        "          validation_split=0.1, \n",
        "          epochs=wandb.config.epochs, \n",
        "          batch_size=wandb.config.batch_size, \n",
        "          callbacks=[WandbCallback()]\n",
        "         )"
      ],
      "execution_count": 22,
      "outputs": [
        {
          "output_type": "display_data",
          "data": {
            "text/html": [
              "\n",
              "                Logging results to <a href=\"https://wandb.com\" target=\"_blank\">Weights & Biases</a> <a href=\"https://docs.wandb.com/integrations/jupyter.html\" target=\"_blank\">(Documentation)</a>.<br/>\n",
              "                Project page: <a href=\"https://app.wandb.ai/ds8/ds14_inclass\" target=\"_blank\">https://app.wandb.ai/ds8/ds14_inclass</a><br/>\n",
              "                Run page: <a href=\"https://app.wandb.ai/ds8/ds14_inclass/runs/3f0f8dei\" target=\"_blank\">https://app.wandb.ai/ds8/ds14_inclass/runs/3f0f8dei</a><br/>\n",
              "            "
            ],
            "text/plain": [
              "<IPython.core.display.HTML object>"
            ]
          },
          "metadata": {
            "tags": []
          }
        },
        {
          "output_type": "error",
          "ename": "TypeError",
          "evalue": "ignored",
          "traceback": [
            "\u001b[0;31m---------------------------------------------------------------------------\u001b[0m",
            "\u001b[0;31mTypeError\u001b[0m                                 Traceback (most recent call last)",
            "\u001b[0;32m<ipython-input-22-ebdbf1f59f42>\u001b[0m in \u001b[0;36m<module>\u001b[0;34m()\u001b[0m\n\u001b[1;32m     13\u001b[0m \u001b[0;31m# Create Model\u001b[0m\u001b[0;34m\u001b[0m\u001b[0;34m\u001b[0m\u001b[0;34m\u001b[0m\u001b[0m\n\u001b[1;32m     14\u001b[0m \u001b[0mmodel\u001b[0m \u001b[0;34m=\u001b[0m \u001b[0mSequential\u001b[0m\u001b[0;34m(\u001b[0m\u001b[0;34m)\u001b[0m\u001b[0;34m\u001b[0m\u001b[0;34m\u001b[0m\u001b[0m\n\u001b[0;32m---> 15\u001b[0;31m \u001b[0mmodel\u001b[0m\u001b[0;34m.\u001b[0m\u001b[0madd\u001b[0m\u001b[0;34m(\u001b[0m\u001b[0mDense\u001b[0m\u001b[0;34m(\u001b[0m\u001b[0;36m64\u001b[0m\u001b[0;34m,\u001b[0m \u001b[0mactivation\u001b[0m\u001b[0;34m=\u001b[0m \u001b[0mrelu\u001b[0m\u001b[0;34m(\u001b[0m\u001b[0malpha\u001b[0m\u001b[0;34m=\u001b[0m\u001b[0mwandb\u001b[0m\u001b[0;34m.\u001b[0m\u001b[0mconfig\u001b[0m\u001b[0;34m.\u001b[0m\u001b[0mReluSlope\u001b[0m\u001b[0;34m)\u001b[0m\u001b[0;34m,\u001b[0m \u001b[0minput_shape\u001b[0m\u001b[0;34m=\u001b[0m\u001b[0;34m(\u001b[0m\u001b[0minputs\u001b[0m\u001b[0;34m,\u001b[0m\u001b[0;34m)\u001b[0m\u001b[0;34m)\u001b[0m\u001b[0;34m)\u001b[0m\u001b[0;34m\u001b[0m\u001b[0;34m\u001b[0m\u001b[0m\n\u001b[0m\u001b[1;32m     16\u001b[0m \u001b[0mmodel\u001b[0m\u001b[0;34m.\u001b[0m\u001b[0madd\u001b[0m\u001b[0;34m(\u001b[0m\u001b[0mDense\u001b[0m\u001b[0;34m(\u001b[0m\u001b[0;36m64\u001b[0m\u001b[0;34m,\u001b[0m \u001b[0mactivation\u001b[0m\u001b[0;34m=\u001b[0m \u001b[0mrelu\u001b[0m\u001b[0;34m(\u001b[0m\u001b[0malpha\u001b[0m\u001b[0;34m=\u001b[0m\u001b[0mwandb\u001b[0m\u001b[0;34m.\u001b[0m\u001b[0mconfig\u001b[0m\u001b[0;34m.\u001b[0m\u001b[0mReluSlope\u001b[0m\u001b[0;34m)\u001b[0m\u001b[0;34m)\u001b[0m\u001b[0;34m)\u001b[0m\u001b[0;34m\u001b[0m\u001b[0;34m\u001b[0m\u001b[0m\n\u001b[1;32m     17\u001b[0m \u001b[0mmodel\u001b[0m\u001b[0;34m.\u001b[0m\u001b[0madd\u001b[0m\u001b[0;34m(\u001b[0m\u001b[0mDense\u001b[0m\u001b[0;34m(\u001b[0m\u001b[0;36m64\u001b[0m\u001b[0;34m,\u001b[0m \u001b[0mactivation\u001b[0m\u001b[0;34m=\u001b[0m \u001b[0mrelu\u001b[0m\u001b[0;34m(\u001b[0m\u001b[0malpha\u001b[0m\u001b[0;34m=\u001b[0m\u001b[0mwandb\u001b[0m\u001b[0;34m.\u001b[0m\u001b[0mconfig\u001b[0m\u001b[0;34m.\u001b[0m\u001b[0mReluSlope\u001b[0m\u001b[0;34m)\u001b[0m\u001b[0;34m)\u001b[0m\u001b[0;34m)\u001b[0m\u001b[0;34m\u001b[0m\u001b[0;34m\u001b[0m\u001b[0m\n",
            "\u001b[0;31mTypeError\u001b[0m: relu() missing 1 required positional argument: 'x'"
          ]
        }
      ]
    },
    {
      "cell_type": "markdown",
      "metadata": {
        "id": "A-gkZg2M-eht",
        "colab_type": "text"
      },
      "source": [
        "## Challenge\n",
        "\n",
        "You will be expected to use Weights & Biases to try to tune your model during your module assignment today. "
      ]
    },
    {
      "cell_type": "markdown",
      "metadata": {
        "id": "D0ky7cOd-eht",
        "colab_type": "text"
      },
      "source": [
        "# Hyperparameters with RandomSearchCV (Learn)"
      ]
    },
    {
      "cell_type": "markdown",
      "metadata": {
        "id": "33F52z-e-ehu",
        "colab_type": "text"
      },
      "source": [
        "## Overview\n",
        "\n",
        "Basically `GridSearchCV` takes forever. You'll want to adopt a slightly more sophiscated strategy.\n",
        "\n",
        "Let's also take a look at an alternative with Keras-Tuner."
      ]
    },
    {
      "cell_type": "code",
      "metadata": {
        "id": "acQokWEe-ehu",
        "colab_type": "code",
        "colab": {
          "base_uri": "https://localhost:8080/",
          "height": 510
        },
        "outputId": "1b42af73-9cb6-4d2f-d966-02f3153f84ad"
      },
      "source": [
        "!pip install keras-tuner"
      ],
      "execution_count": 23,
      "outputs": [
        {
          "output_type": "stream",
          "text": [
            "Collecting keras-tuner\n",
            "\u001b[?25l  Downloading https://files.pythonhosted.org/packages/a7/f7/4b41b6832abf4c9bef71a664dc563adb25afc5812831667c6db572b1a261/keras-tuner-1.0.1.tar.gz (54kB)\n",
            "\r\u001b[K     |██████                          | 10kB 21.9MB/s eta 0:00:01\r\u001b[K     |████████████                    | 20kB 1.7MB/s eta 0:00:01\r\u001b[K     |██████████████████              | 30kB 2.3MB/s eta 0:00:01\r\u001b[K     |████████████████████████        | 40kB 2.5MB/s eta 0:00:01\r\u001b[K     |██████████████████████████████  | 51kB 2.0MB/s eta 0:00:01\r\u001b[K     |████████████████████████████████| 61kB 1.9MB/s \n",
            "\u001b[?25hRequirement already satisfied: future in /usr/local/lib/python3.6/dist-packages (from keras-tuner) (0.16.0)\n",
            "Requirement already satisfied: numpy in /usr/local/lib/python3.6/dist-packages (from keras-tuner) (1.18.5)\n",
            "Requirement already satisfied: tabulate in /usr/local/lib/python3.6/dist-packages (from keras-tuner) (0.8.7)\n",
            "Collecting terminaltables\n",
            "  Downloading https://files.pythonhosted.org/packages/9b/c4/4a21174f32f8a7e1104798c445dacdc1d4df86f2f26722767034e4de4bff/terminaltables-3.1.0.tar.gz\n",
            "Collecting colorama\n",
            "  Downloading https://files.pythonhosted.org/packages/c9/dc/45cdef1b4d119eb96316b3117e6d5708a08029992b2fee2c143c7a0a5cc5/colorama-0.4.3-py2.py3-none-any.whl\n",
            "Requirement already satisfied: tqdm in /usr/local/lib/python3.6/dist-packages (from keras-tuner) (4.41.1)\n",
            "Requirement already satisfied: requests in /usr/local/lib/python3.6/dist-packages (from keras-tuner) (2.23.0)\n",
            "Requirement already satisfied: scipy in /usr/local/lib/python3.6/dist-packages (from keras-tuner) (1.4.1)\n",
            "Requirement already satisfied: scikit-learn in /usr/local/lib/python3.6/dist-packages (from keras-tuner) (0.22.2.post1)\n",
            "Requirement already satisfied: chardet<4,>=3.0.2 in /usr/local/lib/python3.6/dist-packages (from requests->keras-tuner) (3.0.4)\n",
            "Requirement already satisfied: certifi>=2017.4.17 in /usr/local/lib/python3.6/dist-packages (from requests->keras-tuner) (2020.4.5.1)\n",
            "Requirement already satisfied: idna<3,>=2.5 in /usr/local/lib/python3.6/dist-packages (from requests->keras-tuner) (2.9)\n",
            "Requirement already satisfied: urllib3!=1.25.0,!=1.25.1,<1.26,>=1.21.1 in /usr/local/lib/python3.6/dist-packages (from requests->keras-tuner) (1.24.3)\n",
            "Requirement already satisfied: joblib>=0.11 in /usr/local/lib/python3.6/dist-packages (from scikit-learn->keras-tuner) (0.15.1)\n",
            "Building wheels for collected packages: keras-tuner, terminaltables\n",
            "  Building wheel for keras-tuner (setup.py) ... \u001b[?25l\u001b[?25hdone\n",
            "  Created wheel for keras-tuner: filename=keras_tuner-1.0.1-cp36-none-any.whl size=73200 sha256=4f868e91417fc8da586d948cdf68ef42ac978fa9d33a07005b62e4a4239b2041\n",
            "  Stored in directory: /root/.cache/pip/wheels/b9/cc/62/52716b70dd90f3db12519233c3a93a5360bc672da1a10ded43\n",
            "  Building wheel for terminaltables (setup.py) ... \u001b[?25l\u001b[?25hdone\n",
            "  Created wheel for terminaltables: filename=terminaltables-3.1.0-cp36-none-any.whl size=15356 sha256=3629b9c419c4456cdc9add5da8e2c5218fffbaaabc3ddd118d91f20981e9bb93\n",
            "  Stored in directory: /root/.cache/pip/wheels/30/6b/50/6c75775b681fb36cdfac7f19799888ef9d8813aff9e379663e\n",
            "Successfully built keras-tuner terminaltables\n",
            "Installing collected packages: terminaltables, colorama, keras-tuner\n",
            "Successfully installed colorama-0.4.3 keras-tuner-1.0.1 terminaltables-3.1.0\n"
          ],
          "name": "stdout"
        }
      ]
    },
    {
      "cell_type": "markdown",
      "metadata": {
        "id": "qUdOupoP-ehw",
        "colab_type": "text"
      },
      "source": [
        "## Follow Along"
      ]
    },
    {
      "cell_type": "code",
      "metadata": {
        "id": "DOAMKqGt-ehw",
        "colab_type": "code",
        "colab": {}
      },
      "source": [
        "from tensorflow import keras\n",
        "from tensorflow.keras import layers\n",
        "from kerastuner.tuners import RandomSearch\n",
        "\n",
        "\"\"\"\n",
        "This model Tunes:\n",
        "- Number of Neurons in the Hidden Layer\n",
        "- Learning Rate in Adam\n",
        "\n",
        "\"\"\"\n",
        "\n",
        "def build_model(hp):\n",
        "    model = keras.Sequential()\n",
        "    model.add(layers.Dense(units=hp.Int('units',\n",
        "                                        min_value=32,\n",
        "                                        max_value=512,\n",
        "                                        step=32),\n",
        "                           activation='relu'))\n",
        "    model.add(layers.Dense(1))\n",
        "    model.compile(\n",
        "        optimizer=keras.optimizers.Adam(\n",
        "            hp.Choice('learning_rate',\n",
        "                      values=[1e-2, 1e-3, 1e-4])),\n",
        "        loss='mse',\n",
        "        metrics=['mae'])\n",
        "    \n",
        "    return model"
      ],
      "execution_count": 0,
      "outputs": []
    },
    {
      "cell_type": "code",
      "metadata": {
        "id": "AErdglLu-ehy",
        "colab_type": "code",
        "colab": {
          "base_uri": "https://localhost:8080/",
          "height": 34
        },
        "outputId": "9500462c-76f8-4697-a093-109652c18e4e"
      },
      "source": [
        "tuner = RandomSearch(\n",
        "    build_model,\n",
        "    objective='val_loss',\n",
        "    max_trials=5,\n",
        "    executions_per_trial=3,\n",
        "    directory='./keras-tuner-trial',\n",
        "    project_name='helloworld')"
      ],
      "execution_count": 29,
      "outputs": [
        {
          "output_type": "stream",
          "text": [
            "INFO:tensorflow:Reloading Oracle from existing project ./keras-tuner-trial/helloworld/oracle.json\n"
          ],
          "name": "stdout"
        }
      ]
    },
    {
      "cell_type": "code",
      "metadata": {
        "id": "Dn1tm9fQ-eh1",
        "colab_type": "code",
        "colab": {
          "base_uri": "https://localhost:8080/",
          "height": 281
        },
        "outputId": "5c36166d-f681-4814-bed5-42aaf22570c4"
      },
      "source": [
        "tuner.search_space_summary()"
      ],
      "execution_count": 30,
      "outputs": [
        {
          "output_type": "display_data",
          "data": {
            "text/html": [
              "<span style=\"color:#4527A0\"><h1 style=\"font-size:18px\">Search space summary</h1></span>"
            ],
            "text/plain": [
              "<IPython.core.display.HTML object>"
            ]
          },
          "metadata": {
            "tags": []
          }
        },
        {
          "output_type": "display_data",
          "data": {
            "text/html": [
              "<span style=\"color:cyan\"> |-Default search space size: 2</span>"
            ],
            "text/plain": [
              "<IPython.core.display.HTML object>"
            ]
          },
          "metadata": {
            "tags": []
          }
        },
        {
          "output_type": "display_data",
          "data": {
            "text/html": [
              "<span style=\"color:#7E57C2\"><h2 style=\"font-size:16px\">units (Int)</h2></span>"
            ],
            "text/plain": [
              "<IPython.core.display.HTML object>"
            ]
          },
          "metadata": {
            "tags": []
          }
        },
        {
          "output_type": "display_data",
          "data": {
            "text/html": [
              "<span style=\"color:cyan\"> |-default: None</span>"
            ],
            "text/plain": [
              "<IPython.core.display.HTML object>"
            ]
          },
          "metadata": {
            "tags": []
          }
        },
        {
          "output_type": "display_data",
          "data": {
            "text/html": [
              "<span style=\"color:blue\"> |-max_value: 512</span>"
            ],
            "text/plain": [
              "<IPython.core.display.HTML object>"
            ]
          },
          "metadata": {
            "tags": []
          }
        },
        {
          "output_type": "display_data",
          "data": {
            "text/html": [
              "<span style=\"color:cyan\"> |-min_value: 32</span>"
            ],
            "text/plain": [
              "<IPython.core.display.HTML object>"
            ]
          },
          "metadata": {
            "tags": []
          }
        },
        {
          "output_type": "display_data",
          "data": {
            "text/html": [
              "<span style=\"color:blue\"> |-sampling: None</span>"
            ],
            "text/plain": [
              "<IPython.core.display.HTML object>"
            ]
          },
          "metadata": {
            "tags": []
          }
        },
        {
          "output_type": "display_data",
          "data": {
            "text/html": [
              "<span style=\"color:cyan\"> |-step: 32</span>"
            ],
            "text/plain": [
              "<IPython.core.display.HTML object>"
            ]
          },
          "metadata": {
            "tags": []
          }
        },
        {
          "output_type": "display_data",
          "data": {
            "text/html": [
              "<span style=\"color:#7E57C2\"><h2 style=\"font-size:16px\">learning_rate (Choice)</h2></span>"
            ],
            "text/plain": [
              "<IPython.core.display.HTML object>"
            ]
          },
          "metadata": {
            "tags": []
          }
        },
        {
          "output_type": "display_data",
          "data": {
            "text/html": [
              "<span style=\"color:cyan\"> |-default: 0.01</span>"
            ],
            "text/plain": [
              "<IPython.core.display.HTML object>"
            ]
          },
          "metadata": {
            "tags": []
          }
        },
        {
          "output_type": "display_data",
          "data": {
            "text/html": [
              "<span style=\"color:blue\"> |-ordered: True</span>"
            ],
            "text/plain": [
              "<IPython.core.display.HTML object>"
            ]
          },
          "metadata": {
            "tags": []
          }
        },
        {
          "output_type": "display_data",
          "data": {
            "text/html": [
              "<span style=\"color:cyan\"> |-values: [0.01, 0.001, 0.0001]</span>"
            ],
            "text/plain": [
              "<IPython.core.display.HTML object>"
            ]
          },
          "metadata": {
            "tags": []
          }
        }
      ]
    },
    {
      "cell_type": "code",
      "metadata": {
        "id": "yJ3sGGve-eh3",
        "colab_type": "code",
        "colab": {
          "base_uri": "https://localhost:8080/",
          "height": 1000
        },
        "outputId": "990c37e9-c4fa-4405-c761-7172a14fb16b"
      },
      "source": [
        "tuner.search(X, Y,\n",
        "             epochs=5,\n",
        "             validation_split=.1)"
      ],
      "execution_count": 31,
      "outputs": [
        {
          "output_type": "stream",
          "text": [
            "Epoch 1/5\n",
            "WARNING:tensorflow:Layer dense is casting an input tensor from dtype float64 to the layer's dtype of float32, which is new behavior in TensorFlow 2.  The layer has dtype float32 because it's dtype defaults to floatx.\n",
            "\n",
            "If you intended to run this layer in float32, you can safely ignore this warning. If in doubt, this warning is likely only an issue if you are porting a TensorFlow 1.X model to TensorFlow 2.\n",
            "\n",
            "To change all layers to have dtype float64 by default, call `tf.keras.backend.set_floatx('float64')`. To change just this layer, pass dtype='float64' to the layer constructor. If you are the author of this layer, you can disable autocasting by passing autocast=False to the base Layer constructor.\n",
            "\n",
            "12/12 [==============================] - 0s 15ms/step - loss: 0.7624 - mae: 0.6842 - val_loss: 0.6166 - val_mae: 0.5840\n",
            "Epoch 2/5\n",
            "12/12 [==============================] - 0s 7ms/step - loss: 0.6505 - mae: 0.6256 - val_loss: 0.5205 - val_mae: 0.5253\n",
            "Epoch 3/5\n",
            "12/12 [==============================] - 0s 7ms/step - loss: 0.5552 - mae: 0.5720 - val_loss: 0.4484 - val_mae: 0.4788\n",
            "Epoch 4/5\n",
            "12/12 [==============================] - 0s 7ms/step - loss: 0.4816 - mae: 0.5267 - val_loss: 0.3941 - val_mae: 0.4468\n",
            "Epoch 5/5\n",
            "12/12 [==============================] - 0s 8ms/step - loss: 0.4266 - mae: 0.4919 - val_loss: 0.3516 - val_mae: 0.4231\n",
            "Epoch 1/5\n",
            "WARNING:tensorflow:Layer dense is casting an input tensor from dtype float64 to the layer's dtype of float32, which is new behavior in TensorFlow 2.  The layer has dtype float32 because it's dtype defaults to floatx.\n",
            "\n",
            "If you intended to run this layer in float32, you can safely ignore this warning. If in doubt, this warning is likely only an issue if you are porting a TensorFlow 1.X model to TensorFlow 2.\n",
            "\n",
            "To change all layers to have dtype float64 by default, call `tf.keras.backend.set_floatx('float64')`. To change just this layer, pass dtype='float64' to the layer constructor. If you are the author of this layer, you can disable autocasting by passing autocast=False to the base Layer constructor.\n",
            "\n",
            "12/12 [==============================] - 0s 14ms/step - loss: 0.3519 - mae: 0.4733 - val_loss: 0.2574 - val_mae: 0.4010\n",
            "Epoch 2/5\n",
            "12/12 [==============================] - 0s 7ms/step - loss: 0.3280 - mae: 0.4646 - val_loss: 0.2484 - val_mae: 0.4098\n",
            "Epoch 3/5\n",
            "12/12 [==============================] - 0s 7ms/step - loss: 0.3086 - mae: 0.4585 - val_loss: 0.2435 - val_mae: 0.4170\n",
            "Epoch 4/5\n",
            "12/12 [==============================] - 0s 8ms/step - loss: 0.2958 - mae: 0.4577 - val_loss: 0.2384 - val_mae: 0.4224\n",
            "Epoch 5/5\n",
            "12/12 [==============================] - 0s 7ms/step - loss: 0.2859 - mae: 0.4589 - val_loss: 0.2352 - val_mae: 0.4272\n",
            "Epoch 1/5\n",
            "WARNING:tensorflow:Layer dense is casting an input tensor from dtype float64 to the layer's dtype of float32, which is new behavior in TensorFlow 2.  The layer has dtype float32 because it's dtype defaults to floatx.\n",
            "\n",
            "If you intended to run this layer in float32, you can safely ignore this warning. If in doubt, this warning is likely only an issue if you are porting a TensorFlow 1.X model to TensorFlow 2.\n",
            "\n",
            "To change all layers to have dtype float64 by default, call `tf.keras.backend.set_floatx('float64')`. To change just this layer, pass dtype='float64' to the layer constructor. If you are the author of this layer, you can disable autocasting by passing autocast=False to the base Layer constructor.\n",
            "\n",
            "12/12 [==============================] - 0s 12ms/step - loss: 0.9070 - mae: 0.7509 - val_loss: 0.7969 - val_mae: 0.6551\n",
            "Epoch 2/5\n",
            "12/12 [==============================] - 0s 7ms/step - loss: 0.7963 - mae: 0.6866 - val_loss: 0.7062 - val_mae: 0.5920\n",
            "Epoch 3/5\n",
            "12/12 [==============================] - 0s 7ms/step - loss: 0.6996 - mae: 0.6296 - val_loss: 0.6304 - val_mae: 0.5423\n",
            "Epoch 4/5\n",
            "12/12 [==============================] - 0s 6ms/step - loss: 0.6161 - mae: 0.5838 - val_loss: 0.5690 - val_mae: 0.5117\n",
            "Epoch 5/5\n",
            "12/12 [==============================] - 0s 6ms/step - loss: 0.5499 - mae: 0.5485 - val_loss: 0.5185 - val_mae: 0.4932\n"
          ],
          "name": "stdout"
        },
        {
          "output_type": "display_data",
          "data": {
            "text/html": [
              "<span style=\"color:#4527A0\"><h1 style=\"font-size:18px\">Trial complete</h1></span>"
            ],
            "text/plain": [
              "<IPython.core.display.HTML object>"
            ]
          },
          "metadata": {
            "tags": []
          }
        },
        {
          "output_type": "display_data",
          "data": {
            "text/html": [
              "<span style=\"color:#4527A0\"><h1 style=\"font-size:18px\">Trial summary</h1></span>"
            ],
            "text/plain": [
              "<IPython.core.display.HTML object>"
            ]
          },
          "metadata": {
            "tags": []
          }
        },
        {
          "output_type": "display_data",
          "data": {
            "text/html": [
              "<span style=\"color:cyan\"> |-Trial ID: 8a9af80e30a9d3edfe0affe8e7b09478</span>"
            ],
            "text/plain": [
              "<IPython.core.display.HTML object>"
            ]
          },
          "metadata": {
            "tags": []
          }
        },
        {
          "output_type": "display_data",
          "data": {
            "text/html": [
              "<span style=\"color:cyan\"> |-Score: 0.3684294323126475</span>"
            ],
            "text/plain": [
              "<IPython.core.display.HTML object>"
            ]
          },
          "metadata": {
            "tags": []
          }
        },
        {
          "output_type": "display_data",
          "data": {
            "text/html": [
              "<span style=\"color:cyan\"> |-Best step: 0</span>"
            ],
            "text/plain": [
              "<IPython.core.display.HTML object>"
            ]
          },
          "metadata": {
            "tags": []
          }
        },
        {
          "output_type": "display_data",
          "data": {
            "text/html": [
              "<span style=\"color:#7E57C2\"><h2 style=\"font-size:16px\">Hyperparameters:</h2></span>"
            ],
            "text/plain": [
              "<IPython.core.display.HTML object>"
            ]
          },
          "metadata": {
            "tags": []
          }
        },
        {
          "output_type": "display_data",
          "data": {
            "text/html": [
              "<span style=\"color:cyan\"> |-learning_rate: 0.0001</span>"
            ],
            "text/plain": [
              "<IPython.core.display.HTML object>"
            ]
          },
          "metadata": {
            "tags": []
          }
        },
        {
          "output_type": "display_data",
          "data": {
            "text/html": [
              "<span style=\"color:blue\"> |-units: 192</span>"
            ],
            "text/plain": [
              "<IPython.core.display.HTML object>"
            ]
          },
          "metadata": {
            "tags": []
          }
        },
        {
          "output_type": "stream",
          "text": [
            "Epoch 1/5\n",
            "WARNING:tensorflow:Layer dense is casting an input tensor from dtype float64 to the layer's dtype of float32, which is new behavior in TensorFlow 2.  The layer has dtype float32 because it's dtype defaults to floatx.\n",
            "\n",
            "If you intended to run this layer in float32, you can safely ignore this warning. If in doubt, this warning is likely only an issue if you are porting a TensorFlow 1.X model to TensorFlow 2.\n",
            "\n",
            "To change all layers to have dtype float64 by default, call `tf.keras.backend.set_floatx('float64')`. To change just this layer, pass dtype='float64' to the layer constructor. If you are the author of this layer, you can disable autocasting by passing autocast=False to the base Layer constructor.\n",
            "\n",
            "12/12 [==============================] - 0s 14ms/step - loss: 0.5144 - mae: 0.5871 - val_loss: 0.3236 - val_mae: 0.5228\n",
            "Epoch 2/5\n",
            "12/12 [==============================] - 0s 8ms/step - loss: 0.2950 - mae: 0.4852 - val_loss: 0.2923 - val_mae: 0.4340\n",
            "Epoch 3/5\n",
            "12/12 [==============================] - 0s 7ms/step - loss: 0.2757 - mae: 0.4703 - val_loss: 0.2540 - val_mae: 0.4623\n",
            "Epoch 4/5\n",
            "12/12 [==============================] - 0s 7ms/step - loss: 0.2438 - mae: 0.4529 - val_loss: 0.2425 - val_mae: 0.4757\n",
            "Epoch 5/5\n",
            "12/12 [==============================] - 0s 7ms/step - loss: 0.2292 - mae: 0.4346 - val_loss: 0.2262 - val_mae: 0.4586\n",
            "Epoch 1/5\n",
            "WARNING:tensorflow:Layer dense is casting an input tensor from dtype float64 to the layer's dtype of float32, which is new behavior in TensorFlow 2.  The layer has dtype float32 because it's dtype defaults to floatx.\n",
            "\n",
            "If you intended to run this layer in float32, you can safely ignore this warning. If in doubt, this warning is likely only an issue if you are porting a TensorFlow 1.X model to TensorFlow 2.\n",
            "\n",
            "To change all layers to have dtype float64 by default, call `tf.keras.backend.set_floatx('float64')`. To change just this layer, pass dtype='float64' to the layer constructor. If you are the author of this layer, you can disable autocasting by passing autocast=False to the base Layer constructor.\n",
            "\n",
            "12/12 [==============================] - 0s 13ms/step - loss: 0.4965 - mae: 0.5822 - val_loss: 0.3785 - val_mae: 0.5551\n",
            "Epoch 2/5\n",
            "12/12 [==============================] - 0s 6ms/step - loss: 0.3630 - mae: 0.5107 - val_loss: 0.2898 - val_mae: 0.5058\n",
            "Epoch 3/5\n",
            "12/12 [==============================] - 0s 6ms/step - loss: 0.2732 - mae: 0.4436 - val_loss: 0.2618 - val_mae: 0.4805\n",
            "Epoch 4/5\n",
            "12/12 [==============================] - 0s 6ms/step - loss: 0.2366 - mae: 0.4563 - val_loss: 0.2445 - val_mae: 0.4642\n",
            "Epoch 5/5\n",
            "12/12 [==============================] - 0s 7ms/step - loss: 0.2304 - mae: 0.4485 - val_loss: 0.2289 - val_mae: 0.4325\n",
            "Epoch 1/5\n",
            "WARNING:tensorflow:Layer dense is casting an input tensor from dtype float64 to the layer's dtype of float32, which is new behavior in TensorFlow 2.  The layer has dtype float32 because it's dtype defaults to floatx.\n",
            "\n",
            "If you intended to run this layer in float32, you can safely ignore this warning. If in doubt, this warning is likely only an issue if you are porting a TensorFlow 1.X model to TensorFlow 2.\n",
            "\n",
            "To change all layers to have dtype float64 by default, call `tf.keras.backend.set_floatx('float64')`. To change just this layer, pass dtype='float64' to the layer constructor. If you are the author of this layer, you can disable autocasting by passing autocast=False to the base Layer constructor.\n",
            "\n",
            "12/12 [==============================] - 0s 13ms/step - loss: 0.4747 - mae: 0.5588 - val_loss: 0.3663 - val_mae: 0.5032\n",
            "Epoch 2/5\n",
            "12/12 [==============================] - 0s 7ms/step - loss: 0.3405 - mae: 0.4940 - val_loss: 0.2391 - val_mae: 0.4734\n",
            "Epoch 3/5\n",
            "12/12 [==============================] - 0s 7ms/step - loss: 0.2592 - mae: 0.4766 - val_loss: 0.2629 - val_mae: 0.4226\n",
            "Epoch 4/5\n",
            "12/12 [==============================] - 0s 7ms/step - loss: 0.2615 - mae: 0.4293 - val_loss: 0.2833 - val_mae: 0.5147\n",
            "Epoch 5/5\n",
            "12/12 [==============================] - 0s 7ms/step - loss: 0.2344 - mae: 0.4524 - val_loss: 0.2455 - val_mae: 0.4188\n"
          ],
          "name": "stdout"
        },
        {
          "output_type": "display_data",
          "data": {
            "text/html": [
              "<span style=\"color:#4527A0\"><h1 style=\"font-size:18px\">Trial complete</h1></span>"
            ],
            "text/plain": [
              "<IPython.core.display.HTML object>"
            ]
          },
          "metadata": {
            "tags": []
          }
        },
        {
          "output_type": "display_data",
          "data": {
            "text/html": [
              "<span style=\"color:#4527A0\"><h1 style=\"font-size:18px\">Trial summary</h1></span>"
            ],
            "text/plain": [
              "<IPython.core.display.HTML object>"
            ]
          },
          "metadata": {
            "tags": []
          }
        },
        {
          "output_type": "display_data",
          "data": {
            "text/html": [
              "<span style=\"color:cyan\"> |-Trial ID: aa12616e91f60774e6df55e9dfe48be3</span>"
            ],
            "text/plain": [
              "<IPython.core.display.HTML object>"
            ]
          },
          "metadata": {
            "tags": []
          }
        },
        {
          "output_type": "display_data",
          "data": {
            "text/html": [
              "<span style=\"color:cyan\"> |-Score: 0.23137153685092926</span>"
            ],
            "text/plain": [
              "<IPython.core.display.HTML object>"
            ]
          },
          "metadata": {
            "tags": []
          }
        },
        {
          "output_type": "display_data",
          "data": {
            "text/html": [
              "<span style=\"color:cyan\"> |-Best step: 0</span>"
            ],
            "text/plain": [
              "<IPython.core.display.HTML object>"
            ]
          },
          "metadata": {
            "tags": []
          }
        },
        {
          "output_type": "display_data",
          "data": {
            "text/html": [
              "<span style=\"color:#7E57C2\"><h2 style=\"font-size:16px\">Hyperparameters:</h2></span>"
            ],
            "text/plain": [
              "<IPython.core.display.HTML object>"
            ]
          },
          "metadata": {
            "tags": []
          }
        },
        {
          "output_type": "display_data",
          "data": {
            "text/html": [
              "<span style=\"color:cyan\"> |-learning_rate: 0.01</span>"
            ],
            "text/plain": [
              "<IPython.core.display.HTML object>"
            ]
          },
          "metadata": {
            "tags": []
          }
        },
        {
          "output_type": "display_data",
          "data": {
            "text/html": [
              "<span style=\"color:blue\"> |-units: 480</span>"
            ],
            "text/plain": [
              "<IPython.core.display.HTML object>"
            ]
          },
          "metadata": {
            "tags": []
          }
        },
        {
          "output_type": "stream",
          "text": [
            "Epoch 1/5\n",
            "WARNING:tensorflow:Layer dense is casting an input tensor from dtype float64 to the layer's dtype of float32, which is new behavior in TensorFlow 2.  The layer has dtype float32 because it's dtype defaults to floatx.\n",
            "\n",
            "If you intended to run this layer in float32, you can safely ignore this warning. If in doubt, this warning is likely only an issue if you are porting a TensorFlow 1.X model to TensorFlow 2.\n",
            "\n",
            "To change all layers to have dtype float64 by default, call `tf.keras.backend.set_floatx('float64')`. To change just this layer, pass dtype='float64' to the layer constructor. If you are the author of this layer, you can disable autocasting by passing autocast=False to the base Layer constructor.\n",
            "\n",
            "12/12 [==============================] - 0s 15ms/step - loss: 0.3779 - mae: 0.4989 - val_loss: 0.2159 - val_mae: 0.4150\n",
            "Epoch 2/5\n",
            "12/12 [==============================] - 0s 8ms/step - loss: 0.2905 - mae: 0.4978 - val_loss: 0.2100 - val_mae: 0.4327\n",
            "Epoch 3/5\n",
            "12/12 [==============================] - 0s 6ms/step - loss: 0.2564 - mae: 0.4730 - val_loss: 0.2103 - val_mae: 0.4190\n",
            "Epoch 4/5\n",
            "12/12 [==============================] - 0s 7ms/step - loss: 0.2435 - mae: 0.4469 - val_loss: 0.2049 - val_mae: 0.4201\n",
            "Epoch 5/5\n",
            "12/12 [==============================] - 0s 7ms/step - loss: 0.2355 - mae: 0.4543 - val_loss: 0.2100 - val_mae: 0.4363\n",
            "Epoch 1/5\n",
            "WARNING:tensorflow:Layer dense is casting an input tensor from dtype float64 to the layer's dtype of float32, which is new behavior in TensorFlow 2.  The layer has dtype float32 because it's dtype defaults to floatx.\n",
            "\n",
            "If you intended to run this layer in float32, you can safely ignore this warning. If in doubt, this warning is likely only an issue if you are porting a TensorFlow 1.X model to TensorFlow 2.\n",
            "\n",
            "To change all layers to have dtype float64 by default, call `tf.keras.backend.set_floatx('float64')`. To change just this layer, pass dtype='float64' to the layer constructor. If you are the author of this layer, you can disable autocasting by passing autocast=False to the base Layer constructor.\n",
            "\n",
            "12/12 [==============================] - 0s 12ms/step - loss: 0.2843 - mae: 0.4523 - val_loss: 0.2462 - val_mae: 0.4516\n",
            "Epoch 2/5\n",
            "12/12 [==============================] - 0s 6ms/step - loss: 0.2411 - mae: 0.4669 - val_loss: 0.2479 - val_mae: 0.4596\n",
            "Epoch 3/5\n",
            "12/12 [==============================] - 0s 6ms/step - loss: 0.2323 - mae: 0.4453 - val_loss: 0.2455 - val_mae: 0.4547\n",
            "Epoch 4/5\n",
            "12/12 [==============================] - 0s 6ms/step - loss: 0.2272 - mae: 0.4461 - val_loss: 0.2432 - val_mae: 0.4627\n",
            "Epoch 5/5\n",
            "12/12 [==============================] - 0s 6ms/step - loss: 0.2219 - mae: 0.4442 - val_loss: 0.2424 - val_mae: 0.4617\n",
            "Epoch 1/5\n",
            "WARNING:tensorflow:Layer dense is casting an input tensor from dtype float64 to the layer's dtype of float32, which is new behavior in TensorFlow 2.  The layer has dtype float32 because it's dtype defaults to floatx.\n",
            "\n",
            "If you intended to run this layer in float32, you can safely ignore this warning. If in doubt, this warning is likely only an issue if you are porting a TensorFlow 1.X model to TensorFlow 2.\n",
            "\n",
            "To change all layers to have dtype float64 by default, call `tf.keras.backend.set_floatx('float64')`. To change just this layer, pass dtype='float64' to the layer constructor. If you are the author of this layer, you can disable autocasting by passing autocast=False to the base Layer constructor.\n",
            "\n",
            "12/12 [==============================] - 0s 13ms/step - loss: 0.3543 - mae: 0.4744 - val_loss: 0.3487 - val_mae: 0.5165\n",
            "Epoch 2/5\n",
            "12/12 [==============================] - 0s 7ms/step - loss: 0.2675 - mae: 0.4743 - val_loss: 0.2650 - val_mae: 0.4813\n",
            "Epoch 3/5\n",
            "12/12 [==============================] - 0s 7ms/step - loss: 0.2340 - mae: 0.4537 - val_loss: 0.2406 - val_mae: 0.4561\n",
            "Epoch 4/5\n",
            "12/12 [==============================] - 0s 7ms/step - loss: 0.2255 - mae: 0.4445 - val_loss: 0.2361 - val_mae: 0.4610\n",
            "Epoch 5/5\n",
            "12/12 [==============================] - 0s 6ms/step - loss: 0.2210 - mae: 0.4479 - val_loss: 0.2326 - val_mae: 0.4595\n"
          ],
          "name": "stdout"
        },
        {
          "output_type": "display_data",
          "data": {
            "text/html": [
              "<span style=\"color:#4527A0\"><h1 style=\"font-size:18px\">Trial complete</h1></span>"
            ],
            "text/plain": [
              "<IPython.core.display.HTML object>"
            ]
          },
          "metadata": {
            "tags": []
          }
        },
        {
          "output_type": "display_data",
          "data": {
            "text/html": [
              "<span style=\"color:#4527A0\"><h1 style=\"font-size:18px\">Trial summary</h1></span>"
            ],
            "text/plain": [
              "<IPython.core.display.HTML object>"
            ]
          },
          "metadata": {
            "tags": []
          }
        },
        {
          "output_type": "display_data",
          "data": {
            "text/html": [
              "<span style=\"color:cyan\"> |-Trial ID: 6967f5f49240541149e023c876b379be</span>"
            ],
            "text/plain": [
              "<IPython.core.display.HTML object>"
            ]
          },
          "metadata": {
            "tags": []
          }
        },
        {
          "output_type": "display_data",
          "data": {
            "text/html": [
              "<span style=\"color:cyan\"> |-Score: 0.22664982080459595</span>"
            ],
            "text/plain": [
              "<IPython.core.display.HTML object>"
            ]
          },
          "metadata": {
            "tags": []
          }
        },
        {
          "output_type": "display_data",
          "data": {
            "text/html": [
              "<span style=\"color:cyan\"> |-Best step: 0</span>"
            ],
            "text/plain": [
              "<IPython.core.display.HTML object>"
            ]
          },
          "metadata": {
            "tags": []
          }
        },
        {
          "output_type": "display_data",
          "data": {
            "text/html": [
              "<span style=\"color:#7E57C2\"><h2 style=\"font-size:16px\">Hyperparameters:</h2></span>"
            ],
            "text/plain": [
              "<IPython.core.display.HTML object>"
            ]
          },
          "metadata": {
            "tags": []
          }
        },
        {
          "output_type": "display_data",
          "data": {
            "text/html": [
              "<span style=\"color:cyan\"> |-learning_rate: 0.001</span>"
            ],
            "text/plain": [
              "<IPython.core.display.HTML object>"
            ]
          },
          "metadata": {
            "tags": []
          }
        },
        {
          "output_type": "display_data",
          "data": {
            "text/html": [
              "<span style=\"color:blue\"> |-units: 128</span>"
            ],
            "text/plain": [
              "<IPython.core.display.HTML object>"
            ]
          },
          "metadata": {
            "tags": []
          }
        },
        {
          "output_type": "stream",
          "text": [
            "Epoch 1/5\n",
            "WARNING:tensorflow:Layer dense is casting an input tensor from dtype float64 to the layer's dtype of float32, which is new behavior in TensorFlow 2.  The layer has dtype float32 because it's dtype defaults to floatx.\n",
            "\n",
            "If you intended to run this layer in float32, you can safely ignore this warning. If in doubt, this warning is likely only an issue if you are porting a TensorFlow 1.X model to TensorFlow 2.\n",
            "\n",
            "To change all layers to have dtype float64 by default, call `tf.keras.backend.set_floatx('float64')`. To change just this layer, pass dtype='float64' to the layer constructor. If you are the author of this layer, you can disable autocasting by passing autocast=False to the base Layer constructor.\n",
            "\n",
            "12/12 [==============================] - 0s 14ms/step - loss: 0.3617 - mae: 0.4817 - val_loss: 0.2884 - val_mae: 0.5125\n",
            "Epoch 2/5\n",
            "12/12 [==============================] - 0s 7ms/step - loss: 0.2597 - mae: 0.4857 - val_loss: 0.2339 - val_mae: 0.4732\n",
            "Epoch 3/5\n",
            "12/12 [==============================] - 0s 7ms/step - loss: 0.2391 - mae: 0.4497 - val_loss: 0.2278 - val_mae: 0.4397\n",
            "Epoch 4/5\n",
            "12/12 [==============================] - 0s 6ms/step - loss: 0.2306 - mae: 0.4511 - val_loss: 0.2376 - val_mae: 0.4748\n",
            "Epoch 5/5\n",
            "12/12 [==============================] - 0s 7ms/step - loss: 0.2285 - mae: 0.4508 - val_loss: 0.2399 - val_mae: 0.4642\n",
            "Epoch 1/5\n",
            "WARNING:tensorflow:Layer dense is casting an input tensor from dtype float64 to the layer's dtype of float32, which is new behavior in TensorFlow 2.  The layer has dtype float32 because it's dtype defaults to floatx.\n",
            "\n",
            "If you intended to run this layer in float32, you can safely ignore this warning. If in doubt, this warning is likely only an issue if you are porting a TensorFlow 1.X model to TensorFlow 2.\n",
            "\n",
            "To change all layers to have dtype float64 by default, call `tf.keras.backend.set_floatx('float64')`. To change just this layer, pass dtype='float64' to the layer constructor. If you are the author of this layer, you can disable autocasting by passing autocast=False to the base Layer constructor.\n",
            "\n",
            "12/12 [==============================] - 0s 12ms/step - loss: 0.2940 - mae: 0.4682 - val_loss: 0.2654 - val_mae: 0.4998\n",
            "Epoch 2/5\n",
            "12/12 [==============================] - 0s 9ms/step - loss: 0.2446 - mae: 0.4671 - val_loss: 0.2268 - val_mae: 0.4563\n",
            "Epoch 3/5\n",
            "12/12 [==============================] - 0s 8ms/step - loss: 0.2324 - mae: 0.4506 - val_loss: 0.2226 - val_mae: 0.4493\n",
            "Epoch 4/5\n",
            "12/12 [==============================] - 0s 7ms/step - loss: 0.2283 - mae: 0.4559 - val_loss: 0.2293 - val_mae: 0.4623\n",
            "Epoch 5/5\n",
            "12/12 [==============================] - 0s 7ms/step - loss: 0.2215 - mae: 0.4435 - val_loss: 0.2229 - val_mae: 0.4436\n",
            "Epoch 1/5\n",
            "WARNING:tensorflow:Layer dense is casting an input tensor from dtype float64 to the layer's dtype of float32, which is new behavior in TensorFlow 2.  The layer has dtype float32 because it's dtype defaults to floatx.\n",
            "\n",
            "If you intended to run this layer in float32, you can safely ignore this warning. If in doubt, this warning is likely only an issue if you are porting a TensorFlow 1.X model to TensorFlow 2.\n",
            "\n",
            "To change all layers to have dtype float64 by default, call `tf.keras.backend.set_floatx('float64')`. To change just this layer, pass dtype='float64' to the layer constructor. If you are the author of this layer, you can disable autocasting by passing autocast=False to the base Layer constructor.\n",
            "\n",
            "12/12 [==============================] - 0s 14ms/step - loss: 0.2824 - mae: 0.4464 - val_loss: 0.3004 - val_mae: 0.5220\n",
            "Epoch 2/5\n",
            "12/12 [==============================] - 0s 7ms/step - loss: 0.2501 - mae: 0.4746 - val_loss: 0.2360 - val_mae: 0.4528\n",
            "Epoch 3/5\n",
            "12/12 [==============================] - 0s 6ms/step - loss: 0.2355 - mae: 0.4442 - val_loss: 0.2402 - val_mae: 0.4702\n",
            "Epoch 4/5\n",
            "12/12 [==============================] - 0s 7ms/step - loss: 0.2231 - mae: 0.4486 - val_loss: 0.2433 - val_mae: 0.4705\n",
            "Epoch 5/5\n",
            "12/12 [==============================] - 0s 7ms/step - loss: 0.2210 - mae: 0.4402 - val_loss: 0.2439 - val_mae: 0.4677\n"
          ],
          "name": "stdout"
        },
        {
          "output_type": "display_data",
          "data": {
            "text/html": [
              "<span style=\"color:#4527A0\"><h1 style=\"font-size:18px\">Trial complete</h1></span>"
            ],
            "text/plain": [
              "<IPython.core.display.HTML object>"
            ]
          },
          "metadata": {
            "tags": []
          }
        },
        {
          "output_type": "display_data",
          "data": {
            "text/html": [
              "<span style=\"color:#4527A0\"><h1 style=\"font-size:18px\">Trial summary</h1></span>"
            ],
            "text/plain": [
              "<IPython.core.display.HTML object>"
            ]
          },
          "metadata": {
            "tags": []
          }
        },
        {
          "output_type": "display_data",
          "data": {
            "text/html": [
              "<span style=\"color:cyan\"> |-Trial ID: da75cd98a0dd0ba83ea771c15484248a</span>"
            ],
            "text/plain": [
              "<IPython.core.display.HTML object>"
            ]
          },
          "metadata": {
            "tags": []
          }
        },
        {
          "output_type": "display_data",
          "data": {
            "text/html": [
              "<span style=\"color:cyan\"> |-Score: 0.2287815809249878</span>"
            ],
            "text/plain": [
              "<IPython.core.display.HTML object>"
            ]
          },
          "metadata": {
            "tags": []
          }
        },
        {
          "output_type": "display_data",
          "data": {
            "text/html": [
              "<span style=\"color:cyan\"> |-Best step: 0</span>"
            ],
            "text/plain": [
              "<IPython.core.display.HTML object>"
            ]
          },
          "metadata": {
            "tags": []
          }
        },
        {
          "output_type": "display_data",
          "data": {
            "text/html": [
              "<span style=\"color:#7E57C2\"><h2 style=\"font-size:16px\">Hyperparameters:</h2></span>"
            ],
            "text/plain": [
              "<IPython.core.display.HTML object>"
            ]
          },
          "metadata": {
            "tags": []
          }
        },
        {
          "output_type": "display_data",
          "data": {
            "text/html": [
              "<span style=\"color:cyan\"> |-learning_rate: 0.001</span>"
            ],
            "text/plain": [
              "<IPython.core.display.HTML object>"
            ]
          },
          "metadata": {
            "tags": []
          }
        },
        {
          "output_type": "display_data",
          "data": {
            "text/html": [
              "<span style=\"color:blue\"> |-units: 256</span>"
            ],
            "text/plain": [
              "<IPython.core.display.HTML object>"
            ]
          },
          "metadata": {
            "tags": []
          }
        },
        {
          "output_type": "stream",
          "text": [
            "Epoch 1/5\n",
            "WARNING:tensorflow:Layer dense is casting an input tensor from dtype float64 to the layer's dtype of float32, which is new behavior in TensorFlow 2.  The layer has dtype float32 because it's dtype defaults to floatx.\n",
            "\n",
            "If you intended to run this layer in float32, you can safely ignore this warning. If in doubt, this warning is likely only an issue if you are porting a TensorFlow 1.X model to TensorFlow 2.\n",
            "\n",
            "To change all layers to have dtype float64 by default, call `tf.keras.backend.set_floatx('float64')`. To change just this layer, pass dtype='float64' to the layer constructor. If you are the author of this layer, you can disable autocasting by passing autocast=False to the base Layer constructor.\n",
            "\n",
            "12/12 [==============================] - 0s 14ms/step - loss: 0.2767 - mae: 0.4682 - val_loss: 0.2155 - val_mae: 0.4485\n",
            "Epoch 2/5\n",
            "12/12 [==============================] - 0s 7ms/step - loss: 0.2429 - mae: 0.4593 - val_loss: 0.2058 - val_mae: 0.4204\n",
            "Epoch 3/5\n",
            "12/12 [==============================] - 0s 7ms/step - loss: 0.2288 - mae: 0.4573 - val_loss: 0.2060 - val_mae: 0.4359\n",
            "Epoch 4/5\n",
            "12/12 [==============================] - 0s 6ms/step - loss: 0.2268 - mae: 0.4241 - val_loss: 0.2131 - val_mae: 0.4291\n",
            "Epoch 5/5\n",
            "12/12 [==============================] - 0s 7ms/step - loss: 0.2176 - mae: 0.4422 - val_loss: 0.2165 - val_mae: 0.4492\n",
            "Epoch 1/5\n",
            "WARNING:tensorflow:Layer dense is casting an input tensor from dtype float64 to the layer's dtype of float32, which is new behavior in TensorFlow 2.  The layer has dtype float32 because it's dtype defaults to floatx.\n",
            "\n",
            "If you intended to run this layer in float32, you can safely ignore this warning. If in doubt, this warning is likely only an issue if you are porting a TensorFlow 1.X model to TensorFlow 2.\n",
            "\n",
            "To change all layers to have dtype float64 by default, call `tf.keras.backend.set_floatx('float64')`. To change just this layer, pass dtype='float64' to the layer constructor. If you are the author of this layer, you can disable autocasting by passing autocast=False to the base Layer constructor.\n",
            "\n",
            "12/12 [==============================] - 0s 13ms/step - loss: 0.3484 - mae: 0.4856 - val_loss: 0.2808 - val_mae: 0.5020\n",
            "Epoch 2/5\n",
            "12/12 [==============================] - 0s 7ms/step - loss: 0.2457 - mae: 0.4760 - val_loss: 0.2249 - val_mae: 0.4498\n",
            "Epoch 3/5\n",
            "12/12 [==============================] - 0s 7ms/step - loss: 0.2443 - mae: 0.4400 - val_loss: 0.2375 - val_mae: 0.4779\n",
            "Epoch 4/5\n",
            "12/12 [==============================] - 0s 6ms/step - loss: 0.2294 - mae: 0.4667 - val_loss: 0.2407 - val_mae: 0.4794\n",
            "Epoch 5/5\n",
            "12/12 [==============================] - 0s 6ms/step - loss: 0.2238 - mae: 0.4333 - val_loss: 0.2301 - val_mae: 0.4481\n",
            "Epoch 1/5\n",
            "WARNING:tensorflow:Layer dense is casting an input tensor from dtype float64 to the layer's dtype of float32, which is new behavior in TensorFlow 2.  The layer has dtype float32 because it's dtype defaults to floatx.\n",
            "\n",
            "If you intended to run this layer in float32, you can safely ignore this warning. If in doubt, this warning is likely only an issue if you are porting a TensorFlow 1.X model to TensorFlow 2.\n",
            "\n",
            "To change all layers to have dtype float64 by default, call `tf.keras.backend.set_floatx('float64')`. To change just this layer, pass dtype='float64' to the layer constructor. If you are the author of this layer, you can disable autocasting by passing autocast=False to the base Layer constructor.\n",
            "\n",
            "12/12 [==============================] - 0s 14ms/step - loss: 0.3049 - mae: 0.4660 - val_loss: 0.2505 - val_mae: 0.4776\n",
            "Epoch 2/5\n",
            "12/12 [==============================] - 0s 7ms/step - loss: 0.2536 - mae: 0.4724 - val_loss: 0.2245 - val_mae: 0.4316\n",
            "Epoch 3/5\n",
            "12/12 [==============================] - 0s 6ms/step - loss: 0.2381 - mae: 0.4431 - val_loss: 0.2108 - val_mae: 0.4361\n",
            "Epoch 4/5\n",
            "12/12 [==============================] - 0s 7ms/step - loss: 0.2260 - mae: 0.4552 - val_loss: 0.2065 - val_mae: 0.4351\n",
            "Epoch 5/5\n",
            "12/12 [==============================] - 0s 7ms/step - loss: 0.2213 - mae: 0.4370 - val_loss: 0.2118 - val_mae: 0.4326\n"
          ],
          "name": "stdout"
        },
        {
          "output_type": "display_data",
          "data": {
            "text/html": [
              "<span style=\"color:#4527A0\"><h1 style=\"font-size:18px\">Trial complete</h1></span>"
            ],
            "text/plain": [
              "<IPython.core.display.HTML object>"
            ]
          },
          "metadata": {
            "tags": []
          }
        },
        {
          "output_type": "display_data",
          "data": {
            "text/html": [
              "<span style=\"color:#4527A0\"><h1 style=\"font-size:18px\">Trial summary</h1></span>"
            ],
            "text/plain": [
              "<IPython.core.display.HTML object>"
            ]
          },
          "metadata": {
            "tags": []
          }
        },
        {
          "output_type": "display_data",
          "data": {
            "text/html": [
              "<span style=\"color:cyan\"> |-Trial ID: 0059ee0080ab772a1f9ce94fa4a199c4</span>"
            ],
            "text/plain": [
              "<IPython.core.display.HTML object>"
            ]
          },
          "metadata": {
            "tags": []
          }
        },
        {
          "output_type": "display_data",
          "data": {
            "text/html": [
              "<span style=\"color:cyan\"> |-Score: 0.21236818035443625</span>"
            ],
            "text/plain": [
              "<IPython.core.display.HTML object>"
            ]
          },
          "metadata": {
            "tags": []
          }
        },
        {
          "output_type": "display_data",
          "data": {
            "text/html": [
              "<span style=\"color:cyan\"> |-Best step: 0</span>"
            ],
            "text/plain": [
              "<IPython.core.display.HTML object>"
            ]
          },
          "metadata": {
            "tags": []
          }
        },
        {
          "output_type": "display_data",
          "data": {
            "text/html": [
              "<span style=\"color:#7E57C2\"><h2 style=\"font-size:16px\">Hyperparameters:</h2></span>"
            ],
            "text/plain": [
              "<IPython.core.display.HTML object>"
            ]
          },
          "metadata": {
            "tags": []
          }
        },
        {
          "output_type": "display_data",
          "data": {
            "text/html": [
              "<span style=\"color:cyan\"> |-learning_rate: 0.001</span>"
            ],
            "text/plain": [
              "<IPython.core.display.HTML object>"
            ]
          },
          "metadata": {
            "tags": []
          }
        },
        {
          "output_type": "display_data",
          "data": {
            "text/html": [
              "<span style=\"color:blue\"> |-units: 384</span>"
            ],
            "text/plain": [
              "<IPython.core.display.HTML object>"
            ]
          },
          "metadata": {
            "tags": []
          }
        },
        {
          "output_type": "stream",
          "text": [
            "INFO:tensorflow:Oracle triggered exit\n"
          ],
          "name": "stdout"
        }
      ]
    },
    {
      "cell_type": "code",
      "metadata": {
        "id": "aNdBoRhh-eh5",
        "colab_type": "code",
        "colab": {
          "base_uri": "https://localhost:8080/",
          "height": 903
        },
        "outputId": "62642d8e-4d02-43cf-e8d8-c8bede21b543"
      },
      "source": [
        "tuner.results_summary()"
      ],
      "execution_count": 32,
      "outputs": [
        {
          "output_type": "display_data",
          "data": {
            "text/html": [
              "<span style=\"color:#4527A0\"><h1 style=\"font-size:18px\">Results summary</h1></span>"
            ],
            "text/plain": [
              "<IPython.core.display.HTML object>"
            ]
          },
          "metadata": {
            "tags": []
          }
        },
        {
          "output_type": "display_data",
          "data": {
            "text/html": [
              "<span style=\"color:cyan\"> |-Results in ./keras-tuner-trial/helloworld</span>"
            ],
            "text/plain": [
              "<IPython.core.display.HTML object>"
            ]
          },
          "metadata": {
            "tags": []
          }
        },
        {
          "output_type": "display_data",
          "data": {
            "text/html": [
              "<span style=\"color:cyan\"> |-Showing 10 best trials</span>"
            ],
            "text/plain": [
              "<IPython.core.display.HTML object>"
            ]
          },
          "metadata": {
            "tags": []
          }
        },
        {
          "output_type": "display_data",
          "data": {
            "text/html": [
              "<span style=\"color:cyan\"> |-Objective(name='val_loss', direction='min')</span>"
            ],
            "text/plain": [
              "<IPython.core.display.HTML object>"
            ]
          },
          "metadata": {
            "tags": []
          }
        },
        {
          "output_type": "display_data",
          "data": {
            "text/html": [
              "<span style=\"color:#4527A0\"><h1 style=\"font-size:18px\">Trial summary</h1></span>"
            ],
            "text/plain": [
              "<IPython.core.display.HTML object>"
            ]
          },
          "metadata": {
            "tags": []
          }
        },
        {
          "output_type": "display_data",
          "data": {
            "text/html": [
              "<span style=\"color:cyan\"> |-Trial ID: 0059ee0080ab772a1f9ce94fa4a199c4</span>"
            ],
            "text/plain": [
              "<IPython.core.display.HTML object>"
            ]
          },
          "metadata": {
            "tags": []
          }
        },
        {
          "output_type": "display_data",
          "data": {
            "text/html": [
              "<span style=\"color:cyan\"> |-Score: 0.21236818035443625</span>"
            ],
            "text/plain": [
              "<IPython.core.display.HTML object>"
            ]
          },
          "metadata": {
            "tags": []
          }
        },
        {
          "output_type": "display_data",
          "data": {
            "text/html": [
              "<span style=\"color:cyan\"> |-Best step: 0</span>"
            ],
            "text/plain": [
              "<IPython.core.display.HTML object>"
            ]
          },
          "metadata": {
            "tags": []
          }
        },
        {
          "output_type": "display_data",
          "data": {
            "text/html": [
              "<span style=\"color:#7E57C2\"><h2 style=\"font-size:16px\">Hyperparameters:</h2></span>"
            ],
            "text/plain": [
              "<IPython.core.display.HTML object>"
            ]
          },
          "metadata": {
            "tags": []
          }
        },
        {
          "output_type": "display_data",
          "data": {
            "text/html": [
              "<span style=\"color:cyan\"> |-learning_rate: 0.001</span>"
            ],
            "text/plain": [
              "<IPython.core.display.HTML object>"
            ]
          },
          "metadata": {
            "tags": []
          }
        },
        {
          "output_type": "display_data",
          "data": {
            "text/html": [
              "<span style=\"color:blue\"> |-units: 384</span>"
            ],
            "text/plain": [
              "<IPython.core.display.HTML object>"
            ]
          },
          "metadata": {
            "tags": []
          }
        },
        {
          "output_type": "display_data",
          "data": {
            "text/html": [
              "<span style=\"color:#4527A0\"><h1 style=\"font-size:18px\">Trial summary</h1></span>"
            ],
            "text/plain": [
              "<IPython.core.display.HTML object>"
            ]
          },
          "metadata": {
            "tags": []
          }
        },
        {
          "output_type": "display_data",
          "data": {
            "text/html": [
              "<span style=\"color:cyan\"> |-Trial ID: 6967f5f49240541149e023c876b379be</span>"
            ],
            "text/plain": [
              "<IPython.core.display.HTML object>"
            ]
          },
          "metadata": {
            "tags": []
          }
        },
        {
          "output_type": "display_data",
          "data": {
            "text/html": [
              "<span style=\"color:cyan\"> |-Score: 0.22664982080459595</span>"
            ],
            "text/plain": [
              "<IPython.core.display.HTML object>"
            ]
          },
          "metadata": {
            "tags": []
          }
        },
        {
          "output_type": "display_data",
          "data": {
            "text/html": [
              "<span style=\"color:cyan\"> |-Best step: 0</span>"
            ],
            "text/plain": [
              "<IPython.core.display.HTML object>"
            ]
          },
          "metadata": {
            "tags": []
          }
        },
        {
          "output_type": "display_data",
          "data": {
            "text/html": [
              "<span style=\"color:#7E57C2\"><h2 style=\"font-size:16px\">Hyperparameters:</h2></span>"
            ],
            "text/plain": [
              "<IPython.core.display.HTML object>"
            ]
          },
          "metadata": {
            "tags": []
          }
        },
        {
          "output_type": "display_data",
          "data": {
            "text/html": [
              "<span style=\"color:cyan\"> |-learning_rate: 0.001</span>"
            ],
            "text/plain": [
              "<IPython.core.display.HTML object>"
            ]
          },
          "metadata": {
            "tags": []
          }
        },
        {
          "output_type": "display_data",
          "data": {
            "text/html": [
              "<span style=\"color:blue\"> |-units: 128</span>"
            ],
            "text/plain": [
              "<IPython.core.display.HTML object>"
            ]
          },
          "metadata": {
            "tags": []
          }
        },
        {
          "output_type": "display_data",
          "data": {
            "text/html": [
              "<span style=\"color:#4527A0\"><h1 style=\"font-size:18px\">Trial summary</h1></span>"
            ],
            "text/plain": [
              "<IPython.core.display.HTML object>"
            ]
          },
          "metadata": {
            "tags": []
          }
        },
        {
          "output_type": "display_data",
          "data": {
            "text/html": [
              "<span style=\"color:cyan\"> |-Trial ID: da75cd98a0dd0ba83ea771c15484248a</span>"
            ],
            "text/plain": [
              "<IPython.core.display.HTML object>"
            ]
          },
          "metadata": {
            "tags": []
          }
        },
        {
          "output_type": "display_data",
          "data": {
            "text/html": [
              "<span style=\"color:cyan\"> |-Score: 0.2287815809249878</span>"
            ],
            "text/plain": [
              "<IPython.core.display.HTML object>"
            ]
          },
          "metadata": {
            "tags": []
          }
        },
        {
          "output_type": "display_data",
          "data": {
            "text/html": [
              "<span style=\"color:cyan\"> |-Best step: 0</span>"
            ],
            "text/plain": [
              "<IPython.core.display.HTML object>"
            ]
          },
          "metadata": {
            "tags": []
          }
        },
        {
          "output_type": "display_data",
          "data": {
            "text/html": [
              "<span style=\"color:#7E57C2\"><h2 style=\"font-size:16px\">Hyperparameters:</h2></span>"
            ],
            "text/plain": [
              "<IPython.core.display.HTML object>"
            ]
          },
          "metadata": {
            "tags": []
          }
        },
        {
          "output_type": "display_data",
          "data": {
            "text/html": [
              "<span style=\"color:cyan\"> |-learning_rate: 0.001</span>"
            ],
            "text/plain": [
              "<IPython.core.display.HTML object>"
            ]
          },
          "metadata": {
            "tags": []
          }
        },
        {
          "output_type": "display_data",
          "data": {
            "text/html": [
              "<span style=\"color:blue\"> |-units: 256</span>"
            ],
            "text/plain": [
              "<IPython.core.display.HTML object>"
            ]
          },
          "metadata": {
            "tags": []
          }
        },
        {
          "output_type": "display_data",
          "data": {
            "text/html": [
              "<span style=\"color:#4527A0\"><h1 style=\"font-size:18px\">Trial summary</h1></span>"
            ],
            "text/plain": [
              "<IPython.core.display.HTML object>"
            ]
          },
          "metadata": {
            "tags": []
          }
        },
        {
          "output_type": "display_data",
          "data": {
            "text/html": [
              "<span style=\"color:cyan\"> |-Trial ID: aa12616e91f60774e6df55e9dfe48be3</span>"
            ],
            "text/plain": [
              "<IPython.core.display.HTML object>"
            ]
          },
          "metadata": {
            "tags": []
          }
        },
        {
          "output_type": "display_data",
          "data": {
            "text/html": [
              "<span style=\"color:cyan\"> |-Score: 0.23137153685092926</span>"
            ],
            "text/plain": [
              "<IPython.core.display.HTML object>"
            ]
          },
          "metadata": {
            "tags": []
          }
        },
        {
          "output_type": "display_data",
          "data": {
            "text/html": [
              "<span style=\"color:cyan\"> |-Best step: 0</span>"
            ],
            "text/plain": [
              "<IPython.core.display.HTML object>"
            ]
          },
          "metadata": {
            "tags": []
          }
        },
        {
          "output_type": "display_data",
          "data": {
            "text/html": [
              "<span style=\"color:#7E57C2\"><h2 style=\"font-size:16px\">Hyperparameters:</h2></span>"
            ],
            "text/plain": [
              "<IPython.core.display.HTML object>"
            ]
          },
          "metadata": {
            "tags": []
          }
        },
        {
          "output_type": "display_data",
          "data": {
            "text/html": [
              "<span style=\"color:cyan\"> |-learning_rate: 0.01</span>"
            ],
            "text/plain": [
              "<IPython.core.display.HTML object>"
            ]
          },
          "metadata": {
            "tags": []
          }
        },
        {
          "output_type": "display_data",
          "data": {
            "text/html": [
              "<span style=\"color:blue\"> |-units: 480</span>"
            ],
            "text/plain": [
              "<IPython.core.display.HTML object>"
            ]
          },
          "metadata": {
            "tags": []
          }
        },
        {
          "output_type": "display_data",
          "data": {
            "text/html": [
              "<span style=\"color:#4527A0\"><h1 style=\"font-size:18px\">Trial summary</h1></span>"
            ],
            "text/plain": [
              "<IPython.core.display.HTML object>"
            ]
          },
          "metadata": {
            "tags": []
          }
        },
        {
          "output_type": "display_data",
          "data": {
            "text/html": [
              "<span style=\"color:cyan\"> |-Trial ID: 8a9af80e30a9d3edfe0affe8e7b09478</span>"
            ],
            "text/plain": [
              "<IPython.core.display.HTML object>"
            ]
          },
          "metadata": {
            "tags": []
          }
        },
        {
          "output_type": "display_data",
          "data": {
            "text/html": [
              "<span style=\"color:cyan\"> |-Score: 0.3684294323126475</span>"
            ],
            "text/plain": [
              "<IPython.core.display.HTML object>"
            ]
          },
          "metadata": {
            "tags": []
          }
        },
        {
          "output_type": "display_data",
          "data": {
            "text/html": [
              "<span style=\"color:cyan\"> |-Best step: 0</span>"
            ],
            "text/plain": [
              "<IPython.core.display.HTML object>"
            ]
          },
          "metadata": {
            "tags": []
          }
        },
        {
          "output_type": "display_data",
          "data": {
            "text/html": [
              "<span style=\"color:#7E57C2\"><h2 style=\"font-size:16px\">Hyperparameters:</h2></span>"
            ],
            "text/plain": [
              "<IPython.core.display.HTML object>"
            ]
          },
          "metadata": {
            "tags": []
          }
        },
        {
          "output_type": "display_data",
          "data": {
            "text/html": [
              "<span style=\"color:cyan\"> |-learning_rate: 0.0001</span>"
            ],
            "text/plain": [
              "<IPython.core.display.HTML object>"
            ]
          },
          "metadata": {
            "tags": []
          }
        },
        {
          "output_type": "display_data",
          "data": {
            "text/html": [
              "<span style=\"color:blue\"> |-units: 192</span>"
            ],
            "text/plain": [
              "<IPython.core.display.HTML object>"
            ]
          },
          "metadata": {
            "tags": []
          }
        }
      ]
    },
    {
      "cell_type": "code",
      "metadata": {
        "id": "SZxBlVKEiMD5",
        "colab_type": "code",
        "colab": {
          "base_uri": "https://localhost:8080/",
          "height": 34
        },
        "outputId": "5f6eaed8-ea81-47a5-eccc-bba2b319b8d0"
      },
      "source": [
        "tuner.get_best_hyperparameters()"
      ],
      "execution_count": 34,
      "outputs": [
        {
          "output_type": "stream",
          "text": [
            "[<kerastuner.engine.hyperparameters.HyperParameters object at 0x7f3b01de0358>]\n"
          ],
          "name": "stdout"
        }
      ]
    },
    {
      "cell_type": "markdown",
      "metadata": {
        "id": "FkPmRwVD-eh7",
        "colab_type": "text"
      },
      "source": [
        "## Challenge\n",
        "\n",
        "Try to apply RandomSearchCV to your module project today. "
      ]
    },
    {
      "cell_type": "markdown",
      "metadata": {
        "id": "HfYXcOLT-eh7",
        "colab_type": "text"
      },
      "source": [
        "# Review\n",
        "* <a href=\"#p1\">Part 1</a>: Describe the major hyperparemeters to tune\n",
        "    - Activation Functions\n",
        "    - Optimizer\n",
        "    - Number of Layers\n",
        "    - Number of Neurons\n",
        "    - Batch Size\n",
        "    - Dropout Regulaization\n",
        "    - Learning Rate\n",
        "    - Number of Epochs\n",
        "    - and many more\n",
        "* <a href=\"#p2\">Part 2</a>: Implement an experiment tracking framework\n",
        "    - Weights & Biases\n",
        "    - Comet.ml\n",
        "    - By Hand / GridSearch\n",
        "* <a href=\"#p3\">Part 3</a>: Search the hyperparameter space using RandomSearch\n",
        "    - Sklearn still useful (haha)\n",
        "    - Integration with Wieghts & Biases\n",
        "* <a href=\"#p4\">Part 4</a>: Discuss emerging hyperparameter tuning strategies\n",
        "    - Bayesian Optimization\n",
        "    - Hyperopt\n",
        "    - Genetic Evolution"
      ]
    },
    {
      "cell_type": "markdown",
      "metadata": {
        "id": "Wp5W_vg3-eh8",
        "colab_type": "text"
      },
      "source": [
        "# Sources"
      ]
    },
    {
      "cell_type": "markdown",
      "metadata": {
        "id": "9oYrlf9q-eh8",
        "colab_type": "text"
      },
      "source": [
        "## Additional Reading\n",
        "- https://machinelearningmastery.com/grid-search-hyperparameters-deep-learning-models-python-keras/\n",
        "- https://blog.floydhub.com/guide-to-hyperparameters-search-for-deep-learning-models/\n",
        "- https://machinelearningmastery.com/dropout-regularization-deep-learning-models-keras/\n",
        "- https://machinelearningmastery.com/introduction-to-weight-constraints-to-reduce-generalization-error-in-deep-learning/\n",
        "- https://machinelearningmastery.com/how-to-configure-the-number-of-layers-and-nodes-in-a-neural-network/"
      ]
    }
  ]
}